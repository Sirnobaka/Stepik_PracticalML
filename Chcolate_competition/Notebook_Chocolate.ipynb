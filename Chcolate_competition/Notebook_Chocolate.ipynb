{
 "cells": [
  {
   "cell_type": "code",
   "execution_count": 1,
   "id": "valuable-fusion",
   "metadata": {},
   "outputs": [],
   "source": [
    "import math\n",
    "import numpy as np\n",
    "from scipy import stats\n",
    "import matplotlib.pyplot as plt\n",
    "import pandas as pd\n",
    "import seaborn as sns\n",
    "import random\n",
    "\n",
    "%matplotlib inline\n",
    "plt.rcParams.update({\n",
    "        'font.size': 14,\n",
    "        'axes.titlesize': 20,\n",
    "        'axes.labelsize': 20,\n",
    "        'xtick.labelsize': 20,\n",
    "        'ytick.labelsize': 20,\n",
    "        'font.size': 20,\n",
    "        'figure.figsize': (10, 7),\n",
    "        'axes.grid': True,\n",
    "        'grid.linestyle': '-',\n",
    "        'grid.alpha': 0.3,\n",
    "        'lines.markersize': 5.0,\n",
    "        'xtick.minor.visible': True,\n",
    "        'xtick.direction': 'in',\n",
    "        'xtick.major.size': 20.0,\n",
    "        'xtick.minor.size': 10.0,\n",
    "        'xtick.top': False,\n",
    "        'xtick.bottom': True,\n",
    "        'ytick.minor.visible': True,\n",
    "        'ytick.direction': 'in',\n",
    "        'ytick.major.size': 12.0,\n",
    "        'ytick.minor.size': 6.0,\n",
    "        'ytick.right': True,\n",
    "        'errorbar.capsize': 0.0,\n",
    "    })\n",
    "\n",
    "# https://www.kaggle.com/competitions/practical-ml-chocolate/data\n",
    "# https://www.kaggle.com/datasets/rtatman/chocolate-bar-ratings/"
   ]
  },
  {
   "cell_type": "markdown",
   "id": "promotional-candle",
   "metadata": {},
   "source": [
    "# Get data"
   ]
  },
  {
   "cell_type": "code",
   "execution_count": 2,
   "id": "elegant-sleeping",
   "metadata": {},
   "outputs": [
    {
     "data": {
      "text/html": [
       "<div>\n",
       "<style scoped>\n",
       "    .dataframe tbody tr th:only-of-type {\n",
       "        vertical-align: middle;\n",
       "    }\n",
       "\n",
       "    .dataframe tbody tr th {\n",
       "        vertical-align: top;\n",
       "    }\n",
       "\n",
       "    .dataframe thead th {\n",
       "        text-align: right;\n",
       "    }\n",
       "</style>\n",
       "<table border=\"1\" class=\"dataframe\">\n",
       "  <thead>\n",
       "    <tr style=\"text-align: right;\">\n",
       "      <th></th>\n",
       "      <th>Company</th>\n",
       "      <th>Specific Bean Origin</th>\n",
       "      <th>REF</th>\n",
       "      <th>Review</th>\n",
       "      <th>Cocoa Percent</th>\n",
       "      <th>Company Location</th>\n",
       "      <th>Rating</th>\n",
       "      <th>Bean Type</th>\n",
       "      <th>Broad Bean Origin</th>\n",
       "    </tr>\n",
       "  </thead>\n",
       "  <tbody>\n",
       "    <tr>\n",
       "      <th>0</th>\n",
       "      <td>Willie's Cacao</td>\n",
       "      <td>Rio Caribe</td>\n",
       "      <td>457</td>\n",
       "      <td>2009</td>\n",
       "      <td>72%</td>\n",
       "      <td>U.K.</td>\n",
       "      <td>3.25</td>\n",
       "      <td>Trinitario</td>\n",
       "      <td>Venezuela</td>\n",
       "    </tr>\n",
       "    <tr>\n",
       "      <th>1</th>\n",
       "      <td>Beschle (Felchlin)</td>\n",
       "      <td>Ocumare, Premier Cru, Quizas No. 2</td>\n",
       "      <td>508</td>\n",
       "      <td>2010</td>\n",
       "      <td>72%</td>\n",
       "      <td>Switzerland</td>\n",
       "      <td>3.50</td>\n",
       "      <td></td>\n",
       "      <td>Venezuela</td>\n",
       "    </tr>\n",
       "    <tr>\n",
       "      <th>2</th>\n",
       "      <td>Dark Forest</td>\n",
       "      <td>Tanzania</td>\n",
       "      <td>1554</td>\n",
       "      <td>2015</td>\n",
       "      <td>70%</td>\n",
       "      <td>U.S.A.</td>\n",
       "      <td>3.00</td>\n",
       "      <td></td>\n",
       "      <td>Tanzania</td>\n",
       "    </tr>\n",
       "    <tr>\n",
       "      <th>3</th>\n",
       "      <td>Brasstown aka It's Chocolate</td>\n",
       "      <td>Cooproagro</td>\n",
       "      <td>1125</td>\n",
       "      <td>2013</td>\n",
       "      <td>72%</td>\n",
       "      <td>U.S.A.</td>\n",
       "      <td>3.00</td>\n",
       "      <td>Trinitario</td>\n",
       "      <td>Dominican Republic</td>\n",
       "    </tr>\n",
       "    <tr>\n",
       "      <th>4</th>\n",
       "      <td>Pralus</td>\n",
       "      <td>Java, Indonesie</td>\n",
       "      <td>32</td>\n",
       "      <td>2006</td>\n",
       "      <td>75%</td>\n",
       "      <td>France</td>\n",
       "      <td>3.50</td>\n",
       "      <td>Criollo</td>\n",
       "      <td>Indonesia</td>\n",
       "    </tr>\n",
       "  </tbody>\n",
       "</table>\n",
       "</div>"
      ],
      "text/plain": [
       "                        Company                Specific Bean Origin   REF  \\\n",
       "0                Willie's Cacao                          Rio Caribe   457   \n",
       "1            Beschle (Felchlin)  Ocumare, Premier Cru, Quizas No. 2   508   \n",
       "2                   Dark Forest                            Tanzania  1554   \n",
       "3  Brasstown aka It's Chocolate                          Cooproagro  1125   \n",
       "4                        Pralus                     Java, Indonesie    32   \n",
       "\n",
       "   Review Cocoa Percent Company Location  Rating   Bean Type  \\\n",
       "0    2009           72%             U.K.    3.25  Trinitario   \n",
       "1    2010           72%      Switzerland    3.50               \n",
       "2    2015           70%           U.S.A.    3.00               \n",
       "3    2013           72%           U.S.A.    3.00  Trinitario   \n",
       "4    2006           75%           France    3.50     Criollo   \n",
       "\n",
       "    Broad Bean Origin  \n",
       "0           Venezuela  \n",
       "1           Venezuela  \n",
       "2            Tanzania  \n",
       "3  Dominican Republic  \n",
       "4           Indonesia  "
      ]
     },
     "execution_count": 2,
     "metadata": {},
     "output_type": "execute_result"
    }
   ],
   "source": [
    "df_train = pd.read_csv('chocolate_train.csv')\n",
    "df_test = pd.read_csv('chocolate_test_new.csv')\n",
    "df_train.head()"
   ]
  },
  {
   "cell_type": "code",
   "execution_count": 3,
   "id": "wired-stopping",
   "metadata": {},
   "outputs": [
    {
     "name": "stdout",
     "output_type": "stream",
     "text": [
      "Train data has 9 columns and 1255 rows\n",
      "Train data has 8 columns and 540 rows\n"
     ]
    }
   ],
   "source": [
    "print(f'Train data has {df_train.shape[1]} columns and {df_train.shape[0]} rows')\n",
    "print(f'Train data has {df_test.shape[1]} columns and {df_test.shape[0]} rows')"
   ]
  },
  {
   "cell_type": "code",
   "execution_count": 4,
   "id": "favorite-rhythm",
   "metadata": {},
   "outputs": [
    {
     "name": "stdout",
     "output_type": "stream",
     "text": [
      "<class 'pandas.core.frame.DataFrame'>\n",
      "RangeIndex: 1255 entries, 0 to 1254\n",
      "Data columns (total 9 columns):\n",
      " #   Column                Non-Null Count  Dtype  \n",
      "---  ------                --------------  -----  \n",
      " 0   Company               1255 non-null   object \n",
      " 1   Specific Bean Origin  1255 non-null   object \n",
      " 2   REF                   1255 non-null   int64  \n",
      " 3   Review                1255 non-null   int64  \n",
      " 4   Cocoa Percent         1255 non-null   object \n",
      " 5   Company Location      1255 non-null   object \n",
      " 6   Rating                1255 non-null   float64\n",
      " 7   Bean Type             1254 non-null   object \n",
      " 8   Broad Bean Origin     1254 non-null   object \n",
      "dtypes: float64(1), int64(2), object(6)\n",
      "memory usage: 88.4+ KB\n"
     ]
    }
   ],
   "source": [
    "df_train.info()"
   ]
  },
  {
   "cell_type": "code",
   "execution_count": 5,
   "id": "north-bunny",
   "metadata": {},
   "outputs": [],
   "source": [
    "# Make percentage float\n",
    "df_train['Cocoa Percent'] = df_train['Cocoa Percent'].apply(lambda x: float(x.strip('%')))\n",
    "df_test['Cocoa Percent'] = df_test['Cocoa Percent'].apply(lambda x: float(x.strip('%')))"
   ]
  },
  {
   "cell_type": "code",
   "execution_count": 6,
   "id": "enhanced-platinum",
   "metadata": {},
   "outputs": [
    {
     "data": {
      "text/html": [
       "<div>\n",
       "<style scoped>\n",
       "    .dataframe tbody tr th:only-of-type {\n",
       "        vertical-align: middle;\n",
       "    }\n",
       "\n",
       "    .dataframe tbody tr th {\n",
       "        vertical-align: top;\n",
       "    }\n",
       "\n",
       "    .dataframe thead th {\n",
       "        text-align: right;\n",
       "    }\n",
       "</style>\n",
       "<table border=\"1\" class=\"dataframe\">\n",
       "  <thead>\n",
       "    <tr style=\"text-align: right;\">\n",
       "      <th></th>\n",
       "      <th>REF</th>\n",
       "      <th>Review</th>\n",
       "      <th>Cocoa Percent</th>\n",
       "      <th>Rating</th>\n",
       "    </tr>\n",
       "  </thead>\n",
       "  <tbody>\n",
       "    <tr>\n",
       "      <th>count</th>\n",
       "      <td>1255.000000</td>\n",
       "      <td>1255.000000</td>\n",
       "      <td>1255.000000</td>\n",
       "      <td>1255.000000</td>\n",
       "    </tr>\n",
       "    <tr>\n",
       "      <th>mean</th>\n",
       "      <td>1045.152191</td>\n",
       "      <td>2012.382470</td>\n",
       "      <td>71.790438</td>\n",
       "      <td>3.176494</td>\n",
       "    </tr>\n",
       "    <tr>\n",
       "      <th>std</th>\n",
       "      <td>551.284249</td>\n",
       "      <td>2.922499</td>\n",
       "      <td>6.397448</td>\n",
       "      <td>0.478948</td>\n",
       "    </tr>\n",
       "    <tr>\n",
       "      <th>min</th>\n",
       "      <td>5.000000</td>\n",
       "      <td>2006.000000</td>\n",
       "      <td>46.000000</td>\n",
       "      <td>1.000000</td>\n",
       "    </tr>\n",
       "    <tr>\n",
       "      <th>25%</th>\n",
       "      <td>593.000000</td>\n",
       "      <td>2010.000000</td>\n",
       "      <td>70.000000</td>\n",
       "      <td>2.750000</td>\n",
       "    </tr>\n",
       "    <tr>\n",
       "      <th>50%</th>\n",
       "      <td>1077.000000</td>\n",
       "      <td>2013.000000</td>\n",
       "      <td>70.000000</td>\n",
       "      <td>3.250000</td>\n",
       "    </tr>\n",
       "    <tr>\n",
       "      <th>75%</th>\n",
       "      <td>1514.000000</td>\n",
       "      <td>2015.000000</td>\n",
       "      <td>75.000000</td>\n",
       "      <td>3.500000</td>\n",
       "    </tr>\n",
       "    <tr>\n",
       "      <th>max</th>\n",
       "      <td>1952.000000</td>\n",
       "      <td>2017.000000</td>\n",
       "      <td>100.000000</td>\n",
       "      <td>5.000000</td>\n",
       "    </tr>\n",
       "  </tbody>\n",
       "</table>\n",
       "</div>"
      ],
      "text/plain": [
       "               REF       Review  Cocoa Percent       Rating\n",
       "count  1255.000000  1255.000000    1255.000000  1255.000000\n",
       "mean   1045.152191  2012.382470      71.790438     3.176494\n",
       "std     551.284249     2.922499       6.397448     0.478948\n",
       "min       5.000000  2006.000000      46.000000     1.000000\n",
       "25%     593.000000  2010.000000      70.000000     2.750000\n",
       "50%    1077.000000  2013.000000      70.000000     3.250000\n",
       "75%    1514.000000  2015.000000      75.000000     3.500000\n",
       "max    1952.000000  2017.000000     100.000000     5.000000"
      ]
     },
     "execution_count": 6,
     "metadata": {},
     "output_type": "execute_result"
    }
   ],
   "source": [
    "df_train.describe()"
   ]
  },
  {
   "cell_type": "markdown",
   "id": "loving-invalid",
   "metadata": {},
   "source": [
    "## Fill NaNs and empty cells"
   ]
  },
  {
   "cell_type": "code",
   "execution_count": 7,
   "id": "authorized-empty",
   "metadata": {},
   "outputs": [
    {
     "data": {
      "text/plain": [
       "Company                 0\n",
       "Specific Bean Origin    0\n",
       "REF                     0\n",
       "Review                  0\n",
       "Cocoa Percent           0\n",
       "Company Location        0\n",
       "Rating                  0\n",
       "Bean Type               1\n",
       "Broad Bean Origin       1\n",
       "dtype: int64"
      ]
     },
     "execution_count": 7,
     "metadata": {},
     "output_type": "execute_result"
    }
   ],
   "source": [
    "df_train.isna().sum()"
   ]
  },
  {
   "cell_type": "code",
   "execution_count": 8,
   "id": "modified-tracy",
   "metadata": {},
   "outputs": [],
   "source": [
    "mode_bean_type = df_train['Bean Type'].mode()[0]\n",
    "mode_broad_bean_origin = df_train['Broad Bean Origin'].mode()[0]\n",
    "\n",
    "df_train['Bean Type'].fillna(mode_bean_type, inplace=True)\n",
    "df_train['Broad Bean Origin'].fillna(mode_broad_bean_origin, inplace=True)"
   ]
  },
  {
   "cell_type": "markdown",
   "id": "patent-omega",
   "metadata": {},
   "source": [
    "## Broad Bean Origin"
   ]
  },
  {
   "cell_type": "code",
   "execution_count": null,
   "id": "ready-turtle",
   "metadata": {},
   "outputs": [],
   "source": [
    "empty_cell = df_train['Bean Type'].value_counts().index[0]"
   ]
  },
  {
   "cell_type": "code",
   "execution_count": 15,
   "id": "horizontal-surveillance",
   "metadata": {},
   "outputs": [
    {
     "data": {
      "text/plain": [
       "Venezuela             145\n",
       "Ecuador               142\n",
       "Peru                  122\n",
       "Dominican Republic    104\n",
       "Madagascar            103\n",
       "                       55\n",
       "Brazil                 43\n",
       "Nicaragua              42\n",
       "Bolivia                42\n",
       "Belize                 30\n",
       "Name: Broad Bean Origin, dtype: int64"
      ]
     },
     "execution_count": 15,
     "metadata": {},
     "output_type": "execute_result"
    }
   ],
   "source": [
    "df_train['Broad Bean Origin'].value_counts()[:10]"
   ]
  },
  {
   "cell_type": "code",
   "execution_count": 21,
   "id": "prime-restriction",
   "metadata": {},
   "outputs": [
    {
     "data": {
      "text/html": [
       "<div>\n",
       "<style scoped>\n",
       "    .dataframe tbody tr th:only-of-type {\n",
       "        vertical-align: middle;\n",
       "    }\n",
       "\n",
       "    .dataframe tbody tr th {\n",
       "        vertical-align: top;\n",
       "    }\n",
       "\n",
       "    .dataframe thead th {\n",
       "        text-align: right;\n",
       "    }\n",
       "</style>\n",
       "<table border=\"1\" class=\"dataframe\">\n",
       "  <thead>\n",
       "    <tr style=\"text-align: right;\">\n",
       "      <th></th>\n",
       "      <th>Company</th>\n",
       "      <th>Specific Bean Origin</th>\n",
       "      <th>REF</th>\n",
       "      <th>Review</th>\n",
       "      <th>Cocoa Percent</th>\n",
       "      <th>Company Location</th>\n",
       "      <th>Rating</th>\n",
       "      <th>Bean Type</th>\n",
       "      <th>Broad Bean Origin</th>\n",
       "    </tr>\n",
       "  </thead>\n",
       "  <tbody>\n",
       "    <tr>\n",
       "      <th>22</th>\n",
       "      <td>Habitual</td>\n",
       "      <td>Africa meets Latina</td>\n",
       "      <td>1201</td>\n",
       "      <td>2014</td>\n",
       "      <td>70.0</td>\n",
       "      <td>Canada</td>\n",
       "      <td>3.00</td>\n",
       "      <td></td>\n",
       "      <td></td>\n",
       "    </tr>\n",
       "    <tr>\n",
       "      <th>28</th>\n",
       "      <td>Chloe Chocolat</td>\n",
       "      <td>Blend No. 1</td>\n",
       "      <td>672</td>\n",
       "      <td>2011</td>\n",
       "      <td>70.0</td>\n",
       "      <td>France</td>\n",
       "      <td>3.50</td>\n",
       "      <td></td>\n",
       "      <td></td>\n",
       "    </tr>\n",
       "    <tr>\n",
       "      <th>67</th>\n",
       "      <td>S.A.I.D.</td>\n",
       "      <td>Latino</td>\n",
       "      <td>615</td>\n",
       "      <td>2010</td>\n",
       "      <td>72.0</td>\n",
       "      <td>Italy</td>\n",
       "      <td>3.50</td>\n",
       "      <td></td>\n",
       "      <td></td>\n",
       "    </tr>\n",
       "    <tr>\n",
       "      <th>96</th>\n",
       "      <td>Dandelion</td>\n",
       "      <td>Zorzal Reserva, 2015 H., Kerchner</td>\n",
       "      <td>1816</td>\n",
       "      <td>2016</td>\n",
       "      <td>70.0</td>\n",
       "      <td>U.S.A.</td>\n",
       "      <td>3.75</td>\n",
       "      <td></td>\n",
       "      <td></td>\n",
       "    </tr>\n",
       "    <tr>\n",
       "      <th>99</th>\n",
       "      <td>Zokoko</td>\n",
       "      <td>Goddess Blend</td>\n",
       "      <td>1780</td>\n",
       "      <td>2016</td>\n",
       "      <td>65.0</td>\n",
       "      <td>Australia</td>\n",
       "      <td>3.25</td>\n",
       "      <td></td>\n",
       "      <td></td>\n",
       "    </tr>\n",
       "    <tr>\n",
       "      <th>100</th>\n",
       "      <td>Burnt Fork Bend</td>\n",
       "      <td>Blend</td>\n",
       "      <td>1303</td>\n",
       "      <td>2014</td>\n",
       "      <td>72.0</td>\n",
       "      <td>U.S.A.</td>\n",
       "      <td>3.25</td>\n",
       "      <td>Blend</td>\n",
       "      <td></td>\n",
       "    </tr>\n",
       "    <tr>\n",
       "      <th>111</th>\n",
       "      <td>Kaoka (Cemoi)</td>\n",
       "      <td>Noir</td>\n",
       "      <td>404</td>\n",
       "      <td>2009</td>\n",
       "      <td>70.0</td>\n",
       "      <td>France</td>\n",
       "      <td>2.75</td>\n",
       "      <td></td>\n",
       "      <td></td>\n",
       "    </tr>\n",
       "    <tr>\n",
       "      <th>136</th>\n",
       "      <td>Chocolate Alchemist-Philly</td>\n",
       "      <td>Philly Blend, 5 plantations</td>\n",
       "      <td>1772</td>\n",
       "      <td>2016</td>\n",
       "      <td>80.0</td>\n",
       "      <td>U.S.A.</td>\n",
       "      <td>2.50</td>\n",
       "      <td></td>\n",
       "      <td></td>\n",
       "    </tr>\n",
       "    <tr>\n",
       "      <th>141</th>\n",
       "      <td>Lindt &amp; Sprungli</td>\n",
       "      <td>Excellence (US Version)</td>\n",
       "      <td>157</td>\n",
       "      <td>2007</td>\n",
       "      <td>85.0</td>\n",
       "      <td>Switzerland</td>\n",
       "      <td>3.00</td>\n",
       "      <td></td>\n",
       "      <td></td>\n",
       "    </tr>\n",
       "    <tr>\n",
       "      <th>162</th>\n",
       "      <td>C-Amaro</td>\n",
       "      <td>Lago di Como, Blu</td>\n",
       "      <td>1442</td>\n",
       "      <td>2014</td>\n",
       "      <td>70.0</td>\n",
       "      <td>Italy</td>\n",
       "      <td>3.50</td>\n",
       "      <td>Blend</td>\n",
       "      <td></td>\n",
       "    </tr>\n",
       "  </tbody>\n",
       "</table>\n",
       "</div>"
      ],
      "text/plain": [
       "                        Company               Specific Bean Origin   REF  \\\n",
       "22                     Habitual                Africa meets Latina  1201   \n",
       "28               Chloe Chocolat                        Blend No. 1   672   \n",
       "67                     S.A.I.D.                             Latino   615   \n",
       "96                    Dandelion  Zorzal Reserva, 2015 H., Kerchner  1816   \n",
       "99                       Zokoko                      Goddess Blend  1780   \n",
       "100             Burnt Fork Bend                              Blend  1303   \n",
       "111               Kaoka (Cemoi)                               Noir   404   \n",
       "136  Chocolate Alchemist-Philly        Philly Blend, 5 plantations  1772   \n",
       "141            Lindt & Sprungli            Excellence (US Version)   157   \n",
       "162                     C-Amaro                  Lago di Como, Blu  1442   \n",
       "\n",
       "     Review  Cocoa Percent Company Location  Rating Bean Type  \\\n",
       "22     2014           70.0           Canada    3.00             \n",
       "28     2011           70.0           France    3.50             \n",
       "67     2010           72.0            Italy    3.50             \n",
       "96     2016           70.0           U.S.A.    3.75             \n",
       "99     2016           65.0        Australia    3.25             \n",
       "100    2014           72.0           U.S.A.    3.25     Blend   \n",
       "111    2009           70.0           France    2.75             \n",
       "136    2016           80.0           U.S.A.    2.50             \n",
       "141    2007           85.0      Switzerland    3.00             \n",
       "162    2014           70.0            Italy    3.50     Blend   \n",
       "\n",
       "    Broad Bean Origin  \n",
       "22                     \n",
       "28                     \n",
       "67                     \n",
       "96                     \n",
       "99                     \n",
       "100                    \n",
       "111                    \n",
       "136                    \n",
       "141                    \n",
       "162                    "
      ]
     },
     "execution_count": 21,
     "metadata": {},
     "output_type": "execute_result"
    }
   ],
   "source": [
    "df_train.loc[df_train['Broad Bean Origin'] == empty_cell][:10]"
   ]
  },
  {
   "cell_type": "code",
   "execution_count": 24,
   "id": "abstract-median",
   "metadata": {},
   "outputs": [],
   "source": [
    "df_train['Broad Bean Origin'] = df_train['Broad Bean Origin'].replace(empty_cell, 'Mixed')\n",
    "df_test['Broad Bean Origin'] = df_test['Broad Bean Origin'].replace(empty_cell, 'Mixed')"
   ]
  },
  {
   "cell_type": "code",
   "execution_count": 25,
   "id": "prostate-pulse",
   "metadata": {},
   "outputs": [
    {
     "data": {
      "text/plain": [
       "                         629\n",
       "Trinitario               285\n",
       "Criollo                  104\n",
       "Forastero                 53\n",
       "Forastero (Nacional)      34\n",
       "Criollo, Trinitario       32\n",
       "Forastero (Arriba)        32\n",
       "Blend                     28\n",
       "Criollo (Porcelana)        9\n",
       "Forastero (Parazinho)      8\n",
       "Name: Bean Type, dtype: int64"
      ]
     },
     "execution_count": 25,
     "metadata": {},
     "output_type": "execute_result"
    }
   ],
   "source": [
    "df_train['Bean Type'].value_counts()[:10]"
   ]
  },
  {
   "cell_type": "code",
   "execution_count": 28,
   "id": "provincial-reasoning",
   "metadata": {},
   "outputs": [],
   "source": [
    "df_train['Bean Type'] = df_train['Bean Type'].replace(empty_cell, 'Unknown')\n",
    "df_test['Bean Type'] = df_test['Bean Type'].replace(empty_cell, 'Unknown')"
   ]
  },
  {
   "cell_type": "code",
   "execution_count": 29,
   "id": "continued-turtle",
   "metadata": {},
   "outputs": [
    {
     "data": {
      "text/html": [
       "<div>\n",
       "<style scoped>\n",
       "    .dataframe tbody tr th:only-of-type {\n",
       "        vertical-align: middle;\n",
       "    }\n",
       "\n",
       "    .dataframe tbody tr th {\n",
       "        vertical-align: top;\n",
       "    }\n",
       "\n",
       "    .dataframe thead th {\n",
       "        text-align: right;\n",
       "    }\n",
       "</style>\n",
       "<table border=\"1\" class=\"dataframe\">\n",
       "  <thead>\n",
       "    <tr style=\"text-align: right;\">\n",
       "      <th></th>\n",
       "      <th>Company</th>\n",
       "      <th>Specific Bean Origin</th>\n",
       "      <th>REF</th>\n",
       "      <th>Review</th>\n",
       "      <th>Cocoa Percent</th>\n",
       "      <th>Company Location</th>\n",
       "      <th>Rating</th>\n",
       "      <th>Bean Type</th>\n",
       "      <th>Broad Bean Origin</th>\n",
       "    </tr>\n",
       "  </thead>\n",
       "  <tbody>\n",
       "    <tr>\n",
       "      <th>0</th>\n",
       "      <td>Willie's Cacao</td>\n",
       "      <td>Rio Caribe</td>\n",
       "      <td>457</td>\n",
       "      <td>2009</td>\n",
       "      <td>72.0</td>\n",
       "      <td>U.K.</td>\n",
       "      <td>3.25</td>\n",
       "      <td>Trinitario</td>\n",
       "      <td>Venezuela</td>\n",
       "    </tr>\n",
       "    <tr>\n",
       "      <th>1</th>\n",
       "      <td>Beschle (Felchlin)</td>\n",
       "      <td>Ocumare, Premier Cru, Quizas No. 2</td>\n",
       "      <td>508</td>\n",
       "      <td>2010</td>\n",
       "      <td>72.0</td>\n",
       "      <td>Switzerland</td>\n",
       "      <td>3.50</td>\n",
       "      <td>Unknown</td>\n",
       "      <td>Venezuela</td>\n",
       "    </tr>\n",
       "    <tr>\n",
       "      <th>2</th>\n",
       "      <td>Dark Forest</td>\n",
       "      <td>Tanzania</td>\n",
       "      <td>1554</td>\n",
       "      <td>2015</td>\n",
       "      <td>70.0</td>\n",
       "      <td>U.S.A.</td>\n",
       "      <td>3.00</td>\n",
       "      <td>Unknown</td>\n",
       "      <td>Tanzania</td>\n",
       "    </tr>\n",
       "    <tr>\n",
       "      <th>3</th>\n",
       "      <td>Brasstown aka It's Chocolate</td>\n",
       "      <td>Cooproagro</td>\n",
       "      <td>1125</td>\n",
       "      <td>2013</td>\n",
       "      <td>72.0</td>\n",
       "      <td>U.S.A.</td>\n",
       "      <td>3.00</td>\n",
       "      <td>Trinitario</td>\n",
       "      <td>Dominican Republic</td>\n",
       "    </tr>\n",
       "    <tr>\n",
       "      <th>4</th>\n",
       "      <td>Pralus</td>\n",
       "      <td>Java, Indonesie</td>\n",
       "      <td>32</td>\n",
       "      <td>2006</td>\n",
       "      <td>75.0</td>\n",
       "      <td>France</td>\n",
       "      <td>3.50</td>\n",
       "      <td>Criollo</td>\n",
       "      <td>Indonesia</td>\n",
       "    </tr>\n",
       "  </tbody>\n",
       "</table>\n",
       "</div>"
      ],
      "text/plain": [
       "                        Company                Specific Bean Origin   REF  \\\n",
       "0                Willie's Cacao                          Rio Caribe   457   \n",
       "1            Beschle (Felchlin)  Ocumare, Premier Cru, Quizas No. 2   508   \n",
       "2                   Dark Forest                            Tanzania  1554   \n",
       "3  Brasstown aka It's Chocolate                          Cooproagro  1125   \n",
       "4                        Pralus                     Java, Indonesie    32   \n",
       "\n",
       "   Review  Cocoa Percent Company Location  Rating   Bean Type  \\\n",
       "0    2009           72.0             U.K.    3.25  Trinitario   \n",
       "1    2010           72.0      Switzerland    3.50     Unknown   \n",
       "2    2015           70.0           U.S.A.    3.00     Unknown   \n",
       "3    2013           72.0           U.S.A.    3.00  Trinitario   \n",
       "4    2006           75.0           France    3.50     Criollo   \n",
       "\n",
       "    Broad Bean Origin  \n",
       "0           Venezuela  \n",
       "1           Venezuela  \n",
       "2            Tanzania  \n",
       "3  Dominican Republic  \n",
       "4           Indonesia  "
      ]
     },
     "execution_count": 29,
     "metadata": {},
     "output_type": "execute_result"
    }
   ],
   "source": [
    "df_train.head()"
   ]
  },
  {
   "cell_type": "markdown",
   "id": "satisfactory-turkish",
   "metadata": {},
   "source": [
    "# EDA"
   ]
  },
  {
   "cell_type": "code",
   "execution_count": 37,
   "id": "artificial-israeli",
   "metadata": {},
   "outputs": [
    {
     "data": {
      "text/html": [
       "<div>\n",
       "<style scoped>\n",
       "    .dataframe tbody tr th:only-of-type {\n",
       "        vertical-align: middle;\n",
       "    }\n",
       "\n",
       "    .dataframe tbody tr th {\n",
       "        vertical-align: top;\n",
       "    }\n",
       "\n",
       "    .dataframe thead th {\n",
       "        text-align: right;\n",
       "    }\n",
       "</style>\n",
       "<table border=\"1\" class=\"dataframe\">\n",
       "  <thead>\n",
       "    <tr style=\"text-align: right;\">\n",
       "      <th></th>\n",
       "      <th>MeanRating</th>\n",
       "      <th>Count</th>\n",
       "    </tr>\n",
       "    <tr>\n",
       "      <th>Bean Type</th>\n",
       "      <th></th>\n",
       "      <th></th>\n",
       "    </tr>\n",
       "  </thead>\n",
       "  <tbody>\n",
       "    <tr>\n",
       "      <th>Unknown</th>\n",
       "      <td>3.130366</td>\n",
       "      <td>629</td>\n",
       "    </tr>\n",
       "    <tr>\n",
       "      <th>Trinitario</th>\n",
       "      <td>3.255263</td>\n",
       "      <td>285</td>\n",
       "    </tr>\n",
       "    <tr>\n",
       "      <th>Criollo</th>\n",
       "      <td>3.185096</td>\n",
       "      <td>104</td>\n",
       "    </tr>\n",
       "    <tr>\n",
       "      <th>Forastero</th>\n",
       "      <td>3.127358</td>\n",
       "      <td>53</td>\n",
       "    </tr>\n",
       "    <tr>\n",
       "      <th>Forastero (Nacional)</th>\n",
       "      <td>3.191176</td>\n",
       "      <td>34</td>\n",
       "    </tr>\n",
       "    <tr>\n",
       "      <th>Criollo, Trinitario</th>\n",
       "      <td>3.257812</td>\n",
       "      <td>32</td>\n",
       "    </tr>\n",
       "    <tr>\n",
       "      <th>Forastero (Arriba)</th>\n",
       "      <td>2.773438</td>\n",
       "      <td>32</td>\n",
       "    </tr>\n",
       "    <tr>\n",
       "      <th>Blend</th>\n",
       "      <td>3.437500</td>\n",
       "      <td>28</td>\n",
       "    </tr>\n",
       "    <tr>\n",
       "      <th>Criollo (Porcelana)</th>\n",
       "      <td>3.361111</td>\n",
       "      <td>9</td>\n",
       "    </tr>\n",
       "    <tr>\n",
       "      <th>Forastero (Parazinho)</th>\n",
       "      <td>3.531250</td>\n",
       "      <td>8</td>\n",
       "    </tr>\n",
       "  </tbody>\n",
       "</table>\n",
       "</div>"
      ],
      "text/plain": [
       "                       MeanRating  Count\n",
       "Bean Type                               \n",
       "Unknown                  3.130366    629\n",
       "Trinitario               3.255263    285\n",
       "Criollo                  3.185096    104\n",
       "Forastero                3.127358     53\n",
       "Forastero (Nacional)     3.191176     34\n",
       "Criollo, Trinitario      3.257812     32\n",
       "Forastero (Arriba)       2.773438     32\n",
       "Blend                    3.437500     28\n",
       "Criollo (Porcelana)      3.361111      9\n",
       "Forastero (Parazinho)    3.531250      8"
      ]
     },
     "execution_count": 37,
     "metadata": {},
     "output_type": "execute_result"
    }
   ],
   "source": [
    "df_train.groupby('Bean Type').agg(MeanRating=('Rating', 'mean'), Count=('Bean Type', 'count'))\\\n",
    "    .sort_values(by='Count', ascending=False)[:10]"
   ]
  },
  {
   "cell_type": "code",
   "execution_count": 38,
   "id": "recent-transcript",
   "metadata": {},
   "outputs": [
    {
     "name": "stdout",
     "output_type": "stream",
     "text": [
      "List of features:\n",
      "-------------------------\n",
      "Company\n",
      "Specific Bean Origin\n",
      "REF\n",
      "Review\n",
      "Cocoa Percent\n",
      "Company Location\n",
      "Bean Type\n",
      "Broad Bean Origin\n"
     ]
    }
   ],
   "source": [
    "print('List of features:', '-'*25, sep='\\n')\n",
    "for i in df_train.drop('Rating', axis=1).columns:\n",
    "    print(i)"
   ]
  },
  {
   "cell_type": "code",
   "execution_count": 39,
   "id": "decreased-drawing",
   "metadata": {},
   "outputs": [],
   "source": [
    "train_target = df_train['Rating']\n",
    "df_train.drop(['Rating'], axis=1, inplace=True)\n",
    "df_train['Rating'] = train_target"
   ]
  },
  {
   "cell_type": "markdown",
   "id": "floral-karma",
   "metadata": {},
   "source": [
    "## Correlation matrix (numeric features)"
   ]
  },
  {
   "cell_type": "code",
   "execution_count": 40,
   "id": "weird-matter",
   "metadata": {},
   "outputs": [
    {
     "data": {
      "image/png": "[encoded data removed]",
      "text/plain": [
       "<Figure size 720x576 with 2 Axes>"
      ]
     },
     "metadata": {
      "needs_background": "light"
     },
     "output_type": "display_data"
    }
   ],
   "source": [
    "plt.figure(figsize = (10,8))\n",
    "plt.rcParams.update({\n",
    "    'xtick.labelsize': 15,\n",
    "    'ytick.labelsize': 15,\n",
    "})\n",
    "sns.heatmap(df_train.corr(), annot=True, cmap=\"Blues\")\n",
    "\n",
    "plt.show()"
   ]
  },
  {
   "cell_type": "markdown",
   "id": "aggregate-virginia",
   "metadata": {},
   "source": [
    "## Correlation matrix (categorical features)"
   ]
  },
  {
   "cell_type": "code",
   "execution_count": 41,
   "id": "accessory-defeat",
   "metadata": {},
   "outputs": [
    {
     "data": {
      "text/html": [
       "<div>\n",
       "<style scoped>\n",
       "    .dataframe tbody tr th:only-of-type {\n",
       "        vertical-align: middle;\n",
       "    }\n",
       "\n",
       "    .dataframe tbody tr th {\n",
       "        vertical-align: top;\n",
       "    }\n",
       "\n",
       "    .dataframe thead th {\n",
       "        text-align: right;\n",
       "    }\n",
       "</style>\n",
       "<table border=\"1\" class=\"dataframe\">\n",
       "  <thead>\n",
       "    <tr style=\"text-align: right;\">\n",
       "      <th></th>\n",
       "      <th>Company</th>\n",
       "      <th>Specific Bean Origin</th>\n",
       "      <th>Company Location</th>\n",
       "      <th>Bean Type</th>\n",
       "      <th>Broad Bean Origin</th>\n",
       "    </tr>\n",
       "  </thead>\n",
       "  <tbody>\n",
       "    <tr>\n",
       "      <th>Company</th>\n",
       "      <td>1.000000</td>\n",
       "      <td>0.771074</td>\n",
       "      <td>0.999651</td>\n",
       "      <td>0.616841</td>\n",
       "      <td>0.603687</td>\n",
       "    </tr>\n",
       "    <tr>\n",
       "      <th>Specific Bean Origin</th>\n",
       "      <td>0.771074</td>\n",
       "      <td>1.000000</td>\n",
       "      <td>0.808500</td>\n",
       "      <td>0.907956</td>\n",
       "      <td>0.983438</td>\n",
       "    </tr>\n",
       "    <tr>\n",
       "      <th>Company Location</th>\n",
       "      <td>0.999651</td>\n",
       "      <td>0.808500</td>\n",
       "      <td>1.000000</td>\n",
       "      <td>0.291616</td>\n",
       "      <td>0.383209</td>\n",
       "    </tr>\n",
       "    <tr>\n",
       "      <th>Bean Type</th>\n",
       "      <td>0.616841</td>\n",
       "      <td>0.907956</td>\n",
       "      <td>0.291616</td>\n",
       "      <td>1.000000</td>\n",
       "      <td>0.388240</td>\n",
       "    </tr>\n",
       "    <tr>\n",
       "      <th>Broad Bean Origin</th>\n",
       "      <td>0.603687</td>\n",
       "      <td>0.983438</td>\n",
       "      <td>0.383209</td>\n",
       "      <td>0.388240</td>\n",
       "      <td>1.000000</td>\n",
       "    </tr>\n",
       "  </tbody>\n",
       "</table>\n",
       "</div>"
      ],
      "text/plain": [
       "                       Company  Specific Bean Origin  Company Location  \\\n",
       "Company               1.000000              0.771074          0.999651   \n",
       "Specific Bean Origin  0.771074              1.000000          0.808500   \n",
       "Company Location      0.999651              0.808500          1.000000   \n",
       "Bean Type             0.616841              0.907956          0.291616   \n",
       "Broad Bean Origin     0.603687              0.983438          0.383209   \n",
       "\n",
       "                      Bean Type  Broad Bean Origin  \n",
       "Company                0.616841           0.603687  \n",
       "Specific Bean Origin   0.907956           0.983438  \n",
       "Company Location       0.291616           0.383209  \n",
       "Bean Type              1.000000           0.388240  \n",
       "Broad Bean Origin      0.388240           1.000000  "
      ]
     },
     "execution_count": 41,
     "metadata": {},
     "output_type": "execute_result"
    }
   ],
   "source": [
    "import association_metrics as am\n",
    "\n",
    "XC = df_train.apply(lambda x: x.astype(\"category\") if x.dtype == \"object\" else x)\n",
    "cramersv = am.CramersV(XC)\n",
    "cramersv.fit()"
   ]
  },
  {
   "cell_type": "markdown",
   "id": "muslim-titanium",
   "metadata": {},
   "source": [
    "Correlated features (may drop one from each pair):\n",
    "* REF and Review\n",
    "* Company and Company Location\n",
    "* Broad Bean Origin and Specific Bean Origin\n",
    "* Specific Bean Origin and Bean Type\n",
    "\n",
    "From every pair of highly correlated categorical features we should drop the one with maximum unique values to avoid overfitting"
   ]
  },
  {
   "cell_type": "markdown",
   "id": "light-shelf",
   "metadata": {},
   "source": [
    "## Outliers"
   ]
  },
  {
   "cell_type": "code",
   "execution_count": 42,
   "id": "assigned-imperial",
   "metadata": {},
   "outputs": [],
   "source": [
    "cat_cols = df_train.columns[df_train.dtypes == 'object']\n",
    "num_cols = df_train.columns[df_train.dtypes != 'object']"
   ]
  },
  {
   "cell_type": "code",
   "execution_count": 43,
   "id": "looking-tuition",
   "metadata": {
    "scrolled": false
   },
   "outputs": [
    {
     "name": "stdout",
     "output_type": "stream",
     "text": [
      "REF\n"
     ]
    },
    {
     "name": "stderr",
     "output_type": "stream",
     "text": [
      "/home/andy/miniconda3/lib/python3.7/site-packages/seaborn/_decorators.py:43: FutureWarning: Pass the following variable as a keyword arg: x. From version 0.12, the only valid positional argument will be `data`, and passing other arguments without an explicit keyword will result in an error or misinterpretation.\n",
      "  FutureWarning\n"
     ]
    },
    {
     "data": {
      "image/png": "[encoded data removed]",
      "text/plain": [
       "<Figure size 720x504 with 1 Axes>"
      ]
     },
     "metadata": {
      "needs_background": "light"
     },
     "output_type": "display_data"
    },
    {
     "name": "stdout",
     "output_type": "stream",
     "text": [
      "Review\n"
     ]
    },
    {
     "name": "stderr",
     "output_type": "stream",
     "text": [
      "/home/andy/miniconda3/lib/python3.7/site-packages/seaborn/_decorators.py:43: FutureWarning: Pass the following variable as a keyword arg: x. From version 0.12, the only valid positional argument will be `data`, and passing other arguments without an explicit keyword will result in an error or misinterpretation.\n",
      "  FutureWarning\n"
     ]
    },
    {
     "data": {
      "image/png": "[encoded data removed]",
      "text/plain": [
       "<Figure size 720x504 with 1 Axes>"
      ]
     },
     "metadata": {
      "needs_background": "light"
     },
     "output_type": "display_data"
    },
    {
     "name": "stdout",
     "output_type": "stream",
     "text": [
      "Cocoa Percent\n"
     ]
    },
    {
     "name": "stderr",
     "output_type": "stream",
     "text": [
      "/home/andy/miniconda3/lib/python3.7/site-packages/seaborn/_decorators.py:43: FutureWarning: Pass the following variable as a keyword arg: x. From version 0.12, the only valid positional argument will be `data`, and passing other arguments without an explicit keyword will result in an error or misinterpretation.\n",
      "  FutureWarning\n"
     ]
    },
    {
     "data": {
      "image/png": "[encoded data removed]",
      "text/plain": [
       "<Figure size 720x504 with 1 Axes>"
      ]
     },
     "metadata": {
      "needs_background": "light"
     },
     "output_type": "display_data"
    },
    {
     "name": "stdout",
     "output_type": "stream",
     "text": [
      "Rating\n"
     ]
    },
    {
     "name": "stderr",
     "output_type": "stream",
     "text": [
      "/home/andy/miniconda3/lib/python3.7/site-packages/seaborn/_decorators.py:43: FutureWarning: Pass the following variable as a keyword arg: x. From version 0.12, the only valid positional argument will be `data`, and passing other arguments without an explicit keyword will result in an error or misinterpretation.\n",
      "  FutureWarning\n"
     ]
    },
    {
     "data": {
      "image/png": "[encoded data removed]",
      "text/plain": [
       "<Figure size 720x504 with 1 Axes>"
      ]
     },
     "metadata": {
      "needs_background": "light"
     },
     "output_type": "display_data"
    }
   ],
   "source": [
    "for col in num_cols:\n",
    "    print(col)\n",
    "    sns.boxplot(df_train[col])\n",
    "    plt.show()"
   ]
  },
  {
   "cell_type": "code",
   "execution_count": 44,
   "id": "polyphonic-kruger",
   "metadata": {},
   "outputs": [],
   "source": [
    "outliers_cocoa_percent = df_train[(df_train['Cocoa Percent'] >= 99) | (df_train['Cocoa Percent'] <= 50)]\n",
    "df_train = df_train.drop(outliers_cocoa_percent.index, axis=0)\n",
    "\n",
    "outliers_cocoa_percent_test = df_train[(df_train['Cocoa Percent'] >= 99) | (df_train['Cocoa Percent'] <= 50)]\n",
    "df_test = df_test.drop(outliers_cocoa_percent_test.index, axis=0)"
   ]
  },
  {
   "cell_type": "code",
   "execution_count": 45,
   "id": "combined-bangkok",
   "metadata": {},
   "outputs": [
    {
     "data": {
      "image/png": "[encoded data removed]",
      "text/plain": [
       "<Figure size 720x576 with 1 Axes>"
      ]
     },
     "metadata": {
      "needs_background": "light"
     },
     "output_type": "display_data"
    }
   ],
   "source": [
    "plt.figure(figsize=(10, 8))\n",
    "plt.hist(df_train['Rating'], bins=16)\n",
    "plt.show()"
   ]
  },
  {
   "cell_type": "code",
   "execution_count": 46,
   "id": "still-notebook",
   "metadata": {},
   "outputs": [],
   "source": [
    "#outliers_rating = df_train[(df_train['Rating'] == 5.0) | (df_train['Rating'] <= 1.5)]\n",
    "#df_train = df_train.drop(outliers_rating.index, axis=0)"
   ]
  },
  {
   "cell_type": "code",
   "execution_count": null,
   "id": "trying-reset",
   "metadata": {},
   "outputs": [],
   "source": []
  },
  {
   "cell_type": "markdown",
   "id": "powerful-textbook",
   "metadata": {},
   "source": [
    "# Baseline model (ansamble)"
   ]
  },
  {
   "cell_type": "code",
   "execution_count": null,
   "id": "final-framework",
   "metadata": {},
   "outputs": [],
   "source": [
    "from sklearn.model_selection import train_test_split\n",
    "\n",
    "X = df_train.drop('Rating', axis=1)\n",
    "y = df_train.Rating\n",
    "\n",
    "X_train, X_val, y_train, y_val = train_test_split(X, y, test_size=0.3, random_state=42)"
   ]
  },
  {
   "cell_type": "code",
   "execution_count": 109,
   "id": "adult-supplement",
   "metadata": {},
   "outputs": [],
   "source": [
    "from sklearn.ensemble import RandomForestRegressor\n",
    "from sklearn.metrics import r2_score\n",
    "\n",
    "from category_encoders.ordinal import OrdinalEncoder\n",
    "from category_encoders.one_hot import OneHotEncoder\n",
    "from category_encoders.target_encoder import TargetEncoder\n",
    "from category_encoders.leave_one_out import LeaveOneOutEncoder\n",
    "\n",
    "from sklearn.preprocessing import StandardScaler\n",
    "from sklearn.preprocessing import MinMaxScaler\n",
    "\n",
    "from sklearn.model_selection import GridSearchCV"
   ]
  },
  {
   "cell_type": "code",
   "execution_count": null,
   "id": "romantic-calendar",
   "metadata": {},
   "outputs": [],
   "source": [
    "from sklearn.pipeline import Pipeline\n",
    "\n",
    "p_baseline = Pipeline([\n",
    "    ('encoder', TargetEncoder(cols=cat_cols)),\n",
    "    ('scaler', StandardScaler()),\n",
    "    ('model', RandomForestRegressor(n_jobs=-1))\n",
    "])\n",
    "\n",
    "p_baseline.fit(X_train, y_train)\n",
    "pred = p_baseline.predict(X_val)\n",
    "r2_score(y_val, pred)"
   ]
  },
  {
   "cell_type": "code",
   "execution_count": null,
   "id": "fewer-sector",
   "metadata": {
    "scrolled": false
   },
   "outputs": [],
   "source": [
    "# Parameters of pipelines can be set using '__' separated parameter names:\n",
    "param_grid = {\n",
    "    \"model__n_estimators\": [180, 200],\n",
    "    \"model__max_depth\": [3, 4, 5],\n",
    "    \"model__min_samples_split\": [10, 15, 20],\n",
    "    #\"model__min_samples_leaf\": []\n",
    "    #\"criterion\": [\"squared_error\", \"absolute_error\", \"friedman_mse\", \"poisson\"],\n",
    "}\n",
    "search = GridSearchCV(p_baseline, param_grid, cv=3, n_jobs=-1, scoring='r2')\n",
    "search.fit(X_train, y_train)\n",
    "print(\"Best parameter (CV score=%0.3f):\" % search.best_score_)\n",
    "print(search.best_params_)"
   ]
  },
  {
   "cell_type": "code",
   "execution_count": null,
   "id": "norwegian-disposal",
   "metadata": {},
   "outputs": [],
   "source": [
    "search.best_estimator_.fit(X_train, y_train)\n",
    "pred = search.best_estimator_.predict(X_val)\n",
    "r2_score(y_val, pred)"
   ]
  },
  {
   "cell_type": "markdown",
   "id": "serial-automation",
   "metadata": {},
   "source": [
    "Not a great result"
   ]
  },
  {
   "cell_type": "markdown",
   "id": "german-macro",
   "metadata": {},
   "source": [
    "# CatBoost"
   ]
  },
  {
   "cell_type": "code",
   "execution_count": null,
   "id": "spiritual-watershed",
   "metadata": {},
   "outputs": [],
   "source": [
    "categorical_features_indices = np.where(X.dtypes == object)[0]\n",
    "categorical_features_indices"
   ]
  },
  {
   "cell_type": "code",
   "execution_count": null,
   "id": "unexpected-battle",
   "metadata": {},
   "outputs": [],
   "source": [
    "from catboost import CatBoostRegressor\n",
    "\n",
    "model = CatBoostRegressor()\n",
    "\n",
    "model.fit(X_train, y_train,\n",
    "         cat_features=categorical_features_indices,\n",
    "         eval_set=(X_val, y_val),\n",
    "         logging_level='Silent')\n",
    "\n",
    "pred = model.predict(X_val)\n",
    "\n",
    "r2_score(y_val, pred)"
   ]
  },
  {
   "cell_type": "code",
   "execution_count": null,
   "id": "compliant-cooler",
   "metadata": {},
   "outputs": [],
   "source": [
    "pd.DataFrame({'Feature': model.feature_names_, \"Importance\": model.feature_importances_})\\\n",
    "    .sort_values(by='Importance', ascending=False)"
   ]
  },
  {
   "cell_type": "markdown",
   "id": "pending-harrison",
   "metadata": {},
   "source": [
    "## CatBoost hyperparameters tuning"
   ]
  },
  {
   "cell_type": "code",
   "execution_count": null,
   "id": "false-reader",
   "metadata": {},
   "outputs": [],
   "source": [
    "from sklearn.metrics import mean_squared_error"
   ]
  },
  {
   "cell_type": "code",
   "execution_count": null,
   "id": "cardiovascular-ivory",
   "metadata": {},
   "outputs": [],
   "source": [
    "import optuna\n",
    "\n",
    "def objective(trial):\n",
    "\n",
    "    param = {\n",
    "        \"n_estimators\": trial.suggest_int(\"n_estimators\", 10, 1000),\n",
    "        \"max_depth\": trial.suggest_int(\"max_depth\", 2, 16),\n",
    "    }\n",
    "\n",
    "    estimator = CatBoostRegressor(**param,\n",
    "                                  cat_features=categorical_features_indices,\n",
    "                                  verbose=False)\n",
    "\n",
    "    estimator.fit(X_train, y_train)\n",
    "    pred = estimator.predict(X_val)\n",
    "\n",
    "    return mean_squared_error(y_val, pred)\n",
    "\n",
    "study = optuna.create_study(direction=\"minimize\")\n",
    "study.optimize(objective, n_trials=15, n_jobs=-1)\n",
    "print(study.best_trial)"
   ]
  },
  {
   "cell_type": "code",
   "execution_count": null,
   "id": "indoor-surname",
   "metadata": {},
   "outputs": [],
   "source": [
    "print(study.best_trial.params)"
   ]
  },
  {
   "cell_type": "code",
   "execution_count": null,
   "id": "unexpected-halloween",
   "metadata": {},
   "outputs": [],
   "source": [
    "model = CatBoostRegressor(**study.best_params,\n",
    "                         cat_features=categorical_features_indices,\n",
    "                         logging_level='Silent')\n",
    "\n",
    "model.fit(X_train, y_train)\n",
    "pred_cb = model.predict(X_val)\n",
    "\n",
    "r2_score(y_val, pred_cb)"
   ]
  },
  {
   "cell_type": "code",
   "execution_count": null,
   "id": "fuzzy-tribune",
   "metadata": {},
   "outputs": [],
   "source": [
    "model.fit(X, y)"
   ]
  },
  {
   "cell_type": "markdown",
   "id": "three-ecuador",
   "metadata": {},
   "source": [
    "That's better already, let's try it on test"
   ]
  },
  {
   "cell_type": "code",
   "execution_count": null,
   "id": "oriented-divorce",
   "metadata": {},
   "outputs": [],
   "source": [
    "pd.DataFrame({'Feature': model.feature_names_, \"Importance\": model.feature_importances_})\\\n",
    "    .sort_values(by='Importance', ascending=False)"
   ]
  },
  {
   "cell_type": "markdown",
   "id": "impaired-conditioning",
   "metadata": {},
   "source": [
    "## Apply tuned CatBoost to test"
   ]
  },
  {
   "cell_type": "code",
   "execution_count": null,
   "id": "involved-plasma",
   "metadata": {},
   "outputs": [],
   "source": [
    "pred_test = model.predict(df_test)\n",
    "pred_test[:10]"
   ]
  },
  {
   "cell_type": "code",
   "execution_count": null,
   "id": "apart-operations",
   "metadata": {},
   "outputs": [],
   "source": [
    "df_submission = df_test.copy()\n",
    "df_submission['id'] = np.arange(len(df_test))\n",
    "df_submission['Rating'] = pred_test\n",
    "df_submission = df_submission[['id','Rating']]\n",
    "df_submission.to_csv(\"CatBoost_v1.csv\", index=False)"
   ]
  },
  {
   "cell_type": "markdown",
   "id": "colored-limitation",
   "metadata": {},
   "source": [
    "This model gives r2 = 0.16608 on test. <br>\n",
    "Which is not very bad but still we must achieve r2 >= 0.2"
   ]
  },
  {
   "cell_type": "markdown",
   "id": "accurate-distinction",
   "metadata": {},
   "source": [
    "# Feature engineering"
   ]
  },
  {
   "cell_type": "markdown",
   "id": "otherwise-license",
   "metadata": {},
   "source": [
    "Some ideas I already tried:\n",
    "* Broad company location (Africa, Caribbean, etc)\n",
    "* Broader cocoa bean origin (Africa, Caribbean, etc)\n",
    "* Best Companies (from internet sources)\n",
    "* Top cocoa bean production countries (amount and quality)\n",
    "\n",
    "More to try:\n",
    "* Company location matches broad bean origin\n",
    "* Analyze text of some features: Specific Bean Origin and Company"
   ]
  },
  {
   "cell_type": "markdown",
   "id": "super-python",
   "metadata": {},
   "source": [
    "### Matched Regions"
   ]
  },
  {
   "cell_type": "code",
   "execution_count": 47,
   "id": "impressive-officer",
   "metadata": {},
   "outputs": [
    {
     "data": {
      "text/html": [
       "<div>\n",
       "<style scoped>\n",
       "    .dataframe tbody tr th:only-of-type {\n",
       "        vertical-align: middle;\n",
       "    }\n",
       "\n",
       "    .dataframe tbody tr th {\n",
       "        vertical-align: top;\n",
       "    }\n",
       "\n",
       "    .dataframe thead th {\n",
       "        text-align: right;\n",
       "    }\n",
       "</style>\n",
       "<table border=\"1\" class=\"dataframe\">\n",
       "  <thead>\n",
       "    <tr style=\"text-align: right;\">\n",
       "      <th></th>\n",
       "      <th>Company Location</th>\n",
       "      <th>Broad Bean Origin</th>\n",
       "    </tr>\n",
       "  </thead>\n",
       "  <tbody>\n",
       "    <tr>\n",
       "      <th>0</th>\n",
       "      <td>U.K.</td>\n",
       "      <td>Venezuela</td>\n",
       "    </tr>\n",
       "    <tr>\n",
       "      <th>1</th>\n",
       "      <td>Switzerland</td>\n",
       "      <td>Venezuela</td>\n",
       "    </tr>\n",
       "    <tr>\n",
       "      <th>2</th>\n",
       "      <td>U.S.A.</td>\n",
       "      <td>Tanzania</td>\n",
       "    </tr>\n",
       "    <tr>\n",
       "      <th>3</th>\n",
       "      <td>U.S.A.</td>\n",
       "      <td>Dominican Republic</td>\n",
       "    </tr>\n",
       "    <tr>\n",
       "      <th>4</th>\n",
       "      <td>France</td>\n",
       "      <td>Indonesia</td>\n",
       "    </tr>\n",
       "  </tbody>\n",
       "</table>\n",
       "</div>"
      ],
      "text/plain": [
       "  Company Location   Broad Bean Origin\n",
       "0             U.K.           Venezuela\n",
       "1      Switzerland           Venezuela\n",
       "2           U.S.A.            Tanzania\n",
       "3           U.S.A.  Dominican Republic\n",
       "4           France           Indonesia"
      ]
     },
     "execution_count": 47,
     "metadata": {},
     "output_type": "execute_result"
    }
   ],
   "source": [
    "df_train[['Company Location', 'Broad Bean Origin']].head()"
   ]
  },
  {
   "cell_type": "code",
   "execution_count": 48,
   "id": "mathematical-proceeding",
   "metadata": {},
   "outputs": [],
   "source": [
    "df_train['Matched Regions'] = np.where(df_train['Company Location'] == df_train['Broad Bean Origin'], 1, 0)\n",
    "df_test['Matched Regions'] = np.where(df_test['Company Location'] == df_test['Broad Bean Origin'], 1, 0)"
   ]
  },
  {
   "cell_type": "code",
   "execution_count": 49,
   "id": "partial-twist",
   "metadata": {},
   "outputs": [
    {
     "data": {
      "text/html": [
       "<div>\n",
       "<style scoped>\n",
       "    .dataframe tbody tr th:only-of-type {\n",
       "        vertical-align: middle;\n",
       "    }\n",
       "\n",
       "    .dataframe tbody tr th {\n",
       "        vertical-align: top;\n",
       "    }\n",
       "\n",
       "    .dataframe thead th {\n",
       "        text-align: right;\n",
       "    }\n",
       "</style>\n",
       "<table border=\"1\" class=\"dataframe\">\n",
       "  <thead>\n",
       "    <tr style=\"text-align: right;\">\n",
       "      <th></th>\n",
       "      <th>MeanRating</th>\n",
       "      <th>StdRating</th>\n",
       "    </tr>\n",
       "    <tr>\n",
       "      <th>Matched Regions</th>\n",
       "      <th></th>\n",
       "      <th></th>\n",
       "    </tr>\n",
       "  </thead>\n",
       "  <tbody>\n",
       "    <tr>\n",
       "      <th>0</th>\n",
       "      <td>3.200228</td>\n",
       "      <td>0.461287</td>\n",
       "    </tr>\n",
       "    <tr>\n",
       "      <th>1</th>\n",
       "      <td>3.099650</td>\n",
       "      <td>0.467368</td>\n",
       "    </tr>\n",
       "  </tbody>\n",
       "</table>\n",
       "</div>"
      ],
      "text/plain": [
       "                 MeanRating  StdRating\n",
       "Matched Regions                       \n",
       "0                  3.200228   0.461287\n",
       "1                  3.099650   0.467368"
      ]
     },
     "execution_count": 49,
     "metadata": {},
     "output_type": "execute_result"
    }
   ],
   "source": [
    "df_train.groupby('Matched Regions').agg(MeanRating=('Rating', 'mean'),\n",
    "                                       StdRating=('Rating', 'std'))"
   ]
  },
  {
   "cell_type": "markdown",
   "id": "prescribed-glenn",
   "metadata": {},
   "source": [
    "### Broad Locations (parts of the world)"
   ]
  },
  {
   "cell_type": "code",
   "execution_count": 50,
   "id": "alike-bennett",
   "metadata": {},
   "outputs": [],
   "source": [
    "broad_locations = {'Europe': ['U.K.', 'Switzerland', 'France', 'Belgium', 'Spain', 'Italy',\n",
    "                              'Austria', 'Sweden', 'Ireland', 'Poland', 'Hungary', 'Germany',\n",
    "                              'Denmark', 'Lithuania', 'Scotland', 'Finland', 'Iceland',\n",
    "                              'Amsterdam', 'Wales', 'Netherlands', 'Portugal', 'Czech Republic'],\n",
    "                   'North America': ['U.S.A.', 'Canada'],\n",
    "                   'Africa': ['Madagascar', 'South Africa', 'Ghana', 'Sao Tome', 'Tanzania',\n",
    "                              'Indonesia', 'Congo', 'Liberia', 'Principe', 'Sao Tome & Principe',\n",
    "                              'Gabon', 'Ivory Coast', 'Uganda', 'Nigeria', 'West Africa'],\n",
    "                   'Caribbean': ['Colombia', 'Venezuela', 'Honduras', 'Guatemala',\n",
    "                                 'Domincan Republic', 'Grenada', 'Puerto Rico', 'Costa Rica',\n",
    "                                 'St. Lucia', 'Nicaragua', 'Martinique', 'Niacragua', 'Cost Rica, Ven',\n",
    "                                 'Trinidad', 'Panama', 'Jamaica', 'Haiti', 'Cuba', 'Venezuela, Ghana',\n",
    "                                 'Ven.,Ecu.,Peru,Nic.', 'Tobago', 'Carribean(DR/Jam/Tri)',\n",
    "                                 'Venezuela, Java', 'Ven, Bolivia, D.R.', 'Venezuela, Carribean',\n",
    "                                 'Dominican Republic', 'Carribean'],\n",
    "                   'Asia & Oceania': ['Japan', 'Vietnam', 'Philippines', 'Fiji', 'Australia',\n",
    "                                      'South Korea', 'Israel', 'Singapore', 'India', 'Russia',\n",
    "                                      'New Zealand', 'Papua New Guinea', 'Hawaii', 'Solomon Islands',\n",
    "                                      'Sri Lanka', 'Malaysia', 'Samoa', 'Philippines', 'Togo',\n",
    "                                      'Vanuatu'],\n",
    "                   'South America': ['Ecuador', 'Brazil', 'Peru', 'Eucador', 'Argentina',\n",
    "                                     'Chile', 'Mexico', 'Bolivia', 'Suriname', 'Peru, Dom. Rep',\n",
    "                                     'Central and S. America', 'Colombia, Ecuador', 'Dom. Rep., Madagascar',\n",
    "                                     'South America', 'Belize', 'El Salvador'],\n",
    "                   'Mixed': ['Trinidad, Ecuador', 'South America, Africa', 'PNG, Vanuatu, Mad',\n",
    "                             'Mad., Java, PNG', 'Peru, Mad., Dom. Rep.', 'Indonesia, Ghana', 'Madagascar & Ecuador',\n",
    "                             'Venez,Africa,Brasil,Peru,Mex', 'DR, Ecuador, Peru', 'Dominican Rep., Bali',\n",
    "                             'Peru, Madagascar', 'Venezuela, Dom. Rep.', 'Peru, Ecuador, Venezuela',\n",
    "                             'Ven., Trinidad, Mad.', 'Ven., Indonesia, Ecuad.', 'Ghana, Domin. Rep',\n",
    "                             'Peru, Belize', 'Guat., D.R., Peru, Mad., PNG']\n",
    "                   }"
   ]
  },
  {
   "cell_type": "code",
   "execution_count": 51,
   "id": "sweet-sucking",
   "metadata": {},
   "outputs": [],
   "source": [
    "def location_in_list(location, locations_dict=broad_locations):\n",
    "    for k, v in broad_locations.items():\n",
    "        if location in v:\n",
    "            return k\n",
    "    return 'Other'"
   ]
  },
  {
   "cell_type": "code",
   "execution_count": 52,
   "id": "narrow-growth",
   "metadata": {},
   "outputs": [],
   "source": [
    "df_train['Broad Company Location'] = df_train['Company Location'].apply(lambda x: location_in_list(x))\n",
    "df_test['Broad Company Location'] = df_test['Company Location'].apply(lambda x: location_in_list(x))"
   ]
  },
  {
   "cell_type": "code",
   "execution_count": 53,
   "id": "verbal-punishment",
   "metadata": {},
   "outputs": [
    {
     "data": {
      "text/html": [
       "<div>\n",
       "<style scoped>\n",
       "    .dataframe tbody tr th:only-of-type {\n",
       "        vertical-align: middle;\n",
       "    }\n",
       "\n",
       "    .dataframe tbody tr th {\n",
       "        vertical-align: top;\n",
       "    }\n",
       "\n",
       "    .dataframe thead th {\n",
       "        text-align: right;\n",
       "    }\n",
       "</style>\n",
       "<table border=\"1\" class=\"dataframe\">\n",
       "  <thead>\n",
       "    <tr style=\"text-align: right;\">\n",
       "      <th></th>\n",
       "      <th>MeanRating</th>\n",
       "      <th>StdRating</th>\n",
       "    </tr>\n",
       "    <tr>\n",
       "      <th>Broad Company Location</th>\n",
       "      <th></th>\n",
       "      <th></th>\n",
       "    </tr>\n",
       "  </thead>\n",
       "  <tbody>\n",
       "    <tr>\n",
       "      <th>Africa</th>\n",
       "      <td>3.125000</td>\n",
       "      <td>0.471621</td>\n",
       "    </tr>\n",
       "    <tr>\n",
       "      <th>Asia &amp; Oceania</th>\n",
       "      <td>3.259615</td>\n",
       "      <td>0.381049</td>\n",
       "    </tr>\n",
       "    <tr>\n",
       "      <th>Caribbean</th>\n",
       "      <td>3.143443</td>\n",
       "      <td>0.424409</td>\n",
       "    </tr>\n",
       "    <tr>\n",
       "      <th>Europe</th>\n",
       "      <td>3.227157</td>\n",
       "      <td>0.500431</td>\n",
       "    </tr>\n",
       "    <tr>\n",
       "      <th>North America</th>\n",
       "      <td>3.175576</td>\n",
       "      <td>0.442901</td>\n",
       "    </tr>\n",
       "    <tr>\n",
       "      <th>South America</th>\n",
       "      <td>3.075949</td>\n",
       "      <td>0.500568</td>\n",
       "    </tr>\n",
       "  </tbody>\n",
       "</table>\n",
       "</div>"
      ],
      "text/plain": [
       "                        MeanRating  StdRating\n",
       "Broad Company Location                       \n",
       "Africa                    3.125000   0.471621\n",
       "Asia & Oceania            3.259615   0.381049\n",
       "Caribbean                 3.143443   0.424409\n",
       "Europe                    3.227157   0.500431\n",
       "North America             3.175576   0.442901\n",
       "South America             3.075949   0.500568"
      ]
     },
     "execution_count": 53,
     "metadata": {},
     "output_type": "execute_result"
    }
   ],
   "source": [
    "df_train.groupby('Broad Company Location').agg(MeanRating=('Rating', 'mean'),\n",
    "                                               StdRating=('Rating', 'std'))"
   ]
  },
  {
   "cell_type": "code",
   "execution_count": 54,
   "id": "competitive-richardson",
   "metadata": {},
   "outputs": [],
   "source": [
    "df_train['Bean Origin World'] = df_train['Broad Bean Origin'].apply(lambda x: location_in_list(x))\n",
    "df_test['Bean Origin World'] = df_test['Broad Bean Origin'].apply(lambda x: location_in_list(x))"
   ]
  },
  {
   "cell_type": "code",
   "execution_count": 55,
   "id": "developing-bathroom",
   "metadata": {},
   "outputs": [
    {
     "data": {
      "text/html": [
       "<div>\n",
       "<style scoped>\n",
       "    .dataframe tbody tr th:only-of-type {\n",
       "        vertical-align: middle;\n",
       "    }\n",
       "\n",
       "    .dataframe tbody tr th {\n",
       "        vertical-align: top;\n",
       "    }\n",
       "\n",
       "    .dataframe thead th {\n",
       "        text-align: right;\n",
       "    }\n",
       "</style>\n",
       "<table border=\"1\" class=\"dataframe\">\n",
       "  <thead>\n",
       "    <tr style=\"text-align: right;\">\n",
       "      <th></th>\n",
       "      <th>MeanRating</th>\n",
       "      <th>StdRating</th>\n",
       "    </tr>\n",
       "    <tr>\n",
       "      <th>Bean Origin World</th>\n",
       "      <th></th>\n",
       "      <th></th>\n",
       "    </tr>\n",
       "  </thead>\n",
       "  <tbody>\n",
       "    <tr>\n",
       "      <th>Africa</th>\n",
       "      <td>3.213010</td>\n",
       "      <td>0.449611</td>\n",
       "    </tr>\n",
       "    <tr>\n",
       "      <th>Asia &amp; Oceania</th>\n",
       "      <td>3.260526</td>\n",
       "      <td>0.360842</td>\n",
       "    </tr>\n",
       "    <tr>\n",
       "      <th>Caribbean</th>\n",
       "      <td>3.196730</td>\n",
       "      <td>0.448081</td>\n",
       "    </tr>\n",
       "    <tr>\n",
       "      <th>Mixed</th>\n",
       "      <td>3.342105</td>\n",
       "      <td>0.426635</td>\n",
       "    </tr>\n",
       "    <tr>\n",
       "      <th>Other</th>\n",
       "      <td>3.044118</td>\n",
       "      <td>0.666532</td>\n",
       "    </tr>\n",
       "    <tr>\n",
       "      <th>South America</th>\n",
       "      <td>3.161290</td>\n",
       "      <td>0.474515</td>\n",
       "    </tr>\n",
       "  </tbody>\n",
       "</table>\n",
       "</div>"
      ],
      "text/plain": [
       "                   MeanRating  StdRating\n",
       "Bean Origin World                       \n",
       "Africa               3.213010   0.449611\n",
       "Asia & Oceania       3.260526   0.360842\n",
       "Caribbean            3.196730   0.448081\n",
       "Mixed                3.342105   0.426635\n",
       "Other                3.044118   0.666532\n",
       "South America        3.161290   0.474515"
      ]
     },
     "execution_count": 55,
     "metadata": {},
     "output_type": "execute_result"
    }
   ],
   "source": [
    "df_train.groupby('Bean Origin World').agg(MeanRating=('Rating', 'mean'),\n",
    "                                          StdRating=('Rating', 'std'))"
   ]
  },
  {
   "cell_type": "markdown",
   "id": "funded-option",
   "metadata": {},
   "source": [
    "### Best Production"
   ]
  },
  {
   "cell_type": "code",
   "execution_count": 56,
   "id": "african-proof",
   "metadata": {},
   "outputs": [
    {
     "data": {
      "text/plain": [
       "3.1886106623586428"
      ]
     },
     "execution_count": 56,
     "metadata": {},
     "output_type": "execute_result"
    }
   ],
   "source": [
    "df_train['Rating'].mean()"
   ]
  },
  {
   "cell_type": "code",
   "execution_count": 57,
   "id": "confident-nickname",
   "metadata": {},
   "outputs": [],
   "source": [
    "# Countries producing the best chocolate (according to internet)\n",
    "best_production_countries = ['Belgium', 'Switzerland', 'Italy', 'Germany', 'Austria', 'Poland',\n",
    "                             'Ecuador', 'Japan', 'New Zealand', 'Sweden', 'Spain', 'Mexico', 'Brazil',\n",
    "                             'India', 'Peru', 'Australia', 'U.K.',\n",
    "                             'Indonesia', 'Tahiland', 'Philippines', 'Ivory Coast', 'U.S.A.']"
   ]
  },
  {
   "cell_type": "code",
   "execution_count": 58,
   "id": "basic-regard",
   "metadata": {},
   "outputs": [],
   "source": [
    "df_train['Best Production'] = df_train['Company Location'].apply(lambda x: int(x in best_production_countries))\n",
    "df_test['Best Production'] = df_train['Company Location'].apply(lambda x: int(x in best_production_countries))"
   ]
  },
  {
   "cell_type": "code",
   "execution_count": 59,
   "id": "intensive-playing",
   "metadata": {},
   "outputs": [
    {
     "data": {
      "text/html": [
       "<div>\n",
       "<style scoped>\n",
       "    .dataframe tbody tr th:only-of-type {\n",
       "        vertical-align: middle;\n",
       "    }\n",
       "\n",
       "    .dataframe tbody tr th {\n",
       "        vertical-align: top;\n",
       "    }\n",
       "\n",
       "    .dataframe thead th {\n",
       "        text-align: right;\n",
       "    }\n",
       "</style>\n",
       "<table border=\"1\" class=\"dataframe\">\n",
       "  <thead>\n",
       "    <tr style=\"text-align: right;\">\n",
       "      <th></th>\n",
       "      <th>MeanRating</th>\n",
       "      <th>StdRating</th>\n",
       "      <th>Count</th>\n",
       "    </tr>\n",
       "    <tr>\n",
       "      <th>Best Production</th>\n",
       "      <th></th>\n",
       "      <th></th>\n",
       "      <th></th>\n",
       "    </tr>\n",
       "  </thead>\n",
       "  <tbody>\n",
       "    <tr>\n",
       "      <th>0</th>\n",
       "      <td>3.265753</td>\n",
       "      <td>0.448508</td>\n",
       "      <td>365</td>\n",
       "    </tr>\n",
       "    <tr>\n",
       "      <th>1</th>\n",
       "      <td>3.156357</td>\n",
       "      <td>0.465288</td>\n",
       "      <td>873</td>\n",
       "    </tr>\n",
       "  </tbody>\n",
       "</table>\n",
       "</div>"
      ],
      "text/plain": [
       "                 MeanRating  StdRating  Count\n",
       "Best Production                              \n",
       "0                  3.265753   0.448508    365\n",
       "1                  3.156357   0.465288    873"
      ]
     },
     "execution_count": 59,
     "metadata": {},
     "output_type": "execute_result"
    }
   ],
   "source": [
    "df_train.groupby('Best Production').agg(MeanRating=('Rating', 'mean'),\n",
    "                                        StdRating=('Rating', 'std'),\n",
    "                                        Count=('Best Production', 'count'))"
   ]
  },
  {
   "cell_type": "markdown",
   "id": "peaceful-young",
   "metadata": {},
   "source": [
    "### Best Bean Type"
   ]
  },
  {
   "cell_type": "code",
   "execution_count": 60,
   "id": "convenient-quality",
   "metadata": {},
   "outputs": [],
   "source": [
    "best_beans_list = ['Criollo', 'Trinitario'] \n",
    "df_train['Best Bean Type'] = df_train['Bean Type'].apply(lambda x: int(any([i in x for i in best_beans_list])))\n",
    "df_test['Best Bean Type'] = df_train['Bean Type'].apply(lambda x: int(any([i in x for i in best_beans_list])))"
   ]
  },
  {
   "cell_type": "code",
   "execution_count": 61,
   "id": "hairy-settle",
   "metadata": {},
   "outputs": [
    {
     "data": {
      "text/html": [
       "<div>\n",
       "<style scoped>\n",
       "    .dataframe tbody tr th:only-of-type {\n",
       "        vertical-align: middle;\n",
       "    }\n",
       "\n",
       "    .dataframe tbody tr th {\n",
       "        vertical-align: top;\n",
       "    }\n",
       "\n",
       "    .dataframe thead th {\n",
       "        text-align: right;\n",
       "    }\n",
       "</style>\n",
       "<table border=\"1\" class=\"dataframe\">\n",
       "  <thead>\n",
       "    <tr style=\"text-align: right;\">\n",
       "      <th></th>\n",
       "      <th>MeanRating</th>\n",
       "      <th>StdRating</th>\n",
       "      <th>Count</th>\n",
       "    </tr>\n",
       "    <tr>\n",
       "      <th>Best Bean Type</th>\n",
       "      <th></th>\n",
       "      <th></th>\n",
       "      <th></th>\n",
       "    </tr>\n",
       "  </thead>\n",
       "  <tbody>\n",
       "    <tr>\n",
       "      <th>0</th>\n",
       "      <td>3.153871</td>\n",
       "      <td>0.478782</td>\n",
       "      <td>788</td>\n",
       "    </tr>\n",
       "    <tr>\n",
       "      <th>1</th>\n",
       "      <td>3.249444</td>\n",
       "      <td>0.427513</td>\n",
       "      <td>450</td>\n",
       "    </tr>\n",
       "  </tbody>\n",
       "</table>\n",
       "</div>"
      ],
      "text/plain": [
       "                MeanRating  StdRating  Count\n",
       "Best Bean Type                              \n",
       "0                 3.153871   0.478782    788\n",
       "1                 3.249444   0.427513    450"
      ]
     },
     "execution_count": 61,
     "metadata": {},
     "output_type": "execute_result"
    }
   ],
   "source": [
    "df_train.groupby('Best Bean Type').agg(MeanRating=('Rating', 'mean'),\n",
    "                                       StdRating=('Rating', 'std'),\n",
    "                                       Count=('Best Bean Type', 'count'))"
   ]
  },
  {
   "cell_type": "code",
   "execution_count": 62,
   "id": "opposite-sarah",
   "metadata": {},
   "outputs": [],
   "source": [
    "df_train.drop('Best Bean Type', axis=1, inplace=True)\n",
    "df_test.drop('Best Bean Type', axis=1, inplace=True)"
   ]
  },
  {
   "cell_type": "markdown",
   "id": "burning-sitting",
   "metadata": {},
   "source": [
    "### Multiple Bean Origins"
   ]
  },
  {
   "cell_type": "code",
   "execution_count": 63,
   "id": "suffering-award",
   "metadata": {},
   "outputs": [],
   "source": [
    "def multiple_names(string):\n",
    "    answer = 0\n",
    "    for i  in [',', '&']:\n",
    "        if i in string:\n",
    "            answer = 1\n",
    "    return answer\n",
    "\n",
    "df_train['Multiple Broad Bean Origins'] = df_train['Broad Bean Origin'].apply(lambda x: multiple_names(x))\n",
    "df_test['Multiple Broad Bean Origins'] = df_test['Broad Bean Origin'].apply(lambda x: multiple_names(x))"
   ]
  },
  {
   "cell_type": "code",
   "execution_count": 64,
   "id": "induced-vatican",
   "metadata": {},
   "outputs": [
    {
     "data": {
      "text/html": [
       "<div>\n",
       "<style scoped>\n",
       "    .dataframe tbody tr th:only-of-type {\n",
       "        vertical-align: middle;\n",
       "    }\n",
       "\n",
       "    .dataframe tbody tr th {\n",
       "        vertical-align: top;\n",
       "    }\n",
       "\n",
       "    .dataframe thead th {\n",
       "        text-align: right;\n",
       "    }\n",
       "</style>\n",
       "<table border=\"1\" class=\"dataframe\">\n",
       "  <thead>\n",
       "    <tr style=\"text-align: right;\">\n",
       "      <th></th>\n",
       "      <th>MeanRating</th>\n",
       "      <th>StdRating</th>\n",
       "      <th>Count</th>\n",
       "    </tr>\n",
       "    <tr>\n",
       "      <th>Multiple Broad Bean Origins</th>\n",
       "      <th></th>\n",
       "      <th></th>\n",
       "      <th></th>\n",
       "    </tr>\n",
       "  </thead>\n",
       "  <tbody>\n",
       "    <tr>\n",
       "      <th>0</th>\n",
       "      <td>3.182365</td>\n",
       "      <td>0.461776</td>\n",
       "      <td>1205</td>\n",
       "    </tr>\n",
       "    <tr>\n",
       "      <th>1</th>\n",
       "      <td>3.416667</td>\n",
       "      <td>0.453574</td>\n",
       "      <td>33</td>\n",
       "    </tr>\n",
       "  </tbody>\n",
       "</table>\n",
       "</div>"
      ],
      "text/plain": [
       "                             MeanRating  StdRating  Count\n",
       "Multiple Broad Bean Origins                              \n",
       "0                              3.182365   0.461776   1205\n",
       "1                              3.416667   0.453574     33"
      ]
     },
     "execution_count": 64,
     "metadata": {},
     "output_type": "execute_result"
    }
   ],
   "source": [
    "df_train.groupby('Multiple Broad Bean Origins').agg(\n",
    "    MeanRating=('Rating', 'mean'),\n",
    "    StdRating=('Rating', 'std'),\n",
    "    Count=('Multiple Broad Bean Origins', 'count'))"
   ]
  },
  {
   "cell_type": "markdown",
   "id": "palestinian-quality",
   "metadata": {},
   "source": [
    "### Some features from Specific Bean Origin"
   ]
  },
  {
   "cell_type": "code",
   "execution_count": 65,
   "id": "eastern-coordinator",
   "metadata": {},
   "outputs": [],
   "source": [
    "df_train['SBO Complex'] = df_train['Specific Bean Origin'].apply(lambda x: int(x.count(' ') > 0))\n",
    "df_test['SBO Complex'] = df_test['Specific Bean Origin'].apply(lambda x: (x.count(' ') > 0))"
   ]
  },
  {
   "cell_type": "code",
   "execution_count": 66,
   "id": "sound-penguin",
   "metadata": {},
   "outputs": [
    {
     "data": {
      "text/html": [
       "<div>\n",
       "<style scoped>\n",
       "    .dataframe tbody tr th:only-of-type {\n",
       "        vertical-align: middle;\n",
       "    }\n",
       "\n",
       "    .dataframe tbody tr th {\n",
       "        vertical-align: top;\n",
       "    }\n",
       "\n",
       "    .dataframe thead th {\n",
       "        text-align: right;\n",
       "    }\n",
       "</style>\n",
       "<table border=\"1\" class=\"dataframe\">\n",
       "  <thead>\n",
       "    <tr style=\"text-align: right;\">\n",
       "      <th></th>\n",
       "      <th>Rating</th>\n",
       "    </tr>\n",
       "    <tr>\n",
       "      <th>SBO Complex</th>\n",
       "      <th></th>\n",
       "    </tr>\n",
       "  </thead>\n",
       "  <tbody>\n",
       "    <tr>\n",
       "      <th>0</th>\n",
       "      <td>3.125992</td>\n",
       "    </tr>\n",
       "    <tr>\n",
       "      <th>1</th>\n",
       "      <td>3.231608</td>\n",
       "    </tr>\n",
       "  </tbody>\n",
       "</table>\n",
       "</div>"
      ],
      "text/plain": [
       "               Rating\n",
       "SBO Complex          \n",
       "0            3.125992\n",
       "1            3.231608"
      ]
     },
     "execution_count": 66,
     "metadata": {},
     "output_type": "execute_result"
    }
   ],
   "source": [
    "df_train.groupby('SBO Complex').agg({'Rating': 'mean'})"
   ]
  },
  {
   "cell_type": "code",
   "execution_count": 67,
   "id": "hungarian-honor",
   "metadata": {},
   "outputs": [],
   "source": [
    "df_train.drop('SBO Complex', axis=1, inplace=True)\n",
    "df_test.drop('SBO Complex', axis=1, inplace=True)"
   ]
  },
  {
   "cell_type": "markdown",
   "id": "orange-record",
   "metadata": {},
   "source": [
    "#### Found even better lol"
   ]
  },
  {
   "cell_type": "code",
   "execution_count": 68,
   "id": "incorporate-toyota",
   "metadata": {},
   "outputs": [],
   "source": [
    "df_train['SBO Complexity'] = df_train['Specific Bean Origin'].apply(lambda x: x.count(' '))\n",
    "df_test['SBO Complexity'] = df_test['Specific Bean Origin'].apply(lambda x: x.count(' '))"
   ]
  },
  {
   "cell_type": "code",
   "execution_count": 69,
   "id": "intimate-green",
   "metadata": {},
   "outputs": [
    {
     "data": {
      "text/html": [
       "<div>\n",
       "<style scoped>\n",
       "    .dataframe tbody tr th:only-of-type {\n",
       "        vertical-align: middle;\n",
       "    }\n",
       "\n",
       "    .dataframe tbody tr th {\n",
       "        vertical-align: top;\n",
       "    }\n",
       "\n",
       "    .dataframe thead th {\n",
       "        text-align: right;\n",
       "    }\n",
       "</style>\n",
       "<table border=\"1\" class=\"dataframe\">\n",
       "  <thead>\n",
       "    <tr style=\"text-align: right;\">\n",
       "      <th></th>\n",
       "      <th>Rating</th>\n",
       "      <th>SBO Complexity</th>\n",
       "    </tr>\n",
       "    <tr>\n",
       "      <th>SBO Complexity</th>\n",
       "      <th></th>\n",
       "      <th></th>\n",
       "    </tr>\n",
       "  </thead>\n",
       "  <tbody>\n",
       "    <tr>\n",
       "      <th>0</th>\n",
       "      <td>3.125992</td>\n",
       "      <td>504</td>\n",
       "    </tr>\n",
       "    <tr>\n",
       "      <th>1</th>\n",
       "      <td>3.200311</td>\n",
       "      <td>322</td>\n",
       "    </tr>\n",
       "    <tr>\n",
       "      <th>2</th>\n",
       "      <td>3.214286</td>\n",
       "      <td>175</td>\n",
       "    </tr>\n",
       "    <tr>\n",
       "      <th>3</th>\n",
       "      <td>3.198718</td>\n",
       "      <td>117</td>\n",
       "    </tr>\n",
       "    <tr>\n",
       "      <th>4</th>\n",
       "      <td>3.313380</td>\n",
       "      <td>71</td>\n",
       "    </tr>\n",
       "    <tr>\n",
       "      <th>5</th>\n",
       "      <td>3.387097</td>\n",
       "      <td>31</td>\n",
       "    </tr>\n",
       "    <tr>\n",
       "      <th>6</th>\n",
       "      <td>3.576923</td>\n",
       "      <td>13</td>\n",
       "    </tr>\n",
       "    <tr>\n",
       "      <th>7</th>\n",
       "      <td>3.600000</td>\n",
       "      <td>5</td>\n",
       "    </tr>\n",
       "  </tbody>\n",
       "</table>\n",
       "</div>"
      ],
      "text/plain": [
       "                  Rating  SBO Complexity\n",
       "SBO Complexity                          \n",
       "0               3.125992             504\n",
       "1               3.200311             322\n",
       "2               3.214286             175\n",
       "3               3.198718             117\n",
       "4               3.313380              71\n",
       "5               3.387097              31\n",
       "6               3.576923              13\n",
       "7               3.600000               5"
      ]
     },
     "execution_count": 69,
     "metadata": {},
     "output_type": "execute_result"
    }
   ],
   "source": [
    "df_train.groupby('SBO Complexity').agg({'Rating': 'mean', 'SBO Complexity': 'count'})"
   ]
  },
  {
   "cell_type": "code",
   "execution_count": 70,
   "id": "injured-academy",
   "metadata": {},
   "outputs": [],
   "source": [
    "def length_bin(s: str, min_val=0, max_val=50, step=10) -> int:\n",
    "    n = len(s)\n",
    "    bins = np.arange(min_val, max_val+step, step)\n",
    "    for i in range(bins.shape[0]):\n",
    "        if n > bins[i] and n <= bins[i+1]:\n",
    "            return i\n",
    "    \n",
    "\n",
    "df_train['SBO Length'] = df_train['Specific Bean Origin'].apply(lambda x: length_bin(x))\n",
    "df_test['SBO Length'] = df_test['Specific Bean Origin'].apply(lambda x: length_bin(x))"
   ]
  },
  {
   "cell_type": "code",
   "execution_count": 71,
   "id": "usual-serum",
   "metadata": {},
   "outputs": [
    {
     "data": {
      "text/html": [
       "<div>\n",
       "<style scoped>\n",
       "    .dataframe tbody tr th:only-of-type {\n",
       "        vertical-align: middle;\n",
       "    }\n",
       "\n",
       "    .dataframe tbody tr th {\n",
       "        vertical-align: top;\n",
       "    }\n",
       "\n",
       "    .dataframe thead th {\n",
       "        text-align: right;\n",
       "    }\n",
       "</style>\n",
       "<table border=\"1\" class=\"dataframe\">\n",
       "  <thead>\n",
       "    <tr style=\"text-align: right;\">\n",
       "      <th></th>\n",
       "      <th>Rating</th>\n",
       "      <th>SBO Length</th>\n",
       "    </tr>\n",
       "    <tr>\n",
       "      <th>SBO Length</th>\n",
       "      <th></th>\n",
       "      <th></th>\n",
       "    </tr>\n",
       "  </thead>\n",
       "  <tbody>\n",
       "    <tr>\n",
       "      <th>0</th>\n",
       "      <td>3.143456</td>\n",
       "      <td>596</td>\n",
       "    </tr>\n",
       "    <tr>\n",
       "      <th>1</th>\n",
       "      <td>3.177793</td>\n",
       "      <td>367</td>\n",
       "    </tr>\n",
       "    <tr>\n",
       "      <th>2</th>\n",
       "      <td>3.270000</td>\n",
       "      <td>175</td>\n",
       "    </tr>\n",
       "    <tr>\n",
       "      <th>3</th>\n",
       "      <td>3.341176</td>\n",
       "      <td>85</td>\n",
       "    </tr>\n",
       "    <tr>\n",
       "      <th>4</th>\n",
       "      <td>3.433333</td>\n",
       "      <td>15</td>\n",
       "    </tr>\n",
       "  </tbody>\n",
       "</table>\n",
       "</div>"
      ],
      "text/plain": [
       "              Rating  SBO Length\n",
       "SBO Length                      \n",
       "0           3.143456         596\n",
       "1           3.177793         367\n",
       "2           3.270000         175\n",
       "3           3.341176          85\n",
       "4           3.433333          15"
      ]
     },
     "execution_count": 71,
     "metadata": {},
     "output_type": "execute_result"
    }
   ],
   "source": [
    "df_train.groupby('SBO Length').agg({'Rating': 'mean', 'SBO Length': 'count'})"
   ]
  },
  {
   "cell_type": "markdown",
   "id": "recent-handling",
   "metadata": {},
   "source": [
    "Again there is some trend"
   ]
  },
  {
   "cell_type": "code",
   "execution_count": 72,
   "id": "administrative-remark",
   "metadata": {},
   "outputs": [],
   "source": [
    "import string\n",
    "def complexity_plus(s):\n",
    "    n = 0\n",
    "    symbols = string.punctuation\n",
    "    for i in symbols:\n",
    "        n += s.count(i)\n",
    "    return n\n",
    "\n",
    "df_train['SBO Complexity plus'] = df_train['Specific Bean Origin'].apply(lambda x: complexity_plus(x))\n",
    "df_test['SBO Complexity plus'] = df_test['Specific Bean Origin'].apply(lambda x: complexity_plus(x))"
   ]
  },
  {
   "cell_type": "code",
   "execution_count": 73,
   "id": "selective-cooperation",
   "metadata": {},
   "outputs": [
    {
     "data": {
      "text/html": [
       "<div>\n",
       "<style scoped>\n",
       "    .dataframe tbody tr th:only-of-type {\n",
       "        vertical-align: middle;\n",
       "    }\n",
       "\n",
       "    .dataframe tbody tr th {\n",
       "        vertical-align: top;\n",
       "    }\n",
       "\n",
       "    .dataframe thead th {\n",
       "        text-align: right;\n",
       "    }\n",
       "</style>\n",
       "<table border=\"1\" class=\"dataframe\">\n",
       "  <thead>\n",
       "    <tr style=\"text-align: right;\">\n",
       "      <th></th>\n",
       "      <th>Rating</th>\n",
       "      <th>SBO Complexity plus</th>\n",
       "    </tr>\n",
       "    <tr>\n",
       "      <th>SBO Complexity plus</th>\n",
       "      <th></th>\n",
       "      <th></th>\n",
       "    </tr>\n",
       "  </thead>\n",
       "  <tbody>\n",
       "    <tr>\n",
       "      <th>0</th>\n",
       "      <td>3.145313</td>\n",
       "      <td>800</td>\n",
       "    </tr>\n",
       "    <tr>\n",
       "      <th>1</th>\n",
       "      <td>3.225410</td>\n",
       "      <td>244</td>\n",
       "    </tr>\n",
       "    <tr>\n",
       "      <th>2</th>\n",
       "      <td>3.282178</td>\n",
       "      <td>101</td>\n",
       "    </tr>\n",
       "    <tr>\n",
       "      <th>3</th>\n",
       "      <td>3.263158</td>\n",
       "      <td>38</td>\n",
       "    </tr>\n",
       "    <tr>\n",
       "      <th>4</th>\n",
       "      <td>3.416667</td>\n",
       "      <td>42</td>\n",
       "    </tr>\n",
       "    <tr>\n",
       "      <th>5</th>\n",
       "      <td>3.444444</td>\n",
       "      <td>9</td>\n",
       "    </tr>\n",
       "    <tr>\n",
       "      <th>6</th>\n",
       "      <td>3.562500</td>\n",
       "      <td>4</td>\n",
       "    </tr>\n",
       "  </tbody>\n",
       "</table>\n",
       "</div>"
      ],
      "text/plain": [
       "                       Rating  SBO Complexity plus\n",
       "SBO Complexity plus                               \n",
       "0                    3.145313                  800\n",
       "1                    3.225410                  244\n",
       "2                    3.282178                  101\n",
       "3                    3.263158                   38\n",
       "4                    3.416667                   42\n",
       "5                    3.444444                    9\n",
       "6                    3.562500                    4"
      ]
     },
     "execution_count": 73,
     "metadata": {},
     "output_type": "execute_result"
    }
   ],
   "source": [
    "df_train.groupby('SBO Complexity plus').agg({'Rating': 'mean', 'SBO Complexity plus': 'count'})"
   ]
  },
  {
   "cell_type": "code",
   "execution_count": 74,
   "id": "solar-economy",
   "metadata": {},
   "outputs": [],
   "source": [
    "def upper_case(s):\n",
    "    n = 0\n",
    "    for i in string.ascii_uppercase:\n",
    "        n += s.count(i)\n",
    "    return n\n",
    "\n",
    "df_train['SBO Upper'] = df_train['Specific Bean Origin'].apply(lambda x: upper_case(x))\n",
    "df_test['SBO Upper'] = df_test['Specific Bean Origin'].apply(lambda x: upper_case(x))"
   ]
  },
  {
   "cell_type": "code",
   "execution_count": 75,
   "id": "stunning-lesbian",
   "metadata": {},
   "outputs": [
    {
     "data": {
      "text/html": [
       "<div>\n",
       "<style scoped>\n",
       "    .dataframe tbody tr th:only-of-type {\n",
       "        vertical-align: middle;\n",
       "    }\n",
       "\n",
       "    .dataframe tbody tr th {\n",
       "        vertical-align: top;\n",
       "    }\n",
       "\n",
       "    .dataframe thead th {\n",
       "        text-align: right;\n",
       "    }\n",
       "</style>\n",
       "<table border=\"1\" class=\"dataframe\">\n",
       "  <thead>\n",
       "    <tr style=\"text-align: right;\">\n",
       "      <th></th>\n",
       "      <th>Rating</th>\n",
       "      <th>SBO Upper</th>\n",
       "    </tr>\n",
       "    <tr>\n",
       "      <th>SBO Upper</th>\n",
       "      <th></th>\n",
       "      <th></th>\n",
       "    </tr>\n",
       "  </thead>\n",
       "  <tbody>\n",
       "    <tr>\n",
       "      <th>0</th>\n",
       "      <td>3.083333</td>\n",
       "      <td>3</td>\n",
       "    </tr>\n",
       "    <tr>\n",
       "      <th>1</th>\n",
       "      <td>3.127698</td>\n",
       "      <td>556</td>\n",
       "    </tr>\n",
       "    <tr>\n",
       "      <th>2</th>\n",
       "      <td>3.199454</td>\n",
       "      <td>366</td>\n",
       "    </tr>\n",
       "    <tr>\n",
       "      <th>3</th>\n",
       "      <td>3.238176</td>\n",
       "      <td>148</td>\n",
       "    </tr>\n",
       "    <tr>\n",
       "      <th>4</th>\n",
       "      <td>3.250000</td>\n",
       "      <td>78</td>\n",
       "    </tr>\n",
       "    <tr>\n",
       "      <th>5</th>\n",
       "      <td>3.350000</td>\n",
       "      <td>55</td>\n",
       "    </tr>\n",
       "    <tr>\n",
       "      <th>6</th>\n",
       "      <td>3.434783</td>\n",
       "      <td>23</td>\n",
       "    </tr>\n",
       "    <tr>\n",
       "      <th>7</th>\n",
       "      <td>3.400000</td>\n",
       "      <td>5</td>\n",
       "    </tr>\n",
       "    <tr>\n",
       "      <th>8</th>\n",
       "      <td>3.750000</td>\n",
       "      <td>2</td>\n",
       "    </tr>\n",
       "    <tr>\n",
       "      <th>9</th>\n",
       "      <td>3.875000</td>\n",
       "      <td>2</td>\n",
       "    </tr>\n",
       "  </tbody>\n",
       "</table>\n",
       "</div>"
      ],
      "text/plain": [
       "             Rating  SBO Upper\n",
       "SBO Upper                     \n",
       "0          3.083333          3\n",
       "1          3.127698        556\n",
       "2          3.199454        366\n",
       "3          3.238176        148\n",
       "4          3.250000         78\n",
       "5          3.350000         55\n",
       "6          3.434783         23\n",
       "7          3.400000          5\n",
       "8          3.750000          2\n",
       "9          3.875000          2"
      ]
     },
     "execution_count": 75,
     "metadata": {},
     "output_type": "execute_result"
    }
   ],
   "source": [
    "df_train.groupby('SBO Upper').agg({'Rating': 'mean', 'SBO Upper': 'count'})"
   ]
  },
  {
   "cell_type": "markdown",
   "id": "oriental-bachelor",
   "metadata": {},
   "source": [
    "### Same for Company"
   ]
  },
  {
   "cell_type": "code",
   "execution_count": 76,
   "id": "current-procedure",
   "metadata": {},
   "outputs": [],
   "source": [
    "df_train['Company Complexity plus'] = df_train['Company'].apply(lambda x: complexity_plus(x))\n",
    "df_test['Company Complexity plus'] = df_test['Company'].apply(lambda x: complexity_plus(x))"
   ]
  },
  {
   "cell_type": "code",
   "execution_count": 77,
   "id": "norwegian-bracelet",
   "metadata": {},
   "outputs": [
    {
     "data": {
      "text/html": [
       "<div>\n",
       "<style scoped>\n",
       "    .dataframe tbody tr th:only-of-type {\n",
       "        vertical-align: middle;\n",
       "    }\n",
       "\n",
       "    .dataframe tbody tr th {\n",
       "        vertical-align: top;\n",
       "    }\n",
       "\n",
       "    .dataframe thead th {\n",
       "        text-align: right;\n",
       "    }\n",
       "</style>\n",
       "<table border=\"1\" class=\"dataframe\">\n",
       "  <thead>\n",
       "    <tr style=\"text-align: right;\">\n",
       "      <th></th>\n",
       "      <th>Rating</th>\n",
       "    </tr>\n",
       "    <tr>\n",
       "      <th>Company Complexity plus</th>\n",
       "      <th></th>\n",
       "    </tr>\n",
       "  </thead>\n",
       "  <tbody>\n",
       "    <tr>\n",
       "      <th>0</th>\n",
       "      <td>3.201777</td>\n",
       "    </tr>\n",
       "    <tr>\n",
       "      <th>1</th>\n",
       "      <td>3.240476</td>\n",
       "    </tr>\n",
       "    <tr>\n",
       "      <th>2</th>\n",
       "      <td>3.071138</td>\n",
       "    </tr>\n",
       "    <tr>\n",
       "      <th>3</th>\n",
       "      <td>2.875000</td>\n",
       "    </tr>\n",
       "    <tr>\n",
       "      <th>4</th>\n",
       "      <td>3.305556</td>\n",
       "    </tr>\n",
       "  </tbody>\n",
       "</table>\n",
       "</div>"
      ],
      "text/plain": [
       "                           Rating\n",
       "Company Complexity plus          \n",
       "0                        3.201777\n",
       "1                        3.240476\n",
       "2                        3.071138\n",
       "3                        2.875000\n",
       "4                        3.305556"
      ]
     },
     "execution_count": 77,
     "metadata": {},
     "output_type": "execute_result"
    }
   ],
   "source": [
    "df_train.groupby('Company Complexity plus').agg({'Rating': 'mean'})"
   ]
  },
  {
   "cell_type": "code",
   "execution_count": 78,
   "id": "duplicate-liver",
   "metadata": {},
   "outputs": [],
   "source": [
    "df_train['Company Length'] = df_train['Company'].apply(lambda x: length_bin(x, 0, 40, 5))\n",
    "df_test['Company Length'] = df_test['Company'].apply(lambda x: length_bin(x, 0, 40, 5))"
   ]
  },
  {
   "cell_type": "code",
   "execution_count": 79,
   "id": "traditional-growth",
   "metadata": {},
   "outputs": [
    {
     "data": {
      "text/html": [
       "<div>\n",
       "<style scoped>\n",
       "    .dataframe tbody tr th:only-of-type {\n",
       "        vertical-align: middle;\n",
       "    }\n",
       "\n",
       "    .dataframe tbody tr th {\n",
       "        vertical-align: top;\n",
       "    }\n",
       "\n",
       "    .dataframe thead th {\n",
       "        text-align: right;\n",
       "    }\n",
       "</style>\n",
       "<table border=\"1\" class=\"dataframe\">\n",
       "  <thead>\n",
       "    <tr style=\"text-align: right;\">\n",
       "      <th></th>\n",
       "      <th>Rating</th>\n",
       "    </tr>\n",
       "    <tr>\n",
       "      <th>Company Length</th>\n",
       "      <th></th>\n",
       "    </tr>\n",
       "  </thead>\n",
       "  <tbody>\n",
       "    <tr>\n",
       "      <th>0</th>\n",
       "      <td>3.217105</td>\n",
       "    </tr>\n",
       "    <tr>\n",
       "      <th>1</th>\n",
       "      <td>3.217791</td>\n",
       "    </tr>\n",
       "    <tr>\n",
       "      <th>2</th>\n",
       "      <td>3.186966</td>\n",
       "    </tr>\n",
       "    <tr>\n",
       "      <th>3</th>\n",
       "      <td>3.159091</td>\n",
       "    </tr>\n",
       "    <tr>\n",
       "      <th>4</th>\n",
       "      <td>3.040123</td>\n",
       "    </tr>\n",
       "    <tr>\n",
       "      <th>5</th>\n",
       "      <td>3.065476</td>\n",
       "    </tr>\n",
       "    <tr>\n",
       "      <th>6</th>\n",
       "      <td>3.208333</td>\n",
       "    </tr>\n",
       "    <tr>\n",
       "      <th>7</th>\n",
       "      <td>3.416667</td>\n",
       "    </tr>\n",
       "  </tbody>\n",
       "</table>\n",
       "</div>"
      ],
      "text/plain": [
       "                  Rating\n",
       "Company Length          \n",
       "0               3.217105\n",
       "1               3.217791\n",
       "2               3.186966\n",
       "3               3.159091\n",
       "4               3.040123\n",
       "5               3.065476\n",
       "6               3.208333\n",
       "7               3.416667"
      ]
     },
     "execution_count": 79,
     "metadata": {},
     "output_type": "execute_result"
    }
   ],
   "source": [
    "df_train.groupby('Company Length').agg({'Rating': 'mean'})"
   ]
  },
  {
   "cell_type": "code",
   "execution_count": 80,
   "id": "unable-empty",
   "metadata": {},
   "outputs": [],
   "source": [
    "df_train['Company Complexity'] = df_train['Company'].apply(lambda x: x.count(' '))\n",
    "df_test['Company Complexity'] = df_test['Company'].apply(lambda x: x.count(' '))"
   ]
  },
  {
   "cell_type": "code",
   "execution_count": 81,
   "id": "neural-classroom",
   "metadata": {},
   "outputs": [
    {
     "data": {
      "text/html": [
       "<div>\n",
       "<style scoped>\n",
       "    .dataframe tbody tr th:only-of-type {\n",
       "        vertical-align: middle;\n",
       "    }\n",
       "\n",
       "    .dataframe tbody tr th {\n",
       "        vertical-align: top;\n",
       "    }\n",
       "\n",
       "    .dataframe thead th {\n",
       "        text-align: right;\n",
       "    }\n",
       "</style>\n",
       "<table border=\"1\" class=\"dataframe\">\n",
       "  <thead>\n",
       "    <tr style=\"text-align: right;\">\n",
       "      <th></th>\n",
       "      <th>Rating</th>\n",
       "    </tr>\n",
       "    <tr>\n",
       "      <th>Company Complexity</th>\n",
       "      <th></th>\n",
       "    </tr>\n",
       "  </thead>\n",
       "  <tbody>\n",
       "    <tr>\n",
       "      <th>0</th>\n",
       "      <td>3.223607</td>\n",
       "    </tr>\n",
       "    <tr>\n",
       "      <th>1</th>\n",
       "      <td>3.162757</td>\n",
       "    </tr>\n",
       "    <tr>\n",
       "      <th>2</th>\n",
       "      <td>3.138199</td>\n",
       "    </tr>\n",
       "    <tr>\n",
       "      <th>3</th>\n",
       "      <td>3.017442</td>\n",
       "    </tr>\n",
       "    <tr>\n",
       "      <th>4</th>\n",
       "      <td>3.227273</td>\n",
       "    </tr>\n",
       "  </tbody>\n",
       "</table>\n",
       "</div>"
      ],
      "text/plain": [
       "                      Rating\n",
       "Company Complexity          \n",
       "0                   3.223607\n",
       "1                   3.162757\n",
       "2                   3.138199\n",
       "3                   3.017442\n",
       "4                   3.227273"
      ]
     },
     "execution_count": 81,
     "metadata": {},
     "output_type": "execute_result"
    }
   ],
   "source": [
    "df_train.groupby('Company Complexity').agg({'Rating': 'mean'})"
   ]
  },
  {
   "cell_type": "code",
   "execution_count": 82,
   "id": "invalid-mercy",
   "metadata": {},
   "outputs": [],
   "source": [
    "df_train['Company Upper'] = df_train['Company'].apply(lambda x: upper_case(x))\n",
    "df_test['Company Upper'] = df_test['Company'].apply(lambda x: upper_case(x))"
   ]
  },
  {
   "cell_type": "code",
   "execution_count": 83,
   "id": "minus-burden",
   "metadata": {},
   "outputs": [
    {
     "data": {
      "text/html": [
       "<div>\n",
       "<style scoped>\n",
       "    .dataframe tbody tr th:only-of-type {\n",
       "        vertical-align: middle;\n",
       "    }\n",
       "\n",
       "    .dataframe tbody tr th {\n",
       "        vertical-align: top;\n",
       "    }\n",
       "\n",
       "    .dataframe thead th {\n",
       "        text-align: right;\n",
       "    }\n",
       "</style>\n",
       "<table border=\"1\" class=\"dataframe\">\n",
       "  <thead>\n",
       "    <tr style=\"text-align: right;\">\n",
       "      <th></th>\n",
       "      <th>Rating</th>\n",
       "    </tr>\n",
       "    <tr>\n",
       "      <th>Company Upper</th>\n",
       "      <th></th>\n",
       "    </tr>\n",
       "  </thead>\n",
       "  <tbody>\n",
       "    <tr>\n",
       "      <th>0</th>\n",
       "      <td>3.045455</td>\n",
       "    </tr>\n",
       "    <tr>\n",
       "      <th>1</th>\n",
       "      <td>3.236580</td>\n",
       "    </tr>\n",
       "    <tr>\n",
       "      <th>2</th>\n",
       "      <td>3.161125</td>\n",
       "    </tr>\n",
       "    <tr>\n",
       "      <th>3</th>\n",
       "      <td>3.093972</td>\n",
       "    </tr>\n",
       "    <tr>\n",
       "      <th>4</th>\n",
       "      <td>3.102564</td>\n",
       "    </tr>\n",
       "    <tr>\n",
       "      <th>5</th>\n",
       "      <td>2.666667</td>\n",
       "    </tr>\n",
       "    <tr>\n",
       "      <th>6</th>\n",
       "      <td>2.500000</td>\n",
       "    </tr>\n",
       "  </tbody>\n",
       "</table>\n",
       "</div>"
      ],
      "text/plain": [
       "                 Rating\n",
       "Company Upper          \n",
       "0              3.045455\n",
       "1              3.236580\n",
       "2              3.161125\n",
       "3              3.093972\n",
       "4              3.102564\n",
       "5              2.666667\n",
       "6              2.500000"
      ]
     },
     "execution_count": 83,
     "metadata": {},
     "output_type": "execute_result"
    }
   ],
   "source": [
    "df_train.groupby('Company Upper').agg({'Rating': 'mean'})"
   ]
  },
  {
   "cell_type": "code",
   "execution_count": null,
   "id": "conceptual-place",
   "metadata": {},
   "outputs": [],
   "source": []
  },
  {
   "cell_type": "code",
   "execution_count": null,
   "id": "pressing-enforcement",
   "metadata": {},
   "outputs": [],
   "source": []
  },
  {
   "cell_type": "code",
   "execution_count": null,
   "id": "alpine-feelings",
   "metadata": {},
   "outputs": [],
   "source": []
  },
  {
   "cell_type": "markdown",
   "id": "younger-bouquet",
   "metadata": {},
   "source": [
    "## Feature selection"
   ]
  },
  {
   "cell_type": "code",
   "execution_count": 84,
   "id": "medieval-hindu",
   "metadata": {},
   "outputs": [
    {
     "data": {
      "image/png": "[encoded data removed]",
      "text/plain": [
       "<Figure size 720x360 with 1 Axes>"
      ]
     },
     "metadata": {
      "needs_background": "light"
     },
     "output_type": "display_data"
    }
   ],
   "source": [
    "def distribution(data, title, x_label, y_label, figsize=(10,5)):\n",
    "    plt.figure(figsize=figsize)\n",
    "    plt.style.use('seaborn-pastel')\n",
    "    density = sns.barplot(x=data.index, y=data.values)\n",
    "    title = plt.title(title, fontdict={'fontsize': 20})\n",
    "    plt.xlabel(x_label)\n",
    "    plt.ylabel(y_label)\n",
    "plt.show()\n",
    "\n",
    "rating_cocoa_percent_dist = df_train.groupby('Rating')['REF'].mean()\n",
    "\n",
    "distribution(data=rating_cocoa_percent_dist,\n",
    "             title='Mean REF in rating',\n",
    "             x_label='Rating',\n",
    "             y_label='REF')"
   ]
  },
  {
   "cell_type": "code",
   "execution_count": 85,
   "id": "sticky-gibraltar",
   "metadata": {},
   "outputs": [],
   "source": [
    "train_rating = df_train.Rating\n",
    "df_train.drop('Rating', axis=1, inplace=True)\n",
    "df_train['Rating'] = train_rating"
   ]
  },
  {
   "cell_type": "code",
   "execution_count": 86,
   "id": "owned-insider",
   "metadata": {},
   "outputs": [
    {
     "data": {
      "image/png": "[encoded data removed]",
      "text/plain": [
       "<Figure size 1800x1800 with 2 Axes>"
      ]
     },
     "metadata": {
      "needs_background": "light"
     },
     "output_type": "display_data"
    }
   ],
   "source": [
    "plt.figure(figsize = (25, 25))\n",
    "plt.rcParams.update({\n",
    "    'xtick.labelsize': 15,\n",
    "    'ytick.labelsize': 15,\n",
    "})\n",
    "sns.heatmap(df_train.corr(), annot=True, cmap=\"Blues\")\n",
    "\n",
    "plt.show()"
   ]
  },
  {
   "cell_type": "code",
   "execution_count": 87,
   "id": "written-connecticut",
   "metadata": {},
   "outputs": [
    {
     "data": {
      "text/plain": [
       "Index(['SBO Complexity', 'SBO Length', 'SBO Complexity plus', 'SBO Upper',\n",
       "       'Company Complexity plus', 'Company Length', 'Company Complexity',\n",
       "       'Company Upper', 'Rating'],\n",
       "      dtype='object')"
      ]
     },
     "execution_count": 87,
     "metadata": {},
     "output_type": "execute_result"
    }
   ],
   "source": [
    "numeric_columns = df_train.columns[(df_train.dtypes == int) | (df_train.dtypes == float)]\n",
    "new_columns = numeric_columns[[any(j in i for j in ['SBO', 'Company', 'Rating']) for i in numeric_columns]]\n",
    "new_columns"
   ]
  },
  {
   "cell_type": "code",
   "execution_count": 88,
   "id": "imperial-wednesday",
   "metadata": {},
   "outputs": [
    {
     "data": {
      "image/png": "[encoded data removed]",
      "text/plain": [
       "<Figure size 1440x1440 with 2 Axes>"
      ]
     },
     "metadata": {
      "needs_background": "light"
     },
     "output_type": "display_data"
    }
   ],
   "source": [
    "plt.figure(figsize = (20, 20))\n",
    "plt.rcParams.update({\n",
    "    'xtick.labelsize': 15,\n",
    "    'ytick.labelsize': 15,\n",
    "})\n",
    "sns.heatmap(df_train[new_columns].corr(), annot=True, cmap=\"Blues\")\n",
    "\n",
    "plt.show()"
   ]
  },
  {
   "cell_type": "markdown",
   "id": "weird-saint",
   "metadata": {},
   "source": [
    "Keep 'SBO complexity' and 'Company Upper'"
   ]
  },
  {
   "cell_type": "code",
   "execution_count": 89,
   "id": "variable-nicholas",
   "metadata": {},
   "outputs": [
    {
     "data": {
      "text/plain": [
       "Index(['SBO Length', 'SBO Complexity plus', 'SBO Upper',\n",
       "       'Company Complexity plus', 'Company Length', 'Company Complexity'],\n",
       "      dtype='object')"
      ]
     },
     "execution_count": 89,
     "metadata": {},
     "output_type": "execute_result"
    }
   ],
   "source": [
    "cols_to_drop = np.delete(new_columns, [0, 7, 8])\n",
    "cols_to_drop"
   ]
  },
  {
   "cell_type": "code",
   "execution_count": 90,
   "id": "underlying-surrey",
   "metadata": {},
   "outputs": [],
   "source": [
    "df_train = df_train.drop(cols_to_drop, axis=1)\n",
    "df_test = df_test.drop(cols_to_drop, axis=1)"
   ]
  },
  {
   "cell_type": "code",
   "execution_count": 91,
   "id": "north-fifteen",
   "metadata": {},
   "outputs": [
    {
     "data": {
      "text/html": [
       "<div>\n",
       "<style scoped>\n",
       "    .dataframe tbody tr th:only-of-type {\n",
       "        vertical-align: middle;\n",
       "    }\n",
       "\n",
       "    .dataframe tbody tr th {\n",
       "        vertical-align: top;\n",
       "    }\n",
       "\n",
       "    .dataframe thead th {\n",
       "        text-align: right;\n",
       "    }\n",
       "</style>\n",
       "<table border=\"1\" class=\"dataframe\">\n",
       "  <thead>\n",
       "    <tr style=\"text-align: right;\">\n",
       "      <th></th>\n",
       "      <th>Company</th>\n",
       "      <th>Specific Bean Origin</th>\n",
       "      <th>REF</th>\n",
       "      <th>Review</th>\n",
       "      <th>Cocoa Percent</th>\n",
       "      <th>Company Location</th>\n",
       "      <th>Bean Type</th>\n",
       "      <th>Broad Bean Origin</th>\n",
       "      <th>Matched Regions</th>\n",
       "      <th>Broad Company Location</th>\n",
       "      <th>Bean Origin World</th>\n",
       "      <th>Best Production</th>\n",
       "      <th>Multiple Broad Bean Origins</th>\n",
       "      <th>SBO Complexity</th>\n",
       "      <th>Company Upper</th>\n",
       "      <th>Rating</th>\n",
       "    </tr>\n",
       "  </thead>\n",
       "  <tbody>\n",
       "    <tr>\n",
       "      <th>0</th>\n",
       "      <td>Willie's Cacao</td>\n",
       "      <td>Rio Caribe</td>\n",
       "      <td>457</td>\n",
       "      <td>2009</td>\n",
       "      <td>72.0</td>\n",
       "      <td>U.K.</td>\n",
       "      <td>Trinitario</td>\n",
       "      <td>Venezuela</td>\n",
       "      <td>0</td>\n",
       "      <td>Europe</td>\n",
       "      <td>Caribbean</td>\n",
       "      <td>1</td>\n",
       "      <td>0</td>\n",
       "      <td>1</td>\n",
       "      <td>2</td>\n",
       "      <td>3.25</td>\n",
       "    </tr>\n",
       "    <tr>\n",
       "      <th>1</th>\n",
       "      <td>Beschle (Felchlin)</td>\n",
       "      <td>Ocumare, Premier Cru, Quizas No. 2</td>\n",
       "      <td>508</td>\n",
       "      <td>2010</td>\n",
       "      <td>72.0</td>\n",
       "      <td>Switzerland</td>\n",
       "      <td>Unknown</td>\n",
       "      <td>Venezuela</td>\n",
       "      <td>0</td>\n",
       "      <td>Europe</td>\n",
       "      <td>Caribbean</td>\n",
       "      <td>1</td>\n",
       "      <td>0</td>\n",
       "      <td>5</td>\n",
       "      <td>2</td>\n",
       "      <td>3.50</td>\n",
       "    </tr>\n",
       "    <tr>\n",
       "      <th>2</th>\n",
       "      <td>Dark Forest</td>\n",
       "      <td>Tanzania</td>\n",
       "      <td>1554</td>\n",
       "      <td>2015</td>\n",
       "      <td>70.0</td>\n",
       "      <td>U.S.A.</td>\n",
       "      <td>Unknown</td>\n",
       "      <td>Tanzania</td>\n",
       "      <td>0</td>\n",
       "      <td>North America</td>\n",
       "      <td>Africa</td>\n",
       "      <td>1</td>\n",
       "      <td>0</td>\n",
       "      <td>0</td>\n",
       "      <td>2</td>\n",
       "      <td>3.00</td>\n",
       "    </tr>\n",
       "    <tr>\n",
       "      <th>3</th>\n",
       "      <td>Brasstown aka It's Chocolate</td>\n",
       "      <td>Cooproagro</td>\n",
       "      <td>1125</td>\n",
       "      <td>2013</td>\n",
       "      <td>72.0</td>\n",
       "      <td>U.S.A.</td>\n",
       "      <td>Trinitario</td>\n",
       "      <td>Dominican Republic</td>\n",
       "      <td>0</td>\n",
       "      <td>North America</td>\n",
       "      <td>Caribbean</td>\n",
       "      <td>1</td>\n",
       "      <td>0</td>\n",
       "      <td>0</td>\n",
       "      <td>3</td>\n",
       "      <td>3.00</td>\n",
       "    </tr>\n",
       "    <tr>\n",
       "      <th>4</th>\n",
       "      <td>Pralus</td>\n",
       "      <td>Java, Indonesie</td>\n",
       "      <td>32</td>\n",
       "      <td>2006</td>\n",
       "      <td>75.0</td>\n",
       "      <td>France</td>\n",
       "      <td>Criollo</td>\n",
       "      <td>Indonesia</td>\n",
       "      <td>0</td>\n",
       "      <td>Europe</td>\n",
       "      <td>Africa</td>\n",
       "      <td>0</td>\n",
       "      <td>0</td>\n",
       "      <td>1</td>\n",
       "      <td>1</td>\n",
       "      <td>3.50</td>\n",
       "    </tr>\n",
       "  </tbody>\n",
       "</table>\n",
       "</div>"
      ],
      "text/plain": [
       "                        Company                Specific Bean Origin   REF  \\\n",
       "0                Willie's Cacao                          Rio Caribe   457   \n",
       "1            Beschle (Felchlin)  Ocumare, Premier Cru, Quizas No. 2   508   \n",
       "2                   Dark Forest                            Tanzania  1554   \n",
       "3  Brasstown aka It's Chocolate                          Cooproagro  1125   \n",
       "4                        Pralus                     Java, Indonesie    32   \n",
       "\n",
       "   Review  Cocoa Percent Company Location   Bean Type   Broad Bean Origin  \\\n",
       "0    2009           72.0             U.K.  Trinitario           Venezuela   \n",
       "1    2010           72.0      Switzerland     Unknown           Venezuela   \n",
       "2    2015           70.0           U.S.A.     Unknown            Tanzania   \n",
       "3    2013           72.0           U.S.A.  Trinitario  Dominican Republic   \n",
       "4    2006           75.0           France     Criollo           Indonesia   \n",
       "\n",
       "   Matched Regions Broad Company Location Bean Origin World  Best Production  \\\n",
       "0                0                 Europe         Caribbean                1   \n",
       "1                0                 Europe         Caribbean                1   \n",
       "2                0          North America            Africa                1   \n",
       "3                0          North America         Caribbean                1   \n",
       "4                0                 Europe            Africa                0   \n",
       "\n",
       "   Multiple Broad Bean Origins  SBO Complexity  Company Upper  Rating  \n",
       "0                            0               1              2    3.25  \n",
       "1                            0               5              2    3.50  \n",
       "2                            0               0              2    3.00  \n",
       "3                            0               0              3    3.00  \n",
       "4                            0               1              1    3.50  "
      ]
     },
     "execution_count": 91,
     "metadata": {},
     "output_type": "execute_result"
    }
   ],
   "source": [
    "df_train.head()"
   ]
  },
  {
   "cell_type": "markdown",
   "id": "brown-trace",
   "metadata": {},
   "source": [
    "## Correlation matrix (categorical features)"
   ]
  },
  {
   "cell_type": "code",
   "execution_count": 92,
   "id": "searching-appendix",
   "metadata": {},
   "outputs": [
    {
     "data": {
      "text/html": [
       "<div>\n",
       "<style scoped>\n",
       "    .dataframe tbody tr th:only-of-type {\n",
       "        vertical-align: middle;\n",
       "    }\n",
       "\n",
       "    .dataframe tbody tr th {\n",
       "        vertical-align: top;\n",
       "    }\n",
       "\n",
       "    .dataframe thead th {\n",
       "        text-align: right;\n",
       "    }\n",
       "</style>\n",
       "<table border=\"1\" class=\"dataframe\">\n",
       "  <thead>\n",
       "    <tr style=\"text-align: right;\">\n",
       "      <th></th>\n",
       "      <th>Company</th>\n",
       "      <th>Specific Bean Origin</th>\n",
       "      <th>Company Location</th>\n",
       "      <th>Bean Type</th>\n",
       "      <th>Broad Bean Origin</th>\n",
       "      <th>Broad Company Location</th>\n",
       "      <th>Bean Origin World</th>\n",
       "    </tr>\n",
       "  </thead>\n",
       "  <tbody>\n",
       "    <tr>\n",
       "      <th>Company</th>\n",
       "      <td>1.000000</td>\n",
       "      <td>0.771841</td>\n",
       "      <td>0.999651</td>\n",
       "      <td>0.616228</td>\n",
       "      <td>0.601980</td>\n",
       "      <td>0.998263</td>\n",
       "      <td>0.639839</td>\n",
       "    </tr>\n",
       "    <tr>\n",
       "      <th>Specific Bean Origin</th>\n",
       "      <td>0.771841</td>\n",
       "      <td>1.000000</td>\n",
       "      <td>0.809275</td>\n",
       "      <td>0.907938</td>\n",
       "      <td>0.987188</td>\n",
       "      <td>0.843617</td>\n",
       "      <td>0.991061</td>\n",
       "    </tr>\n",
       "    <tr>\n",
       "      <th>Company Location</th>\n",
       "      <td>0.999651</td>\n",
       "      <td>0.809275</td>\n",
       "      <td>1.000000</td>\n",
       "      <td>0.289758</td>\n",
       "      <td>0.378682</td>\n",
       "      <td>1.000000</td>\n",
       "      <td>0.336445</td>\n",
       "    </tr>\n",
       "    <tr>\n",
       "      <th>Bean Type</th>\n",
       "      <td>0.616228</td>\n",
       "      <td>0.907938</td>\n",
       "      <td>0.289758</td>\n",
       "      <td>1.000000</td>\n",
       "      <td>0.387478</td>\n",
       "      <td>0.297567</td>\n",
       "      <td>0.394955</td>\n",
       "    </tr>\n",
       "    <tr>\n",
       "      <th>Broad Bean Origin</th>\n",
       "      <td>0.601980</td>\n",
       "      <td>0.987188</td>\n",
       "      <td>0.378682</td>\n",
       "      <td>0.387478</td>\n",
       "      <td>1.000000</td>\n",
       "      <td>0.440663</td>\n",
       "      <td>1.000000</td>\n",
       "    </tr>\n",
       "    <tr>\n",
       "      <th>Broad Company Location</th>\n",
       "      <td>0.998263</td>\n",
       "      <td>0.843617</td>\n",
       "      <td>1.000000</td>\n",
       "      <td>0.297567</td>\n",
       "      <td>0.440663</td>\n",
       "      <td>1.000000</td>\n",
       "      <td>0.269155</td>\n",
       "    </tr>\n",
       "    <tr>\n",
       "      <th>Bean Origin World</th>\n",
       "      <td>0.639839</td>\n",
       "      <td>0.991061</td>\n",
       "      <td>0.336445</td>\n",
       "      <td>0.394955</td>\n",
       "      <td>1.000000</td>\n",
       "      <td>0.269155</td>\n",
       "      <td>1.000000</td>\n",
       "    </tr>\n",
       "  </tbody>\n",
       "</table>\n",
       "</div>"
      ],
      "text/plain": [
       "                         Company  Specific Bean Origin  Company Location  \\\n",
       "Company                 1.000000              0.771841          0.999651   \n",
       "Specific Bean Origin    0.771841              1.000000          0.809275   \n",
       "Company Location        0.999651              0.809275          1.000000   \n",
       "Bean Type               0.616228              0.907938          0.289758   \n",
       "Broad Bean Origin       0.601980              0.987188          0.378682   \n",
       "Broad Company Location  0.998263              0.843617          1.000000   \n",
       "Bean Origin World       0.639839              0.991061          0.336445   \n",
       "\n",
       "                        Bean Type  Broad Bean Origin  Broad Company Location  \\\n",
       "Company                  0.616228           0.601980                0.998263   \n",
       "Specific Bean Origin     0.907938           0.987188                0.843617   \n",
       "Company Location         0.289758           0.378682                1.000000   \n",
       "Bean Type                1.000000           0.387478                0.297567   \n",
       "Broad Bean Origin        0.387478           1.000000                0.440663   \n",
       "Broad Company Location   0.297567           0.440663                1.000000   \n",
       "Bean Origin World        0.394955           1.000000                0.269155   \n",
       "\n",
       "                        Bean Origin World  \n",
       "Company                          0.639839  \n",
       "Specific Bean Origin             0.991061  \n",
       "Company Location                 0.336445  \n",
       "Bean Type                        0.394955  \n",
       "Broad Bean Origin                1.000000  \n",
       "Broad Company Location           0.269155  \n",
       "Bean Origin World                1.000000  "
      ]
     },
     "execution_count": 92,
     "metadata": {},
     "output_type": "execute_result"
    }
   ],
   "source": [
    "import association_metrics as am\n",
    "\n",
    "XC = df_train.apply(lambda x: x.astype(\"category\") if x.dtype == \"object\" else x)\n",
    "cramersv = am.CramersV(XC)\n",
    "cramersv.fit()"
   ]
  },
  {
   "cell_type": "code",
   "execution_count": 93,
   "id": "wanted-point",
   "metadata": {},
   "outputs": [],
   "source": [
    "df_train_backup = df_train.copy()\n",
    "df_test_backup = df_test.copy()"
   ]
  },
  {
   "cell_type": "code",
   "execution_count": 94,
   "id": "short-grenada",
   "metadata": {},
   "outputs": [],
   "source": [
    "#df_train = df_train_backup\n",
    "#df_test = df_test_backup"
   ]
  },
  {
   "cell_type": "code",
   "execution_count": 95,
   "id": "innovative-stack",
   "metadata": {},
   "outputs": [],
   "source": [
    "#df_train.drop(['Specific Bean Origin'], axis=1, inplace=True)\n",
    "#df_test.drop(['Specific Bean Origin'], axis=1, inplace=True)"
   ]
  },
  {
   "cell_type": "code",
   "execution_count": 96,
   "id": "spectacular-october",
   "metadata": {},
   "outputs": [],
   "source": [
    "df_train = df_train.drop(['Review'], axis=1)\n",
    "df_test = df_test.drop(['Review'], axis=1)"
   ]
  },
  {
   "cell_type": "code",
   "execution_count": 97,
   "id": "guilty-taste",
   "metadata": {},
   "outputs": [],
   "source": [
    "cols_to_drop = ['Matched Regions', 'Best Production', 'Multiple Broad Bean Origins',\n",
    "                'Specific Bean Origin'] # 'Company Upper'\n",
    "df_train = df_train.drop(cols_to_drop, axis=1)\n",
    "df_test = df_test.drop(cols_to_drop, axis=1)"
   ]
  },
  {
   "cell_type": "code",
   "execution_count": 102,
   "id": "white-bonus",
   "metadata": {},
   "outputs": [
    {
     "data": {
      "image/png": "[encoded data removed]",
      "text/plain": [
       "<Figure size 720x720 with 2 Axes>"
      ]
     },
     "metadata": {
      "needs_background": "light"
     },
     "output_type": "display_data"
    }
   ],
   "source": [
    "plt.figure(figsize = (10, 10))\n",
    "plt.rcParams.update({\n",
    "    'xtick.labelsize': 15,\n",
    "    'ytick.labelsize': 15,\n",
    "})\n",
    "sns.heatmap(df_train.corr(), annot=True, cmap=\"Blues\")\n",
    "\n",
    "plt.show()"
   ]
  },
  {
   "cell_type": "markdown",
   "id": "exempt-arcade",
   "metadata": {},
   "source": [
    "# CatBoost with new features"
   ]
  },
  {
   "cell_type": "code",
   "execution_count": 105,
   "id": "gentle-flexibility",
   "metadata": {},
   "outputs": [],
   "source": [
    "from sklearn.metrics import mean_squared_error\n",
    "from sklearn.model_selection import train_test_split\n",
    "from catboost import CatBoostRegressor\n",
    "import optuna"
   ]
  },
  {
   "cell_type": "code",
   "execution_count": 106,
   "id": "associate-symphony",
   "metadata": {},
   "outputs": [],
   "source": [
    "X = df_train.drop('Rating', axis=1)\n",
    "y = df_train.Rating\n",
    "\n",
    "X_train, X_val, y_train, y_val = train_test_split(X, y, test_size=0.2, random_state=42)"
   ]
  },
  {
   "cell_type": "code",
   "execution_count": 107,
   "id": "backed-heaven",
   "metadata": {},
   "outputs": [
    {
     "data": {
      "text/plain": [
       "array([0, 3, 4, 5, 6, 7])"
      ]
     },
     "execution_count": 107,
     "metadata": {},
     "output_type": "execute_result"
    }
   ],
   "source": [
    "categorical_features_indices = np.where(X.dtypes == object)[0]\n",
    "categorical_features_indices"
   ]
  },
  {
   "cell_type": "code",
   "execution_count": 110,
   "id": "gentle-string",
   "metadata": {},
   "outputs": [
    {
     "data": {
      "text/plain": [
       "0.21514466077311367"
      ]
     },
     "execution_count": 110,
     "metadata": {},
     "output_type": "execute_result"
    }
   ],
   "source": [
    "model = CatBoostRegressor()\n",
    "\n",
    "model.fit(X_train, y_train,\n",
    "         cat_features=categorical_features_indices,\n",
    "         eval_set=(X_val, y_val),\n",
    "         logging_level='Silent')\n",
    "\n",
    "pred = model.predict(X_val)\n",
    "\n",
    "r2_score(y_val, pred)"
   ]
  },
  {
   "cell_type": "code",
   "execution_count": 111,
   "id": "negative-synthetic",
   "metadata": {},
   "outputs": [
    {
     "data": {
      "text/html": [
       "<div>\n",
       "<style scoped>\n",
       "    .dataframe tbody tr th:only-of-type {\n",
       "        vertical-align: middle;\n",
       "    }\n",
       "\n",
       "    .dataframe tbody tr th {\n",
       "        vertical-align: top;\n",
       "    }\n",
       "\n",
       "    .dataframe thead th {\n",
       "        text-align: right;\n",
       "    }\n",
       "</style>\n",
       "<table border=\"1\" class=\"dataframe\">\n",
       "  <thead>\n",
       "    <tr style=\"text-align: right;\">\n",
       "      <th></th>\n",
       "      <th>Feature</th>\n",
       "      <th>Importance</th>\n",
       "    </tr>\n",
       "  </thead>\n",
       "  <tbody>\n",
       "    <tr>\n",
       "      <th>0</th>\n",
       "      <td>Company</td>\n",
       "      <td>20.508862</td>\n",
       "    </tr>\n",
       "    <tr>\n",
       "      <th>4</th>\n",
       "      <td>Bean Type</td>\n",
       "      <td>14.217070</td>\n",
       "    </tr>\n",
       "    <tr>\n",
       "      <th>1</th>\n",
       "      <td>REF</td>\n",
       "      <td>14.185303</td>\n",
       "    </tr>\n",
       "    <tr>\n",
       "      <th>2</th>\n",
       "      <td>Cocoa Percent</td>\n",
       "      <td>12.604180</td>\n",
       "    </tr>\n",
       "    <tr>\n",
       "      <th>3</th>\n",
       "      <td>Company Location</td>\n",
       "      <td>10.501039</td>\n",
       "    </tr>\n",
       "    <tr>\n",
       "      <th>5</th>\n",
       "      <td>Broad Bean Origin</td>\n",
       "      <td>7.245950</td>\n",
       "    </tr>\n",
       "    <tr>\n",
       "      <th>7</th>\n",
       "      <td>Bean Origin World</td>\n",
       "      <td>6.392976</td>\n",
       "    </tr>\n",
       "    <tr>\n",
       "      <th>8</th>\n",
       "      <td>SBO Complexity</td>\n",
       "      <td>5.886070</td>\n",
       "    </tr>\n",
       "    <tr>\n",
       "      <th>6</th>\n",
       "      <td>Broad Company Location</td>\n",
       "      <td>5.666321</td>\n",
       "    </tr>\n",
       "    <tr>\n",
       "      <th>9</th>\n",
       "      <td>Company Upper</td>\n",
       "      <td>2.792230</td>\n",
       "    </tr>\n",
       "  </tbody>\n",
       "</table>\n",
       "</div>"
      ],
      "text/plain": [
       "                  Feature  Importance\n",
       "0                 Company   20.508862\n",
       "4               Bean Type   14.217070\n",
       "1                     REF   14.185303\n",
       "2           Cocoa Percent   12.604180\n",
       "3        Company Location   10.501039\n",
       "5       Broad Bean Origin    7.245950\n",
       "7       Bean Origin World    6.392976\n",
       "8          SBO Complexity    5.886070\n",
       "6  Broad Company Location    5.666321\n",
       "9           Company Upper    2.792230"
      ]
     },
     "execution_count": 111,
     "metadata": {},
     "output_type": "execute_result"
    }
   ],
   "source": [
    "pd.DataFrame({'Feature': model.feature_names_, \"Importance\": model.feature_importances_})\\\n",
    "    .sort_values(by='Importance', ascending=False)"
   ]
  },
  {
   "cell_type": "markdown",
   "id": "thermal-facial",
   "metadata": {},
   "source": [
    "## CatBoost hyperparameters tuning"
   ]
  },
  {
   "cell_type": "code",
   "execution_count": 112,
   "id": "complex-classification",
   "metadata": {
    "scrolled": false
   },
   "outputs": [
    {
     "name": "stderr",
     "output_type": "stream",
     "text": [
      "[I 2023-07-10 23:22:00,576] A new study created in memory with name: no-name-a50340e5-078f-4f87-8c94-2a152fc94a39\n",
      "[I 2023-07-10 23:22:00,903] Trial 1 finished with value: 0.4305101293763945 and parameters: {'n_estimators': 108, 'max_depth': 1, 'learning_rate': 0.04}. Best is trial 1 with value: 0.4305101293763945.\n",
      "[I 2023-07-10 23:22:01,200] Trial 4 finished with value: 0.4270882035085485 and parameters: {'n_estimators': 82, 'max_depth': 2, 'learning_rate': 0.037000000000000005}. Best is trial 4 with value: 0.4270882035085485.\n",
      "[I 2023-07-10 23:22:01,972] Trial 5 finished with value: 0.4253012758327724 and parameters: {'n_estimators': 580, 'max_depth': 1, 'learning_rate': 0.012}. Best is trial 5 with value: 0.4253012758327724.\n",
      "[I 2023-07-10 23:22:02,264] Trial 0 finished with value: 0.41901648846369655 and parameters: {'n_estimators': 530, 'max_depth': 3, 'learning_rate': 0.029}. Best is trial 0 with value: 0.41901648846369655.\n",
      "[I 2023-07-10 23:22:03,046] Trial 2 finished with value: 0.41676496402808194 and parameters: {'n_estimators': 180, 'max_depth': 9, 'learning_rate': 0.032}. Best is trial 2 with value: 0.41676496402808194.\n",
      "[I 2023-07-10 23:22:03,773] Trial 7 finished with value: 0.419040196655074 and parameters: {'n_estimators': 236, 'max_depth': 4, 'learning_rate': 0.022000000000000002}. Best is trial 2 with value: 0.41676496402808194.\n",
      "[I 2023-07-10 23:22:03,908] Trial 6 finished with value: 0.4183104276311861 and parameters: {'n_estimators': 124, 'max_depth': 9, 'learning_rate': 0.046}. Best is trial 2 with value: 0.41676496402808194.\n",
      "[I 2023-07-10 23:22:04,165] Trial 9 finished with value: 0.42131083074928183 and parameters: {'n_estimators': 45, 'max_depth': 5, 'learning_rate': 0.066}. Best is trial 2 with value: 0.41676496402808194.\n",
      "[I 2023-07-10 23:22:05,288] Trial 11 finished with value: 0.4231316104892462 and parameters: {'n_estimators': 306, 'max_depth': 2, 'learning_rate': 0.02}. Best is trial 2 with value: 0.41676496402808194.\n",
      "[I 2023-07-10 23:22:05,917] Trial 8 finished with value: 0.43876259689145647 and parameters: {'n_estimators': 443, 'max_depth': 5, 'learning_rate': 0.002}. Best is trial 2 with value: 0.41676496402808194.\n",
      "[I 2023-07-10 23:22:06,554] Trial 3 finished with value: 0.4208789939342367 and parameters: {'n_estimators': 292, 'max_depth': 8, 'learning_rate': 0.07100000000000001}. Best is trial 2 with value: 0.41676496402808194.\n",
      "[I 2023-07-10 23:22:11,879] Trial 10 finished with value: 0.43112179490481395 and parameters: {'n_estimators': 536, 'max_depth': 7, 'learning_rate': 0.1}. Best is trial 2 with value: 0.41676496402808194.\n",
      "[I 2023-07-10 23:22:51,426] Trial 14 finished with value: 0.43356983817054057 and parameters: {'n_estimators': 860, 'max_depth': 10, 'learning_rate': 0.098}. Best is trial 2 with value: 0.41676496402808194.\n",
      "[I 2023-07-10 23:22:51,512] Trial 13 finished with value: 0.43359014308689914 and parameters: {'n_estimators': 894, 'max_depth': 10, 'learning_rate': 0.098}. Best is trial 2 with value: 0.41676496402808194.\n",
      "[I 2023-07-10 23:22:51,572] Trial 12 finished with value: 0.42274290792866903 and parameters: {'n_estimators': 951, 'max_depth': 10, 'learning_rate': 0.035}. Best is trial 2 with value: 0.41676496402808194.\n",
      "[I 2023-07-10 23:22:53,431] Trial 17 finished with value: 0.41548080757327865 and parameters: {'n_estimators': 198, 'max_depth': 8, 'learning_rate': 0.057}. Best is trial 17 with value: 0.41548080757327865.\n",
      "[I 2023-07-10 23:22:56,077] Trial 18 finished with value: 0.4155189438655387 and parameters: {'n_estimators': 202, 'max_depth': 8, 'learning_rate': 0.055}. Best is trial 17 with value: 0.41548080757327865.\n",
      "[I 2023-07-10 23:22:59,426] Trial 15 finished with value: 0.42893895616025346 and parameters: {'n_estimators': 931, 'max_depth': 10, 'learning_rate': 0.059000000000000004}. Best is trial 17 with value: 0.41548080757327865.\n",
      "[I 2023-07-10 23:23:01,165] Trial 19 finished with value: 0.4235143649956251 and parameters: {'n_estimators': 377, 'max_depth': 8, 'learning_rate': 0.059000000000000004}. Best is trial 17 with value: 0.41548080757327865.\n",
      "[I 2023-07-10 23:23:02,061] Trial 20 finished with value: 0.41952045420105305 and parameters: {'n_estimators': 390, 'max_depth': 7, 'learning_rate': 0.061}. Best is trial 17 with value: 0.41548080757327865.\n",
      "[I 2023-07-10 23:23:05,525] Trial 21 finished with value: 0.42459739891240394 and parameters: {'n_estimators': 402, 'max_depth': 7, 'learning_rate': 0.08}. Best is trial 17 with value: 0.41548080757327865.\n",
      "[I 2023-07-10 23:23:07,395] Trial 24 finished with value: 0.4215592837331035 and parameters: {'n_estimators': 197, 'max_depth': 8, 'learning_rate': 0.049}. Best is trial 17 with value: 0.41548080757327865.\n",
      "[I 2023-07-10 23:23:07,692] Trial 25 finished with value: 0.4408116994698807 and parameters: {'n_estimators': 10, 'max_depth': 6, 'learning_rate': 0.081}. Best is trial 17 with value: 0.41548080757327865.\n",
      "[I 2023-07-10 23:23:08,554] Trial 23 finished with value: 0.4237291519744544 and parameters: {'n_estimators': 653, 'max_depth': 6, 'learning_rate': 0.081}. Best is trial 17 with value: 0.41548080757327865.\n",
      "[I 2023-07-10 23:23:10,134] Trial 22 finished with value: 0.4218523023793024 and parameters: {'n_estimators': 638, 'max_depth': 7, 'learning_rate': 0.081}. Best is trial 17 with value: 0.41548080757327865.\n",
      "[I 2023-07-10 23:23:11,473] Trial 27 finished with value: 0.41666530673353136 and parameters: {'n_estimators': 184, 'max_depth': 9, 'learning_rate': 0.049}. Best is trial 17 with value: 0.41548080757327865.\n",
      "[I 2023-07-10 23:23:13,487] Trial 28 finished with value: 0.4133918402945482 and parameters: {'n_estimators': 197, 'max_depth': 9, 'learning_rate': 0.048}. Best is trial 28 with value: 0.4133918402945482.\n",
      "[I 2023-07-10 23:23:15,765] Trial 26 finished with value: 0.4190366542948678 and parameters: {'n_estimators': 202, 'max_depth': 9, 'learning_rate': 0.05}. Best is trial 28 with value: 0.4133918402945482.\n",
      "[I 2023-07-10 23:23:20,593] Trial 30 finished with value: 0.42057306125903127 and parameters: {'n_estimators': 289, 'max_depth': 8, 'learning_rate': 0.054}. Best is trial 28 with value: 0.4133918402945482.\n",
      "[I 2023-07-10 23:23:23,040] Trial 31 finished with value: 0.4206758939051302 and parameters: {'n_estimators': 294, 'max_depth': 8, 'learning_rate': 0.07100000000000001}. Best is trial 28 with value: 0.4133918402945482.\n",
      "[I 2023-07-10 23:23:23,213] Trial 29 finished with value: 0.4245368770191727 and parameters: {'n_estimators': 281, 'max_depth': 9, 'learning_rate': 0.052000000000000005}. Best is trial 28 with value: 0.4133918402945482.\n",
      "[I 2023-07-10 23:23:23,718] Trial 16 finished with value: 0.4251814223740302 and parameters: {'n_estimators': 746, 'max_depth': 10, 'learning_rate': 0.056}. Best is trial 28 with value: 0.4133918402945482.\n",
      "[I 2023-07-10 23:23:25,603] Trial 34 finished with value: 0.41514591900482506 and parameters: {'n_estimators': 141, 'max_depth': 9, 'learning_rate': 0.043000000000000003}. Best is trial 28 with value: 0.4133918402945482.\n",
      "[I 2023-07-10 23:23:25,846] Trial 35 finished with value: 0.41506152910885635 and parameters: {'n_estimators': 138, 'max_depth': 9, 'learning_rate': 0.043000000000000003}. Best is trial 28 with value: 0.4133918402945482.\n",
      "[I 2023-07-10 23:23:27,092] Trial 36 finished with value: 0.4179635719472631 and parameters: {'n_estimators': 91, 'max_depth': 9, 'learning_rate': 0.042}. Best is trial 28 with value: 0.4133918402945482.\n",
      "[I 2023-07-10 23:23:27,678] Trial 33 finished with value: 0.4176611645306983 and parameters: {'n_estimators': 467, 'max_depth': 6, 'learning_rate': 0.044000000000000004}. Best is trial 28 with value: 0.4133918402945482.\n",
      "[I 2023-07-10 23:23:27,824] Trial 37 finished with value: 0.41523727677442707 and parameters: {'n_estimators': 126, 'max_depth': 9, 'learning_rate': 0.041}. Best is trial 28 with value: 0.4133918402945482.\n",
      "[I 2023-07-10 23:23:28,099] Trial 32 finished with value: 0.429292376134284 and parameters: {'n_estimators': 763, 'max_depth': 6, 'learning_rate': 0.069}. Best is trial 28 with value: 0.4133918402945482.\n",
      "[I 2023-07-10 23:23:28,849] Trial 38 finished with value: 0.41952874443288174 and parameters: {'n_estimators': 128, 'max_depth': 9, 'learning_rate': 0.027000000000000003}. Best is trial 28 with value: 0.4133918402945482.\n"
     ]
    },
    {
     "name": "stderr",
     "output_type": "stream",
     "text": [
      "[I 2023-07-10 23:23:29,923] Trial 39 finished with value: 0.41914316705623395 and parameters: {'n_estimators': 137, 'max_depth': 9, 'learning_rate': 0.027000000000000003}. Best is trial 28 with value: 0.4133918402945482.\n",
      "[I 2023-07-10 23:23:30,076] Trial 40 finished with value: 0.41653990525766543 and parameters: {'n_estimators': 137, 'max_depth': 9, 'learning_rate': 0.028}. Best is trial 28 with value: 0.4133918402945482.\n",
      "[I 2023-07-10 23:23:30,507] Trial 43 finished with value: 0.4308163341667211 and parameters: {'n_estimators': 50, 'max_depth': 3, 'learning_rate': 0.039}. Best is trial 28 with value: 0.4133918402945482.\n",
      "[I 2023-07-10 23:23:30,596] Trial 41 finished with value: 0.4176056350708282 and parameters: {'n_estimators': 139, 'max_depth': 9, 'learning_rate': 0.029}. Best is trial 28 with value: 0.4133918402945482.\n",
      "[I 2023-07-10 23:23:30,827] Trial 44 finished with value: 0.4222256886317535 and parameters: {'n_estimators': 62, 'max_depth': 8, 'learning_rate': 0.038}. Best is trial 28 with value: 0.4133918402945482.\n",
      "[I 2023-07-10 23:23:30,940] Trial 42 finished with value: 0.4146981241716533 and parameters: {'n_estimators': 138, 'max_depth': 9, 'learning_rate': 0.030000000000000002}. Best is trial 28 with value: 0.4133918402945482.\n",
      "[I 2023-07-10 23:23:36,517] Trial 45 finished with value: 0.41957283144336543 and parameters: {'n_estimators': 244, 'max_depth': 8, 'learning_rate': 0.034}. Best is trial 28 with value: 0.4133918402945482.\n",
      "[I 2023-07-10 23:23:37,175] Trial 49 finished with value: 0.4515391301953641 and parameters: {'n_estimators': 27, 'max_depth': 10, 'learning_rate': 0.015}. Best is trial 28 with value: 0.4133918402945482.\n",
      "[I 2023-07-10 23:23:42,291] Trial 47 finished with value: 0.42447463421730963 and parameters: {'n_estimators': 232, 'max_depth': 10, 'learning_rate': 0.034}. Best is trial 28 with value: 0.4133918402945482.\n",
      "[I 2023-07-10 23:23:42,723] Trial 46 finished with value: 0.42173358425362145 and parameters: {'n_estimators': 257, 'max_depth': 10, 'learning_rate': 0.035}. Best is trial 28 with value: 0.4133918402945482.\n",
      "[I 2023-07-10 23:23:43,073] Trial 48 finished with value: 0.42065956851295216 and parameters: {'n_estimators': 241, 'max_depth': 10, 'learning_rate': 0.018000000000000002}. Best is trial 28 with value: 0.4133918402945482.\n",
      "[I 2023-07-10 23:23:43,708] Trial 52 finished with value: 0.4200945116701993 and parameters: {'n_estimators': 87, 'max_depth': 7, 'learning_rate': 0.044000000000000004}. Best is trial 28 with value: 0.4133918402945482.\n",
      "[I 2023-07-10 23:23:50,769] Trial 53 finished with value: 0.41318558434668695 and parameters: {'n_estimators': 348, 'max_depth': 7, 'learning_rate': 0.044000000000000004}. Best is trial 53 with value: 0.41318558434668695.\n",
      "[I 2023-07-10 23:23:55,691] Trial 50 finished with value: 0.4224796479848912 and parameters: {'n_estimators': 344, 'max_depth': 10, 'learning_rate': 0.046}. Best is trial 53 with value: 0.41318558434668695.\n",
      "[I 2023-07-10 23:23:56,432] Trial 56 finished with value: 0.42049821528486864 and parameters: {'n_estimators': 165, 'max_depth': 4, 'learning_rate': 0.023}. Best is trial 53 with value: 0.41318558434668695.\n",
      "[I 2023-07-10 23:23:59,549] Trial 51 finished with value: 0.4204119446484736 and parameters: {'n_estimators': 329, 'max_depth': 10, 'learning_rate': 0.022000000000000002}. Best is trial 53 with value: 0.41318558434668695.\n",
      "[I 2023-07-10 23:24:00,473] Trial 58 finished with value: 0.41913494262053175 and parameters: {'n_estimators': 91, 'max_depth': 7, 'learning_rate': 0.041}. Best is trial 53 with value: 0.41318558434668695.\n",
      "[I 2023-07-10 23:24:00,513] Trial 54 finished with value: 0.4183495051395025 and parameters: {'n_estimators': 336, 'max_depth': 9, 'learning_rate': 0.041}. Best is trial 53 with value: 0.41318558434668695.\n",
      "[I 2023-07-10 23:24:01,456] Trial 57 finished with value: 0.41205625182881783 and parameters: {'n_estimators': 341, 'max_depth': 7, 'learning_rate': 0.039}. Best is trial 57 with value: 0.41205625182881783.\n",
      "[I 2023-07-10 23:24:02,180] Trial 60 finished with value: 0.43317909013812983 and parameters: {'n_estimators': 164, 'max_depth': 8, 'learning_rate': 0.007}. Best is trial 57 with value: 0.41205625182881783.\n",
      "[I 2023-07-10 23:24:02,940] Trial 59 finished with value: 0.41533466900309374 and parameters: {'n_estimators': 162, 'max_depth': 9, 'learning_rate': 0.047}. Best is trial 57 with value: 0.41205625182881783.\n",
      "[I 2023-07-10 23:24:04,732] Trial 55 finished with value: 0.42270228383644337 and parameters: {'n_estimators': 344, 'max_depth': 9, 'learning_rate': 0.047}. Best is trial 57 with value: 0.41205625182881783.\n",
      "[I 2023-07-10 23:24:05,418] Trial 62 finished with value: 0.4183270493464179 and parameters: {'n_estimators': 445, 'max_depth': 5, 'learning_rate': 0.062}. Best is trial 57 with value: 0.41205625182881783.\n",
      "[I 2023-07-10 23:24:05,942] Trial 63 finished with value: 0.41896151103809964 and parameters: {'n_estimators': 447, 'max_depth': 5, 'learning_rate': 0.032}. Best is trial 57 with value: 0.41205625182881783.\n",
      "[I 2023-07-10 23:24:06,511] Trial 65 finished with value: 0.41347404496848517 and parameters: {'n_estimators': 106, 'max_depth': 8, 'learning_rate': 0.037000000000000005}. Best is trial 57 with value: 0.41205625182881783.\n",
      "[I 2023-07-10 23:24:07,247] Trial 61 finished with value: 0.41718029718514726 and parameters: {'n_estimators': 445, 'max_depth': 7, 'learning_rate': 0.031}. Best is trial 57 with value: 0.41205625182881783.\n",
      "[I 2023-07-10 23:24:08,037] Trial 64 finished with value: 0.42029216096491256 and parameters: {'n_estimators': 487, 'max_depth': 5, 'learning_rate': 0.032}. Best is trial 57 with value: 0.41205625182881783.\n",
      "[I 2023-07-10 23:24:10,118] Trial 67 finished with value: 0.4180398042204639 and parameters: {'n_estimators': 220, 'max_depth': 7, 'learning_rate': 0.038}. Best is trial 57 with value: 0.41205625182881783.\n",
      "[I 2023-07-10 23:24:13,561] Trial 69 finished with value: 0.417018743863967 and parameters: {'n_estimators': 224, 'max_depth': 8, 'learning_rate': 0.053000000000000005}. Best is trial 57 with value: 0.41205625182881783.\n",
      "[I 2023-07-10 23:24:14,578] Trial 66 finished with value: 0.42391872731502434 and parameters: {'n_estimators': 564, 'max_depth': 7, 'learning_rate': 0.037000000000000005}. Best is trial 57 with value: 0.41205625182881783.\n",
      "[I 2023-07-10 23:24:19,427] Trial 68 finished with value: 0.41636124028431515 and parameters: {'n_estimators': 503, 'max_depth': 8, 'learning_rate': 0.037000000000000005}. Best is trial 57 with value: 0.41205625182881783.\n",
      "[I 2023-07-10 23:24:20,134] Trial 73 finished with value: 0.4203172732033388 and parameters: {'n_estimators': 275, 'max_depth': 1, 'learning_rate': 0.044000000000000004}. Best is trial 57 with value: 0.41205625182881783.\n",
      "[I 2023-07-10 23:24:20,258] Trial 70 finished with value: 0.41758112889231225 and parameters: {'n_estimators': 408, 'max_depth': 8, 'learning_rate': 0.052000000000000005}. Best is trial 57 with value: 0.41205625182881783.\n",
      "[I 2023-07-10 23:24:20,909] Trial 72 finished with value: 0.4162497453617139 and parameters: {'n_estimators': 272, 'max_depth': 8, 'learning_rate': 0.025}. Best is trial 57 with value: 0.41205625182881783.\n",
      "[I 2023-07-10 23:24:22,172] Trial 74 finished with value: 0.4158838394944483 and parameters: {'n_estimators': 114, 'max_depth': 9, 'learning_rate': 0.043000000000000003}. Best is trial 57 with value: 0.41205625182881783.\n",
      "[I 2023-07-10 23:24:22,210] Trial 75 finished with value: 0.4178993573886879 and parameters: {'n_estimators': 108, 'max_depth': 9, 'learning_rate': 0.042}. Best is trial 57 with value: 0.41205625182881783.\n",
      "[I 2023-07-10 23:24:22,877] Trial 76 finished with value: 0.4158838394944483 and parameters: {'n_estimators': 114, 'max_depth': 9, 'learning_rate': 0.043000000000000003}. Best is trial 57 with value: 0.41205625182881783.\n",
      "[I 2023-07-10 23:24:23,256] Trial 78 finished with value: 0.41744355689010715 and parameters: {'n_estimators': 53, 'max_depth': 9, 'learning_rate': 0.048}. Best is trial 57 with value: 0.41205625182881783.\n",
      "[I 2023-07-10 23:24:23,438] Trial 77 finished with value: 0.42043664136499964 and parameters: {'n_estimators': 67, 'max_depth': 9, 'learning_rate': 0.04}. Best is trial 57 with value: 0.41205625182881783.\n"
     ]
    },
    {
     "name": "stderr",
     "output_type": "stream",
     "text": [
      "[I 2023-07-10 23:24:23,703] Trial 79 finished with value: 0.41811989005192135 and parameters: {'n_estimators': 77, 'max_depth': 8, 'learning_rate': 0.047}. Best is trial 57 with value: 0.41205625182881783.\n",
      "[I 2023-07-10 23:24:24,016] Trial 82 finished with value: 0.44083284950733465 and parameters: {'n_estimators': 15, 'max_depth': 6, 'learning_rate': 0.05}. Best is trial 57 with value: 0.41205625182881783.\n",
      "[I 2023-07-10 23:24:24,722] Trial 71 finished with value: 0.4185064992150969 and parameters: {'n_estimators': 518, 'max_depth': 8, 'learning_rate': 0.045}. Best is trial 57 with value: 0.41205625182881783.\n",
      "[I 2023-07-10 23:24:25,004] Trial 81 finished with value: 0.42041910260281173 and parameters: {'n_estimators': 172, 'max_depth': 8, 'learning_rate': 0.05}. Best is trial 57 with value: 0.41205625182881783.\n",
      "[I 2023-07-10 23:24:25,120] Trial 80 finished with value: 0.41600854591539105 and parameters: {'n_estimators': 177, 'max_depth': 8, 'learning_rate': 0.051000000000000004}. Best is trial 57 with value: 0.41205625182881783.\n",
      "[I 2023-07-10 23:24:25,746] Trial 83 finished with value: 0.4156467177561983 and parameters: {'n_estimators': 194, 'max_depth': 8, 'learning_rate': 0.057}. Best is trial 57 with value: 0.41205625182881783.\n",
      "[I 2023-07-10 23:24:27,250] Trial 84 finished with value: 0.4169228193553514 and parameters: {'n_estimators': 167, 'max_depth': 9, 'learning_rate': 0.035}. Best is trial 57 with value: 0.41205625182881783.\n",
      "[I 2023-07-10 23:24:27,327] Trial 85 finished with value: 0.41700823013738775 and parameters: {'n_estimators': 149, 'max_depth': 9, 'learning_rate': 0.035}. Best is trial 57 with value: 0.41205625182881783.\n",
      "[I 2023-07-10 23:24:27,330] Trial 86 finished with value: 0.41611350544141834 and parameters: {'n_estimators': 151, 'max_depth': 9, 'learning_rate': 0.056}. Best is trial 57 with value: 0.41205625182881783.\n",
      "[I 2023-07-10 23:24:27,898] Trial 87 finished with value: 0.4166435897464826 and parameters: {'n_estimators': 157, 'max_depth': 9, 'learning_rate': 0.035}. Best is trial 57 with value: 0.41205625182881783.\n",
      "[I 2023-07-10 23:24:28,994] Trial 91 finished with value: 0.4280034855570073 and parameters: {'n_estimators': 40, 'max_depth': 10, 'learning_rate': 0.039}. Best is trial 57 with value: 0.41205625182881783.\n",
      "[I 2023-07-10 23:24:29,367] Trial 88 finished with value: 0.4142047539579995 and parameters: {'n_estimators': 147, 'max_depth': 9, 'learning_rate': 0.030000000000000002}. Best is trial 57 with value: 0.41205625182881783.\n",
      "[I 2023-07-10 23:24:31,695] Trial 93 finished with value: 0.4207374045555408 and parameters: {'n_estimators': 98, 'max_depth': 10, 'learning_rate': 0.031}. Best is trial 57 with value: 0.41205625182881783.\n",
      "[I 2023-07-10 23:24:38,047] Trial 89 finished with value: 0.41974571556522855 and parameters: {'n_estimators': 215, 'max_depth': 10, 'learning_rate': 0.031}. Best is trial 57 with value: 0.41205625182881783.\n",
      "[I 2023-07-10 23:24:39,563] Trial 92 finished with value: 0.4222016687438923 and parameters: {'n_estimators': 211, 'max_depth': 10, 'learning_rate': 0.047}. Best is trial 57 with value: 0.41205625182881783.\n",
      "[I 2023-07-10 23:24:44,982] Trial 90 finished with value: 0.426226002191687 and parameters: {'n_estimators': 370, 'max_depth': 10, 'learning_rate': 0.04}. Best is trial 57 with value: 0.41205625182881783.\n",
      "[I 2023-07-10 23:24:46,288] Trial 94 finished with value: 0.419704093928022 and parameters: {'n_estimators': 311, 'max_depth': 10, 'learning_rate': 0.029}. Best is trial 57 with value: 0.41205625182881783.\n",
      "[I 2023-07-10 23:24:47,274] Trial 97 finished with value: 0.4185688981250816 and parameters: {'n_estimators': 134, 'max_depth': 9, 'learning_rate': 0.046}. Best is trial 57 with value: 0.41205625182881783.\n",
      "[I 2023-07-10 23:24:48,552] Trial 98 finished with value: 0.41734423607865884 and parameters: {'n_estimators': 124, 'max_depth': 9, 'learning_rate': 0.024}. Best is trial 57 with value: 0.41205625182881783.\n",
      "[I 2023-07-10 23:24:50,692] Trial 95 finished with value: 0.4241149031567378 and parameters: {'n_estimators': 314, 'max_depth': 9, 'learning_rate': 0.045}. Best is trial 57 with value: 0.41205625182881783.\n",
      "[I 2023-07-10 23:24:51,787] Trial 96 finished with value: 0.42073201032523916 and parameters: {'n_estimators': 310, 'max_depth': 9, 'learning_rate': 0.027000000000000003}. Best is trial 57 with value: 0.41205625182881783.\n",
      "[I 2023-07-10 23:24:53,229] Trial 99 finished with value: 0.421560321178195 and parameters: {'n_estimators': 250, 'max_depth': 9, 'learning_rate': 0.037000000000000005}. Best is trial 57 with value: 0.41205625182881783.\n"
     ]
    },
    {
     "name": "stdout",
     "output_type": "stream",
     "text": [
      "FrozenTrial(number=57, state=TrialState.COMPLETE, values=[0.41205625182881783], datetime_start=datetime.datetime(2023, 7, 10, 23, 23, 56, 434390), datetime_complete=datetime.datetime(2023, 7, 10, 23, 24, 1, 455542), params={'n_estimators': 341, 'max_depth': 7, 'learning_rate': 0.039}, user_attrs={}, system_attrs={}, intermediate_values={}, distributions={'n_estimators': IntDistribution(high=1000, log=False, low=10, step=1), 'max_depth': IntDistribution(high=10, log=False, low=1, step=1), 'learning_rate': FloatDistribution(high=0.1, log=False, low=0.001, step=0.001)}, trial_id=57, value=None)\n"
     ]
    }
   ],
   "source": [
    "def objective(trial):\n",
    "\n",
    "    param = {\n",
    "        \"n_estimators\": trial.suggest_int(\"n_estimators\", 10, 1000),\n",
    "        \"max_depth\": trial.suggest_int(\"max_depth\", 1, 10),\n",
    "        \"learning_rate\": trial.suggest_float(\"learning_rate\", 0.001, 0.1, step=0.001)\n",
    "        #\"min_child_samples\": trial.suggest_categorical('min_child_samples', [1, 4, 8, 16, 32])\n",
    "    }\n",
    "\n",
    "    estimator = CatBoostRegressor(**param,\n",
    "                                  cat_features=categorical_features_indices,\n",
    "                                  custom_metric='R2',\n",
    "                                  verbose=False)\n",
    "\n",
    "    estimator.fit(X_train, y_train)\n",
    "    pred = estimator.predict(X_val)\n",
    "\n",
    "    return mean_squared_error(y_val, pred, squared=False)\n",
    "\n",
    "study = optuna.create_study(direction=\"minimize\")\n",
    "study.optimize(objective, n_trials=100, n_jobs=-1)\n",
    "print(study.best_trial)"
   ]
  },
  {
   "cell_type": "code",
   "execution_count": 113,
   "id": "vulnerable-fifth",
   "metadata": {},
   "outputs": [
    {
     "name": "stdout",
     "output_type": "stream",
     "text": [
      "{'n_estimators': 341, 'max_depth': 7, 'learning_rate': 0.039}\n"
     ]
    }
   ],
   "source": [
    "print(study.best_trial.params)"
   ]
  },
  {
   "cell_type": "code",
   "execution_count": 114,
   "id": "resistant-retailer",
   "metadata": {},
   "outputs": [
    {
     "data": {
      "text/plain": [
       "0.22044036551157242"
      ]
     },
     "execution_count": 114,
     "metadata": {},
     "output_type": "execute_result"
    }
   ],
   "source": [
    "model = CatBoostRegressor(**study.best_params,\n",
    "                         cat_features=categorical_features_indices,\n",
    "                         logging_level='Silent')\n",
    "\n",
    "model.fit(X_train, y_train)\n",
    "pred_cb = model.predict(X_val)\n",
    "\n",
    "r2_score(y_val, pred_cb)"
   ]
  },
  {
   "cell_type": "markdown",
   "id": "electrical-sunset",
   "metadata": {},
   "source": [
    "That's better already, let's try it on test"
   ]
  },
  {
   "cell_type": "code",
   "execution_count": 115,
   "id": "electrical-parent",
   "metadata": {},
   "outputs": [
    {
     "data": {
      "text/html": [
       "<div>\n",
       "<style scoped>\n",
       "    .dataframe tbody tr th:only-of-type {\n",
       "        vertical-align: middle;\n",
       "    }\n",
       "\n",
       "    .dataframe tbody tr th {\n",
       "        vertical-align: top;\n",
       "    }\n",
       "\n",
       "    .dataframe thead th {\n",
       "        text-align: right;\n",
       "    }\n",
       "</style>\n",
       "<table border=\"1\" class=\"dataframe\">\n",
       "  <thead>\n",
       "    <tr style=\"text-align: right;\">\n",
       "      <th></th>\n",
       "      <th>Feature</th>\n",
       "      <th>Importance</th>\n",
       "    </tr>\n",
       "  </thead>\n",
       "  <tbody>\n",
       "    <tr>\n",
       "      <th>0</th>\n",
       "      <td>Company</td>\n",
       "      <td>19.335623</td>\n",
       "    </tr>\n",
       "    <tr>\n",
       "      <th>4</th>\n",
       "      <td>Bean Type</td>\n",
       "      <td>13.641574</td>\n",
       "    </tr>\n",
       "    <tr>\n",
       "      <th>1</th>\n",
       "      <td>REF</td>\n",
       "      <td>12.943000</td>\n",
       "    </tr>\n",
       "    <tr>\n",
       "      <th>2</th>\n",
       "      <td>Cocoa Percent</td>\n",
       "      <td>10.692137</td>\n",
       "    </tr>\n",
       "    <tr>\n",
       "      <th>5</th>\n",
       "      <td>Broad Bean Origin</td>\n",
       "      <td>9.331357</td>\n",
       "    </tr>\n",
       "    <tr>\n",
       "      <th>3</th>\n",
       "      <td>Company Location</td>\n",
       "      <td>9.160302</td>\n",
       "    </tr>\n",
       "    <tr>\n",
       "      <th>7</th>\n",
       "      <td>Bean Origin World</td>\n",
       "      <td>8.568615</td>\n",
       "    </tr>\n",
       "    <tr>\n",
       "      <th>6</th>\n",
       "      <td>Broad Company Location</td>\n",
       "      <td>8.162303</td>\n",
       "    </tr>\n",
       "    <tr>\n",
       "      <th>8</th>\n",
       "      <td>SBO Complexity</td>\n",
       "      <td>5.207595</td>\n",
       "    </tr>\n",
       "    <tr>\n",
       "      <th>9</th>\n",
       "      <td>Company Upper</td>\n",
       "      <td>2.957495</td>\n",
       "    </tr>\n",
       "  </tbody>\n",
       "</table>\n",
       "</div>"
      ],
      "text/plain": [
       "                  Feature  Importance\n",
       "0                 Company   19.335623\n",
       "4               Bean Type   13.641574\n",
       "1                     REF   12.943000\n",
       "2           Cocoa Percent   10.692137\n",
       "5       Broad Bean Origin    9.331357\n",
       "3        Company Location    9.160302\n",
       "7       Bean Origin World    8.568615\n",
       "6  Broad Company Location    8.162303\n",
       "8          SBO Complexity    5.207595\n",
       "9           Company Upper    2.957495"
      ]
     },
     "execution_count": 115,
     "metadata": {},
     "output_type": "execute_result"
    }
   ],
   "source": [
    "pd.DataFrame({'Feature': model.feature_names_, \"Importance\": model.feature_importances_})\\\n",
    "    .sort_values(by='Importance', ascending=False)"
   ]
  },
  {
   "cell_type": "markdown",
   "id": "chemical-compiler",
   "metadata": {},
   "source": [
    "## Apply tuned CatBoost to test"
   ]
  },
  {
   "cell_type": "code",
   "execution_count": 116,
   "id": "victorian-influence",
   "metadata": {},
   "outputs": [
    {
     "data": {
      "text/plain": [
       "<catboost.core.CatBoostRegressor at 0x7f2c0fc1aad0>"
      ]
     },
     "execution_count": 116,
     "metadata": {},
     "output_type": "execute_result"
    }
   ],
   "source": [
    "model.fit(X, y)"
   ]
  },
  {
   "cell_type": "code",
   "execution_count": 117,
   "id": "stuck-mirror",
   "metadata": {},
   "outputs": [
    {
     "data": {
      "text/plain": [
       "array([3.23084322, 3.06807124, 3.09108024, 3.36736934, 2.99901805,\n",
       "       2.76437012, 3.11616034, 3.0908459 , 3.15708065, 2.90328144])"
      ]
     },
     "execution_count": 117,
     "metadata": {},
     "output_type": "execute_result"
    }
   ],
   "source": [
    "pred_test = model.predict(df_test)\n",
    "pred_test[:10]"
   ]
  },
  {
   "cell_type": "code",
   "execution_count": 118,
   "id": "civic-buying",
   "metadata": {},
   "outputs": [],
   "source": [
    "df_submission = df_test.copy()\n",
    "df_submission['id'] = np.arange(len(df_test))\n",
    "df_submission['Rating'] = pred_test\n",
    "df_submission = df_submission[['id','Rating']]\n",
    "df_submission.to_csv(\"CatBoost_v13.csv\", index=False)"
   ]
  },
  {
   "cell_type": "code",
   "execution_count": 119,
   "id": "twenty-parking",
   "metadata": {},
   "outputs": [
    {
     "name": "stdout",
     "output_type": "stream",
     "text": [
      "Index(['Company', 'REF', 'Cocoa Percent', 'Company Location', 'Bean Type',\n",
      "       'Broad Bean Origin', 'Broad Company Location', 'Bean Origin World',\n",
      "       'SBO Complexity', 'Company Upper', 'Rating'],\n",
      "      dtype='object')\n"
     ]
    }
   ],
   "source": [
    "print(df_train.columns)"
   ]
  },
  {
   "cell_type": "code",
   "execution_count": 120,
   "id": "informational-gardening",
   "metadata": {},
   "outputs": [
    {
     "name": "stdout",
     "output_type": "stream",
     "text": [
      "{'n_estimators': 341, 'max_depth': 7, 'learning_rate': 0.039}\n"
     ]
    }
   ],
   "source": [
    "print(study.best_trial.params)"
   ]
  },
  {
   "cell_type": "markdown",
   "id": "round-success",
   "metadata": {},
   "source": [
    "With above features and hyperparameters I managed to get r2 = 0.19519"
   ]
  },
  {
   "cell_type": "code",
   "execution_count": null,
   "id": "running-colonial",
   "metadata": {},
   "outputs": [],
   "source": []
  }
 ],
 "metadata": {
  "kernelspec": {
   "display_name": "Python 3 (ipykernel)",
   "language": "python",
   "name": "python3"
  },
  "language_info": {
   "codemirror_mode": {
    "name": "ipython",
    "version": 3
   },
   "file_extension": ".py",
   "mimetype": "text/x-python",
   "name": "python",
   "nbconvert_exporter": "python",
   "pygments_lexer": "ipython3",
   "version": "3.7.7"
  }
 },
 "nbformat": 4,
 "nbformat_minor": 5
}
