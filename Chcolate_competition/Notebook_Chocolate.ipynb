{
 "cells": [
  {
   "cell_type": "code",
   "execution_count": 1,
   "id": "resistant-flood",
   "metadata": {},
   "outputs": [],
   "source": [
    "import math\n",
    "import numpy as np\n",
    "from scipy import stats\n",
    "import matplotlib.pyplot as plt\n",
    "import pandas as pd\n",
    "import seaborn as sns\n",
    "import random\n",
    "\n",
    "%matplotlib inline\n",
    "plt.rcParams.update({\n",
    "        'font.size': 14,\n",
    "        'axes.titlesize': 20,\n",
    "        'axes.labelsize': 20,\n",
    "        'xtick.labelsize': 20,\n",
    "        'ytick.labelsize': 20,\n",
    "        'font.size': 20,\n",
    "        'figure.figsize': (10, 7),\n",
    "        'axes.grid': True,\n",
    "        'grid.linestyle': '-',\n",
    "        'grid.alpha': 0.3,\n",
    "        'lines.markersize': 5.0,\n",
    "        'xtick.minor.visible': True,\n",
    "        'xtick.direction': 'in',\n",
    "        'xtick.major.size': 20.0,\n",
    "        'xtick.minor.size': 10.0,\n",
    "        'xtick.top': False,\n",
    "        'xtick.bottom': True,\n",
    "        'ytick.minor.visible': True,\n",
    "        'ytick.direction': 'in',\n",
    "        'ytick.major.size': 12.0,\n",
    "        'ytick.minor.size': 6.0,\n",
    "        'ytick.right': True,\n",
    "        'errorbar.capsize': 0.0,\n",
    "    })\n",
    "\n",
    "# https://www.kaggle.com/competitions/practical-ml-chocolate/data\n",
    "# https://www.kaggle.com/datasets/rtatman/chocolate-bar-ratings/"
   ]
  },
  {
   "cell_type": "markdown",
   "id": "excellent-eugene",
   "metadata": {},
   "source": [
    "# Get data"
   ]
  },
  {
   "cell_type": "code",
   "execution_count": 2,
   "id": "psychological-grocery",
   "metadata": {},
   "outputs": [
    {
     "data": {
      "text/html": [
       "<div>\n",
       "<style scoped>\n",
       "    .dataframe tbody tr th:only-of-type {\n",
       "        vertical-align: middle;\n",
       "    }\n",
       "\n",
       "    .dataframe tbody tr th {\n",
       "        vertical-align: top;\n",
       "    }\n",
       "\n",
       "    .dataframe thead th {\n",
       "        text-align: right;\n",
       "    }\n",
       "</style>\n",
       "<table border=\"1\" class=\"dataframe\">\n",
       "  <thead>\n",
       "    <tr style=\"text-align: right;\">\n",
       "      <th></th>\n",
       "      <th>Company</th>\n",
       "      <th>Specific Bean Origin</th>\n",
       "      <th>REF</th>\n",
       "      <th>Review</th>\n",
       "      <th>Cocoa Percent</th>\n",
       "      <th>Company Location</th>\n",
       "      <th>Rating</th>\n",
       "      <th>Bean Type</th>\n",
       "      <th>Broad Bean Origin</th>\n",
       "    </tr>\n",
       "  </thead>\n",
       "  <tbody>\n",
       "    <tr>\n",
       "      <th>0</th>\n",
       "      <td>Willie's Cacao</td>\n",
       "      <td>Rio Caribe</td>\n",
       "      <td>457</td>\n",
       "      <td>2009</td>\n",
       "      <td>72%</td>\n",
       "      <td>U.K.</td>\n",
       "      <td>3.25</td>\n",
       "      <td>Trinitario</td>\n",
       "      <td>Venezuela</td>\n",
       "    </tr>\n",
       "    <tr>\n",
       "      <th>1</th>\n",
       "      <td>Beschle (Felchlin)</td>\n",
       "      <td>Ocumare, Premier Cru, Quizas No. 2</td>\n",
       "      <td>508</td>\n",
       "      <td>2010</td>\n",
       "      <td>72%</td>\n",
       "      <td>Switzerland</td>\n",
       "      <td>3.50</td>\n",
       "      <td></td>\n",
       "      <td>Venezuela</td>\n",
       "    </tr>\n",
       "    <tr>\n",
       "      <th>2</th>\n",
       "      <td>Dark Forest</td>\n",
       "      <td>Tanzania</td>\n",
       "      <td>1554</td>\n",
       "      <td>2015</td>\n",
       "      <td>70%</td>\n",
       "      <td>U.S.A.</td>\n",
       "      <td>3.00</td>\n",
       "      <td></td>\n",
       "      <td>Tanzania</td>\n",
       "    </tr>\n",
       "    <tr>\n",
       "      <th>3</th>\n",
       "      <td>Brasstown aka It's Chocolate</td>\n",
       "      <td>Cooproagro</td>\n",
       "      <td>1125</td>\n",
       "      <td>2013</td>\n",
       "      <td>72%</td>\n",
       "      <td>U.S.A.</td>\n",
       "      <td>3.00</td>\n",
       "      <td>Trinitario</td>\n",
       "      <td>Dominican Republic</td>\n",
       "    </tr>\n",
       "    <tr>\n",
       "      <th>4</th>\n",
       "      <td>Pralus</td>\n",
       "      <td>Java, Indonesie</td>\n",
       "      <td>32</td>\n",
       "      <td>2006</td>\n",
       "      <td>75%</td>\n",
       "      <td>France</td>\n",
       "      <td>3.50</td>\n",
       "      <td>Criollo</td>\n",
       "      <td>Indonesia</td>\n",
       "    </tr>\n",
       "  </tbody>\n",
       "</table>\n",
       "</div>"
      ],
      "text/plain": [
       "                        Company                Specific Bean Origin   REF  \\\n",
       "0                Willie's Cacao                          Rio Caribe   457   \n",
       "1            Beschle (Felchlin)  Ocumare, Premier Cru, Quizas No. 2   508   \n",
       "2                   Dark Forest                            Tanzania  1554   \n",
       "3  Brasstown aka It's Chocolate                          Cooproagro  1125   \n",
       "4                        Pralus                     Java, Indonesie    32   \n",
       "\n",
       "   Review Cocoa Percent Company Location  Rating   Bean Type  \\\n",
       "0    2009           72%             U.K.    3.25  Trinitario   \n",
       "1    2010           72%      Switzerland    3.50               \n",
       "2    2015           70%           U.S.A.    3.00               \n",
       "3    2013           72%           U.S.A.    3.00  Trinitario   \n",
       "4    2006           75%           France    3.50     Criollo   \n",
       "\n",
       "    Broad Bean Origin  \n",
       "0           Venezuela  \n",
       "1           Venezuela  \n",
       "2            Tanzania  \n",
       "3  Dominican Republic  \n",
       "4           Indonesia  "
      ]
     },
     "execution_count": 2,
     "metadata": {},
     "output_type": "execute_result"
    }
   ],
   "source": [
    "df_train = pd.read_csv('chocolate_train.csv')\n",
    "df_test = pd.read_csv('chocolate_test_new.csv')\n",
    "df_train.head()"
   ]
  },
  {
   "cell_type": "code",
   "execution_count": 3,
   "id": "overall-nightmare",
   "metadata": {},
   "outputs": [
    {
     "name": "stdout",
     "output_type": "stream",
     "text": [
      "Train data has 9 columns and 1255 rows\n",
      "Train data has 8 columns and 540 rows\n"
     ]
    }
   ],
   "source": [
    "print(f'Train data has {df_train.shape[1]} columns and {df_train.shape[0]} rows')\n",
    "print(f'Train data has {df_test.shape[1]} columns and {df_test.shape[0]} rows')"
   ]
  },
  {
   "cell_type": "code",
   "execution_count": 4,
   "id": "biblical-headline",
   "metadata": {},
   "outputs": [
    {
     "name": "stdout",
     "output_type": "stream",
     "text": [
      "<class 'pandas.core.frame.DataFrame'>\n",
      "RangeIndex: 1255 entries, 0 to 1254\n",
      "Data columns (total 9 columns):\n",
      " #   Column                Non-Null Count  Dtype  \n",
      "---  ------                --------------  -----  \n",
      " 0   Company               1255 non-null   object \n",
      " 1   Specific Bean Origin  1255 non-null   object \n",
      " 2   REF                   1255 non-null   int64  \n",
      " 3   Review                1255 non-null   int64  \n",
      " 4   Cocoa Percent         1255 non-null   object \n",
      " 5   Company Location      1255 non-null   object \n",
      " 6   Rating                1255 non-null   float64\n",
      " 7   Bean Type             1254 non-null   object \n",
      " 8   Broad Bean Origin     1254 non-null   object \n",
      "dtypes: float64(1), int64(2), object(6)\n",
      "memory usage: 88.4+ KB\n"
     ]
    }
   ],
   "source": [
    "df_train.info()"
   ]
  },
  {
   "cell_type": "code",
   "execution_count": 5,
   "id": "growing-charm",
   "metadata": {},
   "outputs": [],
   "source": [
    "# Make percentage float\n",
    "df_train['Cocoa Percent'] = df_train['Cocoa Percent'].apply(lambda x: float(x.strip('%')))\n",
    "df_test['Cocoa Percent'] = df_test['Cocoa Percent'].apply(lambda x: float(x.strip('%')))"
   ]
  },
  {
   "cell_type": "code",
   "execution_count": 6,
   "id": "hybrid-development",
   "metadata": {},
   "outputs": [
    {
     "data": {
      "text/html": [
       "<div>\n",
       "<style scoped>\n",
       "    .dataframe tbody tr th:only-of-type {\n",
       "        vertical-align: middle;\n",
       "    }\n",
       "\n",
       "    .dataframe tbody tr th {\n",
       "        vertical-align: top;\n",
       "    }\n",
       "\n",
       "    .dataframe thead th {\n",
       "        text-align: right;\n",
       "    }\n",
       "</style>\n",
       "<table border=\"1\" class=\"dataframe\">\n",
       "  <thead>\n",
       "    <tr style=\"text-align: right;\">\n",
       "      <th></th>\n",
       "      <th>REF</th>\n",
       "      <th>Review</th>\n",
       "      <th>Cocoa Percent</th>\n",
       "      <th>Rating</th>\n",
       "    </tr>\n",
       "  </thead>\n",
       "  <tbody>\n",
       "    <tr>\n",
       "      <th>count</th>\n",
       "      <td>1255.000000</td>\n",
       "      <td>1255.000000</td>\n",
       "      <td>1255.000000</td>\n",
       "      <td>1255.000000</td>\n",
       "    </tr>\n",
       "    <tr>\n",
       "      <th>mean</th>\n",
       "      <td>1045.152191</td>\n",
       "      <td>2012.382470</td>\n",
       "      <td>71.790438</td>\n",
       "      <td>3.176494</td>\n",
       "    </tr>\n",
       "    <tr>\n",
       "      <th>std</th>\n",
       "      <td>551.284249</td>\n",
       "      <td>2.922499</td>\n",
       "      <td>6.397448</td>\n",
       "      <td>0.478948</td>\n",
       "    </tr>\n",
       "    <tr>\n",
       "      <th>min</th>\n",
       "      <td>5.000000</td>\n",
       "      <td>2006.000000</td>\n",
       "      <td>46.000000</td>\n",
       "      <td>1.000000</td>\n",
       "    </tr>\n",
       "    <tr>\n",
       "      <th>25%</th>\n",
       "      <td>593.000000</td>\n",
       "      <td>2010.000000</td>\n",
       "      <td>70.000000</td>\n",
       "      <td>2.750000</td>\n",
       "    </tr>\n",
       "    <tr>\n",
       "      <th>50%</th>\n",
       "      <td>1077.000000</td>\n",
       "      <td>2013.000000</td>\n",
       "      <td>70.000000</td>\n",
       "      <td>3.250000</td>\n",
       "    </tr>\n",
       "    <tr>\n",
       "      <th>75%</th>\n",
       "      <td>1514.000000</td>\n",
       "      <td>2015.000000</td>\n",
       "      <td>75.000000</td>\n",
       "      <td>3.500000</td>\n",
       "    </tr>\n",
       "    <tr>\n",
       "      <th>max</th>\n",
       "      <td>1952.000000</td>\n",
       "      <td>2017.000000</td>\n",
       "      <td>100.000000</td>\n",
       "      <td>5.000000</td>\n",
       "    </tr>\n",
       "  </tbody>\n",
       "</table>\n",
       "</div>"
      ],
      "text/plain": [
       "               REF       Review  Cocoa Percent       Rating\n",
       "count  1255.000000  1255.000000    1255.000000  1255.000000\n",
       "mean   1045.152191  2012.382470      71.790438     3.176494\n",
       "std     551.284249     2.922499       6.397448     0.478948\n",
       "min       5.000000  2006.000000      46.000000     1.000000\n",
       "25%     593.000000  2010.000000      70.000000     2.750000\n",
       "50%    1077.000000  2013.000000      70.000000     3.250000\n",
       "75%    1514.000000  2015.000000      75.000000     3.500000\n",
       "max    1952.000000  2017.000000     100.000000     5.000000"
      ]
     },
     "execution_count": 6,
     "metadata": {},
     "output_type": "execute_result"
    }
   ],
   "source": [
    "df_train.describe()"
   ]
  },
  {
   "cell_type": "markdown",
   "id": "norman-belfast",
   "metadata": {},
   "source": [
    "## Fill NaNs and empty cells"
   ]
  },
  {
   "cell_type": "code",
   "execution_count": 7,
   "id": "cathedral-hopkins",
   "metadata": {},
   "outputs": [
    {
     "data": {
      "text/plain": [
       "Company                 0\n",
       "Specific Bean Origin    0\n",
       "REF                     0\n",
       "Review                  0\n",
       "Cocoa Percent           0\n",
       "Company Location        0\n",
       "Rating                  0\n",
       "Bean Type               1\n",
       "Broad Bean Origin       1\n",
       "dtype: int64"
      ]
     },
     "execution_count": 7,
     "metadata": {},
     "output_type": "execute_result"
    }
   ],
   "source": [
    "df_train.isna().sum()"
   ]
  },
  {
   "cell_type": "code",
   "execution_count": 8,
   "id": "wicked-designation",
   "metadata": {},
   "outputs": [],
   "source": [
    "mode_bean_type = df_train['Bean Type'].mode()[0]\n",
    "mode_broad_bean_origin = df_train['Broad Bean Origin'].mode()[0]\n",
    "\n",
    "df_train['Bean Type'].fillna(mode_bean_type, inplace=True)\n",
    "df_train['Broad Bean Origin'].fillna(mode_broad_bean_origin, inplace=True)"
   ]
  },
  {
   "cell_type": "code",
   "execution_count": 9,
   "id": "greater-regression",
   "metadata": {},
   "outputs": [],
   "source": [
    "empty_cell = df_train['Bean Type'].value_counts().index[0]"
   ]
  },
  {
   "cell_type": "code",
   "execution_count": 10,
   "id": "decimal-edwards",
   "metadata": {},
   "outputs": [],
   "source": [
    "mode_bean_type = df_train.loc[df_train['Bean Type']!=empty_cell, 'Bean Type'].mode()[0]"
   ]
  },
  {
   "cell_type": "code",
   "execution_count": 11,
   "id": "coastal-associate",
   "metadata": {},
   "outputs": [],
   "source": [
    "df_train['Bean Type'] = df_train['Bean Type'].replace(empty_cell, mode_bean_type)\n",
    "df_test['Bean Type'] = df_test['Bean Type'].replace(empty_cell, mode_bean_type)"
   ]
  },
  {
   "cell_type": "code",
   "execution_count": 12,
   "id": "automated-aspect",
   "metadata": {},
   "outputs": [],
   "source": [
    "mode_broad_bean_origin = df_train['Broad Bean Origin'].mode()[0]\n",
    "mode_broad_bean_origin\n",
    "df_train['Broad Bean Origin'] = df_train['Broad Bean Origin'].replace(empty_cell, mode_broad_bean_origin)\n",
    "df_test['Broad Bean Origin'] = df_test['Broad Bean Origin'].replace(empty_cell, mode_broad_bean_origin)"
   ]
  },
  {
   "cell_type": "code",
   "execution_count": null,
   "id": "accessory-christopher",
   "metadata": {},
   "outputs": [],
   "source": []
  },
  {
   "cell_type": "markdown",
   "id": "becoming-kidney",
   "metadata": {},
   "source": [
    "# EDA"
   ]
  },
  {
   "cell_type": "code",
   "execution_count": 13,
   "id": "trying-graduation",
   "metadata": {},
   "outputs": [
    {
     "name": "stdout",
     "output_type": "stream",
     "text": [
      "List of features:\n",
      "-------------------------\n",
      "Company\n",
      "Specific Bean Origin\n",
      "REF\n",
      "Review\n",
      "Cocoa Percent\n",
      "Company Location\n",
      "Bean Type\n",
      "Broad Bean Origin\n"
     ]
    }
   ],
   "source": [
    "print('List of features:', '-'*25, sep='\\n')\n",
    "for i in df_train.drop('Rating', axis=1).columns:\n",
    "    print(i)"
   ]
  },
  {
   "cell_type": "code",
   "execution_count": 14,
   "id": "photographic-australia",
   "metadata": {},
   "outputs": [],
   "source": [
    "train_target = df_train['Rating']\n",
    "df_train.drop(['Rating'], axis=1, inplace=True)\n",
    "df_train['Rating'] = train_target"
   ]
  },
  {
   "cell_type": "markdown",
   "id": "hairy-indianapolis",
   "metadata": {},
   "source": [
    "## Correlation matrix (numeric features)"
   ]
  },
  {
   "cell_type": "code",
   "execution_count": 15,
   "id": "combined-marks",
   "metadata": {},
   "outputs": [
    {
     "data": {
      "image/png": "[encoded data removed]",
      "text/plain": [
       "<Figure size 720x576 with 2 Axes>"
      ]
     },
     "metadata": {
      "needs_background": "light"
     },
     "output_type": "display_data"
    }
   ],
   "source": [
    "plt.figure(figsize = (10,8))\n",
    "plt.rcParams.update({\n",
    "    'xtick.labelsize': 15,\n",
    "    'ytick.labelsize': 15,\n",
    "})\n",
    "sns.heatmap(df_train.corr(), annot=True, cmap=\"Blues\")\n",
    "\n",
    "plt.show()"
   ]
  },
  {
   "cell_type": "markdown",
   "id": "regulated-politics",
   "metadata": {},
   "source": [
    "## Correlation matrix (categorical features)"
   ]
  },
  {
   "cell_type": "code",
   "execution_count": 16,
   "id": "proprietary-camcorder",
   "metadata": {},
   "outputs": [
    {
     "data": {
      "text/html": [
       "<div>\n",
       "<style scoped>\n",
       "    .dataframe tbody tr th:only-of-type {\n",
       "        vertical-align: middle;\n",
       "    }\n",
       "\n",
       "    .dataframe tbody tr th {\n",
       "        vertical-align: top;\n",
       "    }\n",
       "\n",
       "    .dataframe thead th {\n",
       "        text-align: right;\n",
       "    }\n",
       "</style>\n",
       "<table border=\"1\" class=\"dataframe\">\n",
       "  <thead>\n",
       "    <tr style=\"text-align: right;\">\n",
       "      <th></th>\n",
       "      <th>Company</th>\n",
       "      <th>Specific Bean Origin</th>\n",
       "      <th>Company Location</th>\n",
       "      <th>Bean Type</th>\n",
       "      <th>Broad Bean Origin</th>\n",
       "    </tr>\n",
       "  </thead>\n",
       "  <tbody>\n",
       "    <tr>\n",
       "      <th>Company</th>\n",
       "      <td>1.000000</td>\n",
       "      <td>0.771074</td>\n",
       "      <td>0.999651</td>\n",
       "      <td>0.615394</td>\n",
       "      <td>0.603022</td>\n",
       "    </tr>\n",
       "    <tr>\n",
       "      <th>Specific Bean Origin</th>\n",
       "      <td>0.771074</td>\n",
       "      <td>1.000000</td>\n",
       "      <td>0.808500</td>\n",
       "      <td>0.907379</td>\n",
       "      <td>0.983510</td>\n",
       "    </tr>\n",
       "    <tr>\n",
       "      <th>Company Location</th>\n",
       "      <td>0.999651</td>\n",
       "      <td>0.808500</td>\n",
       "      <td>1.000000</td>\n",
       "      <td>0.289971</td>\n",
       "      <td>0.381918</td>\n",
       "    </tr>\n",
       "    <tr>\n",
       "      <th>Bean Type</th>\n",
       "      <td>0.615394</td>\n",
       "      <td>0.907379</td>\n",
       "      <td>0.289971</td>\n",
       "      <td>1.000000</td>\n",
       "      <td>0.370471</td>\n",
       "    </tr>\n",
       "    <tr>\n",
       "      <th>Broad Bean Origin</th>\n",
       "      <td>0.603022</td>\n",
       "      <td>0.983510</td>\n",
       "      <td>0.381918</td>\n",
       "      <td>0.370471</td>\n",
       "      <td>1.000000</td>\n",
       "    </tr>\n",
       "  </tbody>\n",
       "</table>\n",
       "</div>"
      ],
      "text/plain": [
       "                       Company  Specific Bean Origin  Company Location  \\\n",
       "Company               1.000000              0.771074          0.999651   \n",
       "Specific Bean Origin  0.771074              1.000000          0.808500   \n",
       "Company Location      0.999651              0.808500          1.000000   \n",
       "Bean Type             0.615394              0.907379          0.289971   \n",
       "Broad Bean Origin     0.603022              0.983510          0.381918   \n",
       "\n",
       "                      Bean Type  Broad Bean Origin  \n",
       "Company                0.615394           0.603022  \n",
       "Specific Bean Origin   0.907379           0.983510  \n",
       "Company Location       0.289971           0.381918  \n",
       "Bean Type              1.000000           0.370471  \n",
       "Broad Bean Origin      0.370471           1.000000  "
      ]
     },
     "execution_count": 16,
     "metadata": {},
     "output_type": "execute_result"
    }
   ],
   "source": [
    "import association_metrics as am\n",
    "\n",
    "XC = df_train.apply(lambda x: x.astype(\"category\") if x.dtype == \"object\" else x)\n",
    "cramersv = am.CramersV(XC)\n",
    "cramersv.fit()"
   ]
  },
  {
   "cell_type": "markdown",
   "id": "public-consent",
   "metadata": {},
   "source": [
    "Correlated features (may drop one from each pair):\n",
    "* REF and Review\n",
    "* Company and Company Location\n",
    "* Broad Bean Origin and Specific Bean Origin\n",
    "* Specific Bean Origin and Bean Type\n",
    "\n",
    "From every pair of highly correlated categorical features we should drop the one with maximum unique values to avoid overfitting"
   ]
  },
  {
   "cell_type": "markdown",
   "id": "democratic-vegetarian",
   "metadata": {},
   "source": [
    "## Outliers"
   ]
  },
  {
   "cell_type": "code",
   "execution_count": 17,
   "id": "black-animal",
   "metadata": {},
   "outputs": [],
   "source": [
    "cat_cols = df_train.columns[df_train.dtypes == 'object']\n",
    "num_cols = df_train.columns[df_train.dtypes != 'object']"
   ]
  },
  {
   "cell_type": "code",
   "execution_count": 18,
   "id": "conditional-library",
   "metadata": {
    "scrolled": false
   },
   "outputs": [
    {
     "name": "stdout",
     "output_type": "stream",
     "text": [
      "REF\n"
     ]
    },
    {
     "name": "stderr",
     "output_type": "stream",
     "text": [
      "/home/andy/miniconda3/lib/python3.7/site-packages/seaborn/_decorators.py:43: FutureWarning: Pass the following variable as a keyword arg: x. From version 0.12, the only valid positional argument will be `data`, and passing other arguments without an explicit keyword will result in an error or misinterpretation.\n",
      "  FutureWarning\n"
     ]
    },
    {
     "data": {
      "image/png": "[encoded data removed]",
      "text/plain": [
       "<Figure size 720x504 with 1 Axes>"
      ]
     },
     "metadata": {
      "needs_background": "light"
     },
     "output_type": "display_data"
    },
    {
     "name": "stdout",
     "output_type": "stream",
     "text": [
      "Review\n"
     ]
    },
    {
     "name": "stderr",
     "output_type": "stream",
     "text": [
      "/home/andy/miniconda3/lib/python3.7/site-packages/seaborn/_decorators.py:43: FutureWarning: Pass the following variable as a keyword arg: x. From version 0.12, the only valid positional argument will be `data`, and passing other arguments without an explicit keyword will result in an error or misinterpretation.\n",
      "  FutureWarning\n"
     ]
    },
    {
     "data": {
      "image/png": "[encoded data removed]",
      "text/plain": [
       "<Figure size 720x504 with 1 Axes>"
      ]
     },
     "metadata": {
      "needs_background": "light"
     },
     "output_type": "display_data"
    },
    {
     "name": "stdout",
     "output_type": "stream",
     "text": [
      "Cocoa Percent\n"
     ]
    },
    {
     "name": "stderr",
     "output_type": "stream",
     "text": [
      "/home/andy/miniconda3/lib/python3.7/site-packages/seaborn/_decorators.py:43: FutureWarning: Pass the following variable as a keyword arg: x. From version 0.12, the only valid positional argument will be `data`, and passing other arguments without an explicit keyword will result in an error or misinterpretation.\n",
      "  FutureWarning\n"
     ]
    },
    {
     "data": {
      "image/png": "[encoded data removed]",
      "text/plain": [
       "<Figure size 720x504 with 1 Axes>"
      ]
     },
     "metadata": {
      "needs_background": "light"
     },
     "output_type": "display_data"
    },
    {
     "name": "stdout",
     "output_type": "stream",
     "text": [
      "Rating\n"
     ]
    },
    {
     "name": "stderr",
     "output_type": "stream",
     "text": [
      "/home/andy/miniconda3/lib/python3.7/site-packages/seaborn/_decorators.py:43: FutureWarning: Pass the following variable as a keyword arg: x. From version 0.12, the only valid positional argument will be `data`, and passing other arguments without an explicit keyword will result in an error or misinterpretation.\n",
      "  FutureWarning\n"
     ]
    },
    {
     "data": {
      "image/png": "[encoded data removed]",
      "text/plain": [
       "<Figure size 720x504 with 1 Axes>"
      ]
     },
     "metadata": {
      "needs_background": "light"
     },
     "output_type": "display_data"
    }
   ],
   "source": [
    "for col in num_cols:\n",
    "    print(col)\n",
    "    sns.boxplot(df_train[col])\n",
    "    plt.show()"
   ]
  },
  {
   "cell_type": "code",
   "execution_count": 19,
   "id": "distinguished-throat",
   "metadata": {},
   "outputs": [],
   "source": [
    "outliers_cocoa_percent = df_train[(df_train['Cocoa Percent'] >= 99) | (df_train['Cocoa Percent'] <= 50)]\n",
    "df_train = df_train.drop(outliers_cocoa_percent.index, axis=0)\n",
    "\n",
    "outliers_cocoa_percent_test = df_train[(df_train['Cocoa Percent'] >= 99) | (df_train['Cocoa Percent'] <= 50)]\n",
    "df_test = df_test.drop(outliers_cocoa_percent_test.index, axis=0)"
   ]
  },
  {
   "cell_type": "code",
   "execution_count": 20,
   "id": "impaired-restaurant",
   "metadata": {},
   "outputs": [
    {
     "data": {
      "image/png": "[encoded data removed]",
      "text/plain": [
       "<Figure size 720x576 with 1 Axes>"
      ]
     },
     "metadata": {
      "needs_background": "light"
     },
     "output_type": "display_data"
    }
   ],
   "source": [
    "plt.figure(figsize=(10, 8))\n",
    "plt.hist(df_train['Rating'], bins=16)\n",
    "plt.show()"
   ]
  },
  {
   "cell_type": "code",
   "execution_count": 21,
   "id": "entertaining-kitchen",
   "metadata": {},
   "outputs": [],
   "source": [
    "#outliers_rating = df_train[(df_train['Rating'] == 5.0) | (df_train['Rating'] <= 1.5)]\n",
    "#df_train = df_train.drop(outliers_rating.index, axis=0)"
   ]
  },
  {
   "cell_type": "code",
   "execution_count": null,
   "id": "danish-association",
   "metadata": {},
   "outputs": [],
   "source": []
  },
  {
   "cell_type": "markdown",
   "id": "nervous-opinion",
   "metadata": {},
   "source": [
    "# Baseline model (ansamble)"
   ]
  },
  {
   "cell_type": "code",
   "execution_count": 22,
   "id": "complicated-circulation",
   "metadata": {},
   "outputs": [],
   "source": [
    "from sklearn.model_selection import train_test_split\n",
    "\n",
    "X = df_train.drop('Rating', axis=1)\n",
    "y = df_train.Rating\n",
    "\n",
    "X_train, X_val, y_train, y_val = train_test_split(X, y, test_size=0.3, random_state=42)"
   ]
  },
  {
   "cell_type": "code",
   "execution_count": 23,
   "id": "fitting-cannon",
   "metadata": {},
   "outputs": [],
   "source": [
    "from sklearn.ensemble import RandomForestRegressor\n",
    "from sklearn.metrics import r2_score\n",
    "\n",
    "from category_encoders.ordinal import OrdinalEncoder\n",
    "from category_encoders.one_hot import OneHotEncoder\n",
    "from category_encoders.target_encoder import TargetEncoder\n",
    "from category_encoders.leave_one_out import LeaveOneOutEncoder\n",
    "\n",
    "from sklearn.preprocessing import StandardScaler\n",
    "from sklearn.preprocessing import MinMaxScaler\n",
    "\n",
    "from sklearn.model_selection import GridSearchCV"
   ]
  },
  {
   "cell_type": "code",
   "execution_count": 24,
   "id": "secret-sending",
   "metadata": {},
   "outputs": [
    {
     "data": {
      "text/plain": [
       "0.0798670856591086"
      ]
     },
     "execution_count": 24,
     "metadata": {},
     "output_type": "execute_result"
    }
   ],
   "source": [
    "from sklearn.pipeline import Pipeline\n",
    "\n",
    "p_baseline = Pipeline([\n",
    "    ('encoder', TargetEncoder(cols=cat_cols)),\n",
    "    ('scaler', StandardScaler()),\n",
    "    ('model', RandomForestRegressor(n_jobs=-1))\n",
    "])\n",
    "\n",
    "p_baseline.fit(X_train, y_train)\n",
    "pred = p_baseline.predict(X_val)\n",
    "r2_score(y_val, pred)"
   ]
  },
  {
   "cell_type": "code",
   "execution_count": 25,
   "id": "expanded-cartoon",
   "metadata": {
    "scrolled": false
   },
   "outputs": [
    {
     "name": "stdout",
     "output_type": "stream",
     "text": [
      "Best parameter (CV score=-0.014):\n",
      "{'model__max_depth': 5, 'model__min_samples_split': 10, 'model__n_estimators': 200}\n"
     ]
    }
   ],
   "source": [
    "# Parameters of pipelines can be set using '__' separated parameter names:\n",
    "param_grid = {\n",
    "    \"model__n_estimators\": [180, 200],\n",
    "    \"model__max_depth\": [3, 4, 5],\n",
    "    \"model__min_samples_split\": [10, 15, 20],\n",
    "    #\"model__min_samples_leaf\": []\n",
    "    #\"criterion\": [\"squared_error\", \"absolute_error\", \"friedman_mse\", \"poisson\"],\n",
    "}\n",
    "search = GridSearchCV(p_baseline, param_grid, cv=3, n_jobs=-1, scoring='r2')\n",
    "search.fit(X_train, y_train)\n",
    "print(\"Best parameter (CV score=%0.3f):\" % search.best_score_)\n",
    "print(search.best_params_)"
   ]
  },
  {
   "cell_type": "code",
   "execution_count": 26,
   "id": "theoretical-cross",
   "metadata": {},
   "outputs": [
    {
     "data": {
      "text/plain": [
       "0.08829415081531466"
      ]
     },
     "execution_count": 26,
     "metadata": {},
     "output_type": "execute_result"
    }
   ],
   "source": [
    "search.best_estimator_.fit(X_train, y_train)\n",
    "pred = search.best_estimator_.predict(X_val)\n",
    "r2_score(y_val, pred)"
   ]
  },
  {
   "cell_type": "markdown",
   "id": "institutional-essex",
   "metadata": {},
   "source": [
    "Not a great result"
   ]
  },
  {
   "cell_type": "markdown",
   "id": "excited-forward",
   "metadata": {},
   "source": [
    "# CatBoost"
   ]
  },
  {
   "cell_type": "code",
   "execution_count": 27,
   "id": "cooked-desperate",
   "metadata": {},
   "outputs": [
    {
     "data": {
      "text/plain": [
       "array([0, 1, 5, 6, 7])"
      ]
     },
     "execution_count": 27,
     "metadata": {},
     "output_type": "execute_result"
    }
   ],
   "source": [
    "categorical_features_indices = np.where(X.dtypes == object)[0]\n",
    "categorical_features_indices"
   ]
  },
  {
   "cell_type": "code",
   "execution_count": 28,
   "id": "latter-celtic",
   "metadata": {},
   "outputs": [
    {
     "data": {
      "text/plain": [
       "0.16250575333302097"
      ]
     },
     "execution_count": 28,
     "metadata": {},
     "output_type": "execute_result"
    }
   ],
   "source": [
    "from catboost import CatBoostRegressor\n",
    "\n",
    "model = CatBoostRegressor()\n",
    "\n",
    "model.fit(X_train, y_train,\n",
    "         cat_features=categorical_features_indices,\n",
    "         eval_set=(X_val, y_val),\n",
    "         logging_level='Silent')\n",
    "\n",
    "pred = model.predict(X_val)\n",
    "\n",
    "r2_score(y_val, pred)"
   ]
  },
  {
   "cell_type": "code",
   "execution_count": 29,
   "id": "clean-township",
   "metadata": {},
   "outputs": [
    {
     "data": {
      "text/html": [
       "<div>\n",
       "<style scoped>\n",
       "    .dataframe tbody tr th:only-of-type {\n",
       "        vertical-align: middle;\n",
       "    }\n",
       "\n",
       "    .dataframe tbody tr th {\n",
       "        vertical-align: top;\n",
       "    }\n",
       "\n",
       "    .dataframe thead th {\n",
       "        text-align: right;\n",
       "    }\n",
       "</style>\n",
       "<table border=\"1\" class=\"dataframe\">\n",
       "  <thead>\n",
       "    <tr style=\"text-align: right;\">\n",
       "      <th></th>\n",
       "      <th>Feature</th>\n",
       "      <th>Importance</th>\n",
       "    </tr>\n",
       "  </thead>\n",
       "  <tbody>\n",
       "    <tr>\n",
       "      <th>0</th>\n",
       "      <td>Company</td>\n",
       "      <td>30.570633</td>\n",
       "    </tr>\n",
       "    <tr>\n",
       "      <th>4</th>\n",
       "      <td>Cocoa Percent</td>\n",
       "      <td>15.927746</td>\n",
       "    </tr>\n",
       "    <tr>\n",
       "      <th>6</th>\n",
       "      <td>Bean Type</td>\n",
       "      <td>14.402990</td>\n",
       "    </tr>\n",
       "    <tr>\n",
       "      <th>7</th>\n",
       "      <td>Broad Bean Origin</td>\n",
       "      <td>11.580571</td>\n",
       "    </tr>\n",
       "    <tr>\n",
       "      <th>2</th>\n",
       "      <td>REF</td>\n",
       "      <td>10.277128</td>\n",
       "    </tr>\n",
       "    <tr>\n",
       "      <th>5</th>\n",
       "      <td>Company Location</td>\n",
       "      <td>9.594256</td>\n",
       "    </tr>\n",
       "    <tr>\n",
       "      <th>3</th>\n",
       "      <td>Review</td>\n",
       "      <td>7.420493</td>\n",
       "    </tr>\n",
       "    <tr>\n",
       "      <th>1</th>\n",
       "      <td>Specific Bean Origin</td>\n",
       "      <td>0.226184</td>\n",
       "    </tr>\n",
       "  </tbody>\n",
       "</table>\n",
       "</div>"
      ],
      "text/plain": [
       "                Feature  Importance\n",
       "0               Company   30.570633\n",
       "4         Cocoa Percent   15.927746\n",
       "6             Bean Type   14.402990\n",
       "7     Broad Bean Origin   11.580571\n",
       "2                   REF   10.277128\n",
       "5      Company Location    9.594256\n",
       "3                Review    7.420493\n",
       "1  Specific Bean Origin    0.226184"
      ]
     },
     "execution_count": 29,
     "metadata": {},
     "output_type": "execute_result"
    }
   ],
   "source": [
    "pd.DataFrame({'Feature': model.feature_names_, \"Importance\": model.feature_importances_})\\\n",
    "    .sort_values(by='Importance', ascending=False)"
   ]
  },
  {
   "cell_type": "markdown",
   "id": "laughing-syntax",
   "metadata": {},
   "source": [
    "## CatBoost hyperparameters tuning"
   ]
  },
  {
   "cell_type": "code",
   "execution_count": 30,
   "id": "unexpected-modification",
   "metadata": {},
   "outputs": [],
   "source": [
    "from sklearn.metrics import mean_squared_error"
   ]
  },
  {
   "cell_type": "code",
   "execution_count": 31,
   "id": "relative-circuit",
   "metadata": {},
   "outputs": [
    {
     "name": "stderr",
     "output_type": "stream",
     "text": [
      "[I 2023-07-09 20:11:15,024] A new study created in memory with name: no-name-4cb3a4fd-6839-4ec3-afd8-f14ef1069316\n",
      "[I 2023-07-09 20:11:18,623] Trial 0 finished with value: 0.1870422032233899 and parameters: {'n_estimators': 568, 'max_depth': 5}. Best is trial 0 with value: 0.1870422032233899.\n",
      "[I 2023-07-09 20:11:22,862] Trial 4 finished with value: 0.1889148125352943 and parameters: {'n_estimators': 511, 'max_depth': 5}. Best is trial 0 with value: 0.1870422032233899.\n",
      "[I 2023-07-09 20:11:27,277] Trial 1 finished with value: 0.1939702086858541 and parameters: {'n_estimators': 835, 'max_depth': 7}. Best is trial 0 with value: 0.1870422032233899.\n",
      "[I 2023-07-09 20:11:27,946] Trial 3 finished with value: 0.1950221413352084 and parameters: {'n_estimators': 590, 'max_depth': 8}. Best is trial 0 with value: 0.1870422032233899.\n",
      "[I 2023-07-09 20:11:33,310] Trial 5 finished with value: 0.19261850388046614 and parameters: {'n_estimators': 944, 'max_depth': 6}. Best is trial 0 with value: 0.1870422032233899.\n",
      "[I 2023-07-09 20:11:34,539] Trial 8 finished with value: 0.17905522221564174 and parameters: {'n_estimators': 320, 'max_depth': 3}. Best is trial 8 with value: 0.17905522221564174.\n",
      "[I 2023-07-09 20:11:40,402] Trial 7 finished with value: 0.18901807070417098 and parameters: {'n_estimators': 468, 'max_depth': 8}. Best is trial 8 with value: 0.17905522221564174.\n",
      "[I 2023-07-09 20:11:46,400] Trial 9 finished with value: 0.19252937633950262 and parameters: {'n_estimators': 952, 'max_depth': 6}. Best is trial 8 with value: 0.17905522221564174.\n",
      "[I 2023-07-09 20:11:54,193] Trial 11 finished with value: 0.19265177463670502 and parameters: {'n_estimators': 455, 'max_depth': 7}. Best is trial 8 with value: 0.17905522221564174.\n",
      "[I 2023-07-09 20:12:04,417] Trial 6 finished with value: 0.20093888363835155 and parameters: {'n_estimators': 608, 'max_depth': 10}. Best is trial 8 with value: 0.17905522221564174.\n",
      "[I 2023-07-09 20:12:04,854] Trial 13 finished with value: 0.1775830491180514 and parameters: {'n_estimators': 60, 'max_depth': 2}. Best is trial 13 with value: 0.1775830491180514.\n",
      "[I 2023-07-09 20:12:05,217] Trial 14 finished with value: 0.1761782459114539 and parameters: {'n_estimators': 54, 'max_depth': 2}. Best is trial 14 with value: 0.1761782459114539.\n",
      "[I 2023-07-09 20:12:52,843] Trial 10 finished with value: 0.20368876617527604 and parameters: {'n_estimators': 72, 'max_depth': 16}. Best is trial 14 with value: 0.1761782459114539.\n",
      "[I 2023-07-09 20:13:14,439] Trial 12 finished with value: 0.20263023721418225 and parameters: {'n_estimators': 161, 'max_depth': 15}. Best is trial 14 with value: 0.1761782459114539.\n",
      "[I 2023-07-09 20:14:57,273] Trial 2 finished with value: 0.1978619892899036 and parameters: {'n_estimators': 792, 'max_depth': 14}. Best is trial 14 with value: 0.1761782459114539.\n"
     ]
    },
    {
     "name": "stdout",
     "output_type": "stream",
     "text": [
      "FrozenTrial(number=14, state=TrialState.COMPLETE, values=[0.1761782459114539], datetime_start=datetime.datetime(2023, 7, 9, 20, 12, 4, 860350), datetime_complete=datetime.datetime(2023, 7, 9, 20, 12, 5, 216667), params={'n_estimators': 54, 'max_depth': 2}, user_attrs={}, system_attrs={}, intermediate_values={}, distributions={'n_estimators': IntDistribution(high=1000, log=False, low=10, step=1), 'max_depth': IntDistribution(high=16, log=False, low=2, step=1)}, trial_id=14, value=None)\n"
     ]
    }
   ],
   "source": [
    "import optuna\n",
    "\n",
    "def objective(trial):\n",
    "\n",
    "    param = {\n",
    "        \"n_estimators\": trial.suggest_int(\"n_estimators\", 10, 1000),\n",
    "        \"max_depth\": trial.suggest_int(\"max_depth\", 2, 16),\n",
    "    }\n",
    "\n",
    "    estimator = CatBoostRegressor(**param,\n",
    "                                  cat_features=categorical_features_indices,\n",
    "                                  verbose=False)\n",
    "\n",
    "    estimator.fit(X_train, y_train)\n",
    "    pred = estimator.predict(X_val)\n",
    "\n",
    "    return mean_squared_error(y_val, pred)\n",
    "\n",
    "study = optuna.create_study(direction=\"minimize\")\n",
    "study.optimize(objective, n_trials=15, n_jobs=-1)\n",
    "print(study.best_trial)"
   ]
  },
  {
   "cell_type": "code",
   "execution_count": 32,
   "id": "antique-adrian",
   "metadata": {},
   "outputs": [
    {
     "name": "stdout",
     "output_type": "stream",
     "text": [
      "{'n_estimators': 54, 'max_depth': 2}\n"
     ]
    }
   ],
   "source": [
    "print(study.best_trial.params)"
   ]
  },
  {
   "cell_type": "code",
   "execution_count": 33,
   "id": "lucky-integration",
   "metadata": {},
   "outputs": [
    {
     "data": {
      "text/plain": [
       "0.1739778459538498"
      ]
     },
     "execution_count": 33,
     "metadata": {},
     "output_type": "execute_result"
    }
   ],
   "source": [
    "model = CatBoostRegressor(**study.best_params,\n",
    "                         cat_features=categorical_features_indices,\n",
    "                         logging_level='Silent')\n",
    "\n",
    "model.fit(X_train, y_train)\n",
    "pred_cb = model.predict(X_val)\n",
    "\n",
    "r2_score(y_val, pred_cb)"
   ]
  },
  {
   "cell_type": "code",
   "execution_count": 34,
   "id": "spoken-maple",
   "metadata": {},
   "outputs": [
    {
     "data": {
      "text/plain": [
       "<catboost.core.CatBoostRegressor at 0x7fbcf21c3250>"
      ]
     },
     "execution_count": 34,
     "metadata": {},
     "output_type": "execute_result"
    }
   ],
   "source": [
    "model.fit(X, y)"
   ]
  },
  {
   "cell_type": "markdown",
   "id": "hollywood-plate",
   "metadata": {},
   "source": [
    "That's better already, let's try it on test"
   ]
  },
  {
   "cell_type": "code",
   "execution_count": 35,
   "id": "subtle-brake",
   "metadata": {},
   "outputs": [
    {
     "data": {
      "text/html": [
       "<div>\n",
       "<style scoped>\n",
       "    .dataframe tbody tr th:only-of-type {\n",
       "        vertical-align: middle;\n",
       "    }\n",
       "\n",
       "    .dataframe tbody tr th {\n",
       "        vertical-align: top;\n",
       "    }\n",
       "\n",
       "    .dataframe thead th {\n",
       "        text-align: right;\n",
       "    }\n",
       "</style>\n",
       "<table border=\"1\" class=\"dataframe\">\n",
       "  <thead>\n",
       "    <tr style=\"text-align: right;\">\n",
       "      <th></th>\n",
       "      <th>Feature</th>\n",
       "      <th>Importance</th>\n",
       "    </tr>\n",
       "  </thead>\n",
       "  <tbody>\n",
       "    <tr>\n",
       "      <th>0</th>\n",
       "      <td>Company</td>\n",
       "      <td>34.484726</td>\n",
       "    </tr>\n",
       "    <tr>\n",
       "      <th>2</th>\n",
       "      <td>REF</td>\n",
       "      <td>21.411518</td>\n",
       "    </tr>\n",
       "    <tr>\n",
       "      <th>4</th>\n",
       "      <td>Cocoa Percent</td>\n",
       "      <td>15.929413</td>\n",
       "    </tr>\n",
       "    <tr>\n",
       "      <th>1</th>\n",
       "      <td>Specific Bean Origin</td>\n",
       "      <td>8.004881</td>\n",
       "    </tr>\n",
       "    <tr>\n",
       "      <th>5</th>\n",
       "      <td>Company Location</td>\n",
       "      <td>5.754834</td>\n",
       "    </tr>\n",
       "    <tr>\n",
       "      <th>6</th>\n",
       "      <td>Bean Type</td>\n",
       "      <td>5.176913</td>\n",
       "    </tr>\n",
       "    <tr>\n",
       "      <th>7</th>\n",
       "      <td>Broad Bean Origin</td>\n",
       "      <td>4.746048</td>\n",
       "    </tr>\n",
       "    <tr>\n",
       "      <th>3</th>\n",
       "      <td>Review</td>\n",
       "      <td>4.491667</td>\n",
       "    </tr>\n",
       "  </tbody>\n",
       "</table>\n",
       "</div>"
      ],
      "text/plain": [
       "                Feature  Importance\n",
       "0               Company   34.484726\n",
       "2                   REF   21.411518\n",
       "4         Cocoa Percent   15.929413\n",
       "1  Specific Bean Origin    8.004881\n",
       "5      Company Location    5.754834\n",
       "6             Bean Type    5.176913\n",
       "7     Broad Bean Origin    4.746048\n",
       "3                Review    4.491667"
      ]
     },
     "execution_count": 35,
     "metadata": {},
     "output_type": "execute_result"
    }
   ],
   "source": [
    "pd.DataFrame({'Feature': model.feature_names_, \"Importance\": model.feature_importances_})\\\n",
    "    .sort_values(by='Importance', ascending=False)"
   ]
  },
  {
   "cell_type": "markdown",
   "id": "tight-spread",
   "metadata": {},
   "source": [
    "## Apply tuned CatBoost to test"
   ]
  },
  {
   "cell_type": "code",
   "execution_count": 36,
   "id": "compatible-playlist",
   "metadata": {},
   "outputs": [
    {
     "data": {
      "text/plain": [
       "array([3.10689607, 3.22236415, 3.0212848 , 3.30236717, 3.01346754,\n",
       "       3.02015426, 3.009542  , 3.1438141 , 3.20006667, 2.69979566])"
      ]
     },
     "execution_count": 36,
     "metadata": {},
     "output_type": "execute_result"
    }
   ],
   "source": [
    "pred_test = model.predict(df_test)\n",
    "pred_test[:10]"
   ]
  },
  {
   "cell_type": "code",
   "execution_count": 37,
   "id": "comprehensive-policy",
   "metadata": {},
   "outputs": [],
   "source": [
    "df_submission = df_test.copy()\n",
    "df_submission['id'] = np.arange(len(df_test))\n",
    "df_submission['Rating'] = pred_test\n",
    "df_submission = df_submission[['id','Rating']]\n",
    "df_submission.to_csv(\"CatBoost_v1.csv\", index=False)"
   ]
  },
  {
   "cell_type": "markdown",
   "id": "tough-manner",
   "metadata": {},
   "source": [
    "This model gives r2 = 0.16608 on test. <br>\n",
    "Which is not very bad but still we must achieve r2 >= 0.2"
   ]
  },
  {
   "cell_type": "markdown",
   "id": "developing-chase",
   "metadata": {},
   "source": [
    "# Feature engineering"
   ]
  },
  {
   "cell_type": "markdown",
   "id": "needed-dayton",
   "metadata": {},
   "source": [
    "Some ideas I already tried:\n",
    "* Broad company location (Africa, Caribbean, etc)\n",
    "* Broader cocoa bean origin (Africa, Caribbean, etc)\n",
    "* Best Companies (from internet sources)\n",
    "* Top cocoa bean production countries (amount and quality)\n",
    "\n",
    "More to try:\n",
    "* Company location matches broad bean origin"
   ]
  },
  {
   "cell_type": "markdown",
   "id": "supreme-bermuda",
   "metadata": {},
   "source": [
    "### Matched Regions"
   ]
  },
  {
   "cell_type": "code",
   "execution_count": 38,
   "id": "standing-nelson",
   "metadata": {},
   "outputs": [
    {
     "data": {
      "text/html": [
       "<div>\n",
       "<style scoped>\n",
       "    .dataframe tbody tr th:only-of-type {\n",
       "        vertical-align: middle;\n",
       "    }\n",
       "\n",
       "    .dataframe tbody tr th {\n",
       "        vertical-align: top;\n",
       "    }\n",
       "\n",
       "    .dataframe thead th {\n",
       "        text-align: right;\n",
       "    }\n",
       "</style>\n",
       "<table border=\"1\" class=\"dataframe\">\n",
       "  <thead>\n",
       "    <tr style=\"text-align: right;\">\n",
       "      <th></th>\n",
       "      <th>Company Location</th>\n",
       "      <th>Broad Bean Origin</th>\n",
       "    </tr>\n",
       "  </thead>\n",
       "  <tbody>\n",
       "    <tr>\n",
       "      <th>0</th>\n",
       "      <td>U.K.</td>\n",
       "      <td>Venezuela</td>\n",
       "    </tr>\n",
       "    <tr>\n",
       "      <th>1</th>\n",
       "      <td>Switzerland</td>\n",
       "      <td>Venezuela</td>\n",
       "    </tr>\n",
       "    <tr>\n",
       "      <th>2</th>\n",
       "      <td>U.S.A.</td>\n",
       "      <td>Tanzania</td>\n",
       "    </tr>\n",
       "    <tr>\n",
       "      <th>3</th>\n",
       "      <td>U.S.A.</td>\n",
       "      <td>Dominican Republic</td>\n",
       "    </tr>\n",
       "    <tr>\n",
       "      <th>4</th>\n",
       "      <td>France</td>\n",
       "      <td>Indonesia</td>\n",
       "    </tr>\n",
       "  </tbody>\n",
       "</table>\n",
       "</div>"
      ],
      "text/plain": [
       "  Company Location   Broad Bean Origin\n",
       "0             U.K.           Venezuela\n",
       "1      Switzerland           Venezuela\n",
       "2           U.S.A.            Tanzania\n",
       "3           U.S.A.  Dominican Republic\n",
       "4           France           Indonesia"
      ]
     },
     "execution_count": 38,
     "metadata": {},
     "output_type": "execute_result"
    }
   ],
   "source": [
    "df_train[['Company Location', 'Broad Bean Origin']].head()"
   ]
  },
  {
   "cell_type": "code",
   "execution_count": 39,
   "id": "first-sunday",
   "metadata": {},
   "outputs": [],
   "source": [
    "df_train['Matched Regions'] = np.where(df_train['Company Location'] == df_train['Broad Bean Origin'], 1, 0)\n",
    "df_test['Matched Regions'] = np.where(df_test['Company Location'] == df_test['Broad Bean Origin'], 1, 0)"
   ]
  },
  {
   "cell_type": "code",
   "execution_count": 40,
   "id": "proper-footage",
   "metadata": {},
   "outputs": [
    {
     "data": {
      "text/html": [
       "<div>\n",
       "<style scoped>\n",
       "    .dataframe tbody tr th:only-of-type {\n",
       "        vertical-align: middle;\n",
       "    }\n",
       "\n",
       "    .dataframe tbody tr th {\n",
       "        vertical-align: top;\n",
       "    }\n",
       "\n",
       "    .dataframe thead th {\n",
       "        text-align: right;\n",
       "    }\n",
       "</style>\n",
       "<table border=\"1\" class=\"dataframe\">\n",
       "  <thead>\n",
       "    <tr style=\"text-align: right;\">\n",
       "      <th></th>\n",
       "      <th>MeanRating</th>\n",
       "      <th>StdRating</th>\n",
       "    </tr>\n",
       "    <tr>\n",
       "      <th>Matched Regions</th>\n",
       "      <th></th>\n",
       "      <th></th>\n",
       "    </tr>\n",
       "  </thead>\n",
       "  <tbody>\n",
       "    <tr>\n",
       "      <th>0</th>\n",
       "      <td>3.200228</td>\n",
       "      <td>0.461287</td>\n",
       "    </tr>\n",
       "    <tr>\n",
       "      <th>1</th>\n",
       "      <td>3.099650</td>\n",
       "      <td>0.467368</td>\n",
       "    </tr>\n",
       "  </tbody>\n",
       "</table>\n",
       "</div>"
      ],
      "text/plain": [
       "                 MeanRating  StdRating\n",
       "Matched Regions                       \n",
       "0                  3.200228   0.461287\n",
       "1                  3.099650   0.467368"
      ]
     },
     "execution_count": 40,
     "metadata": {},
     "output_type": "execute_result"
    }
   ],
   "source": [
    "df_train.groupby('Matched Regions').agg(MeanRating=('Rating', 'mean'),\n",
    "                                       StdRating=('Rating', 'std'))"
   ]
  },
  {
   "cell_type": "markdown",
   "id": "speaking-coalition",
   "metadata": {},
   "source": [
    "### Broad Locations (parts of the world)"
   ]
  },
  {
   "cell_type": "code",
   "execution_count": 41,
   "id": "particular-modem",
   "metadata": {},
   "outputs": [],
   "source": [
    "broad_locations = {'Europe': ['U.K.', 'Switzerland', 'France', 'Belgium', 'Spain', 'Italy',\n",
    "                              'Austria', 'Sweden', 'Ireland', 'Poland', 'Hungary', 'Germany',\n",
    "                              'Denmark', 'Lithuania', 'Scotland', 'Finland', 'Iceland',\n",
    "                              'Amsterdam', 'Wales', 'Netherlands', 'Portugal', 'Czech Republic'],\n",
    "                   'North America': ['U.S.A.', 'Canada'],\n",
    "                   'Africa': ['Madagascar', 'South Africa', 'Ghana', 'Sao Tome', 'Tanzania',\n",
    "                              'Indonesia', 'Congo', 'Liberia', 'Principe', 'Sao Tome & Principe',\n",
    "                              'Gabon', 'Ivory Coast', 'Uganda', 'Nigeria', 'West Africa'],\n",
    "                   'Caribbean': ['Colombia', 'Venezuela', 'Honduras', 'Guatemala',\n",
    "                                 'Domincan Republic', 'Grenada', 'Puerto Rico', 'Costa Rica',\n",
    "                                 'St. Lucia', 'Nicaragua', 'Martinique', 'Niacragua', 'Cost Rica, Ven',\n",
    "                                 'Trinidad', 'Panama', 'Jamaica', 'Haiti', 'Cuba', 'Venezuela, Ghana',\n",
    "                                 'Ven.,Ecu.,Peru,Nic.', 'Tobago', 'Carribean(DR/Jam/Tri)',\n",
    "                                 'Venezuela, Java', 'Ven, Bolivia, D.R.', 'Venezuela, Carribean',\n",
    "                                 'Dominican Republic', 'Carribean'],\n",
    "                   'Asia & Oceania': ['Japan', 'Vietnam', 'Philippines', 'Fiji', 'Australia',\n",
    "                                      'South Korea', 'Israel', 'Singapore', 'India', 'Russia',\n",
    "                                      'New Zealand', 'Papua New Guinea', 'Hawaii', 'Solomon Islands',\n",
    "                                      'Sri Lanka', 'Malaysia', 'Samoa', 'Philippines', 'Togo',\n",
    "                                      'Vanuatu'],\n",
    "                   'South America': ['Ecuador', 'Brazil', 'Peru', 'Eucador', 'Argentina',\n",
    "                                     'Chile', 'Mexico', 'Bolivia', 'Suriname', 'Peru, Dom. Rep',\n",
    "                                     'Central and S. America', 'Colombia, Ecuador', 'Dom. Rep., Madagascar',\n",
    "                                     'South America', 'Belize', 'El Salvador'],\n",
    "                   'Mixed': ['Trinidad, Ecuador', 'South America, Africa', 'PNG, Vanuatu, Mad',\n",
    "                             'Mad., Java, PNG', 'Peru, Mad., Dom. Rep.', 'Indonesia, Ghana', 'Madagascar & Ecuador',\n",
    "                             'Venez,Africa,Brasil,Peru,Mex', 'DR, Ecuador, Peru', 'Dominican Rep., Bali',\n",
    "                             'Peru, Madagascar', 'Venezuela, Dom. Rep.', 'Peru, Ecuador, Venezuela',\n",
    "                             'Ven., Trinidad, Mad.', 'Ven., Indonesia, Ecuad.', 'Ghana, Domin. Rep',\n",
    "                             'Peru, Belize', 'Guat., D.R., Peru, Mad., PNG']\n",
    "                   }"
   ]
  },
  {
   "cell_type": "code",
   "execution_count": 42,
   "id": "realistic-variable",
   "metadata": {},
   "outputs": [],
   "source": [
    "def location_in_list(location, locations_dict=broad_locations):\n",
    "    for k, v in broad_locations.items():\n",
    "        if location in v:\n",
    "            return k\n",
    "    return 'Other'"
   ]
  },
  {
   "cell_type": "code",
   "execution_count": 43,
   "id": "hairy-tracy",
   "metadata": {},
   "outputs": [],
   "source": [
    "df_train['Broad Company Location'] = df_train['Company Location'].apply(lambda x: location_in_list(x))\n",
    "df_test['Broad Company Location'] = df_test['Company Location'].apply(lambda x: location_in_list(x))"
   ]
  },
  {
   "cell_type": "code",
   "execution_count": 44,
   "id": "developmental-ivory",
   "metadata": {},
   "outputs": [
    {
     "data": {
      "text/html": [
       "<div>\n",
       "<style scoped>\n",
       "    .dataframe tbody tr th:only-of-type {\n",
       "        vertical-align: middle;\n",
       "    }\n",
       "\n",
       "    .dataframe tbody tr th {\n",
       "        vertical-align: top;\n",
       "    }\n",
       "\n",
       "    .dataframe thead th {\n",
       "        text-align: right;\n",
       "    }\n",
       "</style>\n",
       "<table border=\"1\" class=\"dataframe\">\n",
       "  <thead>\n",
       "    <tr style=\"text-align: right;\">\n",
       "      <th></th>\n",
       "      <th>MeanRating</th>\n",
       "      <th>StdRating</th>\n",
       "    </tr>\n",
       "    <tr>\n",
       "      <th>Broad Company Location</th>\n",
       "      <th></th>\n",
       "      <th></th>\n",
       "    </tr>\n",
       "  </thead>\n",
       "  <tbody>\n",
       "    <tr>\n",
       "      <th>Africa</th>\n",
       "      <td>3.125000</td>\n",
       "      <td>0.471621</td>\n",
       "    </tr>\n",
       "    <tr>\n",
       "      <th>Asia &amp; Oceania</th>\n",
       "      <td>3.259615</td>\n",
       "      <td>0.381049</td>\n",
       "    </tr>\n",
       "    <tr>\n",
       "      <th>Caribbean</th>\n",
       "      <td>3.143443</td>\n",
       "      <td>0.424409</td>\n",
       "    </tr>\n",
       "    <tr>\n",
       "      <th>Europe</th>\n",
       "      <td>3.227157</td>\n",
       "      <td>0.500431</td>\n",
       "    </tr>\n",
       "    <tr>\n",
       "      <th>North America</th>\n",
       "      <td>3.175576</td>\n",
       "      <td>0.442901</td>\n",
       "    </tr>\n",
       "    <tr>\n",
       "      <th>South America</th>\n",
       "      <td>3.075949</td>\n",
       "      <td>0.500568</td>\n",
       "    </tr>\n",
       "  </tbody>\n",
       "</table>\n",
       "</div>"
      ],
      "text/plain": [
       "                        MeanRating  StdRating\n",
       "Broad Company Location                       \n",
       "Africa                    3.125000   0.471621\n",
       "Asia & Oceania            3.259615   0.381049\n",
       "Caribbean                 3.143443   0.424409\n",
       "Europe                    3.227157   0.500431\n",
       "North America             3.175576   0.442901\n",
       "South America             3.075949   0.500568"
      ]
     },
     "execution_count": 44,
     "metadata": {},
     "output_type": "execute_result"
    }
   ],
   "source": [
    "df_train.groupby('Broad Company Location').agg(MeanRating=('Rating', 'mean'),\n",
    "                                               StdRating=('Rating', 'std'))"
   ]
  },
  {
   "cell_type": "code",
   "execution_count": 45,
   "id": "compatible-bahamas",
   "metadata": {},
   "outputs": [],
   "source": [
    "df_train['Bean Origin World'] = df_train['Broad Bean Origin'].apply(lambda x: location_in_list(x))\n",
    "df_test['Bean Origin World'] = df_test['Broad Bean Origin'].apply(lambda x: location_in_list(x))"
   ]
  },
  {
   "cell_type": "code",
   "execution_count": 46,
   "id": "suitable-heritage",
   "metadata": {},
   "outputs": [
    {
     "data": {
      "text/html": [
       "<div>\n",
       "<style scoped>\n",
       "    .dataframe tbody tr th:only-of-type {\n",
       "        vertical-align: middle;\n",
       "    }\n",
       "\n",
       "    .dataframe tbody tr th {\n",
       "        vertical-align: top;\n",
       "    }\n",
       "\n",
       "    .dataframe thead th {\n",
       "        text-align: right;\n",
       "    }\n",
       "</style>\n",
       "<table border=\"1\" class=\"dataframe\">\n",
       "  <thead>\n",
       "    <tr style=\"text-align: right;\">\n",
       "      <th></th>\n",
       "      <th>MeanRating</th>\n",
       "      <th>StdRating</th>\n",
       "    </tr>\n",
       "    <tr>\n",
       "      <th>Bean Origin World</th>\n",
       "      <th></th>\n",
       "      <th></th>\n",
       "    </tr>\n",
       "  </thead>\n",
       "  <tbody>\n",
       "    <tr>\n",
       "      <th>Africa</th>\n",
       "      <td>3.213010</td>\n",
       "      <td>0.449611</td>\n",
       "    </tr>\n",
       "    <tr>\n",
       "      <th>Asia &amp; Oceania</th>\n",
       "      <td>3.260526</td>\n",
       "      <td>0.360842</td>\n",
       "    </tr>\n",
       "    <tr>\n",
       "      <th>Caribbean</th>\n",
       "      <td>3.181905</td>\n",
       "      <td>0.475051</td>\n",
       "    </tr>\n",
       "    <tr>\n",
       "      <th>Mixed</th>\n",
       "      <td>3.342105</td>\n",
       "      <td>0.426635</td>\n",
       "    </tr>\n",
       "    <tr>\n",
       "      <th>South America</th>\n",
       "      <td>3.161290</td>\n",
       "      <td>0.474515</td>\n",
       "    </tr>\n",
       "  </tbody>\n",
       "</table>\n",
       "</div>"
      ],
      "text/plain": [
       "                   MeanRating  StdRating\n",
       "Bean Origin World                       \n",
       "Africa               3.213010   0.449611\n",
       "Asia & Oceania       3.260526   0.360842\n",
       "Caribbean            3.181905   0.475051\n",
       "Mixed                3.342105   0.426635\n",
       "South America        3.161290   0.474515"
      ]
     },
     "execution_count": 46,
     "metadata": {},
     "output_type": "execute_result"
    }
   ],
   "source": [
    "df_train.groupby('Bean Origin World').agg(MeanRating=('Rating', 'mean'),\n",
    "                                          StdRating=('Rating', 'std'))"
   ]
  },
  {
   "cell_type": "markdown",
   "id": "elder-environment",
   "metadata": {},
   "source": [
    "### Best Production"
   ]
  },
  {
   "cell_type": "code",
   "execution_count": 47,
   "id": "colored-tattoo",
   "metadata": {},
   "outputs": [
    {
     "data": {
      "text/plain": [
       "3.1886106623586428"
      ]
     },
     "execution_count": 47,
     "metadata": {},
     "output_type": "execute_result"
    }
   ],
   "source": [
    "df_train['Rating'].mean()"
   ]
  },
  {
   "cell_type": "code",
   "execution_count": 48,
   "id": "micro-labor",
   "metadata": {},
   "outputs": [],
   "source": [
    "# Countries producing the best chocolate (according to internet)\n",
    "best_production_countries = ['Belgium', 'Switzerland', 'Italy', 'Germany', 'Austria', 'Poland',\n",
    "                             'Ecuador', 'Japan', 'New Zealand', 'Sweden', 'Spain', 'Mexico', 'Brazil',\n",
    "                             'India', 'Peru', 'Australia', 'U.K.',\n",
    "                             'Indonesia', 'Tahiland', 'Philippines', 'Ivory Coast', 'U.S.A.']"
   ]
  },
  {
   "cell_type": "code",
   "execution_count": 49,
   "id": "aerial-lottery",
   "metadata": {},
   "outputs": [],
   "source": [
    "df_train['Best Production'] = df_train['Company Location'].apply(lambda x: int(x in best_production_countries))\n",
    "df_test['Best Production'] = df_train['Company Location'].apply(lambda x: int(x in best_production_countries))"
   ]
  },
  {
   "cell_type": "code",
   "execution_count": 50,
   "id": "opening-manitoba",
   "metadata": {},
   "outputs": [
    {
     "data": {
      "text/html": [
       "<div>\n",
       "<style scoped>\n",
       "    .dataframe tbody tr th:only-of-type {\n",
       "        vertical-align: middle;\n",
       "    }\n",
       "\n",
       "    .dataframe tbody tr th {\n",
       "        vertical-align: top;\n",
       "    }\n",
       "\n",
       "    .dataframe thead th {\n",
       "        text-align: right;\n",
       "    }\n",
       "</style>\n",
       "<table border=\"1\" class=\"dataframe\">\n",
       "  <thead>\n",
       "    <tr style=\"text-align: right;\">\n",
       "      <th></th>\n",
       "      <th>MeanRating</th>\n",
       "      <th>StdRating</th>\n",
       "      <th>Count</th>\n",
       "    </tr>\n",
       "    <tr>\n",
       "      <th>Best Production</th>\n",
       "      <th></th>\n",
       "      <th></th>\n",
       "      <th></th>\n",
       "    </tr>\n",
       "  </thead>\n",
       "  <tbody>\n",
       "    <tr>\n",
       "      <th>0</th>\n",
       "      <td>3.265753</td>\n",
       "      <td>0.448508</td>\n",
       "      <td>365</td>\n",
       "    </tr>\n",
       "    <tr>\n",
       "      <th>1</th>\n",
       "      <td>3.156357</td>\n",
       "      <td>0.465288</td>\n",
       "      <td>873</td>\n",
       "    </tr>\n",
       "  </tbody>\n",
       "</table>\n",
       "</div>"
      ],
      "text/plain": [
       "                 MeanRating  StdRating  Count\n",
       "Best Production                              \n",
       "0                  3.265753   0.448508    365\n",
       "1                  3.156357   0.465288    873"
      ]
     },
     "execution_count": 50,
     "metadata": {},
     "output_type": "execute_result"
    }
   ],
   "source": [
    "df_train.groupby('Best Production').agg(MeanRating=('Rating', 'mean'),\n",
    "                                        StdRating=('Rating', 'std'),\n",
    "                                        Count=('Best Production', 'count'))"
   ]
  },
  {
   "cell_type": "markdown",
   "id": "alpine-wayne",
   "metadata": {},
   "source": [
    "### Best Bean Type"
   ]
  },
  {
   "cell_type": "code",
   "execution_count": 51,
   "id": "independent-intellectual",
   "metadata": {},
   "outputs": [],
   "source": [
    "best_beans_list = ['Criollo', 'Trinitario'] \n",
    "df_train['Best Bean Type'] = df_train['Bean Type'].apply(lambda x: int(any([i in x for i in best_beans_list])))\n",
    "df_test['Best Bean Type'] = df_train['Bean Type'].apply(lambda x: int(any([i in x for i in best_beans_list])))"
   ]
  },
  {
   "cell_type": "code",
   "execution_count": 52,
   "id": "opposite-alberta",
   "metadata": {},
   "outputs": [
    {
     "data": {
      "text/html": [
       "<div>\n",
       "<style scoped>\n",
       "    .dataframe tbody tr th:only-of-type {\n",
       "        vertical-align: middle;\n",
       "    }\n",
       "\n",
       "    .dataframe tbody tr th {\n",
       "        vertical-align: top;\n",
       "    }\n",
       "\n",
       "    .dataframe thead th {\n",
       "        text-align: right;\n",
       "    }\n",
       "</style>\n",
       "<table border=\"1\" class=\"dataframe\">\n",
       "  <thead>\n",
       "    <tr style=\"text-align: right;\">\n",
       "      <th></th>\n",
       "      <th>MeanRating</th>\n",
       "      <th>StdRating</th>\n",
       "      <th>Count</th>\n",
       "    </tr>\n",
       "    <tr>\n",
       "      <th>Best Bean Type</th>\n",
       "      <th></th>\n",
       "      <th></th>\n",
       "      <th></th>\n",
       "    </tr>\n",
       "  </thead>\n",
       "  <tbody>\n",
       "    <tr>\n",
       "      <th>0</th>\n",
       "      <td>3.192308</td>\n",
       "      <td>0.508119</td>\n",
       "      <td>169</td>\n",
       "    </tr>\n",
       "    <tr>\n",
       "      <th>1</th>\n",
       "      <td>3.188026</td>\n",
       "      <td>0.455621</td>\n",
       "      <td>1069</td>\n",
       "    </tr>\n",
       "  </tbody>\n",
       "</table>\n",
       "</div>"
      ],
      "text/plain": [
       "                MeanRating  StdRating  Count\n",
       "Best Bean Type                              \n",
       "0                 3.192308   0.508119    169\n",
       "1                 3.188026   0.455621   1069"
      ]
     },
     "execution_count": 52,
     "metadata": {},
     "output_type": "execute_result"
    }
   ],
   "source": [
    "df_train.groupby('Best Bean Type').agg(MeanRating=('Rating', 'mean'),\n",
    "                                       StdRating=('Rating', 'std'),\n",
    "                                       Count=('Best Bean Type', 'count'))"
   ]
  },
  {
   "cell_type": "code",
   "execution_count": 53,
   "id": "rapid-adjustment",
   "metadata": {},
   "outputs": [],
   "source": [
    "df_train.drop('Best Bean Type', axis=1, inplace=True)\n",
    "df_test.drop('Best Bean Type', axis=1, inplace=True)"
   ]
  },
  {
   "cell_type": "markdown",
   "id": "prime-binary",
   "metadata": {},
   "source": [
    "### Multiple Bean Origins"
   ]
  },
  {
   "cell_type": "code",
   "execution_count": 115,
   "id": "organized-muscle",
   "metadata": {},
   "outputs": [],
   "source": [
    "def multiple_names(string):\n",
    "    answer = 0\n",
    "    for i  in [',', '&']:\n",
    "        if i in string:\n",
    "            answer = 1\n",
    "    return answer\n",
    "\n",
    "df_train['Multiple Broad Bean Origins'] = df_train['Broad Bean Origin'].apply(lambda x: multiple_names(x))\n",
    "df_test['Multiple Broad Bean Origins'] = df_test['Broad Bean Origin'].apply(lambda x: multiple_names(x))"
   ]
  },
  {
   "cell_type": "code",
   "execution_count": 116,
   "id": "pretty-tennessee",
   "metadata": {},
   "outputs": [
    {
     "data": {
      "text/html": [
       "<div>\n",
       "<style scoped>\n",
       "    .dataframe tbody tr th:only-of-type {\n",
       "        vertical-align: middle;\n",
       "    }\n",
       "\n",
       "    .dataframe tbody tr th {\n",
       "        vertical-align: top;\n",
       "    }\n",
       "\n",
       "    .dataframe thead th {\n",
       "        text-align: right;\n",
       "    }\n",
       "</style>\n",
       "<table border=\"1\" class=\"dataframe\">\n",
       "  <thead>\n",
       "    <tr style=\"text-align: right;\">\n",
       "      <th></th>\n",
       "      <th>MeanRating</th>\n",
       "      <th>StdRating</th>\n",
       "      <th>Count</th>\n",
       "    </tr>\n",
       "    <tr>\n",
       "      <th>Multiple Broad Bean Origins</th>\n",
       "      <th></th>\n",
       "      <th></th>\n",
       "      <th></th>\n",
       "    </tr>\n",
       "  </thead>\n",
       "  <tbody>\n",
       "    <tr>\n",
       "      <th>0</th>\n",
       "      <td>3.182365</td>\n",
       "      <td>0.461776</td>\n",
       "      <td>1205</td>\n",
       "    </tr>\n",
       "    <tr>\n",
       "      <th>1</th>\n",
       "      <td>3.416667</td>\n",
       "      <td>0.453574</td>\n",
       "      <td>33</td>\n",
       "    </tr>\n",
       "  </tbody>\n",
       "</table>\n",
       "</div>"
      ],
      "text/plain": [
       "                             MeanRating  StdRating  Count\n",
       "Multiple Broad Bean Origins                              \n",
       "0                              3.182365   0.461776   1205\n",
       "1                              3.416667   0.453574     33"
      ]
     },
     "execution_count": 116,
     "metadata": {},
     "output_type": "execute_result"
    }
   ],
   "source": [
    "df_train.groupby('Multiple Broad Bean Origins').agg(\n",
    "    MeanRating=('Rating', 'mean'),\n",
    "    StdRating=('Rating', 'std'),\n",
    "    Count=('Multiple Broad Bean Origins', 'count'))"
   ]
  },
  {
   "cell_type": "markdown",
   "id": "eastern-consensus",
   "metadata": {},
   "source": [
    "### Some features from Specific Bean Origin"
   ]
  },
  {
   "cell_type": "code",
   "execution_count": 144,
   "id": "damaged-colorado",
   "metadata": {},
   "outputs": [],
   "source": [
    "df_train['SBO Complex'] = df_train['Specific Bean Origin'].apply(lambda x: int(x.count(' ') > 0))\n",
    "df_test['SBO Complex'] = df_test['Specific Bean Origin'].apply(lambda x: (x.count(' ') > 0))"
   ]
  },
  {
   "cell_type": "code",
   "execution_count": 145,
   "id": "enabling-fisher",
   "metadata": {},
   "outputs": [
    {
     "data": {
      "text/html": [
       "<div>\n",
       "<style scoped>\n",
       "    .dataframe tbody tr th:only-of-type {\n",
       "        vertical-align: middle;\n",
       "    }\n",
       "\n",
       "    .dataframe tbody tr th {\n",
       "        vertical-align: top;\n",
       "    }\n",
       "\n",
       "    .dataframe thead th {\n",
       "        text-align: right;\n",
       "    }\n",
       "</style>\n",
       "<table border=\"1\" class=\"dataframe\">\n",
       "  <thead>\n",
       "    <tr style=\"text-align: right;\">\n",
       "      <th></th>\n",
       "      <th>Rating</th>\n",
       "    </tr>\n",
       "    <tr>\n",
       "      <th>SBO Complex</th>\n",
       "      <th></th>\n",
       "    </tr>\n",
       "  </thead>\n",
       "  <tbody>\n",
       "    <tr>\n",
       "      <th>0</th>\n",
       "      <td>3.125992</td>\n",
       "    </tr>\n",
       "    <tr>\n",
       "      <th>1</th>\n",
       "      <td>3.231608</td>\n",
       "    </tr>\n",
       "  </tbody>\n",
       "</table>\n",
       "</div>"
      ],
      "text/plain": [
       "               Rating\n",
       "SBO Complex          \n",
       "0            3.125992\n",
       "1            3.231608"
      ]
     },
     "execution_count": 145,
     "metadata": {},
     "output_type": "execute_result"
    }
   ],
   "source": [
    "df_train.groupby('SBO Complex').agg({'Rating': 'mean'})"
   ]
  },
  {
   "cell_type": "code",
   "execution_count": 148,
   "id": "technological-occasion",
   "metadata": {},
   "outputs": [],
   "source": [
    "df_train.drop('SBO Complex', axis=1, inplace=True)\n",
    "df_test.drop('SBO Complex', axis=1, inplace=True)"
   ]
  },
  {
   "cell_type": "markdown",
   "id": "understood-marijuana",
   "metadata": {},
   "source": [
    "#### Found even better lol"
   ]
  },
  {
   "cell_type": "code",
   "execution_count": 149,
   "id": "physical-ownership",
   "metadata": {},
   "outputs": [],
   "source": [
    "df_train['SBO Complexity'] = df_train['Specific Bean Origin'].apply(lambda x: x.count(' '))\n",
    "df_test['SBO Complexity'] = df_test['Specific Bean Origin'].apply(lambda x: x.count(' '))"
   ]
  },
  {
   "cell_type": "code",
   "execution_count": 165,
   "id": "better-favor",
   "metadata": {},
   "outputs": [
    {
     "data": {
      "text/html": [
       "<div>\n",
       "<style scoped>\n",
       "    .dataframe tbody tr th:only-of-type {\n",
       "        vertical-align: middle;\n",
       "    }\n",
       "\n",
       "    .dataframe tbody tr th {\n",
       "        vertical-align: top;\n",
       "    }\n",
       "\n",
       "    .dataframe thead th {\n",
       "        text-align: right;\n",
       "    }\n",
       "</style>\n",
       "<table border=\"1\" class=\"dataframe\">\n",
       "  <thead>\n",
       "    <tr style=\"text-align: right;\">\n",
       "      <th></th>\n",
       "      <th>Rating</th>\n",
       "      <th>SBO Complexity</th>\n",
       "    </tr>\n",
       "    <tr>\n",
       "      <th>SBO Complexity</th>\n",
       "      <th></th>\n",
       "      <th></th>\n",
       "    </tr>\n",
       "  </thead>\n",
       "  <tbody>\n",
       "    <tr>\n",
       "      <th>0</th>\n",
       "      <td>3.125992</td>\n",
       "      <td>504</td>\n",
       "    </tr>\n",
       "    <tr>\n",
       "      <th>1</th>\n",
       "      <td>3.200311</td>\n",
       "      <td>322</td>\n",
       "    </tr>\n",
       "    <tr>\n",
       "      <th>2</th>\n",
       "      <td>3.214286</td>\n",
       "      <td>175</td>\n",
       "    </tr>\n",
       "    <tr>\n",
       "      <th>3</th>\n",
       "      <td>3.198718</td>\n",
       "      <td>117</td>\n",
       "    </tr>\n",
       "    <tr>\n",
       "      <th>4</th>\n",
       "      <td>3.313380</td>\n",
       "      <td>71</td>\n",
       "    </tr>\n",
       "    <tr>\n",
       "      <th>5</th>\n",
       "      <td>3.387097</td>\n",
       "      <td>31</td>\n",
       "    </tr>\n",
       "    <tr>\n",
       "      <th>6</th>\n",
       "      <td>3.576923</td>\n",
       "      <td>13</td>\n",
       "    </tr>\n",
       "    <tr>\n",
       "      <th>7</th>\n",
       "      <td>3.600000</td>\n",
       "      <td>5</td>\n",
       "    </tr>\n",
       "  </tbody>\n",
       "</table>\n",
       "</div>"
      ],
      "text/plain": [
       "                  Rating  SBO Complexity\n",
       "SBO Complexity                          \n",
       "0               3.125992             504\n",
       "1               3.200311             322\n",
       "2               3.214286             175\n",
       "3               3.198718             117\n",
       "4               3.313380              71\n",
       "5               3.387097              31\n",
       "6               3.576923              13\n",
       "7               3.600000               5"
      ]
     },
     "execution_count": 165,
     "metadata": {},
     "output_type": "execute_result"
    }
   ],
   "source": [
    "df_train.groupby('SBO Complexity').agg({'Rating': 'mean', 'SBO Complexity': 'count'})"
   ]
  },
  {
   "cell_type": "code",
   "execution_count": null,
   "id": "acute-manner",
   "metadata": {},
   "outputs": [],
   "source": []
  },
  {
   "cell_type": "code",
   "execution_count": null,
   "id": "demanding-overview",
   "metadata": {},
   "outputs": [],
   "source": []
  },
  {
   "cell_type": "code",
   "execution_count": null,
   "id": "printable-training",
   "metadata": {},
   "outputs": [],
   "source": []
  },
  {
   "cell_type": "code",
   "execution_count": null,
   "id": "mathematical-briefs",
   "metadata": {},
   "outputs": [],
   "source": []
  },
  {
   "cell_type": "markdown",
   "id": "sealed-elizabeth",
   "metadata": {},
   "source": [
    "## Feature selection"
   ]
  },
  {
   "cell_type": "code",
   "execution_count": 167,
   "id": "global-rates",
   "metadata": {},
   "outputs": [
    {
     "data": {
      "image/png": "[encoded data removed]",
      "text/plain": [
       "<Figure size 720x360 with 1 Axes>"
      ]
     },
     "metadata": {
      "needs_background": "light"
     },
     "output_type": "display_data"
    }
   ],
   "source": [
    "def distribution(data, title, x_label, y_label, figsize=(10,5)):\n",
    "    plt.figure(figsize=figsize)\n",
    "    plt.style.use('seaborn-pastel')\n",
    "    density = sns.barplot(x=data.index, y=data.values)\n",
    "    title = plt.title(title, fontdict={'fontsize': 20})\n",
    "    plt.xlabel(x_label)\n",
    "    plt.ylabel(y_label)\n",
    "plt.show()\n",
    "\n",
    "rating_cocoa_percent_dist = df_train.groupby('Rating')['REF'].mean()\n",
    "\n",
    "distribution(data=rating_cocoa_percent_dist,\n",
    "             title='Mean REF in rating',\n",
    "             x_label='Rating',\n",
    "             y_label='REF')"
   ]
  },
  {
   "cell_type": "code",
   "execution_count": 168,
   "id": "lightweight-european",
   "metadata": {},
   "outputs": [],
   "source": [
    "train_rating = df_train.Rating\n",
    "df_train.drop('Rating', axis=1, inplace=True)\n",
    "df_train['Rating'] = train_rating"
   ]
  },
  {
   "cell_type": "code",
   "execution_count": 170,
   "id": "olive-ethiopia",
   "metadata": {},
   "outputs": [
    {
     "data": {
      "image/png": "[encoded data removed]",
      "text/plain": [
       "<Figure size 1080x864 with 2 Axes>"
      ]
     },
     "metadata": {
      "needs_background": "light"
     },
     "output_type": "display_data"
    }
   ],
   "source": [
    "plt.figure(figsize = (15, 12))\n",
    "plt.rcParams.update({\n",
    "    'xtick.labelsize': 15,\n",
    "    'ytick.labelsize': 15,\n",
    "})\n",
    "sns.heatmap(df_train.corr(), annot=True, cmap=\"Blues\")\n",
    "\n",
    "plt.show()"
   ]
  },
  {
   "cell_type": "markdown",
   "id": "integral-cooperative",
   "metadata": {},
   "source": [
    "## Correlation matrix (categorical features)"
   ]
  },
  {
   "cell_type": "code",
   "execution_count": 171,
   "id": "permanent-romantic",
   "metadata": {},
   "outputs": [
    {
     "data": {
      "text/html": [
       "<div>\n",
       "<style scoped>\n",
       "    .dataframe tbody tr th:only-of-type {\n",
       "        vertical-align: middle;\n",
       "    }\n",
       "\n",
       "    .dataframe tbody tr th {\n",
       "        vertical-align: top;\n",
       "    }\n",
       "\n",
       "    .dataframe thead th {\n",
       "        text-align: right;\n",
       "    }\n",
       "</style>\n",
       "<table border=\"1\" class=\"dataframe\">\n",
       "  <thead>\n",
       "    <tr style=\"text-align: right;\">\n",
       "      <th></th>\n",
       "      <th>Company</th>\n",
       "      <th>Specific Bean Origin</th>\n",
       "      <th>Company Location</th>\n",
       "      <th>Bean Type</th>\n",
       "      <th>Broad Bean Origin</th>\n",
       "      <th>Broad Company Location</th>\n",
       "      <th>Bean Origin World</th>\n",
       "    </tr>\n",
       "  </thead>\n",
       "  <tbody>\n",
       "    <tr>\n",
       "      <th>Company</th>\n",
       "      <td>1.000000</td>\n",
       "      <td>0.771841</td>\n",
       "      <td>0.999651</td>\n",
       "      <td>0.614687</td>\n",
       "      <td>0.601312</td>\n",
       "      <td>0.998263</td>\n",
       "      <td>0.630717</td>\n",
       "    </tr>\n",
       "    <tr>\n",
       "      <th>Specific Bean Origin</th>\n",
       "      <td>0.771841</td>\n",
       "      <td>1.000000</td>\n",
       "      <td>0.809275</td>\n",
       "      <td>0.907372</td>\n",
       "      <td>0.987266</td>\n",
       "      <td>0.843617</td>\n",
       "      <td>0.993407</td>\n",
       "    </tr>\n",
       "    <tr>\n",
       "      <th>Company Location</th>\n",
       "      <td>0.999651</td>\n",
       "      <td>0.809275</td>\n",
       "      <td>1.000000</td>\n",
       "      <td>0.287900</td>\n",
       "      <td>0.377435</td>\n",
       "      <td>1.000000</td>\n",
       "      <td>0.362958</td>\n",
       "    </tr>\n",
       "    <tr>\n",
       "      <th>Bean Type</th>\n",
       "      <td>0.614687</td>\n",
       "      <td>0.907372</td>\n",
       "      <td>0.287900</td>\n",
       "      <td>1.000000</td>\n",
       "      <td>0.369430</td>\n",
       "      <td>0.284869</td>\n",
       "      <td>0.370867</td>\n",
       "    </tr>\n",
       "    <tr>\n",
       "      <th>Broad Bean Origin</th>\n",
       "      <td>0.601312</td>\n",
       "      <td>0.987266</td>\n",
       "      <td>0.377435</td>\n",
       "      <td>0.369430</td>\n",
       "      <td>1.000000</td>\n",
       "      <td>0.438698</td>\n",
       "      <td>1.000000</td>\n",
       "    </tr>\n",
       "    <tr>\n",
       "      <th>Broad Company Location</th>\n",
       "      <td>0.998263</td>\n",
       "      <td>0.843617</td>\n",
       "      <td>1.000000</td>\n",
       "      <td>0.284869</td>\n",
       "      <td>0.438698</td>\n",
       "      <td>1.000000</td>\n",
       "      <td>0.295619</td>\n",
       "    </tr>\n",
       "    <tr>\n",
       "      <th>Bean Origin World</th>\n",
       "      <td>0.630717</td>\n",
       "      <td>0.993407</td>\n",
       "      <td>0.362958</td>\n",
       "      <td>0.370867</td>\n",
       "      <td>1.000000</td>\n",
       "      <td>0.295619</td>\n",
       "      <td>1.000000</td>\n",
       "    </tr>\n",
       "  </tbody>\n",
       "</table>\n",
       "</div>"
      ],
      "text/plain": [
       "                         Company  Specific Bean Origin  Company Location  \\\n",
       "Company                 1.000000              0.771841          0.999651   \n",
       "Specific Bean Origin    0.771841              1.000000          0.809275   \n",
       "Company Location        0.999651              0.809275          1.000000   \n",
       "Bean Type               0.614687              0.907372          0.287900   \n",
       "Broad Bean Origin       0.601312              0.987266          0.377435   \n",
       "Broad Company Location  0.998263              0.843617          1.000000   \n",
       "Bean Origin World       0.630717              0.993407          0.362958   \n",
       "\n",
       "                        Bean Type  Broad Bean Origin  Broad Company Location  \\\n",
       "Company                  0.614687           0.601312                0.998263   \n",
       "Specific Bean Origin     0.907372           0.987266                0.843617   \n",
       "Company Location         0.287900           0.377435                1.000000   \n",
       "Bean Type                1.000000           0.369430                0.284869   \n",
       "Broad Bean Origin        0.369430           1.000000                0.438698   \n",
       "Broad Company Location   0.284869           0.438698                1.000000   \n",
       "Bean Origin World        0.370867           1.000000                0.295619   \n",
       "\n",
       "                        Bean Origin World  \n",
       "Company                          0.630717  \n",
       "Specific Bean Origin             0.993407  \n",
       "Company Location                 0.362958  \n",
       "Bean Type                        0.370867  \n",
       "Broad Bean Origin                1.000000  \n",
       "Broad Company Location           0.295619  \n",
       "Bean Origin World                1.000000  "
      ]
     },
     "execution_count": 171,
     "metadata": {},
     "output_type": "execute_result"
    }
   ],
   "source": [
    "import association_metrics as am\n",
    "\n",
    "XC = df_train.apply(lambda x: x.astype(\"category\") if x.dtype == \"object\" else x)\n",
    "cramersv = am.CramersV(XC)\n",
    "cramersv.fit()"
   ]
  },
  {
   "cell_type": "code",
   "execution_count": 172,
   "id": "civilian-request",
   "metadata": {},
   "outputs": [],
   "source": [
    "df_train_backup = df_train.copy()\n",
    "df_test_backup = df_test.copy()"
   ]
  },
  {
   "cell_type": "code",
   "execution_count": 173,
   "id": "female-green",
   "metadata": {},
   "outputs": [],
   "source": [
    "#df_train = df_train_backup\n",
    "#df_test = df_test_backup"
   ]
  },
  {
   "cell_type": "code",
   "execution_count": 174,
   "id": "further-barcelona",
   "metadata": {},
   "outputs": [],
   "source": [
    "#df_train.drop(['Specific Bean Origin'], axis=1, inplace=True)\n",
    "#df_test.drop(['Specific Bean Origin'], axis=1, inplace=True)"
   ]
  },
  {
   "cell_type": "code",
   "execution_count": 175,
   "id": "mineral-apparel",
   "metadata": {},
   "outputs": [],
   "source": [
    "df_train = df_train.drop(['Review'], axis=1)\n",
    "df_test = df_test.drop(['Review'], axis=1)"
   ]
  },
  {
   "cell_type": "code",
   "execution_count": null,
   "id": "domestic-complexity",
   "metadata": {},
   "outputs": [],
   "source": []
  },
  {
   "cell_type": "code",
   "execution_count": null,
   "id": "thirty-payday",
   "metadata": {},
   "outputs": [],
   "source": []
  },
  {
   "cell_type": "code",
   "execution_count": null,
   "id": "distinguished-power",
   "metadata": {},
   "outputs": [],
   "source": []
  },
  {
   "cell_type": "code",
   "execution_count": null,
   "id": "double-uganda",
   "metadata": {},
   "outputs": [],
   "source": []
  },
  {
   "cell_type": "code",
   "execution_count": null,
   "id": "designing-particular",
   "metadata": {},
   "outputs": [],
   "source": []
  },
  {
   "cell_type": "code",
   "execution_count": null,
   "id": "middle-particle",
   "metadata": {},
   "outputs": [],
   "source": []
  },
  {
   "cell_type": "markdown",
   "id": "answering-logging",
   "metadata": {},
   "source": [
    "# CatBoost with new features"
   ]
  },
  {
   "cell_type": "code",
   "execution_count": 176,
   "id": "better-kruger",
   "metadata": {},
   "outputs": [],
   "source": [
    "X = df_train.drop('Rating', axis=1)\n",
    "y = df_train.Rating\n",
    "\n",
    "X_train, X_val, y_train, y_val = train_test_split(X, y, test_size=0.2, random_state=42)"
   ]
  },
  {
   "cell_type": "code",
   "execution_count": 177,
   "id": "tired-vehicle",
   "metadata": {},
   "outputs": [
    {
     "data": {
      "text/plain": [
       "array([0, 1, 4, 5, 6, 8, 9])"
      ]
     },
     "execution_count": 177,
     "metadata": {},
     "output_type": "execute_result"
    }
   ],
   "source": [
    "categorical_features_indices = np.where(X.dtypes == object)[0]\n",
    "categorical_features_indices"
   ]
  },
  {
   "cell_type": "code",
   "execution_count": 179,
   "id": "iraqi-criterion",
   "metadata": {},
   "outputs": [
    {
     "data": {
      "text/plain": [
       "0.17626220902219925"
      ]
     },
     "execution_count": 179,
     "metadata": {},
     "output_type": "execute_result"
    }
   ],
   "source": [
    "model = CatBoostRegressor()\n",
    "\n",
    "model.fit(X_train, y_train,\n",
    "         cat_features=categorical_features_indices,\n",
    "         eval_set=(X_val, y_val),\n",
    "         logging_level='Silent')\n",
    "\n",
    "pred = model.predict(X_val)\n",
    "\n",
    "r2_score(y_val, pred)"
   ]
  },
  {
   "cell_type": "code",
   "execution_count": 180,
   "id": "alternative-portrait",
   "metadata": {},
   "outputs": [
    {
     "data": {
      "text/html": [
       "<div>\n",
       "<style scoped>\n",
       "    .dataframe tbody tr th:only-of-type {\n",
       "        vertical-align: middle;\n",
       "    }\n",
       "\n",
       "    .dataframe tbody tr th {\n",
       "        vertical-align: top;\n",
       "    }\n",
       "\n",
       "    .dataframe thead th {\n",
       "        text-align: right;\n",
       "    }\n",
       "</style>\n",
       "<table border=\"1\" class=\"dataframe\">\n",
       "  <thead>\n",
       "    <tr style=\"text-align: right;\">\n",
       "      <th></th>\n",
       "      <th>Feature</th>\n",
       "      <th>Importance</th>\n",
       "    </tr>\n",
       "  </thead>\n",
       "  <tbody>\n",
       "    <tr>\n",
       "      <th>0</th>\n",
       "      <td>Company</td>\n",
       "      <td>22.692018</td>\n",
       "    </tr>\n",
       "    <tr>\n",
       "      <th>2</th>\n",
       "      <td>REF</td>\n",
       "      <td>14.579249</td>\n",
       "    </tr>\n",
       "    <tr>\n",
       "      <th>3</th>\n",
       "      <td>Cocoa Percent</td>\n",
       "      <td>11.883109</td>\n",
       "    </tr>\n",
       "    <tr>\n",
       "      <th>5</th>\n",
       "      <td>Bean Type</td>\n",
       "      <td>9.766239</td>\n",
       "    </tr>\n",
       "    <tr>\n",
       "      <th>6</th>\n",
       "      <td>Broad Bean Origin</td>\n",
       "      <td>8.478997</td>\n",
       "    </tr>\n",
       "    <tr>\n",
       "      <th>4</th>\n",
       "      <td>Company Location</td>\n",
       "      <td>8.252392</td>\n",
       "    </tr>\n",
       "    <tr>\n",
       "      <th>9</th>\n",
       "      <td>Bean Origin World</td>\n",
       "      <td>7.521131</td>\n",
       "    </tr>\n",
       "    <tr>\n",
       "      <th>8</th>\n",
       "      <td>Broad Company Location</td>\n",
       "      <td>5.597352</td>\n",
       "    </tr>\n",
       "    <tr>\n",
       "      <th>12</th>\n",
       "      <td>SBO Complexity</td>\n",
       "      <td>5.205838</td>\n",
       "    </tr>\n",
       "    <tr>\n",
       "      <th>1</th>\n",
       "      <td>Specific Bean Origin</td>\n",
       "      <td>4.201800</td>\n",
       "    </tr>\n",
       "    <tr>\n",
       "      <th>10</th>\n",
       "      <td>Best Production</td>\n",
       "      <td>0.927189</td>\n",
       "    </tr>\n",
       "    <tr>\n",
       "      <th>11</th>\n",
       "      <td>Multiple Broad Bean Origins</td>\n",
       "      <td>0.767601</td>\n",
       "    </tr>\n",
       "    <tr>\n",
       "      <th>7</th>\n",
       "      <td>Matched Regions</td>\n",
       "      <td>0.127085</td>\n",
       "    </tr>\n",
       "  </tbody>\n",
       "</table>\n",
       "</div>"
      ],
      "text/plain": [
       "                        Feature  Importance\n",
       "0                       Company   22.692018\n",
       "2                           REF   14.579249\n",
       "3                 Cocoa Percent   11.883109\n",
       "5                     Bean Type    9.766239\n",
       "6             Broad Bean Origin    8.478997\n",
       "4              Company Location    8.252392\n",
       "9             Bean Origin World    7.521131\n",
       "8        Broad Company Location    5.597352\n",
       "12               SBO Complexity    5.205838\n",
       "1          Specific Bean Origin    4.201800\n",
       "10              Best Production    0.927189\n",
       "11  Multiple Broad Bean Origins    0.767601\n",
       "7               Matched Regions    0.127085"
      ]
     },
     "execution_count": 180,
     "metadata": {},
     "output_type": "execute_result"
    }
   ],
   "source": [
    "pd.DataFrame({'Feature': model.feature_names_, \"Importance\": model.feature_importances_})\\\n",
    "    .sort_values(by='Importance', ascending=False)"
   ]
  },
  {
   "cell_type": "markdown",
   "id": "addressed-carbon",
   "metadata": {},
   "source": [
    "## CatBoost hyperparameters tuning"
   ]
  },
  {
   "cell_type": "code",
   "execution_count": 188,
   "id": "acoustic-midnight",
   "metadata": {},
   "outputs": [
    {
     "name": "stderr",
     "output_type": "stream",
     "text": [
      "[I 2023-07-10 01:13:47,819] A new study created in memory with name: no-name-38a61e0e-7c1f-4450-b622-ef5fbf8c1cf7\n",
      "[I 2023-07-10 01:13:48,170] Trial 0 finished with value: 0.17680134749877802 and parameters: {'n_estimators': 36, 'max_depth': 1}. Best is trial 0 with value: 0.17680134749877802.\n",
      "[I 2023-07-10 01:13:49,416] Trial 2 finished with value: 0.17522868488163254 and parameters: {'n_estimators': 601, 'max_depth': 2}. Best is trial 2 with value: 0.17522868488163254.\n",
      "[I 2023-07-10 01:13:50,083] Trial 5 finished with value: 0.18358209493031397 and parameters: {'n_estimators': 90, 'max_depth': 6}. Best is trial 2 with value: 0.17522868488163254.\n",
      "[I 2023-07-10 01:13:50,364] Trial 1 finished with value: 0.1976620039417624 and parameters: {'n_estimators': 159, 'max_depth': 9}. Best is trial 2 with value: 0.17522868488163254.\n",
      "[I 2023-07-10 01:13:51,202] Trial 6 finished with value: 0.17810484198055182 and parameters: {'n_estimators': 876, 'max_depth': 1}. Best is trial 2 with value: 0.17522868488163254.\n",
      "[I 2023-07-10 01:13:51,933] Trial 4 finished with value: 0.18256873639965984 and parameters: {'n_estimators': 748, 'max_depth': 4}. Best is trial 2 with value: 0.17522868488163254.\n",
      "[I 2023-07-10 01:13:52,516] Trial 9 finished with value: 0.1787319122394631 and parameters: {'n_estimators': 390, 'max_depth': 1}. Best is trial 2 with value: 0.17522868488163254.\n",
      "[I 2023-07-10 01:14:00,657] Trial 3 finished with value: 0.1858439255770025 and parameters: {'n_estimators': 866, 'max_depth': 7}. Best is trial 2 with value: 0.17522868488163254.\n",
      "[I 2023-07-10 01:14:02,131] Trial 11 finished with value: 0.20954921346458152 and parameters: {'n_estimators': 54, 'max_depth': 9}. Best is trial 2 with value: 0.17522868488163254.\n",
      "[I 2023-07-10 01:14:03,652] Trial 12 finished with value: 0.18446264301706522 and parameters: {'n_estimators': 199, 'max_depth': 7}. Best is trial 2 with value: 0.17522868488163254.\n",
      "[I 2023-07-10 01:14:06,113] Trial 10 finished with value: 0.20360036293894077 and parameters: {'n_estimators': 242, 'max_depth': 9}. Best is trial 2 with value: 0.17522868488163254.\n",
      "[I 2023-07-10 01:14:07,090] Trial 13 finished with value: 0.1829811515740058 and parameters: {'n_estimators': 601, 'max_depth': 4}. Best is trial 2 with value: 0.17522868488163254.\n",
      "[I 2023-07-10 01:14:08,799] Trial 14 finished with value: 0.17987283652510372 and parameters: {'n_estimators': 618, 'max_depth': 3}. Best is trial 2 with value: 0.17522868488163254.\n",
      "[I 2023-07-10 01:14:09,453] Trial 15 finished with value: 0.18145024606823384 and parameters: {'n_estimators': 494, 'max_depth': 3}. Best is trial 2 with value: 0.17522868488163254.\n",
      "[I 2023-07-10 01:14:10,307] Trial 16 finished with value: 0.17567539446229496 and parameters: {'n_estimators': 407, 'max_depth': 2}. Best is trial 2 with value: 0.17522868488163254.\n",
      "[I 2023-07-10 01:14:10,627] Trial 17 finished with value: 0.17405547796126156 and parameters: {'n_estimators': 340, 'max_depth': 2}. Best is trial 17 with value: 0.17405547796126156.\n",
      "[I 2023-07-10 01:14:11,794] Trial 18 finished with value: 0.183862839398498 and parameters: {'n_estimators': 384, 'max_depth': 3}. Best is trial 17 with value: 0.17405547796126156.\n",
      "[I 2023-07-10 01:14:13,549] Trial 19 finished with value: 0.18249726449581413 and parameters: {'n_estimators': 318, 'max_depth': 5}. Best is trial 17 with value: 0.17405547796126156.\n",
      "[I 2023-07-10 01:14:26,563] Trial 7 finished with value: 0.19898212928272474 and parameters: {'n_estimators': 804, 'max_depth': 10}. Best is trial 17 with value: 0.17405547796126156.\n",
      "[I 2023-07-10 01:14:28,623] Trial 8 finished with value: 0.1950969233103458 and parameters: {'n_estimators': 891, 'max_depth': 9}. Best is trial 17 with value: 0.17405547796126156.\n"
     ]
    },
    {
     "name": "stdout",
     "output_type": "stream",
     "text": [
      "FrozenTrial(number=17, state=TrialState.COMPLETE, values=[0.17405547796126156], datetime_start=datetime.datetime(2023, 7, 10, 1, 14, 9, 455744), datetime_complete=datetime.datetime(2023, 7, 10, 1, 14, 10, 627092), params={'n_estimators': 340, 'max_depth': 2}, user_attrs={}, system_attrs={}, intermediate_values={}, distributions={'n_estimators': IntDistribution(high=1000, log=False, low=10, step=1), 'max_depth': IntDistribution(high=10, log=False, low=1, step=1)}, trial_id=17, value=None)\n"
     ]
    }
   ],
   "source": [
    "def objective(trial):\n",
    "\n",
    "    param = {\n",
    "        \"n_estimators\": trial.suggest_int(\"n_estimators\", 10, 1000),\n",
    "        \"max_depth\": trial.suggest_int(\"max_depth\", 1, 10),\n",
    "        #\"learning_rate\": trial.suggest_float(\"learning_rate\", 0.001, 0.1, step=0.001)\n",
    "        #\"min_child_samples\": trial.suggest_categorical('min_child_samples', [1, 4, 8, 16, 32])\n",
    "    }\n",
    "\n",
    "    estimator = CatBoostRegressor(**param,\n",
    "                                  cat_features=categorical_features_indices,\n",
    "                                  custom_metric='R2',\n",
    "                                  verbose=False)\n",
    "\n",
    "    estimator.fit(X_train, y_train)\n",
    "    pred = estimator.predict(X_val)\n",
    "\n",
    "    return mean_squared_error(y_val, pred)\n",
    "\n",
    "study = optuna.create_study(direction=\"minimize\")\n",
    "study.optimize(objective, n_trials=20, n_jobs=-1)\n",
    "print(study.best_trial)"
   ]
  },
  {
   "cell_type": "code",
   "execution_count": 189,
   "id": "scenic-symphony",
   "metadata": {},
   "outputs": [
    {
     "name": "stdout",
     "output_type": "stream",
     "text": [
      "{'n_estimators': 340, 'max_depth': 2}\n"
     ]
    }
   ],
   "source": [
    "print(study.best_trial.params)"
   ]
  },
  {
   "cell_type": "code",
   "execution_count": 190,
   "id": "raising-gazette",
   "metadata": {},
   "outputs": [
    {
     "data": {
      "text/plain": [
       "0.20085787533139765"
      ]
     },
     "execution_count": 190,
     "metadata": {},
     "output_type": "execute_result"
    }
   ],
   "source": [
    "model = CatBoostRegressor(**study.best_params,\n",
    "                         cat_features=categorical_features_indices,\n",
    "                         logging_level='Silent')\n",
    "\n",
    "model.fit(X_train, y_train)\n",
    "pred_cb = model.predict(X_val)\n",
    "\n",
    "r2_score(y_val, pred_cb)"
   ]
  },
  {
   "cell_type": "markdown",
   "id": "dimensional-oregon",
   "metadata": {},
   "source": [
    "That's better already, let's try it on test"
   ]
  },
  {
   "cell_type": "code",
   "execution_count": 191,
   "id": "packed-northern",
   "metadata": {},
   "outputs": [
    {
     "data": {
      "text/html": [
       "<div>\n",
       "<style scoped>\n",
       "    .dataframe tbody tr th:only-of-type {\n",
       "        vertical-align: middle;\n",
       "    }\n",
       "\n",
       "    .dataframe tbody tr th {\n",
       "        vertical-align: top;\n",
       "    }\n",
       "\n",
       "    .dataframe thead th {\n",
       "        text-align: right;\n",
       "    }\n",
       "</style>\n",
       "<table border=\"1\" class=\"dataframe\">\n",
       "  <thead>\n",
       "    <tr style=\"text-align: right;\">\n",
       "      <th></th>\n",
       "      <th>Feature</th>\n",
       "      <th>Importance</th>\n",
       "    </tr>\n",
       "  </thead>\n",
       "  <tbody>\n",
       "    <tr>\n",
       "      <th>0</th>\n",
       "      <td>Company</td>\n",
       "      <td>32.773916</td>\n",
       "    </tr>\n",
       "    <tr>\n",
       "      <th>2</th>\n",
       "      <td>REF</td>\n",
       "      <td>16.254289</td>\n",
       "    </tr>\n",
       "    <tr>\n",
       "      <th>3</th>\n",
       "      <td>Cocoa Percent</td>\n",
       "      <td>13.577335</td>\n",
       "    </tr>\n",
       "    <tr>\n",
       "      <th>5</th>\n",
       "      <td>Bean Type</td>\n",
       "      <td>9.341390</td>\n",
       "    </tr>\n",
       "    <tr>\n",
       "      <th>12</th>\n",
       "      <td>SBO Complexity</td>\n",
       "      <td>7.141879</td>\n",
       "    </tr>\n",
       "    <tr>\n",
       "      <th>6</th>\n",
       "      <td>Broad Bean Origin</td>\n",
       "      <td>5.259355</td>\n",
       "    </tr>\n",
       "    <tr>\n",
       "      <th>4</th>\n",
       "      <td>Company Location</td>\n",
       "      <td>4.825514</td>\n",
       "    </tr>\n",
       "    <tr>\n",
       "      <th>9</th>\n",
       "      <td>Bean Origin World</td>\n",
       "      <td>4.713373</td>\n",
       "    </tr>\n",
       "    <tr>\n",
       "      <th>8</th>\n",
       "      <td>Broad Company Location</td>\n",
       "      <td>2.506789</td>\n",
       "    </tr>\n",
       "    <tr>\n",
       "      <th>1</th>\n",
       "      <td>Specific Bean Origin</td>\n",
       "      <td>1.734076</td>\n",
       "    </tr>\n",
       "    <tr>\n",
       "      <th>11</th>\n",
       "      <td>Multiple Broad Bean Origins</td>\n",
       "      <td>1.133049</td>\n",
       "    </tr>\n",
       "    <tr>\n",
       "      <th>10</th>\n",
       "      <td>Best Production</td>\n",
       "      <td>0.739034</td>\n",
       "    </tr>\n",
       "    <tr>\n",
       "      <th>7</th>\n",
       "      <td>Matched Regions</td>\n",
       "      <td>0.000000</td>\n",
       "    </tr>\n",
       "  </tbody>\n",
       "</table>\n",
       "</div>"
      ],
      "text/plain": [
       "                        Feature  Importance\n",
       "0                       Company   32.773916\n",
       "2                           REF   16.254289\n",
       "3                 Cocoa Percent   13.577335\n",
       "5                     Bean Type    9.341390\n",
       "12               SBO Complexity    7.141879\n",
       "6             Broad Bean Origin    5.259355\n",
       "4              Company Location    4.825514\n",
       "9             Bean Origin World    4.713373\n",
       "8        Broad Company Location    2.506789\n",
       "1          Specific Bean Origin    1.734076\n",
       "11  Multiple Broad Bean Origins    1.133049\n",
       "10              Best Production    0.739034\n",
       "7               Matched Regions    0.000000"
      ]
     },
     "execution_count": 191,
     "metadata": {},
     "output_type": "execute_result"
    }
   ],
   "source": [
    "pd.DataFrame({'Feature': model.feature_names_, \"Importance\": model.feature_importances_})\\\n",
    "    .sort_values(by='Importance', ascending=False)"
   ]
  },
  {
   "cell_type": "markdown",
   "id": "advised-dakota",
   "metadata": {},
   "source": [
    "## Apply tuned CatBoost to test"
   ]
  },
  {
   "cell_type": "code",
   "execution_count": 192,
   "id": "japanese-circulation",
   "metadata": {},
   "outputs": [
    {
     "data": {
      "text/plain": [
       "<catboost.core.CatBoostRegressor at 0x7fbc75f47090>"
      ]
     },
     "execution_count": 192,
     "metadata": {},
     "output_type": "execute_result"
    }
   ],
   "source": [
    "model.fit(X, y)"
   ]
  },
  {
   "cell_type": "code",
   "execution_count": 193,
   "id": "loving-allen",
   "metadata": {},
   "outputs": [
    {
     "data": {
      "text/plain": [
       "array([3.13093208, 3.16207826, 3.06543733, 3.23889833, 3.01544022,\n",
       "       2.94600052, 3.15209495, 3.10413658, 3.17778902, 2.77479738])"
      ]
     },
     "execution_count": 193,
     "metadata": {},
     "output_type": "execute_result"
    }
   ],
   "source": [
    "pred_test = model.predict(df_test)\n",
    "pred_test[:10]"
   ]
  },
  {
   "cell_type": "code",
   "execution_count": 194,
   "id": "dress-grant",
   "metadata": {},
   "outputs": [],
   "source": [
    "df_submission = df_test.copy()\n",
    "df_submission['id'] = np.arange(len(df_test))\n",
    "df_submission['Rating'] = pred_test\n",
    "df_submission = df_submission[['id','Rating']]\n",
    "df_submission.to_csv(\"CatBoost_v9.csv\", index=False)"
   ]
  },
  {
   "cell_type": "code",
   "execution_count": 197,
   "id": "liberal-money",
   "metadata": {},
   "outputs": [
    {
     "name": "stdout",
     "output_type": "stream",
     "text": [
      "Index(['Company', 'Specific Bean Origin', 'REF', 'Cocoa Percent',\n",
      "       'Company Location', 'Bean Type', 'Broad Bean Origin', 'Matched Regions',\n",
      "       'Broad Company Location', 'Bean Origin World', 'Best Production',\n",
      "       'Multiple Broad Bean Origins', 'SBO Complexity', 'Rating'],\n",
      "      dtype='object')\n"
     ]
    }
   ],
   "source": [
    "print(df_train.columns)"
   ]
  },
  {
   "cell_type": "code",
   "execution_count": 199,
   "id": "whole-sheet",
   "metadata": {},
   "outputs": [
    {
     "name": "stdout",
     "output_type": "stream",
     "text": [
      "{'n_estimators': 340, 'max_depth': 2}\n"
     ]
    }
   ],
   "source": [
    "print(study.best_trial.params)"
   ]
  },
  {
   "cell_type": "markdown",
   "id": "contrary-contents",
   "metadata": {},
   "source": [
    "With above features and hyperparameters I managed to get r2 = 0.18431"
   ]
  },
  {
   "cell_type": "code",
   "execution_count": null,
   "id": "mediterranean-company",
   "metadata": {},
   "outputs": [],
   "source": []
  }
 ],
 "metadata": {
  "kernelspec": {
   "display_name": "Python 3 (ipykernel)",
   "language": "python",
   "name": "python3"
  },
  "language_info": {
   "codemirror_mode": {
    "name": "ipython",
    "version": 3
   },
   "file_extension": ".py",
   "mimetype": "text/x-python",
   "name": "python",
   "nbconvert_exporter": "python",
   "pygments_lexer": "ipython3",
   "version": "3.7.7"
  }
 },
 "nbformat": 4,
 "nbformat_minor": 5
}
