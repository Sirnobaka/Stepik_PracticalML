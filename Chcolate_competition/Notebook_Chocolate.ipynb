{
 "cells": [
  {
   "cell_type": "code",
   "execution_count": 63,
   "id": "valuable-fusion",
   "metadata": {},
   "outputs": [],
   "source": [
    "import math\n",
    "import numpy as np\n",
    "from scipy import stats\n",
    "import matplotlib.pyplot as plt\n",
    "import pandas as pd\n",
    "import seaborn as sns\n",
    "import random\n",
    "\n",
    "%matplotlib inline\n",
    "plt.rcParams.update({\n",
    "        'font.size': 14,\n",
    "        'axes.titlesize': 20,\n",
    "        'axes.labelsize': 20,\n",
    "        'xtick.labelsize': 20,\n",
    "        'ytick.labelsize': 20,\n",
    "        'font.size': 20,\n",
    "        'figure.figsize': (10, 7),\n",
    "        'axes.grid': True,\n",
    "        'grid.linestyle': '-',\n",
    "        'grid.alpha': 0.3,\n",
    "        'lines.markersize': 5.0,\n",
    "        'xtick.minor.visible': True,\n",
    "        'xtick.direction': 'in',\n",
    "        'xtick.major.size': 20.0,\n",
    "        'xtick.minor.size': 10.0,\n",
    "        'xtick.top': False,\n",
    "        'xtick.bottom': True,\n",
    "        'ytick.minor.visible': True,\n",
    "        'ytick.direction': 'in',\n",
    "        'ytick.major.size': 12.0,\n",
    "        'ytick.minor.size': 6.0,\n",
    "        'ytick.right': True,\n",
    "        'errorbar.capsize': 0.0,\n",
    "    })\n",
    "\n",
    "# https://www.kaggle.com/competitions/practical-ml-chocolate/data\n",
    "# https://www.kaggle.com/datasets/rtatman/chocolate-bar-ratings/"
   ]
  },
  {
   "cell_type": "markdown",
   "id": "promotional-candle",
   "metadata": {},
   "source": [
    "# Get data"
   ]
  },
  {
   "cell_type": "code",
   "execution_count": 64,
   "id": "elegant-sleeping",
   "metadata": {},
   "outputs": [
    {
     "data": {
      "text/html": [
       "<div>\n",
       "<style scoped>\n",
       "    .dataframe tbody tr th:only-of-type {\n",
       "        vertical-align: middle;\n",
       "    }\n",
       "\n",
       "    .dataframe tbody tr th {\n",
       "        vertical-align: top;\n",
       "    }\n",
       "\n",
       "    .dataframe thead th {\n",
       "        text-align: right;\n",
       "    }\n",
       "</style>\n",
       "<table border=\"1\" class=\"dataframe\">\n",
       "  <thead>\n",
       "    <tr style=\"text-align: right;\">\n",
       "      <th></th>\n",
       "      <th>Company</th>\n",
       "      <th>Specific Bean Origin</th>\n",
       "      <th>REF</th>\n",
       "      <th>Review</th>\n",
       "      <th>Cocoa Percent</th>\n",
       "      <th>Company Location</th>\n",
       "      <th>Rating</th>\n",
       "      <th>Bean Type</th>\n",
       "      <th>Broad Bean Origin</th>\n",
       "    </tr>\n",
       "  </thead>\n",
       "  <tbody>\n",
       "    <tr>\n",
       "      <th>0</th>\n",
       "      <td>Willie's Cacao</td>\n",
       "      <td>Rio Caribe</td>\n",
       "      <td>457</td>\n",
       "      <td>2009</td>\n",
       "      <td>72%</td>\n",
       "      <td>U.K.</td>\n",
       "      <td>3.25</td>\n",
       "      <td>Trinitario</td>\n",
       "      <td>Venezuela</td>\n",
       "    </tr>\n",
       "    <tr>\n",
       "      <th>1</th>\n",
       "      <td>Beschle (Felchlin)</td>\n",
       "      <td>Ocumare, Premier Cru, Quizas No. 2</td>\n",
       "      <td>508</td>\n",
       "      <td>2010</td>\n",
       "      <td>72%</td>\n",
       "      <td>Switzerland</td>\n",
       "      <td>3.50</td>\n",
       "      <td></td>\n",
       "      <td>Venezuela</td>\n",
       "    </tr>\n",
       "    <tr>\n",
       "      <th>2</th>\n",
       "      <td>Dark Forest</td>\n",
       "      <td>Tanzania</td>\n",
       "      <td>1554</td>\n",
       "      <td>2015</td>\n",
       "      <td>70%</td>\n",
       "      <td>U.S.A.</td>\n",
       "      <td>3.00</td>\n",
       "      <td></td>\n",
       "      <td>Tanzania</td>\n",
       "    </tr>\n",
       "    <tr>\n",
       "      <th>3</th>\n",
       "      <td>Brasstown aka It's Chocolate</td>\n",
       "      <td>Cooproagro</td>\n",
       "      <td>1125</td>\n",
       "      <td>2013</td>\n",
       "      <td>72%</td>\n",
       "      <td>U.S.A.</td>\n",
       "      <td>3.00</td>\n",
       "      <td>Trinitario</td>\n",
       "      <td>Dominican Republic</td>\n",
       "    </tr>\n",
       "    <tr>\n",
       "      <th>4</th>\n",
       "      <td>Pralus</td>\n",
       "      <td>Java, Indonesie</td>\n",
       "      <td>32</td>\n",
       "      <td>2006</td>\n",
       "      <td>75%</td>\n",
       "      <td>France</td>\n",
       "      <td>3.50</td>\n",
       "      <td>Criollo</td>\n",
       "      <td>Indonesia</td>\n",
       "    </tr>\n",
       "  </tbody>\n",
       "</table>\n",
       "</div>"
      ],
      "text/plain": [
       "                        Company                Specific Bean Origin   REF  \\\n",
       "0                Willie's Cacao                          Rio Caribe   457   \n",
       "1            Beschle (Felchlin)  Ocumare, Premier Cru, Quizas No. 2   508   \n",
       "2                   Dark Forest                            Tanzania  1554   \n",
       "3  Brasstown aka It's Chocolate                          Cooproagro  1125   \n",
       "4                        Pralus                     Java, Indonesie    32   \n",
       "\n",
       "   Review Cocoa Percent Company Location  Rating   Bean Type  \\\n",
       "0    2009           72%             U.K.    3.25  Trinitario   \n",
       "1    2010           72%      Switzerland    3.50               \n",
       "2    2015           70%           U.S.A.    3.00               \n",
       "3    2013           72%           U.S.A.    3.00  Trinitario   \n",
       "4    2006           75%           France    3.50     Criollo   \n",
       "\n",
       "    Broad Bean Origin  \n",
       "0           Venezuela  \n",
       "1           Venezuela  \n",
       "2            Tanzania  \n",
       "3  Dominican Republic  \n",
       "4           Indonesia  "
      ]
     },
     "execution_count": 64,
     "metadata": {},
     "output_type": "execute_result"
    }
   ],
   "source": [
    "df_train = pd.read_csv('chocolate_train.csv')\n",
    "df_test = pd.read_csv('chocolate_test_new.csv')\n",
    "df_full = pd.concat([df_train.drop('Rating', axis=1), df_test])\n",
    "df_train.head()"
   ]
  },
  {
   "cell_type": "code",
   "execution_count": 65,
   "id": "wired-stopping",
   "metadata": {},
   "outputs": [
    {
     "name": "stdout",
     "output_type": "stream",
     "text": [
      "Train data has 9 columns and 1255 rows\n",
      "Train data has 8 columns and 540 rows\n"
     ]
    }
   ],
   "source": [
    "print(f'Train data has {df_train.shape[1]} columns and {df_train.shape[0]} rows')\n",
    "print(f'Train data has {df_test.shape[1]} columns and {df_test.shape[0]} rows')"
   ]
  },
  {
   "cell_type": "code",
   "execution_count": 66,
   "id": "favorite-rhythm",
   "metadata": {},
   "outputs": [
    {
     "name": "stdout",
     "output_type": "stream",
     "text": [
      "<class 'pandas.core.frame.DataFrame'>\n",
      "RangeIndex: 1255 entries, 0 to 1254\n",
      "Data columns (total 9 columns):\n",
      " #   Column                Non-Null Count  Dtype  \n",
      "---  ------                --------------  -----  \n",
      " 0   Company               1255 non-null   object \n",
      " 1   Specific Bean Origin  1255 non-null   object \n",
      " 2   REF                   1255 non-null   int64  \n",
      " 3   Review                1255 non-null   int64  \n",
      " 4   Cocoa Percent         1255 non-null   object \n",
      " 5   Company Location      1255 non-null   object \n",
      " 6   Rating                1255 non-null   float64\n",
      " 7   Bean Type             1254 non-null   object \n",
      " 8   Broad Bean Origin     1254 non-null   object \n",
      "dtypes: float64(1), int64(2), object(6)\n",
      "memory usage: 88.4+ KB\n"
     ]
    }
   ],
   "source": [
    "df_train.info()"
   ]
  },
  {
   "cell_type": "code",
   "execution_count": 67,
   "id": "north-bunny",
   "metadata": {},
   "outputs": [],
   "source": [
    "# Make percentage float\n",
    "df_train['Cocoa Percent'] = df_train['Cocoa Percent'].apply(lambda x: float(x.strip('%')))\n",
    "df_test['Cocoa Percent'] = df_test['Cocoa Percent'].apply(lambda x: float(x.strip('%')))\n",
    "df_full['Cocoa Percent'] = df_full['Cocoa Percent'].apply(lambda x: float(x.strip('%')))"
   ]
  },
  {
   "cell_type": "code",
   "execution_count": 68,
   "id": "enhanced-platinum",
   "metadata": {},
   "outputs": [
    {
     "data": {
      "text/html": [
       "<div>\n",
       "<style scoped>\n",
       "    .dataframe tbody tr th:only-of-type {\n",
       "        vertical-align: middle;\n",
       "    }\n",
       "\n",
       "    .dataframe tbody tr th {\n",
       "        vertical-align: top;\n",
       "    }\n",
       "\n",
       "    .dataframe thead th {\n",
       "        text-align: right;\n",
       "    }\n",
       "</style>\n",
       "<table border=\"1\" class=\"dataframe\">\n",
       "  <thead>\n",
       "    <tr style=\"text-align: right;\">\n",
       "      <th></th>\n",
       "      <th>REF</th>\n",
       "      <th>Review</th>\n",
       "      <th>Cocoa Percent</th>\n",
       "      <th>Rating</th>\n",
       "    </tr>\n",
       "  </thead>\n",
       "  <tbody>\n",
       "    <tr>\n",
       "      <th>count</th>\n",
       "      <td>1255.000000</td>\n",
       "      <td>1255.000000</td>\n",
       "      <td>1255.000000</td>\n",
       "      <td>1255.000000</td>\n",
       "    </tr>\n",
       "    <tr>\n",
       "      <th>mean</th>\n",
       "      <td>1045.152191</td>\n",
       "      <td>2012.382470</td>\n",
       "      <td>71.790438</td>\n",
       "      <td>3.176494</td>\n",
       "    </tr>\n",
       "    <tr>\n",
       "      <th>std</th>\n",
       "      <td>551.284249</td>\n",
       "      <td>2.922499</td>\n",
       "      <td>6.397448</td>\n",
       "      <td>0.478948</td>\n",
       "    </tr>\n",
       "    <tr>\n",
       "      <th>min</th>\n",
       "      <td>5.000000</td>\n",
       "      <td>2006.000000</td>\n",
       "      <td>46.000000</td>\n",
       "      <td>1.000000</td>\n",
       "    </tr>\n",
       "    <tr>\n",
       "      <th>25%</th>\n",
       "      <td>593.000000</td>\n",
       "      <td>2010.000000</td>\n",
       "      <td>70.000000</td>\n",
       "      <td>2.750000</td>\n",
       "    </tr>\n",
       "    <tr>\n",
       "      <th>50%</th>\n",
       "      <td>1077.000000</td>\n",
       "      <td>2013.000000</td>\n",
       "      <td>70.000000</td>\n",
       "      <td>3.250000</td>\n",
       "    </tr>\n",
       "    <tr>\n",
       "      <th>75%</th>\n",
       "      <td>1514.000000</td>\n",
       "      <td>2015.000000</td>\n",
       "      <td>75.000000</td>\n",
       "      <td>3.500000</td>\n",
       "    </tr>\n",
       "    <tr>\n",
       "      <th>max</th>\n",
       "      <td>1952.000000</td>\n",
       "      <td>2017.000000</td>\n",
       "      <td>100.000000</td>\n",
       "      <td>5.000000</td>\n",
       "    </tr>\n",
       "  </tbody>\n",
       "</table>\n",
       "</div>"
      ],
      "text/plain": [
       "               REF       Review  Cocoa Percent       Rating\n",
       "count  1255.000000  1255.000000    1255.000000  1255.000000\n",
       "mean   1045.152191  2012.382470      71.790438     3.176494\n",
       "std     551.284249     2.922499       6.397448     0.478948\n",
       "min       5.000000  2006.000000      46.000000     1.000000\n",
       "25%     593.000000  2010.000000      70.000000     2.750000\n",
       "50%    1077.000000  2013.000000      70.000000     3.250000\n",
       "75%    1514.000000  2015.000000      75.000000     3.500000\n",
       "max    1952.000000  2017.000000     100.000000     5.000000"
      ]
     },
     "execution_count": 68,
     "metadata": {},
     "output_type": "execute_result"
    }
   ],
   "source": [
    "df_train.describe()"
   ]
  },
  {
   "cell_type": "markdown",
   "id": "loving-invalid",
   "metadata": {},
   "source": [
    "## Fill NaNs and empty cells"
   ]
  },
  {
   "cell_type": "code",
   "execution_count": 69,
   "id": "authorized-empty",
   "metadata": {},
   "outputs": [
    {
     "data": {
      "text/plain": [
       "Company                 0\n",
       "Specific Bean Origin    0\n",
       "REF                     0\n",
       "Review                  0\n",
       "Cocoa Percent           0\n",
       "Company Location        0\n",
       "Rating                  0\n",
       "Bean Type               1\n",
       "Broad Bean Origin       1\n",
       "dtype: int64"
      ]
     },
     "execution_count": 69,
     "metadata": {},
     "output_type": "execute_result"
    }
   ],
   "source": [
    "df_train.isna().sum()"
   ]
  },
  {
   "cell_type": "markdown",
   "id": "positive-bikini",
   "metadata": {},
   "source": [
    "We have more empty cell then NaNs, so replace them with NaNs"
   ]
  },
  {
   "cell_type": "code",
   "execution_count": 70,
   "id": "corporate-belize",
   "metadata": {},
   "outputs": [],
   "source": [
    "df_train = df_train.applymap(lambda x: np.nan if str(x).strip()==\"\\xa0\" else x)\n",
    "df_train = df_train.applymap(lambda x: np.nan if str(x).strip()==\"\" else x)\n",
    "\n",
    "df_test = df_test.applymap(lambda x: np.nan if str(x).strip()==\"\\xa0\" else x)\n",
    "df_test = df_test.applymap(lambda x: np.nan if str(x).strip()==\"\" else x)\n",
    "\n",
    "df_full = df_full.applymap(lambda x: np.nan if str(x).strip()==\"\\xa0\" else x)\n",
    "df_full = df_full.applymap(lambda x: np.nan if str(x).strip()==\"\" else x)"
   ]
  },
  {
   "cell_type": "code",
   "execution_count": 71,
   "id": "israeli-fellowship",
   "metadata": {},
   "outputs": [
    {
     "data": {
      "text/plain": [
       "Company                   0\n",
       "Specific Bean Origin      0\n",
       "REF                       0\n",
       "Review                    0\n",
       "Cocoa Percent             0\n",
       "Company Location          0\n",
       "Rating                    0\n",
       "Bean Type               629\n",
       "Broad Bean Origin        56\n",
       "dtype: int64"
      ]
     },
     "execution_count": 71,
     "metadata": {},
     "output_type": "execute_result"
    }
   ],
   "source": [
    "df_train.isna().sum()"
   ]
  },
  {
   "cell_type": "markdown",
   "id": "abandoned-wagner",
   "metadata": {},
   "source": [
    "### Bean Type"
   ]
  },
  {
   "cell_type": "code",
   "execution_count": 72,
   "id": "foster-alexander",
   "metadata": {},
   "outputs": [
    {
     "data": {
      "text/plain": [
       "Trinitario                  419\n",
       "Criollo                     153\n",
       "Forastero                    87\n",
       "Forastero (Nacional)         52\n",
       "Blend                        41\n",
       "Criollo, Trinitario          39\n",
       "Forastero (Arriba)           37\n",
       "Criollo (Porcelana)          10\n",
       "Trinitario, Criollo           9\n",
       "Forastero (Parazinho)         8\n",
       "Forastero (Arriba) ASS        6\n",
       "Beniano                       3\n",
       "EET                           3\n",
       "Nacional (Arriba)             3\n",
       "Matina                        3\n",
       "Criollo, Forastero            2\n",
       "Forastero (Catongo)           2\n",
       "Trinitario (85% Criollo)      2\n",
       "Nacional                      2\n",
       "Criollo (Ocumare 61)          2\n",
       "Amazon, ICS                   2\n",
       "Amazon mix                    2\n",
       "Criollo (Amarru)              2\n",
       "Trinitario, Forastero         2\n",
       "Trinitario (Scavina)          1\n",
       "Criollo (Ocumare 67)          1\n",
       "Trinitario, Nacional          1\n",
       "Criollo (Ocumare 77)          1\n",
       "Criollo, +                    1\n",
       "Trinitario, TCGA              1\n",
       "Amazon                        1\n",
       "Forastero, Trinitario         1\n",
       "Forastero(Arriba, CCN)        1\n",
       "Criollo (Wild)                1\n",
       "Blend-Forastero,Criollo       1\n",
       "Forastero (Arriba) ASSS       1\n",
       "CCN51                         1\n",
       "Criollo (Ocumare)             1\n",
       "Trinitario (Amelonado)        1\n",
       "Forastero (Amelonado)         1\n",
       "Name: Bean Type, dtype: int64"
      ]
     },
     "execution_count": 72,
     "metadata": {},
     "output_type": "execute_result"
    }
   ],
   "source": [
    "df_full['Bean Type'].value_counts()"
   ]
  },
  {
   "cell_type": "code",
   "execution_count": 73,
   "id": "refined-wisdom",
   "metadata": {},
   "outputs": [
    {
     "name": "stdout",
     "output_type": "stream",
     "text": [
      "Most porbable value of Bean Type -> Trinitario\n"
     ]
    }
   ],
   "source": [
    "mode_bean_type = df_full['Bean Type'].mode()[0]\n",
    "print('Most porbable value of Bean Type ->', mode_bean_type)"
   ]
  },
  {
   "cell_type": "markdown",
   "id": "broke-intersection",
   "metadata": {},
   "source": [
    "Now we have two options:\n",
    "* Replace all missing values in \"Bean Type\" with mode (\"Trinitario\")\n",
    "* Replace it with new value, i.e. \"Mixed\""
   ]
  },
  {
   "cell_type": "code",
   "execution_count": 74,
   "id": "subject-mountain",
   "metadata": {},
   "outputs": [],
   "source": [
    "# My initial solution\n",
    "\n",
    "df_train['Bean Type'].fillna('Mixed', inplace=True)\n",
    "df_test['Bean Type'].fillna('Mixed', inplace=True)\n",
    "df_full['Bean Type'].fillna('Mixed', inplace=True)"
   ]
  },
  {
   "cell_type": "markdown",
   "id": "stunning-combat",
   "metadata": {},
   "source": [
    "### Common Bean Type"
   ]
  },
  {
   "cell_type": "code",
   "execution_count": 75,
   "id": "unlimited-chair",
   "metadata": {},
   "outputs": [],
   "source": [
    "common_bean_types = ['Trinitario', 'Criollo', 'Forastero']\n",
    "\n",
    "def common_bean(s):\n",
    "    answer = 'Other'\n",
    "    for i in common_bean_types:\n",
    "        if i in s:\n",
    "            answer = i\n",
    "    return answer\n",
    "            \n",
    "df_train['Common Bean Type'] = df_train['Bean Type'].apply(lambda x: common_bean(x))\n",
    "df_test['Common Bean Type'] = df_test['Bean Type'].apply(lambda x: common_bean(x))\n",
    "df_full['Common Bean Type'] = df_full['Bean Type'].apply(lambda x: common_bean(x))"
   ]
  },
  {
   "cell_type": "code",
   "execution_count": 76,
   "id": "interesting-version",
   "metadata": {},
   "outputs": [
    {
     "data": {
      "text/html": [
       "<div>\n",
       "<style scoped>\n",
       "    .dataframe tbody tr th:only-of-type {\n",
       "        vertical-align: middle;\n",
       "    }\n",
       "\n",
       "    .dataframe tbody tr th {\n",
       "        vertical-align: top;\n",
       "    }\n",
       "\n",
       "    .dataframe thead th {\n",
       "        text-align: right;\n",
       "    }\n",
       "</style>\n",
       "<table border=\"1\" class=\"dataframe\">\n",
       "  <thead>\n",
       "    <tr style=\"text-align: right;\">\n",
       "      <th></th>\n",
       "      <th>Rating</th>\n",
       "    </tr>\n",
       "    <tr>\n",
       "      <th>Common Bean Type</th>\n",
       "      <th></th>\n",
       "    </tr>\n",
       "  </thead>\n",
       "  <tbody>\n",
       "    <tr>\n",
       "      <th>Criollo</th>\n",
       "      <td>3.229299</td>\n",
       "    </tr>\n",
       "    <tr>\n",
       "      <th>Forastero</th>\n",
       "      <td>3.093750</td>\n",
       "    </tr>\n",
       "    <tr>\n",
       "      <th>Other</th>\n",
       "      <td>3.146772</td>\n",
       "    </tr>\n",
       "    <tr>\n",
       "      <th>Trinitario</th>\n",
       "      <td>3.257812</td>\n",
       "    </tr>\n",
       "  </tbody>\n",
       "</table>\n",
       "</div>"
      ],
      "text/plain": [
       "                    Rating\n",
       "Common Bean Type          \n",
       "Criollo           3.229299\n",
       "Forastero         3.093750\n",
       "Other             3.146772\n",
       "Trinitario        3.257812"
      ]
     },
     "execution_count": 76,
     "metadata": {},
     "output_type": "execute_result"
    }
   ],
   "source": [
    "df_train.groupby('Common Bean Type').agg({'Rating': np.mean})"
   ]
  },
  {
   "cell_type": "markdown",
   "id": "disciplinary-tuner",
   "metadata": {},
   "source": [
    "### Broad Bean Origin"
   ]
  },
  {
   "cell_type": "code",
   "execution_count": 77,
   "id": "russian-delicious",
   "metadata": {},
   "outputs": [
    {
     "data": {
      "text/plain": [
       "Venezuela             214\n",
       "Ecuador               193\n",
       "Peru                  165\n",
       "Madagascar            145\n",
       "Dominican Republic    141\n",
       "Nicaragua              60\n",
       "Brazil                 58\n",
       "Bolivia                57\n",
       "Belize                 49\n",
       "Papua New Guinea       42\n",
       "Name: Broad Bean Origin, dtype: int64"
      ]
     },
     "execution_count": 77,
     "metadata": {},
     "output_type": "execute_result"
    }
   ],
   "source": [
    "df_full['Broad Bean Origin'].value_counts()[:10]"
   ]
  },
  {
   "cell_type": "code",
   "execution_count": 78,
   "id": "architectural-republican",
   "metadata": {},
   "outputs": [
    {
     "name": "stdout",
     "output_type": "stream",
     "text": [
      "Most porbable value of Broad Bean Origin -> Venezuela\n"
     ]
    }
   ],
   "source": [
    "mode_broad_bean_origin = df_full['Broad Bean Origin'].mode()[0]\n",
    "print('Most porbable value of Broad Bean Origin ->', mode_broad_bean_origin)"
   ]
  },
  {
   "cell_type": "markdown",
   "id": "crucial-crash",
   "metadata": {},
   "source": [
    "One possible solution is to eplace it with 'Mixed' value as we don't have the obovious origin"
   ]
  },
  {
   "cell_type": "code",
   "execution_count": 79,
   "id": "abstract-minority",
   "metadata": {},
   "outputs": [],
   "source": [
    "# My initial solution\n",
    "\n",
    "df_train['Broad Bean Origin'].fillna('Unknown', inplace=True)\n",
    "df_test['Broad Bean Origin'].fillna('Unknown', inplace=True)\n",
    "df_full['Broad Bean Origin'].fillna('Unknown', inplace=True)"
   ]
  },
  {
   "cell_type": "code",
   "execution_count": 80,
   "id": "desperate-clark",
   "metadata": {},
   "outputs": [
    {
     "data": {
      "text/html": [
       "<div>\n",
       "<style scoped>\n",
       "    .dataframe tbody tr th:only-of-type {\n",
       "        vertical-align: middle;\n",
       "    }\n",
       "\n",
       "    .dataframe tbody tr th {\n",
       "        vertical-align: top;\n",
       "    }\n",
       "\n",
       "    .dataframe thead th {\n",
       "        text-align: right;\n",
       "    }\n",
       "</style>\n",
       "<table border=\"1\" class=\"dataframe\">\n",
       "  <thead>\n",
       "    <tr style=\"text-align: right;\">\n",
       "      <th></th>\n",
       "      <th>MeanRating</th>\n",
       "      <th>Count</th>\n",
       "    </tr>\n",
       "    <tr>\n",
       "      <th>Broad Bean Origin</th>\n",
       "      <th></th>\n",
       "      <th></th>\n",
       "    </tr>\n",
       "  </thead>\n",
       "  <tbody>\n",
       "    <tr>\n",
       "      <th>Venezuela</th>\n",
       "      <td>3.236111</td>\n",
       "      <td>144</td>\n",
       "    </tr>\n",
       "    <tr>\n",
       "      <th>Ecuador</th>\n",
       "      <td>3.110915</td>\n",
       "      <td>142</td>\n",
       "    </tr>\n",
       "    <tr>\n",
       "      <th>Peru</th>\n",
       "      <td>3.151639</td>\n",
       "      <td>122</td>\n",
       "    </tr>\n",
       "    <tr>\n",
       "      <th>Dominican Republic</th>\n",
       "      <td>3.194712</td>\n",
       "      <td>104</td>\n",
       "    </tr>\n",
       "    <tr>\n",
       "      <th>Madagascar</th>\n",
       "      <td>3.252427</td>\n",
       "      <td>103</td>\n",
       "    </tr>\n",
       "    <tr>\n",
       "      <th>Unknown</th>\n",
       "      <td>2.941964</td>\n",
       "      <td>56</td>\n",
       "    </tr>\n",
       "    <tr>\n",
       "      <th>Brazil</th>\n",
       "      <td>3.255814</td>\n",
       "      <td>43</td>\n",
       "    </tr>\n",
       "    <tr>\n",
       "      <th>Nicaragua</th>\n",
       "      <td>3.178571</td>\n",
       "      <td>42</td>\n",
       "    </tr>\n",
       "    <tr>\n",
       "      <th>Bolivia</th>\n",
       "      <td>3.160714</td>\n",
       "      <td>42</td>\n",
       "    </tr>\n",
       "    <tr>\n",
       "      <th>Belize</th>\n",
       "      <td>3.233333</td>\n",
       "      <td>30</td>\n",
       "    </tr>\n",
       "    <tr>\n",
       "      <th>Vietnam</th>\n",
       "      <td>3.327586</td>\n",
       "      <td>29</td>\n",
       "    </tr>\n",
       "    <tr>\n",
       "      <th>Tanzania</th>\n",
       "      <td>3.203704</td>\n",
       "      <td>27</td>\n",
       "    </tr>\n",
       "    <tr>\n",
       "      <th>Colombia</th>\n",
       "      <td>3.134615</td>\n",
       "      <td>26</td>\n",
       "    </tr>\n",
       "    <tr>\n",
       "      <th>Costa Rica</th>\n",
       "      <td>3.076923</td>\n",
       "      <td>26</td>\n",
       "    </tr>\n",
       "    <tr>\n",
       "      <th>Ghana</th>\n",
       "      <td>3.125000</td>\n",
       "      <td>24</td>\n",
       "    </tr>\n",
       "    <tr>\n",
       "      <th>Papua New Guinea</th>\n",
       "      <td>3.293478</td>\n",
       "      <td>23</td>\n",
       "    </tr>\n",
       "    <tr>\n",
       "      <th>Trinidad</th>\n",
       "      <td>3.152174</td>\n",
       "      <td>23</td>\n",
       "    </tr>\n",
       "    <tr>\n",
       "      <th>Mexico</th>\n",
       "      <td>2.916667</td>\n",
       "      <td>18</td>\n",
       "    </tr>\n",
       "    <tr>\n",
       "      <th>Guatemala</th>\n",
       "      <td>3.421875</td>\n",
       "      <td>16</td>\n",
       "    </tr>\n",
       "    <tr>\n",
       "      <th>Domincan Republic</th>\n",
       "      <td>3.156250</td>\n",
       "      <td>16</td>\n",
       "    </tr>\n",
       "  </tbody>\n",
       "</table>\n",
       "</div>"
      ],
      "text/plain": [
       "                    MeanRating  Count\n",
       "Broad Bean Origin                    \n",
       "Venezuela             3.236111    144\n",
       "Ecuador               3.110915    142\n",
       "Peru                  3.151639    122\n",
       "Dominican Republic    3.194712    104\n",
       "Madagascar            3.252427    103\n",
       "Unknown               2.941964     56\n",
       "Brazil                3.255814     43\n",
       "Nicaragua             3.178571     42\n",
       "Bolivia               3.160714     42\n",
       "Belize                3.233333     30\n",
       "Vietnam               3.327586     29\n",
       "Tanzania              3.203704     27\n",
       "Colombia              3.134615     26\n",
       "Costa Rica            3.076923     26\n",
       "Ghana                 3.125000     24\n",
       "Papua New Guinea      3.293478     23\n",
       "Trinidad              3.152174     23\n",
       "Mexico                2.916667     18\n",
       "Guatemala             3.421875     16\n",
       "Domincan Republic     3.156250     16"
      ]
     },
     "execution_count": 80,
     "metadata": {},
     "output_type": "execute_result"
    }
   ],
   "source": [
    "df_train.groupby('Broad Bean Origin')\\\n",
    "    .agg(MeanRating=('Rating', 'mean'), Count=('Broad Bean Origin', 'count'))\\\n",
    "    .sort_values(by=['Count', 'MeanRating'], ascending=[False, False])[:20]"
   ]
  },
  {
   "cell_type": "markdown",
   "id": "objective-skill",
   "metadata": {},
   "source": [
    "### Company"
   ]
  },
  {
   "cell_type": "code",
   "execution_count": 81,
   "id": "growing-column",
   "metadata": {},
   "outputs": [
    {
     "data": {
      "text/html": [
       "<div>\n",
       "<style scoped>\n",
       "    .dataframe tbody tr th:only-of-type {\n",
       "        vertical-align: middle;\n",
       "    }\n",
       "\n",
       "    .dataframe tbody tr th {\n",
       "        vertical-align: top;\n",
       "    }\n",
       "\n",
       "    .dataframe thead th {\n",
       "        text-align: right;\n",
       "    }\n",
       "</style>\n",
       "<table border=\"1\" class=\"dataframe\">\n",
       "  <thead>\n",
       "    <tr style=\"text-align: right;\">\n",
       "      <th></th>\n",
       "      <th>MeanRating</th>\n",
       "      <th>Count</th>\n",
       "    </tr>\n",
       "    <tr>\n",
       "      <th>Company</th>\n",
       "      <th></th>\n",
       "      <th></th>\n",
       "    </tr>\n",
       "  </thead>\n",
       "  <tbody>\n",
       "    <tr>\n",
       "      <th>Soma</th>\n",
       "      <td>3.614286</td>\n",
       "      <td>35</td>\n",
       "    </tr>\n",
       "    <tr>\n",
       "      <th>Bonnat</th>\n",
       "      <td>3.387500</td>\n",
       "      <td>20</td>\n",
       "    </tr>\n",
       "    <tr>\n",
       "      <th>A. Morin</th>\n",
       "      <td>3.394737</td>\n",
       "      <td>19</td>\n",
       "    </tr>\n",
       "    <tr>\n",
       "      <th>Fresco</th>\n",
       "      <td>3.426471</td>\n",
       "      <td>17</td>\n",
       "    </tr>\n",
       "    <tr>\n",
       "      <th>Arete</th>\n",
       "      <td>3.468750</td>\n",
       "      <td>16</td>\n",
       "    </tr>\n",
       "    <tr>\n",
       "      <th>Pralus</th>\n",
       "      <td>3.453125</td>\n",
       "      <td>16</td>\n",
       "    </tr>\n",
       "    <tr>\n",
       "      <th>Valrhona</th>\n",
       "      <td>3.296875</td>\n",
       "      <td>16</td>\n",
       "    </tr>\n",
       "    <tr>\n",
       "      <th>Hotel Chocolat (Coppeneur)</th>\n",
       "      <td>3.000000</td>\n",
       "      <td>15</td>\n",
       "    </tr>\n",
       "    <tr>\n",
       "      <th>Rogue</th>\n",
       "      <td>3.446429</td>\n",
       "      <td>14</td>\n",
       "    </tr>\n",
       "    <tr>\n",
       "      <th>Artisan du Chocolat</th>\n",
       "      <td>2.982143</td>\n",
       "      <td>14</td>\n",
       "    </tr>\n",
       "    <tr>\n",
       "      <th>Domori</th>\n",
       "      <td>3.519231</td>\n",
       "      <td>13</td>\n",
       "    </tr>\n",
       "    <tr>\n",
       "      <th>Szanto Tibor</th>\n",
       "      <td>3.403846</td>\n",
       "      <td>13</td>\n",
       "    </tr>\n",
       "    <tr>\n",
       "      <th>Zotter</th>\n",
       "      <td>3.269231</td>\n",
       "      <td>13</td>\n",
       "    </tr>\n",
       "    <tr>\n",
       "      <th>Guittard</th>\n",
       "      <td>3.192308</td>\n",
       "      <td>13</td>\n",
       "    </tr>\n",
       "    <tr>\n",
       "      <th>Coppeneur</th>\n",
       "      <td>3.208333</td>\n",
       "      <td>12</td>\n",
       "    </tr>\n",
       "    <tr>\n",
       "      <th>Mast Brothers</th>\n",
       "      <td>3.166667</td>\n",
       "      <td>12</td>\n",
       "    </tr>\n",
       "    <tr>\n",
       "      <th>Scharffen Berger</th>\n",
       "      <td>3.363636</td>\n",
       "      <td>11</td>\n",
       "    </tr>\n",
       "    <tr>\n",
       "      <th>Dick Taylor</th>\n",
       "      <td>3.136364</td>\n",
       "      <td>11</td>\n",
       "    </tr>\n",
       "    <tr>\n",
       "      <th>Smooth Chocolator, The</th>\n",
       "      <td>3.575000</td>\n",
       "      <td>10</td>\n",
       "    </tr>\n",
       "    <tr>\n",
       "      <th>Duffy's</th>\n",
       "      <td>3.425000</td>\n",
       "      <td>10</td>\n",
       "    </tr>\n",
       "  </tbody>\n",
       "</table>\n",
       "</div>"
      ],
      "text/plain": [
       "                            MeanRating  Count\n",
       "Company                                      \n",
       "Soma                          3.614286     35\n",
       "Bonnat                        3.387500     20\n",
       "A. Morin                      3.394737     19\n",
       "Fresco                        3.426471     17\n",
       "Arete                         3.468750     16\n",
       "Pralus                        3.453125     16\n",
       "Valrhona                      3.296875     16\n",
       "Hotel Chocolat (Coppeneur)    3.000000     15\n",
       "Rogue                         3.446429     14\n",
       "Artisan du Chocolat           2.982143     14\n",
       "Domori                        3.519231     13\n",
       "Szanto Tibor                  3.403846     13\n",
       "Zotter                        3.269231     13\n",
       "Guittard                      3.192308     13\n",
       "Coppeneur                     3.208333     12\n",
       "Mast Brothers                 3.166667     12\n",
       "Scharffen Berger              3.363636     11\n",
       "Dick Taylor                   3.136364     11\n",
       "Smooth Chocolator, The        3.575000     10\n",
       "Duffy's                       3.425000     10"
      ]
     },
     "execution_count": 81,
     "metadata": {},
     "output_type": "execute_result"
    }
   ],
   "source": [
    "df_train.groupby('Company')\\\n",
    "    .agg(MeanRating=('Rating', 'mean'), Count=('Company', 'count'))\\\n",
    "    .sort_values(by=['Count', 'MeanRating'], ascending=[False, False])[:20]"
   ]
  },
  {
   "cell_type": "code",
   "execution_count": null,
   "id": "decent-faith",
   "metadata": {},
   "outputs": [],
   "source": []
  },
  {
   "cell_type": "code",
   "execution_count": null,
   "id": "gross-celebrity",
   "metadata": {},
   "outputs": [],
   "source": []
  },
  {
   "cell_type": "markdown",
   "id": "accurate-distinction",
   "metadata": {},
   "source": [
    "# Feature engineering"
   ]
  },
  {
   "cell_type": "markdown",
   "id": "otherwise-license",
   "metadata": {},
   "source": [
    "Some ideas I already tried:\n",
    "* Broad company location (Africa, Caribbean, etc)\n",
    "* Broader cocoa bean origin (Africa, Caribbean, etc)\n",
    "* Best Companies (from internet sources)\n",
    "* Top cocoa bean production countries (amount and quality)\n",
    "\n",
    "More to try:\n",
    "* Company location matches broad bean origin\n",
    "* Analyze text of some features: Specific Bean Origin and Company"
   ]
  },
  {
   "cell_type": "markdown",
   "id": "prescribed-glenn",
   "metadata": {},
   "source": [
    "### Broad Locations (parts of the world)"
   ]
  },
  {
   "cell_type": "code",
   "execution_count": 82,
   "id": "alike-bennett",
   "metadata": {},
   "outputs": [],
   "source": [
    "broad_locations = {'Europe': ['U.K.', 'Switzerland', 'France', 'Belgium', 'Spain', 'Italy',\n",
    "                              'Austria', 'Sweden', 'Ireland', 'Poland', 'Hungary', 'Germany',\n",
    "                              'Denmark', 'Lithuania', 'Scotland', 'Finland', 'Iceland',\n",
    "                              'Amsterdam', 'Wales', 'Netherlands', 'Portugal', 'Czech Republic'],\n",
    "                   'North America': ['U.S.A.', 'Canada'],\n",
    "                   'Africa': ['Madagascar', 'South Africa', 'Ghana', 'Sao Tome', 'Tanzania',\n",
    "                              'Indonesia', 'Congo', 'Liberia', 'Principe', 'Sao Tome & Principe',\n",
    "                              'Gabon', 'Ivory Coast', 'Uganda', 'Nigeria', 'West Africa'],\n",
    "                   'Caribbean': ['Colombia', 'Venezuela', 'Honduras', 'Guatemala',\n",
    "                                 'Domincan Republic', 'Grenada', 'Puerto Rico', 'Costa Rica',\n",
    "                                 'St. Lucia', 'Nicaragua', 'Martinique', 'Niacragua', 'Cost Rica, Ven',\n",
    "                                 'Trinidad', 'Panama', 'Jamaica', 'Haiti', 'Cuba', 'Venezuela, Ghana',\n",
    "                                 'Ven.,Ecu.,Peru,Nic.', 'Tobago', 'Carribean(DR/Jam/Tri)',\n",
    "                                 'Venezuela, Java', 'Ven, Bolivia, D.R.', 'Venezuela, Carribean',\n",
    "                                 'Dominican Republic', 'Carribean'],\n",
    "                   'Asia & Oceania': ['Japan', 'Vietnam', 'Philippines', 'Fiji', 'Australia',\n",
    "                                      'South Korea', 'Israel', 'Singapore', 'India', 'Russia',\n",
    "                                      'New Zealand', 'Papua New Guinea', 'Hawaii', 'Solomon Islands',\n",
    "                                      'Sri Lanka', 'Malaysia', 'Samoa', 'Philippines', 'Togo',\n",
    "                                      'Vanuatu'],\n",
    "                   'South America': ['Ecuador', 'Brazil', 'Peru', 'Eucador', 'Argentina',\n",
    "                                     'Chile', 'Mexico', 'Bolivia', 'Suriname', 'Peru, Dom. Rep',\n",
    "                                     'Central and S. America', 'Colombia, Ecuador', 'Dom. Rep., Madagascar',\n",
    "                                     'South America', 'Belize', 'El Salvador'],\n",
    "                   'Mixed': ['Trinidad, Ecuador', 'South America, Africa', 'PNG, Vanuatu, Mad',\n",
    "                             'Mad., Java, PNG', 'Peru, Mad., Dom. Rep.', 'Indonesia, Ghana', 'Madagascar & Ecuador',\n",
    "                             'Venez,Africa,Brasil,Peru,Mex', 'DR, Ecuador, Peru', 'Dominican Rep., Bali',\n",
    "                             'Peru, Madagascar', 'Venezuela, Dom. Rep.', 'Peru, Ecuador, Venezuela',\n",
    "                             'Ven., Trinidad, Mad.', 'Ven., Indonesia, Ecuad.', 'Ghana, Domin. Rep',\n",
    "                             'Peru, Belize', 'Guat., D.R., Peru, Mad., PNG']\n",
    "                   }"
   ]
  },
  {
   "cell_type": "code",
   "execution_count": 83,
   "id": "sweet-sucking",
   "metadata": {},
   "outputs": [],
   "source": [
    "def location_in_list(location, locations_dict=broad_locations):\n",
    "    for k, v in broad_locations.items():\n",
    "        if location in v:\n",
    "            return k\n",
    "    return 'Other'"
   ]
  },
  {
   "cell_type": "code",
   "execution_count": 84,
   "id": "narrow-growth",
   "metadata": {},
   "outputs": [],
   "source": [
    "df_train['Broad Company Location'] = df_train['Company Location'].apply(lambda x: location_in_list(x))\n",
    "df_test['Broad Company Location'] = df_test['Company Location'].apply(lambda x: location_in_list(x))\n",
    "df_full['Broad Company Location'] = df_full['Company Location'].apply(lambda x: location_in_list(x))"
   ]
  },
  {
   "cell_type": "code",
   "execution_count": 85,
   "id": "verbal-punishment",
   "metadata": {},
   "outputs": [
    {
     "data": {
      "text/html": [
       "<div>\n",
       "<style scoped>\n",
       "    .dataframe tbody tr th:only-of-type {\n",
       "        vertical-align: middle;\n",
       "    }\n",
       "\n",
       "    .dataframe tbody tr th {\n",
       "        vertical-align: top;\n",
       "    }\n",
       "\n",
       "    .dataframe thead th {\n",
       "        text-align: right;\n",
       "    }\n",
       "</style>\n",
       "<table border=\"1\" class=\"dataframe\">\n",
       "  <thead>\n",
       "    <tr style=\"text-align: right;\">\n",
       "      <th></th>\n",
       "      <th>MeanRating</th>\n",
       "      <th>StdRating</th>\n",
       "    </tr>\n",
       "    <tr>\n",
       "      <th>Broad Company Location</th>\n",
       "      <th></th>\n",
       "      <th></th>\n",
       "    </tr>\n",
       "  </thead>\n",
       "  <tbody>\n",
       "    <tr>\n",
       "      <th>Africa</th>\n",
       "      <td>3.013158</td>\n",
       "      <td>0.669129</td>\n",
       "    </tr>\n",
       "    <tr>\n",
       "      <th>Asia &amp; Oceania</th>\n",
       "      <td>3.253165</td>\n",
       "      <td>0.382916</td>\n",
       "    </tr>\n",
       "    <tr>\n",
       "      <th>Caribbean</th>\n",
       "      <td>3.137097</td>\n",
       "      <td>0.423871</td>\n",
       "    </tr>\n",
       "    <tr>\n",
       "      <th>Europe</th>\n",
       "      <td>3.207816</td>\n",
       "      <td>0.520794</td>\n",
       "    </tr>\n",
       "    <tr>\n",
       "      <th>North America</th>\n",
       "      <td>3.171721</td>\n",
       "      <td>0.447259</td>\n",
       "    </tr>\n",
       "    <tr>\n",
       "      <th>South America</th>\n",
       "      <td>3.051829</td>\n",
       "      <td>0.539687</td>\n",
       "    </tr>\n",
       "  </tbody>\n",
       "</table>\n",
       "</div>"
      ],
      "text/plain": [
       "                        MeanRating  StdRating\n",
       "Broad Company Location                       \n",
       "Africa                    3.013158   0.669129\n",
       "Asia & Oceania            3.253165   0.382916\n",
       "Caribbean                 3.137097   0.423871\n",
       "Europe                    3.207816   0.520794\n",
       "North America             3.171721   0.447259\n",
       "South America             3.051829   0.539687"
      ]
     },
     "execution_count": 85,
     "metadata": {},
     "output_type": "execute_result"
    }
   ],
   "source": [
    "df_train.groupby('Broad Company Location').agg(MeanRating=('Rating', 'mean'),\n",
    "                                               StdRating=('Rating', 'std'))"
   ]
  },
  {
   "cell_type": "code",
   "execution_count": 86,
   "id": "competitive-richardson",
   "metadata": {},
   "outputs": [],
   "source": [
    "df_train['Bean Origin World'] = df_train['Broad Bean Origin'].apply(lambda x: location_in_list(x))\n",
    "df_test['Bean Origin World'] = df_test['Broad Bean Origin'].apply(lambda x: location_in_list(x))\n",
    "df_full['Bean Origin World'] = df_full['Broad Bean Origin'].apply(lambda x: location_in_list(x))"
   ]
  },
  {
   "cell_type": "code",
   "execution_count": 87,
   "id": "developing-bathroom",
   "metadata": {},
   "outputs": [
    {
     "data": {
      "text/html": [
       "<div>\n",
       "<style scoped>\n",
       "    .dataframe tbody tr th:only-of-type {\n",
       "        vertical-align: middle;\n",
       "    }\n",
       "\n",
       "    .dataframe tbody tr th {\n",
       "        vertical-align: top;\n",
       "    }\n",
       "\n",
       "    .dataframe thead th {\n",
       "        text-align: right;\n",
       "    }\n",
       "</style>\n",
       "<table border=\"1\" class=\"dataframe\">\n",
       "  <thead>\n",
       "    <tr style=\"text-align: right;\">\n",
       "      <th></th>\n",
       "      <th>MeanRating</th>\n",
       "      <th>StdRating</th>\n",
       "    </tr>\n",
       "    <tr>\n",
       "      <th>Bean Origin World</th>\n",
       "      <th></th>\n",
       "      <th></th>\n",
       "    </tr>\n",
       "  </thead>\n",
       "  <tbody>\n",
       "    <tr>\n",
       "      <th>Africa</th>\n",
       "      <td>3.201777</td>\n",
       "      <td>0.475372</td>\n",
       "    </tr>\n",
       "    <tr>\n",
       "      <th>Asia &amp; Oceania</th>\n",
       "      <td>3.255208</td>\n",
       "      <td>0.362700</td>\n",
       "    </tr>\n",
       "    <tr>\n",
       "      <th>Caribbean</th>\n",
       "      <td>3.193803</td>\n",
       "      <td>0.451452</td>\n",
       "    </tr>\n",
       "    <tr>\n",
       "      <th>Mixed</th>\n",
       "      <td>3.342105</td>\n",
       "      <td>0.426635</td>\n",
       "    </tr>\n",
       "    <tr>\n",
       "      <th>Other</th>\n",
       "      <td>2.941964</td>\n",
       "      <td>0.724555</td>\n",
       "    </tr>\n",
       "    <tr>\n",
       "      <th>South America</th>\n",
       "      <td>3.150243</td>\n",
       "      <td>0.486801</td>\n",
       "    </tr>\n",
       "  </tbody>\n",
       "</table>\n",
       "</div>"
      ],
      "text/plain": [
       "                   MeanRating  StdRating\n",
       "Bean Origin World                       \n",
       "Africa               3.201777   0.475372\n",
       "Asia & Oceania       3.255208   0.362700\n",
       "Caribbean            3.193803   0.451452\n",
       "Mixed                3.342105   0.426635\n",
       "Other                2.941964   0.724555\n",
       "South America        3.150243   0.486801"
      ]
     },
     "execution_count": 87,
     "metadata": {},
     "output_type": "execute_result"
    }
   ],
   "source": [
    "df_train.groupby('Bean Origin World').agg(MeanRating=('Rating', 'mean'),\n",
    "                                          StdRating=('Rating', 'std'))"
   ]
  },
  {
   "cell_type": "markdown",
   "id": "palestinian-quality",
   "metadata": {},
   "source": [
    "### Some features from Specific Bean Origin"
   ]
  },
  {
   "cell_type": "code",
   "execution_count": 88,
   "id": "incorporate-toyota",
   "metadata": {},
   "outputs": [],
   "source": [
    "df_train['SBO Complexity'] = df_train['Specific Bean Origin'].apply(lambda x: x.count(' '))\n",
    "df_test['SBO Complexity'] = df_test['Specific Bean Origin'].apply(lambda x: x.count(' '))\n",
    "df_full['SBO Complexity'] = df_full['Specific Bean Origin'].apply(lambda x: x.count(' '))"
   ]
  },
  {
   "cell_type": "code",
   "execution_count": 89,
   "id": "intimate-green",
   "metadata": {},
   "outputs": [
    {
     "data": {
      "text/html": [
       "<div>\n",
       "<style scoped>\n",
       "    .dataframe tbody tr th:only-of-type {\n",
       "        vertical-align: middle;\n",
       "    }\n",
       "\n",
       "    .dataframe tbody tr th {\n",
       "        vertical-align: top;\n",
       "    }\n",
       "\n",
       "    .dataframe thead th {\n",
       "        text-align: right;\n",
       "    }\n",
       "</style>\n",
       "<table border=\"1\" class=\"dataframe\">\n",
       "  <thead>\n",
       "    <tr style=\"text-align: right;\">\n",
       "      <th></th>\n",
       "      <th>Rating</th>\n",
       "      <th>SBO Complexity</th>\n",
       "    </tr>\n",
       "    <tr>\n",
       "      <th>SBO Complexity</th>\n",
       "      <th></th>\n",
       "      <th></th>\n",
       "    </tr>\n",
       "  </thead>\n",
       "  <tbody>\n",
       "    <tr>\n",
       "      <th>0</th>\n",
       "      <td>3.116896</td>\n",
       "      <td>509</td>\n",
       "    </tr>\n",
       "    <tr>\n",
       "      <th>1</th>\n",
       "      <td>3.182515</td>\n",
       "      <td>326</td>\n",
       "    </tr>\n",
       "    <tr>\n",
       "      <th>2</th>\n",
       "      <td>3.211648</td>\n",
       "      <td>176</td>\n",
       "    </tr>\n",
       "    <tr>\n",
       "      <th>3</th>\n",
       "      <td>3.193277</td>\n",
       "      <td>119</td>\n",
       "    </tr>\n",
       "    <tr>\n",
       "      <th>4</th>\n",
       "      <td>3.270000</td>\n",
       "      <td>75</td>\n",
       "    </tr>\n",
       "    <tr>\n",
       "      <th>5</th>\n",
       "      <td>3.387097</td>\n",
       "      <td>31</td>\n",
       "    </tr>\n",
       "    <tr>\n",
       "      <th>6</th>\n",
       "      <td>3.500000</td>\n",
       "      <td>14</td>\n",
       "    </tr>\n",
       "    <tr>\n",
       "      <th>7</th>\n",
       "      <td>3.600000</td>\n",
       "      <td>5</td>\n",
       "    </tr>\n",
       "  </tbody>\n",
       "</table>\n",
       "</div>"
      ],
      "text/plain": [
       "                  Rating  SBO Complexity\n",
       "SBO Complexity                          \n",
       "0               3.116896             509\n",
       "1               3.182515             326\n",
       "2               3.211648             176\n",
       "3               3.193277             119\n",
       "4               3.270000              75\n",
       "5               3.387097              31\n",
       "6               3.500000              14\n",
       "7               3.600000               5"
      ]
     },
     "execution_count": 89,
     "metadata": {},
     "output_type": "execute_result"
    }
   ],
   "source": [
    "df_train.groupby('SBO Complexity').agg({'Rating': 'mean', 'SBO Complexity': 'count'})"
   ]
  },
  {
   "cell_type": "markdown",
   "id": "infinite-charity",
   "metadata": {},
   "source": [
    "### Same for Company"
   ]
  },
  {
   "cell_type": "code",
   "execution_count": 90,
   "id": "russian-reset",
   "metadata": {},
   "outputs": [],
   "source": [
    "import string\n",
    "\n",
    "def upper_case(s):\n",
    "    n = 0\n",
    "    for i in string.ascii_uppercase:\n",
    "        n += s.count(i)\n",
    "    return n\n",
    "\n",
    "\n",
    "df_train['Company Upper'] = df_train['Company'].apply(lambda x: upper_case(x))\n",
    "df_test['Company Upper'] = df_test['Company'].apply(lambda x: upper_case(x))\n",
    "df_full['Company Upper'] = df_full['Company'].apply(lambda x: upper_case(x))"
   ]
  },
  {
   "cell_type": "code",
   "execution_count": 91,
   "id": "configured-morning",
   "metadata": {},
   "outputs": [
    {
     "data": {
      "text/html": [
       "<div>\n",
       "<style scoped>\n",
       "    .dataframe tbody tr th:only-of-type {\n",
       "        vertical-align: middle;\n",
       "    }\n",
       "\n",
       "    .dataframe tbody tr th {\n",
       "        vertical-align: top;\n",
       "    }\n",
       "\n",
       "    .dataframe thead th {\n",
       "        text-align: right;\n",
       "    }\n",
       "</style>\n",
       "<table border=\"1\" class=\"dataframe\">\n",
       "  <thead>\n",
       "    <tr style=\"text-align: right;\">\n",
       "      <th></th>\n",
       "      <th>Rating</th>\n",
       "    </tr>\n",
       "    <tr>\n",
       "      <th>Company Upper</th>\n",
       "      <th></th>\n",
       "    </tr>\n",
       "  </thead>\n",
       "  <tbody>\n",
       "    <tr>\n",
       "      <th>0</th>\n",
       "      <td>3.045455</td>\n",
       "    </tr>\n",
       "    <tr>\n",
       "      <th>1</th>\n",
       "      <td>3.228343</td>\n",
       "    </tr>\n",
       "    <tr>\n",
       "      <th>2</th>\n",
       "      <td>3.150000</td>\n",
       "    </tr>\n",
       "    <tr>\n",
       "      <th>3</th>\n",
       "      <td>3.066781</td>\n",
       "    </tr>\n",
       "    <tr>\n",
       "      <th>4</th>\n",
       "      <td>3.079268</td>\n",
       "    </tr>\n",
       "    <tr>\n",
       "      <th>5</th>\n",
       "      <td>2.666667</td>\n",
       "    </tr>\n",
       "    <tr>\n",
       "      <th>6</th>\n",
       "      <td>2.500000</td>\n",
       "    </tr>\n",
       "  </tbody>\n",
       "</table>\n",
       "</div>"
      ],
      "text/plain": [
       "                 Rating\n",
       "Company Upper          \n",
       "0              3.045455\n",
       "1              3.228343\n",
       "2              3.150000\n",
       "3              3.066781\n",
       "4              3.079268\n",
       "5              2.666667\n",
       "6              2.500000"
      ]
     },
     "execution_count": 91,
     "metadata": {},
     "output_type": "execute_result"
    }
   ],
   "source": [
    "df_train.groupby('Company Upper').agg({'Rating': 'mean'})"
   ]
  },
  {
   "cell_type": "code",
   "execution_count": 92,
   "id": "occupational-malpractice",
   "metadata": {},
   "outputs": [
    {
     "data": {
      "text/plain": [
       "Index(['Company', 'Specific Bean Origin', 'REF', 'Review', 'Cocoa Percent',\n",
       "       'Company Location', 'Rating', 'Bean Type', 'Broad Bean Origin',\n",
       "       'Common Bean Type', 'Broad Company Location', 'Bean Origin World',\n",
       "       'SBO Complexity', 'Company Upper'],\n",
       "      dtype='object')"
      ]
     },
     "execution_count": 92,
     "metadata": {},
     "output_type": "execute_result"
    }
   ],
   "source": [
    "df_train.columns"
   ]
  },
  {
   "cell_type": "code",
   "execution_count": null,
   "id": "tutorial-corrections",
   "metadata": {},
   "outputs": [],
   "source": []
  },
  {
   "cell_type": "code",
   "execution_count": null,
   "id": "checked-arena",
   "metadata": {},
   "outputs": [],
   "source": []
  },
  {
   "cell_type": "markdown",
   "id": "positive-opportunity",
   "metadata": {},
   "source": [
    "# Outliers"
   ]
  },
  {
   "cell_type": "code",
   "execution_count": 93,
   "id": "embedded-membership",
   "metadata": {},
   "outputs": [],
   "source": [
    "cat_cols = df_train.columns[df_train.dtypes == 'object']\n",
    "num_cols = df_train.columns[df_train.dtypes != 'object']"
   ]
  },
  {
   "cell_type": "code",
   "execution_count": 94,
   "id": "impressive-wiring",
   "metadata": {
    "scrolled": false
   },
   "outputs": [
    {
     "name": "stdout",
     "output_type": "stream",
     "text": [
      "REF\n"
     ]
    },
    {
     "name": "stderr",
     "output_type": "stream",
     "text": [
      "/home/andy/miniconda3/lib/python3.7/site-packages/seaborn/_decorators.py:43: FutureWarning: Pass the following variable as a keyword arg: x. From version 0.12, the only valid positional argument will be `data`, and passing other arguments without an explicit keyword will result in an error or misinterpretation.\n",
      "  FutureWarning\n"
     ]
    },
    {
     "data": {
      "image/png": "[encoded data removed]",
      "text/plain": [
       "<Figure size 720x504 with 1 Axes>"
      ]
     },
     "metadata": {
      "needs_background": "light"
     },
     "output_type": "display_data"
    },
    {
     "name": "stdout",
     "output_type": "stream",
     "text": [
      "Review\n"
     ]
    },
    {
     "name": "stderr",
     "output_type": "stream",
     "text": [
      "/home/andy/miniconda3/lib/python3.7/site-packages/seaborn/_decorators.py:43: FutureWarning: Pass the following variable as a keyword arg: x. From version 0.12, the only valid positional argument will be `data`, and passing other arguments without an explicit keyword will result in an error or misinterpretation.\n",
      "  FutureWarning\n"
     ]
    },
    {
     "data": {
      "image/png": "[encoded data removed]",
      "text/plain": [
       "<Figure size 720x504 with 1 Axes>"
      ]
     },
     "metadata": {
      "needs_background": "light"
     },
     "output_type": "display_data"
    },
    {
     "name": "stdout",
     "output_type": "stream",
     "text": [
      "Cocoa Percent\n"
     ]
    },
    {
     "name": "stderr",
     "output_type": "stream",
     "text": [
      "/home/andy/miniconda3/lib/python3.7/site-packages/seaborn/_decorators.py:43: FutureWarning: Pass the following variable as a keyword arg: x. From version 0.12, the only valid positional argument will be `data`, and passing other arguments without an explicit keyword will result in an error or misinterpretation.\n",
      "  FutureWarning\n"
     ]
    },
    {
     "data": {
      "image/png": "[encoded data removed]",
      "text/plain": [
       "<Figure size 720x504 with 1 Axes>"
      ]
     },
     "metadata": {
      "needs_background": "light"
     },
     "output_type": "display_data"
    },
    {
     "name": "stdout",
     "output_type": "stream",
     "text": [
      "Rating\n"
     ]
    },
    {
     "name": "stderr",
     "output_type": "stream",
     "text": [
      "/home/andy/miniconda3/lib/python3.7/site-packages/seaborn/_decorators.py:43: FutureWarning: Pass the following variable as a keyword arg: x. From version 0.12, the only valid positional argument will be `data`, and passing other arguments without an explicit keyword will result in an error or misinterpretation.\n",
      "  FutureWarning\n"
     ]
    },
    {
     "data": {
      "image/png": "[encoded data removed]",
      "text/plain": [
       "<Figure size 720x504 with 1 Axes>"
      ]
     },
     "metadata": {
      "needs_background": "light"
     },
     "output_type": "display_data"
    },
    {
     "name": "stdout",
     "output_type": "stream",
     "text": [
      "SBO Complexity\n"
     ]
    },
    {
     "name": "stderr",
     "output_type": "stream",
     "text": [
      "/home/andy/miniconda3/lib/python3.7/site-packages/seaborn/_decorators.py:43: FutureWarning: Pass the following variable as a keyword arg: x. From version 0.12, the only valid positional argument will be `data`, and passing other arguments without an explicit keyword will result in an error or misinterpretation.\n",
      "  FutureWarning\n"
     ]
    },
    {
     "data": {
      "image/png": "[encoded data removed]",
      "text/plain": [
       "<Figure size 720x504 with 1 Axes>"
      ]
     },
     "metadata": {
      "needs_background": "light"
     },
     "output_type": "display_data"
    },
    {
     "name": "stdout",
     "output_type": "stream",
     "text": [
      "Company Upper\n"
     ]
    },
    {
     "name": "stderr",
     "output_type": "stream",
     "text": [
      "/home/andy/miniconda3/lib/python3.7/site-packages/seaborn/_decorators.py:43: FutureWarning: Pass the following variable as a keyword arg: x. From version 0.12, the only valid positional argument will be `data`, and passing other arguments without an explicit keyword will result in an error or misinterpretation.\n",
      "  FutureWarning\n"
     ]
    },
    {
     "data": {
      "image/png": "[encoded data removed]",
      "text/plain": [
       "<Figure size 720x504 with 1 Axes>"
      ]
     },
     "metadata": {
      "needs_background": "light"
     },
     "output_type": "display_data"
    }
   ],
   "source": [
    "for col in num_cols:\n",
    "    print(col)\n",
    "    sns.boxplot(df_train[col])\n",
    "    plt.show()"
   ]
  },
  {
   "cell_type": "code",
   "execution_count": 95,
   "id": "native-custom",
   "metadata": {},
   "outputs": [],
   "source": [
    "outliers_cocoa_percent = df_train[(df_train['Cocoa Percent'] >= 99) | (df_train['Cocoa Percent'] <= 50)]\n",
    "df_train = df_train.drop(outliers_cocoa_percent.index, axis=0)"
   ]
  },
  {
   "cell_type": "code",
   "execution_count": 96,
   "id": "given-mortgage",
   "metadata": {},
   "outputs": [
    {
     "data": {
      "image/png": "[encoded data removed]",
      "text/plain": [
       "<Figure size 720x576 with 1 Axes>"
      ]
     },
     "metadata": {
      "needs_background": "light"
     },
     "output_type": "display_data"
    }
   ],
   "source": [
    "plt.figure(figsize=(10, 8))\n",
    "plt.hist(df_train['Rating'], bins=16)\n",
    "plt.show()"
   ]
  },
  {
   "cell_type": "code",
   "execution_count": 97,
   "id": "sudden-color",
   "metadata": {},
   "outputs": [],
   "source": [
    "outliers_rating = df_train[(df_train['Rating'] == 5.0) | (df_train['Rating'] <= 1.5)]\n",
    "df_train = df_train.drop(outliers_rating.index, axis=0)"
   ]
  },
  {
   "cell_type": "code",
   "execution_count": null,
   "id": "aggressive-skating",
   "metadata": {},
   "outputs": [],
   "source": []
  },
  {
   "cell_type": "markdown",
   "id": "informational-launch",
   "metadata": {},
   "source": [
    "# Baseline model (ansamble)"
   ]
  },
  {
   "cell_type": "code",
   "execution_count": 98,
   "id": "trained-preservation",
   "metadata": {},
   "outputs": [],
   "source": [
    "from sklearn.model_selection import train_test_split\n",
    "\n",
    "X = df_train.drop('Rating', axis=1)\n",
    "y = df_train.Rating\n",
    "\n",
    "X_train, X_val, y_train, y_val = train_test_split(X, y, test_size=0.3, random_state=42)"
   ]
  },
  {
   "cell_type": "code",
   "execution_count": 99,
   "id": "diverse-atlanta",
   "metadata": {},
   "outputs": [],
   "source": [
    "from sklearn.ensemble import RandomForestRegressor\n",
    "from sklearn.metrics import r2_score\n",
    "\n",
    "from category_encoders.ordinal import OrdinalEncoder\n",
    "from category_encoders.one_hot import OneHotEncoder\n",
    "from category_encoders.target_encoder import TargetEncoder\n",
    "from category_encoders.leave_one_out import LeaveOneOutEncoder\n",
    "\n",
    "from sklearn.preprocessing import StandardScaler\n",
    "from sklearn.preprocessing import MinMaxScaler\n",
    "\n",
    "from sklearn.model_selection import GridSearchCV\n",
    "from sklearn.pipeline import Pipeline"
   ]
  },
  {
   "cell_type": "markdown",
   "id": "hindu-renewal",
   "metadata": {},
   "source": [
    "# CatBoost"
   ]
  },
  {
   "cell_type": "code",
   "execution_count": 100,
   "id": "recovered-sixth",
   "metadata": {},
   "outputs": [
    {
     "data": {
      "text/plain": [
       "array([ 0,  1,  5,  6,  7,  8,  9, 10])"
      ]
     },
     "execution_count": 100,
     "metadata": {},
     "output_type": "execute_result"
    }
   ],
   "source": [
    "categorical_features_indices = np.where(X.dtypes == object)[0]\n",
    "categorical_features_indices"
   ]
  },
  {
   "cell_type": "code",
   "execution_count": 101,
   "id": "premium-stability",
   "metadata": {},
   "outputs": [
    {
     "data": {
      "text/plain": [
       "0.1671446776478872"
      ]
     },
     "execution_count": 101,
     "metadata": {},
     "output_type": "execute_result"
    }
   ],
   "source": [
    "from catboost import CatBoostRegressor\n",
    "\n",
    "model = CatBoostRegressor()\n",
    "\n",
    "model.fit(X_train, y_train,\n",
    "         cat_features=categorical_features_indices,\n",
    "         eval_set=(X_val, y_val),\n",
    "         logging_level='Silent')\n",
    "\n",
    "pred = model.predict(X_val)\n",
    "\n",
    "r2_score(y_val, pred)"
   ]
  },
  {
   "cell_type": "code",
   "execution_count": 103,
   "id": "virgin-overview",
   "metadata": {},
   "outputs": [
    {
     "data": {
      "text/html": [
       "<div>\n",
       "<style scoped>\n",
       "    .dataframe tbody tr th:only-of-type {\n",
       "        vertical-align: middle;\n",
       "    }\n",
       "\n",
       "    .dataframe tbody tr th {\n",
       "        vertical-align: top;\n",
       "    }\n",
       "\n",
       "    .dataframe thead th {\n",
       "        text-align: right;\n",
       "    }\n",
       "</style>\n",
       "<table border=\"1\" class=\"dataframe\">\n",
       "  <thead>\n",
       "    <tr style=\"text-align: right;\">\n",
       "      <th></th>\n",
       "      <th>Feature</th>\n",
       "      <th>Importance</th>\n",
       "    </tr>\n",
       "  </thead>\n",
       "  <tbody>\n",
       "    <tr>\n",
       "      <th>0</th>\n",
       "      <td>Company</td>\n",
       "      <td>19.837526</td>\n",
       "    </tr>\n",
       "    <tr>\n",
       "      <th>7</th>\n",
       "      <td>Broad Bean Origin</td>\n",
       "      <td>9.753900</td>\n",
       "    </tr>\n",
       "    <tr>\n",
       "      <th>2</th>\n",
       "      <td>REF</td>\n",
       "      <td>9.478820</td>\n",
       "    </tr>\n",
       "    <tr>\n",
       "      <th>4</th>\n",
       "      <td>Cocoa Percent</td>\n",
       "      <td>8.867610</td>\n",
       "    </tr>\n",
       "    <tr>\n",
       "      <th>5</th>\n",
       "      <td>Company Location</td>\n",
       "      <td>8.686484</td>\n",
       "    </tr>\n",
       "    <tr>\n",
       "      <th>6</th>\n",
       "      <td>Bean Type</td>\n",
       "      <td>7.842770</td>\n",
       "    </tr>\n",
       "    <tr>\n",
       "      <th>9</th>\n",
       "      <td>Broad Company Location</td>\n",
       "      <td>7.320733</td>\n",
       "    </tr>\n",
       "    <tr>\n",
       "      <th>10</th>\n",
       "      <td>Bean Origin World</td>\n",
       "      <td>6.947314</td>\n",
       "    </tr>\n",
       "    <tr>\n",
       "      <th>8</th>\n",
       "      <td>Common Bean Type</td>\n",
       "      <td>5.892273</td>\n",
       "    </tr>\n",
       "    <tr>\n",
       "      <th>11</th>\n",
       "      <td>SBO Complexity</td>\n",
       "      <td>5.578690</td>\n",
       "    </tr>\n",
       "    <tr>\n",
       "      <th>1</th>\n",
       "      <td>Specific Bean Origin</td>\n",
       "      <td>4.305000</td>\n",
       "    </tr>\n",
       "    <tr>\n",
       "      <th>3</th>\n",
       "      <td>Review</td>\n",
       "      <td>2.820358</td>\n",
       "    </tr>\n",
       "    <tr>\n",
       "      <th>12</th>\n",
       "      <td>Company Upper</td>\n",
       "      <td>2.668522</td>\n",
       "    </tr>\n",
       "  </tbody>\n",
       "</table>\n",
       "</div>"
      ],
      "text/plain": [
       "                   Feature  Importance\n",
       "0                  Company   19.837526\n",
       "7        Broad Bean Origin    9.753900\n",
       "2                      REF    9.478820\n",
       "4            Cocoa Percent    8.867610\n",
       "5         Company Location    8.686484\n",
       "6                Bean Type    7.842770\n",
       "9   Broad Company Location    7.320733\n",
       "10       Bean Origin World    6.947314\n",
       "8         Common Bean Type    5.892273\n",
       "11          SBO Complexity    5.578690\n",
       "1     Specific Bean Origin    4.305000\n",
       "3                   Review    2.820358\n",
       "12           Company Upper    2.668522"
      ]
     },
     "execution_count": 103,
     "metadata": {},
     "output_type": "execute_result"
    }
   ],
   "source": [
    "pd.DataFrame({'Feature': model.feature_names_, \"Importance\": model.feature_importances_})\\\n",
    "    .sort_values(by='Importance', ascending=False)"
   ]
  },
  {
   "cell_type": "code",
   "execution_count": null,
   "id": "pharmaceutical-albuquerque",
   "metadata": {},
   "outputs": [],
   "source": []
  },
  {
   "cell_type": "code",
   "execution_count": null,
   "id": "killing-primary",
   "metadata": {},
   "outputs": [],
   "source": []
  },
  {
   "cell_type": "markdown",
   "id": "younger-bouquet",
   "metadata": {},
   "source": [
    "## Feature selection"
   ]
  },
  {
   "cell_type": "code",
   "execution_count": 104,
   "id": "medieval-hindu",
   "metadata": {},
   "outputs": [
    {
     "data": {
      "image/png": "[encoded data removed]",
      "text/plain": [
       "<Figure size 720x360 with 1 Axes>"
      ]
     },
     "metadata": {
      "needs_background": "light"
     },
     "output_type": "display_data"
    }
   ],
   "source": [
    "def distribution(data, title, x_label, y_label, figsize=(10,5)):\n",
    "    plt.figure(figsize=figsize)\n",
    "    plt.style.use('seaborn-pastel')\n",
    "    density = sns.barplot(x=data.index, y=data.values)\n",
    "    title = plt.title(title, fontdict={'fontsize': 20})\n",
    "    plt.xlabel(x_label)\n",
    "    plt.ylabel(y_label)\n",
    "plt.show()\n",
    "\n",
    "rating_cocoa_percent_dist = df_train.groupby('Rating')['REF'].mean()\n",
    "\n",
    "distribution(data=rating_cocoa_percent_dist,\n",
    "             title='Mean REF in rating',\n",
    "             x_label='Rating',\n",
    "             y_label='REF')"
   ]
  },
  {
   "cell_type": "code",
   "execution_count": 105,
   "id": "sticky-gibraltar",
   "metadata": {},
   "outputs": [],
   "source": [
    "train_rating = df_train.Rating\n",
    "df_train.drop('Rating', axis=1, inplace=True)\n",
    "df_train['Rating'] = train_rating"
   ]
  },
  {
   "cell_type": "code",
   "execution_count": 128,
   "id": "owned-insider",
   "metadata": {},
   "outputs": [
    {
     "data": {
      "image/png": "[encoded data removed]",
      "text/plain": [
       "<Figure size 720x720 with 2 Axes>"
      ]
     },
     "metadata": {
      "needs_background": "light"
     },
     "output_type": "display_data"
    }
   ],
   "source": [
    "plt.figure(figsize = (10, 10))\n",
    "plt.rcParams.update({\n",
    "    'xtick.labelsize': 15,\n",
    "    'ytick.labelsize': 15,\n",
    "})\n",
    "sns.heatmap(df_train.corr('spearman'), annot=True, cmap=\"Blues\")\n",
    "\n",
    "plt.show()"
   ]
  },
  {
   "cell_type": "code",
   "execution_count": 107,
   "id": "interested-affect",
   "metadata": {},
   "outputs": [
    {
     "data": {
      "text/plain": [
       "Index(['SBO Complexity', 'Company Upper', 'Rating'], dtype='object')"
      ]
     },
     "execution_count": 107,
     "metadata": {},
     "output_type": "execute_result"
    }
   ],
   "source": [
    "numeric_columns = df_train.columns[(df_train.dtypes == int) | (df_train.dtypes == float)]\n",
    "new_columns = numeric_columns[[any(j in i for j in ['SBO', 'Company', 'Rating']) for i in numeric_columns]]\n",
    "new_columns"
   ]
  },
  {
   "cell_type": "code",
   "execution_count": 108,
   "id": "challenging-shepherd",
   "metadata": {},
   "outputs": [
    {
     "data": {
      "image/png": "[encoded data removed]",
      "text/plain": [
       "<Figure size 576x432 with 2 Axes>"
      ]
     },
     "metadata": {
      "needs_background": "light"
     },
     "output_type": "display_data"
    }
   ],
   "source": [
    "plt.figure(figsize = (8, 6))\n",
    "plt.rcParams.update({\n",
    "    'xtick.labelsize': 15,\n",
    "    'ytick.labelsize': 15,\n",
    "})\n",
    "sns.heatmap(df_train[new_columns].corr(), annot=True, cmap=\"Blues\")\n",
    "\n",
    "plt.show()"
   ]
  },
  {
   "cell_type": "code",
   "execution_count": 109,
   "id": "chubby-brick",
   "metadata": {},
   "outputs": [
    {
     "name": "stdout",
     "output_type": "stream",
     "text": [
      "0 - SBO Complexity\n",
      "1 - Company Upper\n",
      "2 - Rating\n"
     ]
    }
   ],
   "source": [
    "for i in range(new_columns.shape[0]):\n",
    "    print(f'{i} - {new_columns[i]}')"
   ]
  },
  {
   "cell_type": "markdown",
   "id": "numerous-quebec",
   "metadata": {},
   "source": [
    "<font size=\"3\">\n",
    "\n",
    "Keep 'SBO Complexity' and 'Company Upper'\n",
    "    \n",
    "<font>"
   ]
  },
  {
   "cell_type": "markdown",
   "id": "brown-trace",
   "metadata": {},
   "source": [
    "## Correlation matrix (categorical features)"
   ]
  },
  {
   "cell_type": "code",
   "execution_count": 110,
   "id": "searching-appendix",
   "metadata": {},
   "outputs": [
    {
     "data": {
      "text/html": [
       "<div>\n",
       "<style scoped>\n",
       "    .dataframe tbody tr th:only-of-type {\n",
       "        vertical-align: middle;\n",
       "    }\n",
       "\n",
       "    .dataframe tbody tr th {\n",
       "        vertical-align: top;\n",
       "    }\n",
       "\n",
       "    .dataframe thead th {\n",
       "        text-align: right;\n",
       "    }\n",
       "</style>\n",
       "<table border=\"1\" class=\"dataframe\">\n",
       "  <thead>\n",
       "    <tr style=\"text-align: right;\">\n",
       "      <th></th>\n",
       "      <th>Company</th>\n",
       "      <th>Specific Bean Origin</th>\n",
       "      <th>Company Location</th>\n",
       "      <th>Bean Type</th>\n",
       "      <th>Broad Bean Origin</th>\n",
       "      <th>Common Bean Type</th>\n",
       "      <th>Broad Company Location</th>\n",
       "      <th>Bean Origin World</th>\n",
       "    </tr>\n",
       "  </thead>\n",
       "  <tbody>\n",
       "    <tr>\n",
       "      <th>Company</th>\n",
       "      <td>1.000000</td>\n",
       "      <td>0.771990</td>\n",
       "      <td>0.999651</td>\n",
       "      <td>0.616787</td>\n",
       "      <td>0.602239</td>\n",
       "      <td>0.666937</td>\n",
       "      <td>0.998263</td>\n",
       "      <td>0.636328</td>\n",
       "    </tr>\n",
       "    <tr>\n",
       "      <th>Specific Bean Origin</th>\n",
       "      <td>0.771990</td>\n",
       "      <td>1.000000</td>\n",
       "      <td>0.809443</td>\n",
       "      <td>0.907782</td>\n",
       "      <td>0.987089</td>\n",
       "      <td>0.920540</td>\n",
       "      <td>0.844054</td>\n",
       "      <td>0.988975</td>\n",
       "    </tr>\n",
       "    <tr>\n",
       "      <th>Company Location</th>\n",
       "      <td>0.999651</td>\n",
       "      <td>0.809443</td>\n",
       "      <td>1.000000</td>\n",
       "      <td>0.289545</td>\n",
       "      <td>0.378702</td>\n",
       "      <td>0.385158</td>\n",
       "      <td>1.000000</td>\n",
       "      <td>0.334642</td>\n",
       "    </tr>\n",
       "    <tr>\n",
       "      <th>Bean Type</th>\n",
       "      <td>0.616787</td>\n",
       "      <td>0.907782</td>\n",
       "      <td>0.289545</td>\n",
       "      <td>1.000000</td>\n",
       "      <td>0.387821</td>\n",
       "      <td>1.000000</td>\n",
       "      <td>0.297409</td>\n",
       "      <td>0.393746</td>\n",
       "    </tr>\n",
       "    <tr>\n",
       "      <th>Broad Bean Origin</th>\n",
       "      <td>0.602239</td>\n",
       "      <td>0.987089</td>\n",
       "      <td>0.378702</td>\n",
       "      <td>0.387821</td>\n",
       "      <td>1.000000</td>\n",
       "      <td>0.600261</td>\n",
       "      <td>0.440442</td>\n",
       "      <td>1.000000</td>\n",
       "    </tr>\n",
       "    <tr>\n",
       "      <th>Common Bean Type</th>\n",
       "      <td>0.666937</td>\n",
       "      <td>0.920540</td>\n",
       "      <td>0.385158</td>\n",
       "      <td>1.000000</td>\n",
       "      <td>0.600261</td>\n",
       "      <td>1.000000</td>\n",
       "      <td>0.242745</td>\n",
       "      <td>0.258834</td>\n",
       "    </tr>\n",
       "    <tr>\n",
       "      <th>Broad Company Location</th>\n",
       "      <td>0.998263</td>\n",
       "      <td>0.844054</td>\n",
       "      <td>1.000000</td>\n",
       "      <td>0.297409</td>\n",
       "      <td>0.440442</td>\n",
       "      <td>0.242745</td>\n",
       "      <td>1.000000</td>\n",
       "      <td>0.267637</td>\n",
       "    </tr>\n",
       "    <tr>\n",
       "      <th>Bean Origin World</th>\n",
       "      <td>0.636328</td>\n",
       "      <td>0.988975</td>\n",
       "      <td>0.334642</td>\n",
       "      <td>0.393746</td>\n",
       "      <td>1.000000</td>\n",
       "      <td>0.258834</td>\n",
       "      <td>0.267637</td>\n",
       "      <td>1.000000</td>\n",
       "    </tr>\n",
       "  </tbody>\n",
       "</table>\n",
       "</div>"
      ],
      "text/plain": [
       "                         Company  Specific Bean Origin  Company Location  \\\n",
       "Company                 1.000000              0.771990          0.999651   \n",
       "Specific Bean Origin    0.771990              1.000000          0.809443   \n",
       "Company Location        0.999651              0.809443          1.000000   \n",
       "Bean Type               0.616787              0.907782          0.289545   \n",
       "Broad Bean Origin       0.602239              0.987089          0.378702   \n",
       "Common Bean Type        0.666937              0.920540          0.385158   \n",
       "Broad Company Location  0.998263              0.844054          1.000000   \n",
       "Bean Origin World       0.636328              0.988975          0.334642   \n",
       "\n",
       "                        Bean Type  Broad Bean Origin  Common Bean Type  \\\n",
       "Company                  0.616787           0.602239          0.666937   \n",
       "Specific Bean Origin     0.907782           0.987089          0.920540   \n",
       "Company Location         0.289545           0.378702          0.385158   \n",
       "Bean Type                1.000000           0.387821          1.000000   \n",
       "Broad Bean Origin        0.387821           1.000000          0.600261   \n",
       "Common Bean Type         1.000000           0.600261          1.000000   \n",
       "Broad Company Location   0.297409           0.440442          0.242745   \n",
       "Bean Origin World        0.393746           1.000000          0.258834   \n",
       "\n",
       "                        Broad Company Location  Bean Origin World  \n",
       "Company                               0.998263           0.636328  \n",
       "Specific Bean Origin                  0.844054           0.988975  \n",
       "Company Location                      1.000000           0.334642  \n",
       "Bean Type                             0.297409           0.393746  \n",
       "Broad Bean Origin                     0.440442           1.000000  \n",
       "Common Bean Type                      0.242745           0.258834  \n",
       "Broad Company Location                1.000000           0.267637  \n",
       "Bean Origin World                     0.267637           1.000000  "
      ]
     },
     "execution_count": 110,
     "metadata": {},
     "output_type": "execute_result"
    }
   ],
   "source": [
    "import association_metrics as am\n",
    "\n",
    "XC = df_train.apply(lambda x: x.astype(\"category\") if x.dtype == \"object\" else x)\n",
    "cramersv = am.CramersV(XC)\n",
    "cramersv.fit()"
   ]
  },
  {
   "cell_type": "code",
   "execution_count": 127,
   "id": "guilty-taste",
   "metadata": {},
   "outputs": [],
   "source": [
    "cols_to_drop = ['Specific Bean Origin', 'Review', 'Company Upper']\n",
    "df_train = df_train.drop(cols_to_drop, axis=1)\n",
    "df_test = df_test.drop(cols_to_drop, axis=1)\n",
    "df_full = df_full.drop(cols_to_drop, axis=1)"
   ]
  },
  {
   "cell_type": "code",
   "execution_count": 120,
   "id": "white-bonus",
   "metadata": {},
   "outputs": [
    {
     "data": {
      "image/png": "[encoded data removed]",
      "text/plain": [
       "<Figure size 1080x1080 with 2 Axes>"
      ]
     },
     "metadata": {
      "needs_background": "light"
     },
     "output_type": "display_data"
    }
   ],
   "source": [
    "plt.figure(figsize = (15, 15))\n",
    "plt.rcParams.update({\n",
    "    'xtick.labelsize': 15,\n",
    "    'ytick.labelsize': 15,\n",
    "})\n",
    "sns.heatmap(df_train.corr(), annot=True, cmap=\"Blues\")\n",
    "\n",
    "plt.show()"
   ]
  },
  {
   "cell_type": "code",
   "execution_count": 121,
   "id": "excited-import",
   "metadata": {},
   "outputs": [
    {
     "data": {
      "text/html": [
       "<div>\n",
       "<style scoped>\n",
       "    .dataframe tbody tr th:only-of-type {\n",
       "        vertical-align: middle;\n",
       "    }\n",
       "\n",
       "    .dataframe tbody tr th {\n",
       "        vertical-align: top;\n",
       "    }\n",
       "\n",
       "    .dataframe thead th {\n",
       "        text-align: right;\n",
       "    }\n",
       "</style>\n",
       "<table border=\"1\" class=\"dataframe\">\n",
       "  <thead>\n",
       "    <tr style=\"text-align: right;\">\n",
       "      <th></th>\n",
       "      <th>Company</th>\n",
       "      <th>Company Location</th>\n",
       "      <th>Bean Type</th>\n",
       "      <th>Broad Bean Origin</th>\n",
       "      <th>Common Bean Type</th>\n",
       "      <th>Broad Company Location</th>\n",
       "      <th>Bean Origin World</th>\n",
       "    </tr>\n",
       "  </thead>\n",
       "  <tbody>\n",
       "    <tr>\n",
       "      <th>Company</th>\n",
       "      <td>1.000000</td>\n",
       "      <td>0.999651</td>\n",
       "      <td>0.616787</td>\n",
       "      <td>0.602239</td>\n",
       "      <td>0.666937</td>\n",
       "      <td>0.998263</td>\n",
       "      <td>0.636328</td>\n",
       "    </tr>\n",
       "    <tr>\n",
       "      <th>Company Location</th>\n",
       "      <td>0.999651</td>\n",
       "      <td>1.000000</td>\n",
       "      <td>0.289545</td>\n",
       "      <td>0.378702</td>\n",
       "      <td>0.385158</td>\n",
       "      <td>1.000000</td>\n",
       "      <td>0.334642</td>\n",
       "    </tr>\n",
       "    <tr>\n",
       "      <th>Bean Type</th>\n",
       "      <td>0.616787</td>\n",
       "      <td>0.289545</td>\n",
       "      <td>1.000000</td>\n",
       "      <td>0.387821</td>\n",
       "      <td>1.000000</td>\n",
       "      <td>0.297409</td>\n",
       "      <td>0.393746</td>\n",
       "    </tr>\n",
       "    <tr>\n",
       "      <th>Broad Bean Origin</th>\n",
       "      <td>0.602239</td>\n",
       "      <td>0.378702</td>\n",
       "      <td>0.387821</td>\n",
       "      <td>1.000000</td>\n",
       "      <td>0.600261</td>\n",
       "      <td>0.440442</td>\n",
       "      <td>1.000000</td>\n",
       "    </tr>\n",
       "    <tr>\n",
       "      <th>Common Bean Type</th>\n",
       "      <td>0.666937</td>\n",
       "      <td>0.385158</td>\n",
       "      <td>1.000000</td>\n",
       "      <td>0.600261</td>\n",
       "      <td>1.000000</td>\n",
       "      <td>0.242745</td>\n",
       "      <td>0.258834</td>\n",
       "    </tr>\n",
       "    <tr>\n",
       "      <th>Broad Company Location</th>\n",
       "      <td>0.998263</td>\n",
       "      <td>1.000000</td>\n",
       "      <td>0.297409</td>\n",
       "      <td>0.440442</td>\n",
       "      <td>0.242745</td>\n",
       "      <td>1.000000</td>\n",
       "      <td>0.267637</td>\n",
       "    </tr>\n",
       "    <tr>\n",
       "      <th>Bean Origin World</th>\n",
       "      <td>0.636328</td>\n",
       "      <td>0.334642</td>\n",
       "      <td>0.393746</td>\n",
       "      <td>1.000000</td>\n",
       "      <td>0.258834</td>\n",
       "      <td>0.267637</td>\n",
       "      <td>1.000000</td>\n",
       "    </tr>\n",
       "  </tbody>\n",
       "</table>\n",
       "</div>"
      ],
      "text/plain": [
       "                         Company  Company Location  Bean Type  \\\n",
       "Company                 1.000000          0.999651   0.616787   \n",
       "Company Location        0.999651          1.000000   0.289545   \n",
       "Bean Type               0.616787          0.289545   1.000000   \n",
       "Broad Bean Origin       0.602239          0.378702   0.387821   \n",
       "Common Bean Type        0.666937          0.385158   1.000000   \n",
       "Broad Company Location  0.998263          1.000000   0.297409   \n",
       "Bean Origin World       0.636328          0.334642   0.393746   \n",
       "\n",
       "                        Broad Bean Origin  Common Bean Type  \\\n",
       "Company                          0.602239          0.666937   \n",
       "Company Location                 0.378702          0.385158   \n",
       "Bean Type                        0.387821          1.000000   \n",
       "Broad Bean Origin                1.000000          0.600261   \n",
       "Common Bean Type                 0.600261          1.000000   \n",
       "Broad Company Location           0.440442          0.242745   \n",
       "Bean Origin World                1.000000          0.258834   \n",
       "\n",
       "                        Broad Company Location  Bean Origin World  \n",
       "Company                               0.998263           0.636328  \n",
       "Company Location                      1.000000           0.334642  \n",
       "Bean Type                             0.297409           0.393746  \n",
       "Broad Bean Origin                     0.440442           1.000000  \n",
       "Common Bean Type                      0.242745           0.258834  \n",
       "Broad Company Location                1.000000           0.267637  \n",
       "Bean Origin World                     0.267637           1.000000  "
      ]
     },
     "execution_count": 121,
     "metadata": {},
     "output_type": "execute_result"
    }
   ],
   "source": [
    "import association_metrics as am\n",
    "\n",
    "XC = df_train.apply(lambda x: x.astype(\"category\") if x.dtype == \"object\" else x)\n",
    "cramersv = am.CramersV(XC)\n",
    "cramersv.fit()"
   ]
  },
  {
   "cell_type": "code",
   "execution_count": null,
   "id": "empty-angola",
   "metadata": {},
   "outputs": [],
   "source": []
  },
  {
   "cell_type": "code",
   "execution_count": null,
   "id": "bright-length",
   "metadata": {},
   "outputs": [],
   "source": []
  },
  {
   "cell_type": "code",
   "execution_count": null,
   "id": "premier-blend",
   "metadata": {},
   "outputs": [],
   "source": []
  },
  {
   "cell_type": "markdown",
   "id": "exempt-arcade",
   "metadata": {},
   "source": [
    "# CatBoost with new features"
   ]
  },
  {
   "cell_type": "code",
   "execution_count": 129,
   "id": "expected-sharp",
   "metadata": {},
   "outputs": [],
   "source": [
    "from sklearn.metrics import mean_squared_error\n",
    "from sklearn.model_selection import train_test_split\n",
    "from catboost import CatBoostRegressor\n",
    "import optuna"
   ]
  },
  {
   "cell_type": "code",
   "execution_count": 130,
   "id": "associate-symphony",
   "metadata": {},
   "outputs": [],
   "source": [
    "X = df_train.drop('Rating', axis=1)\n",
    "y = df_train.Rating\n",
    "\n",
    "X_train, X_val, y_train, y_val = train_test_split(X, y, test_size=0.2, random_state=42)"
   ]
  },
  {
   "cell_type": "code",
   "execution_count": 131,
   "id": "backed-heaven",
   "metadata": {},
   "outputs": [
    {
     "data": {
      "text/plain": [
       "array([0, 3, 4, 5, 6, 7, 8])"
      ]
     },
     "execution_count": 131,
     "metadata": {},
     "output_type": "execute_result"
    }
   ],
   "source": [
    "categorical_features_indices = np.where(X.dtypes == object)[0]\n",
    "categorical_features_indices"
   ]
  },
  {
   "cell_type": "code",
   "execution_count": 132,
   "id": "gentle-string",
   "metadata": {},
   "outputs": [
    {
     "data": {
      "text/plain": [
       "0.11939670999380347"
      ]
     },
     "execution_count": 132,
     "metadata": {},
     "output_type": "execute_result"
    }
   ],
   "source": [
    "model = CatBoostRegressor()\n",
    "\n",
    "model.fit(X_train, y_train,\n",
    "         cat_features=categorical_features_indices,\n",
    "         eval_set=(X_val, y_val),\n",
    "         logging_level='Silent')\n",
    "\n",
    "pred = model.predict(X_val)\n",
    "\n",
    "r2_score(y_val, pred)"
   ]
  },
  {
   "cell_type": "code",
   "execution_count": 133,
   "id": "negative-synthetic",
   "metadata": {},
   "outputs": [
    {
     "data": {
      "text/html": [
       "<div>\n",
       "<style scoped>\n",
       "    .dataframe tbody tr th:only-of-type {\n",
       "        vertical-align: middle;\n",
       "    }\n",
       "\n",
       "    .dataframe tbody tr th {\n",
       "        vertical-align: top;\n",
       "    }\n",
       "\n",
       "    .dataframe thead th {\n",
       "        text-align: right;\n",
       "    }\n",
       "</style>\n",
       "<table border=\"1\" class=\"dataframe\">\n",
       "  <thead>\n",
       "    <tr style=\"text-align: right;\">\n",
       "      <th></th>\n",
       "      <th>Feature</th>\n",
       "      <th>Importance</th>\n",
       "    </tr>\n",
       "  </thead>\n",
       "  <tbody>\n",
       "    <tr>\n",
       "      <th>0</th>\n",
       "      <td>Company</td>\n",
       "      <td>23.393617</td>\n",
       "    </tr>\n",
       "    <tr>\n",
       "      <th>2</th>\n",
       "      <td>Cocoa Percent</td>\n",
       "      <td>11.660493</td>\n",
       "    </tr>\n",
       "    <tr>\n",
       "      <th>1</th>\n",
       "      <td>REF</td>\n",
       "      <td>10.837303</td>\n",
       "    </tr>\n",
       "    <tr>\n",
       "      <th>3</th>\n",
       "      <td>Company Location</td>\n",
       "      <td>10.286006</td>\n",
       "    </tr>\n",
       "    <tr>\n",
       "      <th>5</th>\n",
       "      <td>Broad Bean Origin</td>\n",
       "      <td>9.338316</td>\n",
       "    </tr>\n",
       "    <tr>\n",
       "      <th>4</th>\n",
       "      <td>Bean Type</td>\n",
       "      <td>7.589525</td>\n",
       "    </tr>\n",
       "    <tr>\n",
       "      <th>8</th>\n",
       "      <td>Bean Origin World</td>\n",
       "      <td>7.093633</td>\n",
       "    </tr>\n",
       "    <tr>\n",
       "      <th>6</th>\n",
       "      <td>Common Bean Type</td>\n",
       "      <td>6.888398</td>\n",
       "    </tr>\n",
       "    <tr>\n",
       "      <th>7</th>\n",
       "      <td>Broad Company Location</td>\n",
       "      <td>6.705610</td>\n",
       "    </tr>\n",
       "    <tr>\n",
       "      <th>9</th>\n",
       "      <td>SBO Complexity</td>\n",
       "      <td>6.207099</td>\n",
       "    </tr>\n",
       "  </tbody>\n",
       "</table>\n",
       "</div>"
      ],
      "text/plain": [
       "                  Feature  Importance\n",
       "0                 Company   23.393617\n",
       "2           Cocoa Percent   11.660493\n",
       "1                     REF   10.837303\n",
       "3        Company Location   10.286006\n",
       "5       Broad Bean Origin    9.338316\n",
       "4               Bean Type    7.589525\n",
       "8       Bean Origin World    7.093633\n",
       "6        Common Bean Type    6.888398\n",
       "7  Broad Company Location    6.705610\n",
       "9          SBO Complexity    6.207099"
      ]
     },
     "execution_count": 133,
     "metadata": {},
     "output_type": "execute_result"
    }
   ],
   "source": [
    "pd.DataFrame({'Feature': model.feature_names_, \"Importance\": model.feature_importances_})\\\n",
    "    .sort_values(by='Importance', ascending=False)"
   ]
  },
  {
   "cell_type": "markdown",
   "id": "thermal-facial",
   "metadata": {},
   "source": [
    "## CatBoost hyperparameters tuning"
   ]
  },
  {
   "cell_type": "code",
   "execution_count": 134,
   "id": "flush-mercy",
   "metadata": {},
   "outputs": [],
   "source": [
    "from sklearn.metrics import mean_absolute_error"
   ]
  },
  {
   "cell_type": "code",
   "execution_count": 135,
   "id": "complex-classification",
   "metadata": {
    "scrolled": false
   },
   "outputs": [
    {
     "name": "stderr",
     "output_type": "stream",
     "text": [
      "[I 2023-07-15 18:32:27,355] A new study created in memory with name: no-name-081bac05-f98a-488f-a539-789d45ce3c4f\n",
      "[I 2023-07-15 18:32:28,401] Trial 0 finished with value: 0.411819924188861 and parameters: {'n_estimators': 574, 'max_depth': 2, 'learning_rate': 0.083}. Best is trial 0 with value: 0.411819924188861.\n",
      "[I 2023-07-15 18:32:29,304] Trial 1 finished with value: 0.41359366254483604 and parameters: {'n_estimators': 371, 'max_depth': 4, 'learning_rate': 0.059000000000000004}. Best is trial 0 with value: 0.411819924188861.\n",
      "[I 2023-07-15 18:32:30,677] Trial 2 finished with value: 0.415386185766814 and parameters: {'n_estimators': 187, 'max_depth': 9, 'learning_rate': 0.065}. Best is trial 0 with value: 0.411819924188861.\n",
      "[I 2023-07-15 18:32:31,499] Trial 4 finished with value: 0.4131994645859641 and parameters: {'n_estimators': 626, 'max_depth': 4, 'learning_rate': 0.064}. Best is trial 0 with value: 0.411819924188861.\n",
      "[I 2023-07-15 18:32:32,863] Trial 6 finished with value: 0.41524234424327866 and parameters: {'n_estimators': 239, 'max_depth': 5, 'learning_rate': 0.084}. Best is trial 0 with value: 0.411819924188861.\n",
      "[I 2023-07-15 18:32:33,265] Trial 8 finished with value: 0.42849551713929956 and parameters: {'n_estimators': 31, 'max_depth': 2, 'learning_rate': 0.047}. Best is trial 0 with value: 0.411819924188861.\n",
      "[I 2023-07-15 18:32:36,766] Trial 7 finished with value: 0.4148432692716965 and parameters: {'n_estimators': 649, 'max_depth': 5, 'learning_rate': 0.07300000000000001}. Best is trial 0 with value: 0.411819924188861.\n",
      "[I 2023-07-15 18:32:37,268] Trial 9 finished with value: 0.41505727700891437 and parameters: {'n_estimators': 518, 'max_depth': 5, 'learning_rate': 0.034}. Best is trial 0 with value: 0.411819924188861.\n",
      "[I 2023-07-15 18:32:39,390] Trial 11 finished with value: 0.4214450610287086 and parameters: {'n_estimators': 110, 'max_depth': 9, 'learning_rate': 0.028}. Best is trial 0 with value: 0.411819924188861.\n",
      "[I 2023-07-15 18:32:40,280] Trial 10 finished with value: 0.4124764851318067 and parameters: {'n_estimators': 945, 'max_depth': 3, 'learning_rate': 0.035}. Best is trial 0 with value: 0.411819924188861.\n",
      "[I 2023-07-15 18:32:41,432] Trial 13 finished with value: 0.41379526799567456 and parameters: {'n_estimators': 906, 'max_depth': 1, 'learning_rate': 0.1}. Best is trial 0 with value: 0.411819924188861.\n",
      "[I 2023-07-15 18:32:42,899] Trial 5 finished with value: 0.41586043950050255 and parameters: {'n_estimators': 284, 'max_depth': 10, 'learning_rate': 0.044000000000000004}. Best is trial 0 with value: 0.411819924188861.\n",
      "[I 2023-07-15 18:32:43,523] Trial 14 finished with value: 0.4269361412552127 and parameters: {'n_estimators': 939, 'max_depth': 2, 'learning_rate': 0.002}. Best is trial 0 with value: 0.411819924188861.\n",
      "[I 2023-07-15 18:32:44,990] Trial 15 finished with value: 0.42654589910362645 and parameters: {'n_estimators': 996, 'max_depth': 2, 'learning_rate': 0.002}. Best is trial 0 with value: 0.411819924188861.\n",
      "[I 2023-07-15 18:32:46,651] Trial 16 finished with value: 0.4175422759117348 and parameters: {'n_estimators': 790, 'max_depth': 3, 'learning_rate': 0.008}. Best is trial 0 with value: 0.411819924188861.\n",
      "[I 2023-07-15 18:32:57,789] Trial 17 finished with value: 0.40987004531201143 and parameters: {'n_estimators': 774, 'max_depth': 7, 'learning_rate': 0.025}. Best is trial 17 with value: 0.40987004531201143.\n",
      "[I 2023-07-15 18:32:58,307] Trial 12 finished with value: 0.4137728290116532 and parameters: {'n_estimators': 800, 'max_depth': 8, 'learning_rate': 0.054}. Best is trial 17 with value: 0.40987004531201143.\n",
      "[I 2023-07-15 18:32:59,052] Trial 18 finished with value: 0.40888249113004305 and parameters: {'n_estimators': 775, 'max_depth': 7, 'learning_rate': 0.023}. Best is trial 18 with value: 0.40888249113004305.\n",
      "[I 2023-07-15 18:33:01,924] Trial 3 finished with value: 0.4127070955745112 and parameters: {'n_estimators': 841, 'max_depth': 9, 'learning_rate': 0.08800000000000001}. Best is trial 18 with value: 0.40888249113004305.\n",
      "[I 2023-07-15 18:33:05,351] Trial 20 finished with value: 0.41193964557816987 and parameters: {'n_estimators': 476, 'max_depth': 7, 'learning_rate': 0.022000000000000002}. Best is trial 18 with value: 0.40888249113004305.\n",
      "[I 2023-07-15 18:33:08,299] Trial 19 finished with value: 0.4133464847758675 and parameters: {'n_estimators': 732, 'max_depth': 7, 'learning_rate': 0.018000000000000002}. Best is trial 18 with value: 0.40888249113004305.\n",
      "[I 2023-07-15 18:33:09,764] Trial 21 finished with value: 0.4114834403580561 and parameters: {'n_estimators': 745, 'max_depth': 7, 'learning_rate': 0.019000000000000003}. Best is trial 18 with value: 0.40888249113004305.\n",
      "[I 2023-07-15 18:33:11,782] Trial 22 finished with value: 0.4106460502966132 and parameters: {'n_estimators': 691, 'max_depth': 7, 'learning_rate': 0.02}. Best is trial 18 with value: 0.40888249113004305.\n",
      "[I 2023-07-15 18:33:14,479] Trial 23 finished with value: 0.4120686474053669 and parameters: {'n_estimators': 691, 'max_depth': 7, 'learning_rate': 0.016}. Best is trial 18 with value: 0.40888249113004305.\n",
      "[I 2023-07-15 18:33:17,832] Trial 24 finished with value: 0.4131218889740508 and parameters: {'n_estimators': 670, 'max_depth': 7, 'learning_rate': 0.018000000000000002}. Best is trial 18 with value: 0.40888249113004305.\n",
      "[I 2023-07-15 18:33:18,679] Trial 26 finished with value: 0.4138547357090753 and parameters: {'n_estimators': 679, 'max_depth': 6, 'learning_rate': 0.039}. Best is trial 18 with value: 0.40888249113004305.\n",
      "[I 2023-07-15 18:33:19,405] Trial 25 finished with value: 0.41297941292519746 and parameters: {'n_estimators': 715, 'max_depth': 7, 'learning_rate': 0.015}. Best is trial 18 with value: 0.40888249113004305.\n",
      "[I 2023-07-15 18:33:23,026] Trial 27 finished with value: 0.41275454611381074 and parameters: {'n_estimators': 851, 'max_depth': 6, 'learning_rate': 0.039}. Best is trial 18 with value: 0.40888249113004305.\n",
      "[I 2023-07-15 18:33:26,245] Trial 28 finished with value: 0.41696546266196105 and parameters: {'n_estimators': 861, 'max_depth': 6, 'learning_rate': 0.038}. Best is trial 18 with value: 0.40888249113004305.\n",
      "[I 2023-07-15 18:33:26,612] Trial 29 finished with value: 0.4135596197364232 and parameters: {'n_estimators': 858, 'max_depth': 6, 'learning_rate': 0.028}. Best is trial 18 with value: 0.40888249113004305.\n",
      "[I 2023-07-15 18:33:27,352] Trial 30 finished with value: 0.4086443543752457 and parameters: {'n_estimators': 863, 'max_depth': 6, 'learning_rate': 0.029}. Best is trial 30 with value: 0.4086443543752457.\n",
      "[I 2023-07-15 18:33:27,516] Trial 31 finished with value: 0.40995568636205415 and parameters: {'n_estimators': 441, 'max_depth': 6, 'learning_rate': 0.029}. Best is trial 30 with value: 0.4086443543752457.\n",
      "[I 2023-07-15 18:33:38,444] Trial 35 finished with value: 0.4120900256540488 and parameters: {'n_estimators': 443, 'max_depth': 8, 'learning_rate': 0.026000000000000002}. Best is trial 30 with value: 0.4086443543752457.\n",
      "[I 2023-07-15 18:33:38,755] Trial 32 finished with value: 0.40880912737339814 and parameters: {'n_estimators': 563, 'max_depth': 8, 'learning_rate': 0.029}. Best is trial 30 with value: 0.4086443543752457.\n",
      "[I 2023-07-15 18:33:39,278] Trial 33 finished with value: 0.4147752080990212 and parameters: {'n_estimators': 570, 'max_depth': 8, 'learning_rate': 0.009000000000000001}. Best is trial 30 with value: 0.4086443543752457.\n",
      "[I 2023-07-15 18:33:41,577] Trial 34 finished with value: 0.40930255593278475 and parameters: {'n_estimators': 581, 'max_depth': 8, 'learning_rate': 0.025}. Best is trial 30 with value: 0.4086443543752457.\n",
      "[I 2023-07-15 18:33:51,198] Trial 36 finished with value: 0.4150154333954477 and parameters: {'n_estimators': 582, 'max_depth': 8, 'learning_rate': 0.010000000000000002}. Best is trial 30 with value: 0.4086443543752457.\n",
      "[I 2023-07-15 18:33:53,282] Trial 37 finished with value: 0.41141881490907034 and parameters: {'n_estimators': 592, 'max_depth': 8, 'learning_rate': 0.052000000000000005}. Best is trial 30 with value: 0.4086443543752457.\n",
      "[I 2023-07-15 18:34:10,644] Trial 40 finished with value: 0.4162543879455042 and parameters: {'n_estimators': 338, 'max_depth': 10, 'learning_rate': 0.054}. Best is trial 30 with value: 0.4086443543752457.\n"
     ]
    },
    {
     "name": "stderr",
     "output_type": "stream",
     "text": [
      "[I 2023-07-15 18:34:10,831] Trial 41 finished with value: 0.4136871936214765 and parameters: {'n_estimators': 342, 'max_depth': 9, 'learning_rate': 0.045}. Best is trial 30 with value: 0.4086443543752457.\n",
      "[I 2023-07-15 18:34:10,868] Trial 38 finished with value: 0.41366134057577514 and parameters: {'n_estimators': 614, 'max_depth': 10, 'learning_rate': 0.010000000000000002}. Best is trial 30 with value: 0.4086443543752457.\n",
      "[I 2023-07-15 18:34:12,192] Trial 39 finished with value: 0.41654157685460635 and parameters: {'n_estimators': 570, 'max_depth': 10, 'learning_rate': 0.011}. Best is trial 30 with value: 0.4086443543752457.\n",
      "[I 2023-07-15 18:34:29,067] Trial 42 finished with value: 0.4122491935230606 and parameters: {'n_estimators': 378, 'max_depth': 9, 'learning_rate': 0.044000000000000004}. Best is trial 30 with value: 0.4086443543752457.\n",
      "[I 2023-07-15 18:34:34,494] Trial 46 finished with value: 0.4110508211083925 and parameters: {'n_estimators': 775, 'max_depth': 5, 'learning_rate': 0.031}. Best is trial 30 with value: 0.4086443543752457.\n",
      "[I 2023-07-15 18:34:38,151] Trial 43 finished with value: 0.40991468485586924 and parameters: {'n_estimators': 530, 'max_depth': 9, 'learning_rate': 0.031}. Best is trial 30 with value: 0.4086443543752457.\n",
      "[I 2023-07-15 18:34:38,809] Trial 44 finished with value: 0.4105244738562064 and parameters: {'n_estimators': 545, 'max_depth': 9, 'learning_rate': 0.032}. Best is trial 30 with value: 0.4086443543752457.\n",
      "[I 2023-07-15 18:34:46,159] Trial 47 finished with value: 0.41177686442611844 and parameters: {'n_estimators': 521, 'max_depth': 8, 'learning_rate': 0.022000000000000002}. Best is trial 30 with value: 0.4086443543752457.\n",
      "[I 2023-07-15 18:34:50,454] Trial 45 finished with value: 0.4113931045991991 and parameters: {'n_estimators': 793, 'max_depth': 9, 'learning_rate': 0.025}. Best is trial 30 with value: 0.4086443543752457.\n",
      "[I 2023-07-15 18:34:51,043] Trial 50 finished with value: 0.4102625088074504 and parameters: {'n_estimators': 900, 'max_depth': 4, 'learning_rate': 0.024}. Best is trial 30 with value: 0.4086443543752457.\n",
      "[I 2023-07-15 18:34:56,427] Trial 52 finished with value: 0.41423313400616935 and parameters: {'n_estimators': 640, 'max_depth': 5, 'learning_rate': 0.069}. Best is trial 30 with value: 0.4086443543752457.\n",
      "[I 2023-07-15 18:34:57,064] Trial 48 finished with value: 0.40988679637378955 and parameters: {'n_estimators': 815, 'max_depth': 8, 'learning_rate': 0.025}. Best is trial 30 with value: 0.4086443543752457.\n",
      "[I 2023-07-15 18:34:57,125] Trial 51 finished with value: 0.4110766227616909 and parameters: {'n_estimators': 915, 'max_depth': 5, 'learning_rate': 0.037000000000000005}. Best is trial 30 with value: 0.4086443543752457.\n",
      "[I 2023-07-15 18:34:57,494] Trial 49 finished with value: 0.4077034127701883 and parameters: {'n_estimators': 814, 'max_depth': 8, 'learning_rate': 0.024}. Best is trial 49 with value: 0.4077034127701883.\n",
      "[I 2023-07-15 18:35:15,730] Trial 55 finished with value: 0.4107402708673407 and parameters: {'n_estimators': 812, 'max_depth': 8, 'learning_rate': 0.034}. Best is trial 49 with value: 0.4077034127701883.\n",
      "[I 2023-07-15 18:35:17,765] Trial 53 finished with value: 0.4104979969232449 and parameters: {'n_estimators': 971, 'max_depth': 8, 'learning_rate': 0.035}. Best is trial 49 with value: 0.4077034127701883.\n",
      "[I 2023-07-15 18:35:20,221] Trial 54 finished with value: 0.4104861742801956 and parameters: {'n_estimators': 983, 'max_depth': 8, 'learning_rate': 0.035}. Best is trial 49 with value: 0.4077034127701883.\n",
      "[I 2023-07-15 18:35:20,382] Trial 56 finished with value: 0.41080138810752637 and parameters: {'n_estimators': 991, 'max_depth': 8, 'learning_rate': 0.015}. Best is trial 49 with value: 0.4077034127701883.\n",
      "[I 2023-07-15 18:35:25,742] Trial 57 finished with value: 0.41704915887327526 and parameters: {'n_estimators': 757, 'max_depth': 7, 'learning_rate': 0.005}. Best is trial 49 with value: 0.4077034127701883.\n",
      "[I 2023-07-15 18:35:28,067] Trial 58 finished with value: 0.4127586617676594 and parameters: {'n_estimators': 740, 'max_depth': 7, 'learning_rate': 0.015}. Best is trial 49 with value: 0.4077034127701883.\n",
      "[I 2023-07-15 18:35:30,749] Trial 60 finished with value: 0.4191657447157499 and parameters: {'n_estimators': 755, 'max_depth': 7, 'learning_rate': 0.004}. Best is trial 49 with value: 0.4077034127701883.\n",
      "[I 2023-07-15 18:35:31,135] Trial 59 finished with value: 0.41329466494162054 and parameters: {'n_estimators': 733, 'max_depth': 7, 'learning_rate': 0.049}. Best is trial 49 with value: 0.4077034127701883.\n",
      "[I 2023-07-15 18:35:35,432] Trial 61 finished with value: 0.4138004566827912 and parameters: {'n_estimators': 721, 'max_depth': 7, 'learning_rate': 0.013000000000000001}. Best is trial 49 with value: 0.4077034127701883.\n",
      "[I 2023-07-15 18:35:36,892] Trial 62 finished with value: 0.4083389779310973 and parameters: {'n_estimators': 891, 'max_depth': 6, 'learning_rate': 0.041}. Best is trial 49 with value: 0.4077034127701883.\n",
      "[I 2023-07-15 18:35:39,143] Trial 63 finished with value: 0.41555292200579264 and parameters: {'n_estimators': 894, 'max_depth': 6, 'learning_rate': 0.060000000000000005}. Best is trial 49 with value: 0.4077034127701883.\n",
      "[I 2023-07-15 18:35:39,533] Trial 64 finished with value: 0.4119933686422265 and parameters: {'n_estimators': 828, 'max_depth': 6, 'learning_rate': 0.023}. Best is trial 49 with value: 0.4077034127701883.\n",
      "[I 2023-07-15 18:35:43,126] Trial 65 finished with value: 0.4119433156148678 and parameters: {'n_estimators': 822, 'max_depth': 6, 'learning_rate': 0.023}. Best is trial 49 with value: 0.4077034127701883.\n",
      "[I 2023-07-15 18:35:45,333] Trial 66 finished with value: 0.41226634046819843 and parameters: {'n_estimators': 878, 'max_depth': 6, 'learning_rate': 0.042}. Best is trial 49 with value: 0.4077034127701883.\n",
      "[I 2023-07-15 18:35:47,257] Trial 67 finished with value: 0.4158886907079629 and parameters: {'n_estimators': 834, 'max_depth': 6, 'learning_rate': 0.04}. Best is trial 49 with value: 0.4077034127701883.\n",
      "[I 2023-07-15 18:35:47,603] Trial 68 finished with value: 0.4085121555803375 and parameters: {'n_estimators': 855, 'max_depth': 6, 'learning_rate': 0.041}. Best is trial 49 with value: 0.4077034127701883.\n",
      "[I 2023-07-15 18:35:49,966] Trial 69 finished with value: 0.41371573418097535 and parameters: {'n_estimators': 484, 'max_depth': 7, 'learning_rate': 0.041}. Best is trial 49 with value: 0.4077034127701883.\n",
      "[I 2023-07-15 18:35:54,149] Trial 72 finished with value: 0.40994213665060675 and parameters: {'n_estimators': 942, 'max_depth': 5, 'learning_rate': 0.028}. Best is trial 49 with value: 0.4077034127701883.\n",
      "[I 2023-07-15 18:35:54,729] Trial 73 finished with value: 0.41167375132588974 and parameters: {'n_estimators': 945, 'max_depth': 4, 'learning_rate': 0.028}. Best is trial 49 with value: 0.4077034127701883.\n",
      "[I 2023-07-15 18:35:58,328] Trial 70 finished with value: 0.40983252230243017 and parameters: {'n_estimators': 932, 'max_depth': 7, 'learning_rate': 0.027000000000000003}. Best is trial 49 with value: 0.4077034127701883.\n",
      "[I 2023-07-15 18:35:59,723] Trial 71 finished with value: 0.4108349625885291 and parameters: {'n_estimators': 918, 'max_depth': 7, 'learning_rate': 0.019000000000000003}. Best is trial 49 with value: 0.4077034127701883.\n",
      "[I 2023-07-15 18:36:03,050] Trial 74 finished with value: 0.4114303743209316 and parameters: {'n_estimators': 932, 'max_depth': 6, 'learning_rate': 0.019000000000000003}. Best is trial 49 with value: 0.4077034127701883.\n",
      "[I 2023-07-15 18:36:04,203] Trial 75 finished with value: 0.41040224429381345 and parameters: {'n_estimators': 663, 'max_depth': 7, 'learning_rate': 0.02}. Best is trial 49 with value: 0.4077034127701883.\n",
      "[I 2023-07-15 18:36:07,488] Trial 78 finished with value: 0.4152481116640032 and parameters: {'n_estimators': 202, 'max_depth': 8, 'learning_rate': 0.048}. Best is trial 49 with value: 0.4077034127701883.\n",
      "[I 2023-07-15 18:36:08,855] Trial 77 finished with value: 0.41218302037220245 and parameters: {'n_estimators': 865, 'max_depth': 6, 'learning_rate': 0.047}. Best is trial 49 with value: 0.4077034127701883.\n",
      "[I 2023-07-15 18:36:10,692] Trial 76 finished with value: 0.4110831603250587 and parameters: {'n_estimators': 875, 'max_depth': 7, 'learning_rate': 0.02}. Best is trial 49 with value: 0.4077034127701883.\n"
     ]
    },
    {
     "name": "stderr",
     "output_type": "stream",
     "text": [
      "[I 2023-07-15 18:36:14,311] Trial 80 finished with value: 0.4122066270874249 and parameters: {'n_estimators': 869, 'max_depth': 5, 'learning_rate': 0.032}. Best is trial 49 with value: 0.4077034127701883.\n",
      "[I 2023-07-15 18:36:18,094] Trial 82 finished with value: 0.4120154635026903 and parameters: {'n_estimators': 969, 'max_depth': 5, 'learning_rate': 0.032}. Best is trial 49 with value: 0.4077034127701883.\n",
      "[I 2023-07-15 18:36:24,478] Trial 79 finished with value: 0.41394104976773255 and parameters: {'n_estimators': 873, 'max_depth': 8, 'learning_rate': 0.048}. Best is trial 49 with value: 0.4077034127701883.\n",
      "[I 2023-07-15 18:36:25,624] Trial 85 finished with value: 0.41643066909945486 and parameters: {'n_estimators': 770, 'max_depth': 1, 'learning_rate': 0.026000000000000002}. Best is trial 49 with value: 0.4077034127701883.\n",
      "[I 2023-07-15 18:36:36,440] Trial 83 finished with value: 0.41330385587701124 and parameters: {'n_estimators': 966, 'max_depth': 8, 'learning_rate': 0.078}. Best is trial 49 with value: 0.4077034127701883.\n",
      "[I 2023-07-15 18:36:36,559] Trial 84 finished with value: 0.40953406588558466 and parameters: {'n_estimators': 783, 'max_depth': 8, 'learning_rate': 0.025}. Best is trial 49 with value: 0.4077034127701883.\n",
      "[I 2023-07-15 18:36:38,141] Trial 86 finished with value: 0.4152771460354883 and parameters: {'n_estimators': 789, 'max_depth': 7, 'learning_rate': 0.029}. Best is trial 49 with value: 0.4077034127701883.\n",
      "[I 2023-07-15 18:36:43,851] Trial 87 finished with value: 0.4186099120453668 and parameters: {'n_estimators': 791, 'max_depth': 6, 'learning_rate': 0.096}. Best is trial 49 with value: 0.4077034127701883.\n",
      "[I 2023-07-15 18:36:48,513] Trial 81 finished with value: 0.40972645380428113 and parameters: {'n_estimators': 885, 'max_depth': 9, 'learning_rate': 0.032}. Best is trial 49 with value: 0.4077034127701883.\n",
      "[I 2023-07-15 18:37:11,032] Trial 88 finished with value: 0.41249887125311385 and parameters: {'n_estimators': 698, 'max_depth': 9, 'learning_rate': 0.037000000000000005}. Best is trial 49 with value: 0.4077034127701883.\n",
      "[I 2023-07-15 18:37:15,864] Trial 90 finished with value: 0.4110573355609842 and parameters: {'n_estimators': 625, 'max_depth': 9, 'learning_rate': 0.036000000000000004}. Best is trial 49 with value: 0.4077034127701883.\n",
      "[I 2023-07-15 18:37:20,150] Trial 91 finished with value: 0.4132283603513682 and parameters: {'n_estimators': 621, 'max_depth': 9, 'learning_rate': 0.037000000000000005}. Best is trial 49 with value: 0.4077034127701883.\n",
      "[I 2023-07-15 18:37:21,322] Trial 89 finished with value: 0.4116528783795646 and parameters: {'n_estimators': 837, 'max_depth': 9, 'learning_rate': 0.036000000000000004}. Best is trial 49 with value: 0.4077034127701883.\n",
      "[I 2023-07-15 18:37:39,144] Trial 94 finished with value: 0.41314288440805597 and parameters: {'n_estimators': 843, 'max_depth': 8, 'learning_rate': 0.030000000000000002}. Best is trial 49 with value: 0.4077034127701883.\n",
      "[I 2023-07-15 18:37:42,154] Trial 95 finished with value: 0.40915249102152607 and parameters: {'n_estimators': 900, 'max_depth': 8, 'learning_rate': 0.026000000000000002}. Best is trial 49 with value: 0.4077034127701883.\n",
      "[I 2023-07-15 18:37:54,468] Trial 92 finished with value: 0.41240043040026353 and parameters: {'n_estimators': 846, 'max_depth': 9, 'learning_rate': 0.042}. Best is trial 49 with value: 0.4077034127701883.\n",
      "[I 2023-07-15 18:37:58,282] Trial 93 finished with value: 0.4132883279537735 and parameters: {'n_estimators': 839, 'max_depth': 9, 'learning_rate': 0.043000000000000003}. Best is trial 49 with value: 0.4077034127701883.\n",
      "[I 2023-07-15 18:38:00,019] Trial 96 finished with value: 0.4090638893692249 and parameters: {'n_estimators': 895, 'max_depth': 8, 'learning_rate': 0.026000000000000002}. Best is trial 49 with value: 0.4077034127701883.\n",
      "[I 2023-07-15 18:38:16,156] Trial 99 finished with value: 0.41421136754710336 and parameters: {'n_estimators': 897, 'max_depth': 8, 'learning_rate': 0.017}. Best is trial 49 with value: 0.4077034127701883.\n",
      "[I 2023-07-15 18:38:22,068] Trial 97 finished with value: 0.41259692543049675 and parameters: {'n_estimators': 905, 'max_depth': 10, 'learning_rate': 0.043000000000000003}. Best is trial 49 with value: 0.4077034127701883.\n",
      "[I 2023-07-15 18:38:26,563] Trial 98 finished with value: 0.4116017004145292 and parameters: {'n_estimators': 904, 'max_depth': 10, 'learning_rate': 0.033}. Best is trial 49 with value: 0.4077034127701883.\n"
     ]
    },
    {
     "name": "stdout",
     "output_type": "stream",
     "text": [
      "FrozenTrial(number=49, state=TrialState.COMPLETE, values=[0.4077034127701883], datetime_start=datetime.datetime(2023, 7, 15, 18, 34, 38, 817766), datetime_complete=datetime.datetime(2023, 7, 15, 18, 34, 57, 494396), params={'n_estimators': 814, 'max_depth': 8, 'learning_rate': 0.024}, user_attrs={}, system_attrs={}, intermediate_values={}, distributions={'n_estimators': IntDistribution(high=1000, log=False, low=10, step=1), 'max_depth': IntDistribution(high=10, log=False, low=1, step=1), 'learning_rate': FloatDistribution(high=0.1, log=False, low=0.001, step=0.001)}, trial_id=49, value=None)\n"
     ]
    }
   ],
   "source": [
    "def objective(trial):\n",
    "\n",
    "    param = {\n",
    "        \"n_estimators\": trial.suggest_int(\"n_estimators\", 10, 1000),\n",
    "        \"max_depth\": trial.suggest_int(\"max_depth\", 1, 10),\n",
    "        \"learning_rate\": trial.suggest_float(\"learning_rate\", 0.001, 0.1, step=0.001),\n",
    "        #\"l2_leaf_reg\": trial.suggest_int(\"l2_leaf_reg\", 2, 5)\n",
    "        #\"min_child_samples\": trial.suggest_int('min_child_samples', 1, 100)\n",
    "    }\n",
    "\n",
    "    estimator = CatBoostRegressor(**param,\n",
    "                                  cat_features=categorical_features_indices,\n",
    "                                  custom_metric='R2',\n",
    "                                  verbose=False)\n",
    "\n",
    "    estimator.fit(X_train, y_train)\n",
    "    pred = estimator.predict(X_val)\n",
    "\n",
    "    return mean_squared_error(y_val, pred, squared=False)\n",
    "\n",
    "study = optuna.create_study(direction=\"minimize\")\n",
    "study.optimize(objective, n_trials=100, n_jobs=-1)\n",
    "print(study.best_trial)"
   ]
  },
  {
   "cell_type": "code",
   "execution_count": 136,
   "id": "vulnerable-fifth",
   "metadata": {},
   "outputs": [
    {
     "name": "stdout",
     "output_type": "stream",
     "text": [
      "{'n_estimators': 814, 'max_depth': 8, 'learning_rate': 0.024}\n"
     ]
    }
   ],
   "source": [
    "print(study.best_trial.params)"
   ]
  },
  {
   "cell_type": "code",
   "execution_count": 137,
   "id": "resistant-retailer",
   "metadata": {},
   "outputs": [
    {
     "data": {
      "text/plain": [
       "0.15698255093345415"
      ]
     },
     "execution_count": 137,
     "metadata": {},
     "output_type": "execute_result"
    }
   ],
   "source": [
    "model = CatBoostRegressor(**study.best_params,\n",
    "                         cat_features=categorical_features_indices,\n",
    "                         logging_level='Silent')\n",
    "\n",
    "model.fit(X_train, y_train)\n",
    "pred_cb = model.predict(X_val)\n",
    "\n",
    "r2_score(y_val, pred_cb)"
   ]
  },
  {
   "cell_type": "code",
   "execution_count": 138,
   "id": "electrical-parent",
   "metadata": {},
   "outputs": [
    {
     "data": {
      "text/html": [
       "<div>\n",
       "<style scoped>\n",
       "    .dataframe tbody tr th:only-of-type {\n",
       "        vertical-align: middle;\n",
       "    }\n",
       "\n",
       "    .dataframe tbody tr th {\n",
       "        vertical-align: top;\n",
       "    }\n",
       "\n",
       "    .dataframe thead th {\n",
       "        text-align: right;\n",
       "    }\n",
       "</style>\n",
       "<table border=\"1\" class=\"dataframe\">\n",
       "  <thead>\n",
       "    <tr style=\"text-align: right;\">\n",
       "      <th></th>\n",
       "      <th>Feature</th>\n",
       "      <th>Importance</th>\n",
       "    </tr>\n",
       "  </thead>\n",
       "  <tbody>\n",
       "    <tr>\n",
       "      <th>0</th>\n",
       "      <td>Company</td>\n",
       "      <td>18.356084</td>\n",
       "    </tr>\n",
       "    <tr>\n",
       "      <th>5</th>\n",
       "      <td>Broad Bean Origin</td>\n",
       "      <td>12.577932</td>\n",
       "    </tr>\n",
       "    <tr>\n",
       "      <th>3</th>\n",
       "      <td>Company Location</td>\n",
       "      <td>10.779568</td>\n",
       "    </tr>\n",
       "    <tr>\n",
       "      <th>1</th>\n",
       "      <td>REF</td>\n",
       "      <td>10.326683</td>\n",
       "    </tr>\n",
       "    <tr>\n",
       "      <th>2</th>\n",
       "      <td>Cocoa Percent</td>\n",
       "      <td>9.599685</td>\n",
       "    </tr>\n",
       "    <tr>\n",
       "      <th>4</th>\n",
       "      <td>Bean Type</td>\n",
       "      <td>8.991336</td>\n",
       "    </tr>\n",
       "    <tr>\n",
       "      <th>8</th>\n",
       "      <td>Bean Origin World</td>\n",
       "      <td>8.826917</td>\n",
       "    </tr>\n",
       "    <tr>\n",
       "      <th>7</th>\n",
       "      <td>Broad Company Location</td>\n",
       "      <td>7.963285</td>\n",
       "    </tr>\n",
       "    <tr>\n",
       "      <th>6</th>\n",
       "      <td>Common Bean Type</td>\n",
       "      <td>6.595017</td>\n",
       "    </tr>\n",
       "    <tr>\n",
       "      <th>9</th>\n",
       "      <td>SBO Complexity</td>\n",
       "      <td>5.983492</td>\n",
       "    </tr>\n",
       "  </tbody>\n",
       "</table>\n",
       "</div>"
      ],
      "text/plain": [
       "                  Feature  Importance\n",
       "0                 Company   18.356084\n",
       "5       Broad Bean Origin   12.577932\n",
       "3        Company Location   10.779568\n",
       "1                     REF   10.326683\n",
       "2           Cocoa Percent    9.599685\n",
       "4               Bean Type    8.991336\n",
       "8       Bean Origin World    8.826917\n",
       "7  Broad Company Location    7.963285\n",
       "6        Common Bean Type    6.595017\n",
       "9          SBO Complexity    5.983492"
      ]
     },
     "execution_count": 138,
     "metadata": {},
     "output_type": "execute_result"
    }
   ],
   "source": [
    "pd.DataFrame({'Feature': model.feature_names_, \"Importance\": model.feature_importances_})\\\n",
    "    .sort_values(by='Importance', ascending=False)"
   ]
  },
  {
   "cell_type": "markdown",
   "id": "chemical-compiler",
   "metadata": {},
   "source": [
    "## Apply tuned CatBoost to test"
   ]
  },
  {
   "cell_type": "code",
   "execution_count": 139,
   "id": "victorian-influence",
   "metadata": {},
   "outputs": [
    {
     "data": {
      "text/plain": [
       "<catboost.core.CatBoostRegressor at 0x7fe397ba1a90>"
      ]
     },
     "execution_count": 139,
     "metadata": {},
     "output_type": "execute_result"
    }
   ],
   "source": [
    "model.fit(X, y)"
   ]
  },
  {
   "cell_type": "code",
   "execution_count": 140,
   "id": "stuck-mirror",
   "metadata": {},
   "outputs": [
    {
     "data": {
      "text/plain": [
       "array([3.24825691, 3.03271246, 3.12044423, 3.39179821, 2.89768025,\n",
       "       3.00296931, 3.05429123, 3.15597149, 3.11202688, 2.86356154])"
      ]
     },
     "execution_count": 140,
     "metadata": {},
     "output_type": "execute_result"
    }
   ],
   "source": [
    "pred_test = model.predict(df_test)\n",
    "pred_test[:10]"
   ]
  },
  {
   "cell_type": "code",
   "execution_count": 141,
   "id": "civic-buying",
   "metadata": {},
   "outputs": [],
   "source": [
    "df_submission = df_test.copy()\n",
    "df_submission['id'] = np.arange(len(df_test))\n",
    "df_submission['Rating'] = pred_test\n",
    "df_submission = df_submission[['id','Rating']]\n",
    "df_submission.to_csv(\"CatBoost_v21_new.csv\", index=False)"
   ]
  },
  {
   "cell_type": "code",
   "execution_count": 142,
   "id": "twenty-parking",
   "metadata": {},
   "outputs": [
    {
     "name": "stdout",
     "output_type": "stream",
     "text": [
      "Index(['Company', 'REF', 'Cocoa Percent', 'Company Location', 'Bean Type',\n",
      "       'Broad Bean Origin', 'Common Bean Type', 'Broad Company Location',\n",
      "       'Bean Origin World', 'SBO Complexity', 'Rating'],\n",
      "      dtype='object')\n"
     ]
    }
   ],
   "source": [
    "print(df_train.columns)"
   ]
  },
  {
   "cell_type": "code",
   "execution_count": 143,
   "id": "informational-gardening",
   "metadata": {},
   "outputs": [
    {
     "name": "stdout",
     "output_type": "stream",
     "text": [
      "{'n_estimators': 814, 'max_depth': 8, 'learning_rate': 0.024}\n"
     ]
    }
   ],
   "source": [
    "print(study.best_trial.params)"
   ]
  },
  {
   "cell_type": "markdown",
   "id": "round-success",
   "metadata": {},
   "source": [
    "With above features and hyperparameters I managed to get r2 = 0.19519"
   ]
  },
  {
   "cell_type": "markdown",
   "id": "motivated-exclusion",
   "metadata": {},
   "source": [
    "## Save the model"
   ]
  },
  {
   "cell_type": "code",
   "execution_count": null,
   "id": "mighty-implement",
   "metadata": {},
   "outputs": [],
   "source": [
    "import pickle\n",
    "\n",
    "with open('model_v13.pickle', 'wb') as f:\n",
    "    pickle.dump(model, f)\n",
    "\n",
    "# а так модель можно загрузить из файла:\n",
    "with open('model_v13.pickle', 'rb') as f:\n",
    "    model = pickle.load(f)"
   ]
  },
  {
   "cell_type": "code",
   "execution_count": null,
   "id": "raised-shooting",
   "metadata": {},
   "outputs": [],
   "source": []
  }
 ],
 "metadata": {
  "kernelspec": {
   "display_name": "Python 3 (ipykernel)",
   "language": "python",
   "name": "python3"
  },
  "language_info": {
   "codemirror_mode": {
    "name": "ipython",
    "version": 3
   },
   "file_extension": ".py",
   "mimetype": "text/x-python",
   "name": "python",
   "nbconvert_exporter": "python",
   "pygments_lexer": "ipython3",
   "version": "3.7.7"
  }
 },
 "nbformat": 4,
 "nbformat_minor": 5
}
