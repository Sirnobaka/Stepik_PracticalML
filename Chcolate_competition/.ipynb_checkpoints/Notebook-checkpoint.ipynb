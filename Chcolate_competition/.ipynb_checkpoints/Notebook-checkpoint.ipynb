{
 "cells": [
  {
   "cell_type": "code",
   "execution_count": 1,
   "id": "heated-plaintiff",
   "metadata": {},
   "outputs": [],
   "source": [
    "import math\n",
    "import numpy as np\n",
    "from scipy import stats\n",
    "import matplotlib.pyplot as plt\n",
    "import pandas as pd\n",
    "import seaborn as sns\n",
    "import random\n",
    "\n",
    "%matplotlib inline\n",
    "plt.rcParams.update({\n",
    "        'font.size': 14,\n",
    "        'axes.titlesize': 20,\n",
    "        'axes.labelsize': 20,\n",
    "        'xtick.labelsize': 20,\n",
    "        'ytick.labelsize': 20,\n",
    "        'font.size': 20,\n",
    "        'figure.figsize': (10, 7),\n",
    "        'axes.grid': True,\n",
    "        'grid.linestyle': '-',\n",
    "        'grid.alpha': 0.3,\n",
    "        'lines.markersize': 5.0,\n",
    "        'xtick.minor.visible': True,\n",
    "        'xtick.direction': 'in',\n",
    "        'xtick.major.size': 20.0,\n",
    "        'xtick.minor.size': 10.0,\n",
    "        'xtick.top': False,\n",
    "        'xtick.bottom': True,\n",
    "        'ytick.minor.visible': True,\n",
    "        'ytick.direction': 'in',\n",
    "        'ytick.major.size': 12.0,\n",
    "        'ytick.minor.size': 6.0,\n",
    "        'ytick.right': True,\n",
    "        'errorbar.capsize': 0.0,\n",
    "    })\n",
    "\n",
    "# https://www.kaggle.com/competitions/practical-ml-chocolate/data"
   ]
  },
  {
   "cell_type": "markdown",
   "id": "indonesian-heading",
   "metadata": {},
   "source": [
    "# 1. Get data"
   ]
  },
  {
   "cell_type": "code",
   "execution_count": 2,
   "id": "oriented-chemical",
   "metadata": {},
   "outputs": [
    {
     "data": {
      "text/html": [
       "<div>\n",
       "<style scoped>\n",
       "    .dataframe tbody tr th:only-of-type {\n",
       "        vertical-align: middle;\n",
       "    }\n",
       "\n",
       "    .dataframe tbody tr th {\n",
       "        vertical-align: top;\n",
       "    }\n",
       "\n",
       "    .dataframe thead th {\n",
       "        text-align: right;\n",
       "    }\n",
       "</style>\n",
       "<table border=\"1\" class=\"dataframe\">\n",
       "  <thead>\n",
       "    <tr style=\"text-align: right;\">\n",
       "      <th></th>\n",
       "      <th>Company</th>\n",
       "      <th>Specific Bean Origin</th>\n",
       "      <th>REF</th>\n",
       "      <th>Review</th>\n",
       "      <th>Cocoa Percent</th>\n",
       "      <th>Company Location</th>\n",
       "      <th>Rating</th>\n",
       "      <th>Bean Type</th>\n",
       "      <th>Broad Bean Origin</th>\n",
       "    </tr>\n",
       "  </thead>\n",
       "  <tbody>\n",
       "    <tr>\n",
       "      <th>0</th>\n",
       "      <td>Willie's Cacao</td>\n",
       "      <td>Rio Caribe</td>\n",
       "      <td>457</td>\n",
       "      <td>2009</td>\n",
       "      <td>72%</td>\n",
       "      <td>U.K.</td>\n",
       "      <td>3.25</td>\n",
       "      <td>Trinitario</td>\n",
       "      <td>Venezuela</td>\n",
       "    </tr>\n",
       "    <tr>\n",
       "      <th>1</th>\n",
       "      <td>Beschle (Felchlin)</td>\n",
       "      <td>Ocumare, Premier Cru, Quizas No. 2</td>\n",
       "      <td>508</td>\n",
       "      <td>2010</td>\n",
       "      <td>72%</td>\n",
       "      <td>Switzerland</td>\n",
       "      <td>3.50</td>\n",
       "      <td></td>\n",
       "      <td>Venezuela</td>\n",
       "    </tr>\n",
       "    <tr>\n",
       "      <th>2</th>\n",
       "      <td>Dark Forest</td>\n",
       "      <td>Tanzania</td>\n",
       "      <td>1554</td>\n",
       "      <td>2015</td>\n",
       "      <td>70%</td>\n",
       "      <td>U.S.A.</td>\n",
       "      <td>3.00</td>\n",
       "      <td></td>\n",
       "      <td>Tanzania</td>\n",
       "    </tr>\n",
       "    <tr>\n",
       "      <th>3</th>\n",
       "      <td>Brasstown aka It's Chocolate</td>\n",
       "      <td>Cooproagro</td>\n",
       "      <td>1125</td>\n",
       "      <td>2013</td>\n",
       "      <td>72%</td>\n",
       "      <td>U.S.A.</td>\n",
       "      <td>3.00</td>\n",
       "      <td>Trinitario</td>\n",
       "      <td>Dominican Republic</td>\n",
       "    </tr>\n",
       "    <tr>\n",
       "      <th>4</th>\n",
       "      <td>Pralus</td>\n",
       "      <td>Java, Indonesie</td>\n",
       "      <td>32</td>\n",
       "      <td>2006</td>\n",
       "      <td>75%</td>\n",
       "      <td>France</td>\n",
       "      <td>3.50</td>\n",
       "      <td>Criollo</td>\n",
       "      <td>Indonesia</td>\n",
       "    </tr>\n",
       "  </tbody>\n",
       "</table>\n",
       "</div>"
      ],
      "text/plain": [
       "                        Company                Specific Bean Origin   REF  \\\n",
       "0                Willie's Cacao                          Rio Caribe   457   \n",
       "1            Beschle (Felchlin)  Ocumare, Premier Cru, Quizas No. 2   508   \n",
       "2                   Dark Forest                            Tanzania  1554   \n",
       "3  Brasstown aka It's Chocolate                          Cooproagro  1125   \n",
       "4                        Pralus                     Java, Indonesie    32   \n",
       "\n",
       "   Review Cocoa Percent Company Location  Rating   Bean Type  \\\n",
       "0    2009           72%             U.K.    3.25  Trinitario   \n",
       "1    2010           72%      Switzerland    3.50               \n",
       "2    2015           70%           U.S.A.    3.00               \n",
       "3    2013           72%           U.S.A.    3.00  Trinitario   \n",
       "4    2006           75%           France    3.50     Criollo   \n",
       "\n",
       "    Broad Bean Origin  \n",
       "0           Venezuela  \n",
       "1           Venezuela  \n",
       "2            Tanzania  \n",
       "3  Dominican Republic  \n",
       "4           Indonesia  "
      ]
     },
     "execution_count": 2,
     "metadata": {},
     "output_type": "execute_result"
    }
   ],
   "source": [
    "df_train = pd.read_csv('chocolate_train.csv')\n",
    "df_train.head()"
   ]
  },
  {
   "cell_type": "code",
   "execution_count": 3,
   "id": "future-amendment",
   "metadata": {},
   "outputs": [
    {
     "name": "stdout",
     "output_type": "stream",
     "text": [
      "Train data has 9 columns and 1255 rows\n"
     ]
    }
   ],
   "source": [
    "print(f'Train data has {df_train.shape[1]} columns and {df_train.shape[0]} rows')"
   ]
  },
  {
   "cell_type": "code",
   "execution_count": 4,
   "id": "quiet-instrument",
   "metadata": {},
   "outputs": [
    {
     "name": "stdout",
     "output_type": "stream",
     "text": [
      "<class 'pandas.core.frame.DataFrame'>\n",
      "RangeIndex: 1255 entries, 0 to 1254\n",
      "Data columns (total 9 columns):\n",
      " #   Column                Non-Null Count  Dtype  \n",
      "---  ------                --------------  -----  \n",
      " 0   Company               1255 non-null   object \n",
      " 1   Specific Bean Origin  1255 non-null   object \n",
      " 2   REF                   1255 non-null   int64  \n",
      " 3   Review                1255 non-null   int64  \n",
      " 4   Cocoa Percent         1255 non-null   object \n",
      " 5   Company Location      1255 non-null   object \n",
      " 6   Rating                1255 non-null   float64\n",
      " 7   Bean Type             1254 non-null   object \n",
      " 8   Broad Bean Origin     1254 non-null   object \n",
      "dtypes: float64(1), int64(2), object(6)\n",
      "memory usage: 88.4+ KB\n"
     ]
    }
   ],
   "source": [
    "df_train.info()"
   ]
  },
  {
   "cell_type": "code",
   "execution_count": 5,
   "id": "accepted-chain",
   "metadata": {},
   "outputs": [
    {
     "name": "stdout",
     "output_type": "stream",
     "text": [
      "Number of unique values in categorical columns\n",
      "Company: 376\n",
      "Specific Bean Origin: 762\n",
      "Cocoa Percent: 40\n",
      "Company Location: 58\n",
      "Bean Type: 38\n",
      "Broad Bean Origin: 84\n"
     ]
    }
   ],
   "source": [
    "print('Number of unique values in categorical columns')\n",
    "\n",
    "for col in df_train.columns:\n",
    "    if df_train[col].dtype == 'O':\n",
    "        print(f'{col}: {df_train[col].nunique()}')"
   ]
  },
  {
   "cell_type": "code",
   "execution_count": 6,
   "id": "functional-special",
   "metadata": {},
   "outputs": [],
   "source": [
    "# Make percentage float\n",
    "df_train['Cocoa Percent'] = df_train['Cocoa Percent'].apply(lambda x: float(x.strip('%')))"
   ]
  },
  {
   "cell_type": "code",
   "execution_count": 7,
   "id": "solar-reminder",
   "metadata": {},
   "outputs": [
    {
     "data": {
      "text/html": [
       "<div>\n",
       "<style scoped>\n",
       "    .dataframe tbody tr th:only-of-type {\n",
       "        vertical-align: middle;\n",
       "    }\n",
       "\n",
       "    .dataframe tbody tr th {\n",
       "        vertical-align: top;\n",
       "    }\n",
       "\n",
       "    .dataframe thead th {\n",
       "        text-align: right;\n",
       "    }\n",
       "</style>\n",
       "<table border=\"1\" class=\"dataframe\">\n",
       "  <thead>\n",
       "    <tr style=\"text-align: right;\">\n",
       "      <th></th>\n",
       "      <th>REF</th>\n",
       "      <th>Review</th>\n",
       "      <th>Cocoa Percent</th>\n",
       "      <th>Rating</th>\n",
       "    </tr>\n",
       "  </thead>\n",
       "  <tbody>\n",
       "    <tr>\n",
       "      <th>count</th>\n",
       "      <td>1255.000000</td>\n",
       "      <td>1255.000000</td>\n",
       "      <td>1255.000000</td>\n",
       "      <td>1255.000000</td>\n",
       "    </tr>\n",
       "    <tr>\n",
       "      <th>mean</th>\n",
       "      <td>1045.152191</td>\n",
       "      <td>2012.382470</td>\n",
       "      <td>71.790438</td>\n",
       "      <td>3.176494</td>\n",
       "    </tr>\n",
       "    <tr>\n",
       "      <th>std</th>\n",
       "      <td>551.284249</td>\n",
       "      <td>2.922499</td>\n",
       "      <td>6.397448</td>\n",
       "      <td>0.478948</td>\n",
       "    </tr>\n",
       "    <tr>\n",
       "      <th>min</th>\n",
       "      <td>5.000000</td>\n",
       "      <td>2006.000000</td>\n",
       "      <td>46.000000</td>\n",
       "      <td>1.000000</td>\n",
       "    </tr>\n",
       "    <tr>\n",
       "      <th>25%</th>\n",
       "      <td>593.000000</td>\n",
       "      <td>2010.000000</td>\n",
       "      <td>70.000000</td>\n",
       "      <td>2.750000</td>\n",
       "    </tr>\n",
       "    <tr>\n",
       "      <th>50%</th>\n",
       "      <td>1077.000000</td>\n",
       "      <td>2013.000000</td>\n",
       "      <td>70.000000</td>\n",
       "      <td>3.250000</td>\n",
       "    </tr>\n",
       "    <tr>\n",
       "      <th>75%</th>\n",
       "      <td>1514.000000</td>\n",
       "      <td>2015.000000</td>\n",
       "      <td>75.000000</td>\n",
       "      <td>3.500000</td>\n",
       "    </tr>\n",
       "    <tr>\n",
       "      <th>max</th>\n",
       "      <td>1952.000000</td>\n",
       "      <td>2017.000000</td>\n",
       "      <td>100.000000</td>\n",
       "      <td>5.000000</td>\n",
       "    </tr>\n",
       "  </tbody>\n",
       "</table>\n",
       "</div>"
      ],
      "text/plain": [
       "               REF       Review  Cocoa Percent       Rating\n",
       "count  1255.000000  1255.000000    1255.000000  1255.000000\n",
       "mean   1045.152191  2012.382470      71.790438     3.176494\n",
       "std     551.284249     2.922499       6.397448     0.478948\n",
       "min       5.000000  2006.000000      46.000000     1.000000\n",
       "25%     593.000000  2010.000000      70.000000     2.750000\n",
       "50%    1077.000000  2013.000000      70.000000     3.250000\n",
       "75%    1514.000000  2015.000000      75.000000     3.500000\n",
       "max    1952.000000  2017.000000     100.000000     5.000000"
      ]
     },
     "execution_count": 7,
     "metadata": {},
     "output_type": "execute_result"
    }
   ],
   "source": [
    "df_train.describe()"
   ]
  },
  {
   "cell_type": "markdown",
   "id": "capital-leone",
   "metadata": {},
   "source": [
    "## 1.1 Handling empty cells and nans"
   ]
  },
  {
   "cell_type": "code",
   "execution_count": 8,
   "id": "speaking-vatican",
   "metadata": {
    "scrolled": false
   },
   "outputs": [
    {
     "data": {
      "text/plain": [
       "Index(['Company', 'Specific Bean Origin', 'Company Location', 'Bean Type',\n",
       "       'Broad Bean Origin'],\n",
       "      dtype='object')"
      ]
     },
     "execution_count": 8,
     "metadata": {},
     "output_type": "execute_result"
    }
   ],
   "source": [
    "df_train.columns[df_train.dtypes == object]"
   ]
  },
  {
   "cell_type": "code",
   "execution_count": 9,
   "id": "recorded-episode",
   "metadata": {},
   "outputs": [
    {
     "data": {
      "text/plain": [
       "Company                 0\n",
       "Specific Bean Origin    0\n",
       "REF                     0\n",
       "Review                  0\n",
       "Cocoa Percent           0\n",
       "Company Location        0\n",
       "Rating                  0\n",
       "Bean Type               1\n",
       "Broad Bean Origin       1\n",
       "dtype: int64"
      ]
     },
     "execution_count": 9,
     "metadata": {},
     "output_type": "execute_result"
    }
   ],
   "source": [
    "df_train.isna().sum()"
   ]
  },
  {
   "cell_type": "code",
   "execution_count": 10,
   "id": "prerequisite-nursery",
   "metadata": {},
   "outputs": [],
   "source": [
    "df_train = df_train.fillna('Unknown')"
   ]
  },
  {
   "cell_type": "code",
   "execution_count": 11,
   "id": "driven-trust",
   "metadata": {},
   "outputs": [],
   "source": [
    "empty_cell = df_train['Bean Type'].value_counts().index[0]\n",
    "df_train['Bean Type'] = df_train['Bean Type'].replace({empty_cell: \"Unknown\"})\n",
    "df_train['Broad Bean Origin'] = df_train['Broad Bean Origin'].replace({empty_cell: \"Unknown\"})\n",
    "df_train['Company Location'] = df_train['Company Location'].replace({'Niacragua': 'Nicaragua'})"
   ]
  },
  {
   "cell_type": "code",
   "execution_count": 12,
   "id": "liable-bulletin",
   "metadata": {},
   "outputs": [
    {
     "name": "stdout",
     "output_type": "stream",
     "text": [
      "Empty cells\n",
      "Company: 0\n",
      "Specific Bean Origin: 0\n",
      "Company Location: 0\n",
      "Bean Type: 0\n",
      "Broad Bean Origin: 0\n"
     ]
    }
   ],
   "source": [
    "print('Empty cells')\n",
    "\n",
    "for col in df_train.columns:\n",
    "    if df_train[col].dtype == 'O':\n",
    "        print(f'{col}: {(df_train[col]==empty_cell).sum()}')"
   ]
  },
  {
   "cell_type": "markdown",
   "id": "greek-press",
   "metadata": {},
   "source": [
    "## 1.2 Test data"
   ]
  },
  {
   "cell_type": "code",
   "execution_count": 13,
   "id": "modern-forward",
   "metadata": {},
   "outputs": [
    {
     "data": {
      "text/plain": [
       "['chocolate_test_new.csv',\n",
       " 'chocolate_train.csv',\n",
       " '.ipynb_checkpoints',\n",
       " 'Notebook.ipynb',\n",
       " 'choco_sample_submission.csv']"
      ]
     },
     "execution_count": 13,
     "metadata": {},
     "output_type": "execute_result"
    }
   ],
   "source": [
    "import os\n",
    "\n",
    "os.listdir()"
   ]
  },
  {
   "cell_type": "code",
   "execution_count": 14,
   "id": "macro-slovenia",
   "metadata": {},
   "outputs": [
    {
     "data": {
      "text/html": [
       "<div>\n",
       "<style scoped>\n",
       "    .dataframe tbody tr th:only-of-type {\n",
       "        vertical-align: middle;\n",
       "    }\n",
       "\n",
       "    .dataframe tbody tr th {\n",
       "        vertical-align: top;\n",
       "    }\n",
       "\n",
       "    .dataframe thead th {\n",
       "        text-align: right;\n",
       "    }\n",
       "</style>\n",
       "<table border=\"1\" class=\"dataframe\">\n",
       "  <thead>\n",
       "    <tr style=\"text-align: right;\">\n",
       "      <th></th>\n",
       "      <th>Company</th>\n",
       "      <th>Specific Bean Origin</th>\n",
       "      <th>REF</th>\n",
       "      <th>Review</th>\n",
       "      <th>Cocoa Percent</th>\n",
       "      <th>Company Location</th>\n",
       "      <th>Bean Type</th>\n",
       "      <th>Broad Bean Origin</th>\n",
       "    </tr>\n",
       "  </thead>\n",
       "  <tbody>\n",
       "    <tr>\n",
       "      <th>0</th>\n",
       "      <td>Ohiyo</td>\n",
       "      <td>San Juan Estate, Gran Couva</td>\n",
       "      <td>1594</td>\n",
       "      <td>2015</td>\n",
       "      <td>70%</td>\n",
       "      <td>U.S.A.</td>\n",
       "      <td>Trinitario</td>\n",
       "      <td>Trinidad</td>\n",
       "    </tr>\n",
       "    <tr>\n",
       "      <th>1</th>\n",
       "      <td>Blanxart</td>\n",
       "      <td>Organic Dark</td>\n",
       "      <td>322</td>\n",
       "      <td>2009</td>\n",
       "      <td>72%</td>\n",
       "      <td>Spain</td>\n",
       "      <td></td>\n",
       "      <td></td>\n",
       "    </tr>\n",
       "    <tr>\n",
       "      <th>2</th>\n",
       "      <td>Brazen</td>\n",
       "      <td>Maya Mountain</td>\n",
       "      <td>1518</td>\n",
       "      <td>2015</td>\n",
       "      <td>80%</td>\n",
       "      <td>U.S.A.</td>\n",
       "      <td>Trinitario</td>\n",
       "      <td>Belize</td>\n",
       "    </tr>\n",
       "    <tr>\n",
       "      <th>3</th>\n",
       "      <td>Patric</td>\n",
       "      <td>Madagascar</td>\n",
       "      <td>439</td>\n",
       "      <td>2009</td>\n",
       "      <td>67%</td>\n",
       "      <td>U.S.A.</td>\n",
       "      <td>Trinitario</td>\n",
       "      <td>Madagascar</td>\n",
       "    </tr>\n",
       "    <tr>\n",
       "      <th>4</th>\n",
       "      <td>Potomac</td>\n",
       "      <td>Upala, Batch 12</td>\n",
       "      <td>607</td>\n",
       "      <td>2010</td>\n",
       "      <td>82%</td>\n",
       "      <td>U.S.A.</td>\n",
       "      <td>Matina</td>\n",
       "      <td>Costa Rica</td>\n",
       "    </tr>\n",
       "  </tbody>\n",
       "</table>\n",
       "</div>"
      ],
      "text/plain": [
       "    Company         Specific Bean Origin   REF  Review Cocoa Percent  \\\n",
       "0     Ohiyo  San Juan Estate, Gran Couva  1594    2015           70%   \n",
       "1  Blanxart                 Organic Dark   322    2009           72%   \n",
       "2    Brazen                Maya Mountain  1518    2015           80%   \n",
       "3    Patric                   Madagascar   439    2009           67%   \n",
       "4   Potomac              Upala, Batch 12   607    2010           82%   \n",
       "\n",
       "  Company Location   Bean Type Broad Bean Origin  \n",
       "0           U.S.A.  Trinitario          Trinidad  \n",
       "1            Spain                                \n",
       "2           U.S.A.  Trinitario            Belize  \n",
       "3           U.S.A.  Trinitario        Madagascar  \n",
       "4           U.S.A.      Matina        Costa Rica  "
      ]
     },
     "execution_count": 14,
     "metadata": {},
     "output_type": "execute_result"
    }
   ],
   "source": [
    "df_test = pd.read_csv('chocolate_test_new.csv')\n",
    "df_test.head()"
   ]
  },
  {
   "cell_type": "code",
   "execution_count": 15,
   "id": "historic-attempt",
   "metadata": {},
   "outputs": [
    {
     "data": {
      "text/plain": [
       "Company                 0\n",
       "Specific Bean Origin    0\n",
       "REF                     0\n",
       "Review                  0\n",
       "Cocoa Percent           0\n",
       "Company Location        0\n",
       "Bean Type               0\n",
       "Broad Bean Origin       0\n",
       "dtype: int64"
      ]
     },
     "execution_count": 15,
     "metadata": {},
     "output_type": "execute_result"
    }
   ],
   "source": [
    "df_test.isna().sum()"
   ]
  },
  {
   "cell_type": "code",
   "execution_count": 16,
   "id": "elect-cycle",
   "metadata": {},
   "outputs": [
    {
     "data": {
      "text/html": [
       "<div>\n",
       "<style scoped>\n",
       "    .dataframe tbody tr th:only-of-type {\n",
       "        vertical-align: middle;\n",
       "    }\n",
       "\n",
       "    .dataframe tbody tr th {\n",
       "        vertical-align: top;\n",
       "    }\n",
       "\n",
       "    .dataframe thead th {\n",
       "        text-align: right;\n",
       "    }\n",
       "</style>\n",
       "<table border=\"1\" class=\"dataframe\">\n",
       "  <thead>\n",
       "    <tr style=\"text-align: right;\">\n",
       "      <th></th>\n",
       "      <th>Company</th>\n",
       "      <th>Specific Bean Origin</th>\n",
       "      <th>REF</th>\n",
       "      <th>Review</th>\n",
       "      <th>Cocoa Percent</th>\n",
       "      <th>Company Location</th>\n",
       "      <th>Bean Type</th>\n",
       "      <th>Broad Bean Origin</th>\n",
       "    </tr>\n",
       "  </thead>\n",
       "  <tbody>\n",
       "    <tr>\n",
       "      <th>0</th>\n",
       "      <td>Ohiyo</td>\n",
       "      <td>San Juan Estate, Gran Couva</td>\n",
       "      <td>1594</td>\n",
       "      <td>2015</td>\n",
       "      <td>70.0</td>\n",
       "      <td>U.S.A.</td>\n",
       "      <td>Trinitario</td>\n",
       "      <td>Trinidad</td>\n",
       "    </tr>\n",
       "    <tr>\n",
       "      <th>1</th>\n",
       "      <td>Blanxart</td>\n",
       "      <td>Organic Dark</td>\n",
       "      <td>322</td>\n",
       "      <td>2009</td>\n",
       "      <td>72.0</td>\n",
       "      <td>Spain</td>\n",
       "      <td>Unknown</td>\n",
       "      <td>Unknown</td>\n",
       "    </tr>\n",
       "    <tr>\n",
       "      <th>2</th>\n",
       "      <td>Brazen</td>\n",
       "      <td>Maya Mountain</td>\n",
       "      <td>1518</td>\n",
       "      <td>2015</td>\n",
       "      <td>80.0</td>\n",
       "      <td>U.S.A.</td>\n",
       "      <td>Trinitario</td>\n",
       "      <td>Belize</td>\n",
       "    </tr>\n",
       "    <tr>\n",
       "      <th>3</th>\n",
       "      <td>Patric</td>\n",
       "      <td>Madagascar</td>\n",
       "      <td>439</td>\n",
       "      <td>2009</td>\n",
       "      <td>67.0</td>\n",
       "      <td>U.S.A.</td>\n",
       "      <td>Trinitario</td>\n",
       "      <td>Madagascar</td>\n",
       "    </tr>\n",
       "    <tr>\n",
       "      <th>4</th>\n",
       "      <td>Potomac</td>\n",
       "      <td>Upala, Batch 12</td>\n",
       "      <td>607</td>\n",
       "      <td>2010</td>\n",
       "      <td>82.0</td>\n",
       "      <td>U.S.A.</td>\n",
       "      <td>Matina</td>\n",
       "      <td>Costa Rica</td>\n",
       "    </tr>\n",
       "    <tr>\n",
       "      <th>5</th>\n",
       "      <td>Santander (Compania Nacional)</td>\n",
       "      <td>Colombian Dark</td>\n",
       "      <td>32</td>\n",
       "      <td>2006</td>\n",
       "      <td>70.0</td>\n",
       "      <td>Colombia</td>\n",
       "      <td>Forastero (Nacional)</td>\n",
       "      <td>Colombia</td>\n",
       "    </tr>\n",
       "    <tr>\n",
       "      <th>6</th>\n",
       "      <td>Rozsavolgyi</td>\n",
       "      <td>Carenero Superior</td>\n",
       "      <td>713</td>\n",
       "      <td>2011</td>\n",
       "      <td>73.0</td>\n",
       "      <td>Hungary</td>\n",
       "      <td>Criollo</td>\n",
       "      <td>Venezuela</td>\n",
       "    </tr>\n",
       "    <tr>\n",
       "      <th>7</th>\n",
       "      <td>Acalli</td>\n",
       "      <td>Chulucanas, El Platanal</td>\n",
       "      <td>1462</td>\n",
       "      <td>2015</td>\n",
       "      <td>70.0</td>\n",
       "      <td>U.S.A.</td>\n",
       "      <td>Unknown</td>\n",
       "      <td>Peru</td>\n",
       "    </tr>\n",
       "    <tr>\n",
       "      <th>8</th>\n",
       "      <td>Coppeneur</td>\n",
       "      <td>Grenada</td>\n",
       "      <td>470</td>\n",
       "      <td>2010</td>\n",
       "      <td>72.0</td>\n",
       "      <td>Germany</td>\n",
       "      <td>Trinitario</td>\n",
       "      <td>Grenada</td>\n",
       "    </tr>\n",
       "    <tr>\n",
       "      <th>9</th>\n",
       "      <td>Amatller (Simon Coll)</td>\n",
       "      <td>Ghana</td>\n",
       "      <td>464</td>\n",
       "      <td>2009</td>\n",
       "      <td>85.0</td>\n",
       "      <td>Spain</td>\n",
       "      <td>Forastero</td>\n",
       "      <td>Ghana</td>\n",
       "    </tr>\n",
       "  </tbody>\n",
       "</table>\n",
       "</div>"
      ],
      "text/plain": [
       "                         Company         Specific Bean Origin   REF  Review  \\\n",
       "0                          Ohiyo  San Juan Estate, Gran Couva  1594    2015   \n",
       "1                       Blanxart                 Organic Dark   322    2009   \n",
       "2                         Brazen                Maya Mountain  1518    2015   \n",
       "3                         Patric                   Madagascar   439    2009   \n",
       "4                        Potomac              Upala, Batch 12   607    2010   \n",
       "5  Santander (Compania Nacional)               Colombian Dark    32    2006   \n",
       "6                    Rozsavolgyi            Carenero Superior   713    2011   \n",
       "7                         Acalli      Chulucanas, El Platanal  1462    2015   \n",
       "8                      Coppeneur                      Grenada   470    2010   \n",
       "9          Amatller (Simon Coll)                        Ghana   464    2009   \n",
       "\n",
       "   Cocoa Percent Company Location             Bean Type Broad Bean Origin  \n",
       "0           70.0           U.S.A.            Trinitario          Trinidad  \n",
       "1           72.0            Spain               Unknown           Unknown  \n",
       "2           80.0           U.S.A.            Trinitario            Belize  \n",
       "3           67.0           U.S.A.            Trinitario        Madagascar  \n",
       "4           82.0           U.S.A.                Matina        Costa Rica  \n",
       "5           70.0         Colombia  Forastero (Nacional)          Colombia  \n",
       "6           73.0          Hungary               Criollo         Venezuela  \n",
       "7           70.0           U.S.A.               Unknown              Peru  \n",
       "8           72.0          Germany            Trinitario           Grenada  \n",
       "9           85.0            Spain             Forastero             Ghana  "
      ]
     },
     "execution_count": 16,
     "metadata": {},
     "output_type": "execute_result"
    }
   ],
   "source": [
    "df_test['Bean Type'] = df_test['Bean Type'].replace({empty_cell: \"Unknown\"})\n",
    "df_test['Broad Bean Origin'] = df_test['Broad Bean Origin'].replace({empty_cell: \"Unknown\"})\n",
    "df_test['Cocoa Percent'] = df_test['Cocoa Percent'].apply(lambda x: float(x.strip('%')))\n",
    "\n",
    "df_test.head(10)"
   ]
  },
  {
   "cell_type": "code",
   "execution_count": 17,
   "id": "gothic-sport",
   "metadata": {},
   "outputs": [
    {
     "name": "stdout",
     "output_type": "stream",
     "text": [
      "Empty cells\n",
      "Company: 0\n",
      "Specific Bean Origin: 0\n",
      "Company Location: 0\n",
      "Bean Type: 0\n",
      "Broad Bean Origin: 0\n"
     ]
    }
   ],
   "source": [
    "print('Empty cells')\n",
    "\n",
    "for col in df_test.columns:\n",
    "    if df_test[col].dtype == 'O':\n",
    "        print(f'{col}: {(df_test[col]==empty_cell).sum()}')"
   ]
  },
  {
   "cell_type": "code",
   "execution_count": 18,
   "id": "designing-speaker",
   "metadata": {},
   "outputs": [],
   "source": [
    "object_cols = df_train.columns[df_train.dtypes == object]"
   ]
  },
  {
   "cell_type": "code",
   "execution_count": 20,
   "id": "institutional-editor",
   "metadata": {},
   "outputs": [
    {
     "name": "stdout",
     "output_type": "stream",
     "text": [
      "train shape: 376\n",
      "test shape: 244\n",
      "[False  True  True  True  True  True  True False  True  True  True False\n",
      "  True  True  True  True False  True False  True  True  True  True  True\n",
      "  True  True False  True  True  True  True  True  True  True  True  True\n",
      "  True False  True  True  True  True  True  True False  True False  True\n",
      "  True  True  True  True  True  True  True False False  True  True  True\n",
      "  True  True False  True False  True  True  True  True False  True  True\n",
      "  True  True  True  True  True  True False  True  True  True False False\n",
      "  True  True  True False  True  True  True False  True  True  True False\n",
      "  True  True  True False  True  True  True  True False  True  True False\n",
      "  True  True  True  True  True  True  True  True  True  True  True  True\n",
      "  True  True  True  True  True  True  True False False  True  True  True\n",
      "  True  True False  True  True  True  True  True  True  True  True False\n",
      "  True False  True  True  True  True  True False  True  True  True  True\n",
      "  True  True False False  True  True  True  True  True  True  True  True\n",
      "  True  True  True  True  True  True  True  True  True False  True  True\n",
      "  True  True  True  True False  True False  True  True  True  True False\n",
      "  True  True  True  True  True False  True  True  True  True  True  True\n",
      "  True  True  True  True False  True  True  True False  True  True  True\n",
      "  True  True  True  True  True  True  True  True  True  True False  True\n",
      "  True  True  True  True  True  True  True  True  True  True  True  True\n",
      "  True  True  True False]\n",
      "Companies presented in test but not in train:\n"
     ]
    },
    {
     "data": {
      "text/plain": [
       "array(['Ohiyo', 'Acalli', 'DAR', 'Cacaosuyo (Theobroma Inversiones)',\n",
       "       'Majani', 'Choco Del Sol', 'Heirloom Cacao Preservation (Zokoko)',\n",
       "       'Cacao Store', 'Naive', 'Metropolitan', 'Sol Cacao', \"Shark's\",\n",
       "       'Heirloom Cacao Preservation (Fruition)', 'Chokolat Elot (Girard)',\n",
       "       'Peppalo', 'Charm School', 'ENNA', 'Molucca', 'Santome',\n",
       "       'Monarque', 'Spagnvola', 'Christopher Morel (Felchlin)',\n",
       "       'Chuao Chocolatier (Pralus)', 'Garden Island', 'Chocablog',\n",
       "       'Malagos', 'Kerchner', 'Suruca Chocolate', 'Cacao Market',\n",
       "       'Oakland Chocolate Co.', 'Nugali', \"Ki' Xocolatl\",\n",
       "       'Oialla by Bojessen (Malmo)', 'Un Dimanche A Paris',\n",
       "       'Heirloom Cacao Preservation (Mindo)', 'Solkiki',\n",
       "       'Coleman & Davis', 'Artisan du Chocolat (Casa Luker)', 'Anahata',\n",
       "       'Monsieur Truffe'], dtype=object)"
      ]
     },
     "execution_count": 20,
     "metadata": {},
     "output_type": "execute_result"
    }
   ],
   "source": [
    "print(f'train shape:', df_train['Company'].unique().shape[0])\n",
    "print(f'test shape:', df_test['Company'].unique().shape[0])\n",
    "print(np.isin(df_test['Company'].unique(), df_train['Company'].unique()))\n",
    "print('Companies presented in test but not in train:')\n",
    "df_test['Company'].unique()[~np.in1d(df_test['Company'].unique(), df_train['Company'].unique())]"
   ]
  },
  {
   "cell_type": "code",
   "execution_count": 21,
   "id": "packed-environment",
   "metadata": {
    "scrolled": false
   },
   "outputs": [
    {
     "name": "stdout",
     "output_type": "stream",
     "text": [
      "40\n",
      "Company presented in test but not in train:\n",
      "----------------------------------------------------------------------\n",
      "Ohiyo\n",
      "Acalli\n",
      "DAR\n",
      "Cacaosuyo (Theobroma Inversiones)\n",
      "Majani\n",
      "Choco Del Sol\n",
      "Heirloom Cacao Preservation (Zokoko)\n",
      "Cacao Store\n",
      "Naive\n",
      "Metropolitan\n",
      "Sol Cacao\n",
      "Shark's\n",
      "Heirloom Cacao Preservation (Fruition)\n",
      "Chokolat Elot (Girard)\n",
      "Peppalo\n",
      "Charm School\n",
      "ENNA\n",
      "Molucca\n",
      "Santome\n",
      "Monarque\n",
      "Spagnvola\n",
      "Christopher Morel (Felchlin)\n",
      "Chuao Chocolatier (Pralus)\n",
      "Garden Island\n",
      "Chocablog\n",
      "Malagos\n",
      "Kerchner\n",
      "Suruca Chocolate\n",
      "Cacao Market\n",
      "Oakland Chocolate Co.\n",
      "Nugali\n",
      "Ki' Xocolatl\n",
      "Oialla by Bojessen (Malmo)\n",
      "Un Dimanche A Paris\n",
      "Heirloom Cacao Preservation (Mindo)\n",
      "Solkiki\n",
      "Coleman & Davis\n",
      "Artisan du Chocolat (Casa Luker)\n",
      "Anahata\n",
      "Monsieur Truffe\n",
      "----------------------------------------------------------------------\n",
      "277\n",
      "Specific Bean Origin presented in test but not in train:\n",
      "----------------------------------------------------------------------\n",
      "Organic Dark\n",
      "Upala, Batch 12\n",
      "Colombian Dark\n",
      "Chulucanas, El Platanal\n",
      "DUO, batch 002\n",
      "Ecuador Puristique\n",
      "Trinidad-Tobago\n",
      "Robson Estate\n",
      "Grand Cru Blend No.1, 5 yr. Anniversary Ed\n",
      "Chuao, Light Roast\n",
      "Lachua\n",
      "Madagascar, 100% criollo\n",
      "Maya Mountain w/ nibs\n",
      "Abinao\n",
      "Peru- Ecuador\n",
      "Manickchand Estate\n",
      "Kulili P., 2013\n",
      "Madagascar, Nosy Be Isle.\n",
      "Guasare, Zulia Prov., 2015, batch 124\n",
      "Chuao, Med. Roast\n",
      "Wild Beni, Lower Rio Beni, Tranquilidad, 2015\n",
      "Kaua'i\n",
      "Cuyagua Village\n",
      "Carenero Superior, Urrutia, Barlovento\n",
      "Conacado, #224, MR, MC\n",
      "Tien Giang, Gao Co-op\n",
      "Dominican Republic, \"Love Bar\"\n",
      "Camahogne\n",
      "Chocoan Rainforest, Teroro Escondido, ESM\n",
      "Lacri Blend\n",
      "Colombia, Casa Luker\n",
      "Sisa 36hr/ W. F. blend prototype\n",
      "Matagalpa, Cacao Bisiesto\n",
      "Xocunusco, Chiapas, Pichucalco\n",
      "Bali, Singaraja\n",
      "Porcelana, Pariguan\n",
      "Ecuador, Batch 1\n",
      "Sierra Nevada, Tutu Iku\n",
      "Silvestre, La Paz, Beni\n",
      "Hilo\n",
      "Vale do Juliana E., Atlantic Forest\n",
      "Cota Brus, Terciopelo, 2015\n",
      "Coopertiva Amazona w/ nibs\n",
      "Congo w/ nibs\n",
      "Chuao, #218, MR, MC\n",
      "Guadeloupe\n",
      "Sambirano, Akesson Estate\n",
      "Kokoa Kamili Coop, Kilombero\n",
      "Onyx\n",
      "Guasare\n",
      "Maya Belize\n",
      "Manjari\n",
      "Java, Indonesian Black\n",
      "Espada\n",
      "Chuao, Hacienda San Jose\n",
      "Madagascar, Grand Cru\n",
      "Duarte Province\n",
      "O'ahu\n",
      "Wampusirpi, batch 007\n",
      "Tumbes, Norandino\n",
      "Chef's Blend\n",
      "Punta Galera, cacao Nacional, gold label\n",
      "Trinidad & Tobago\n",
      "Australia\n",
      "Maranura\n",
      "Coto Brus, Terciopelo\n",
      "Fleur de Cacao\n",
      "Carenero Superior, Mijao\n",
      "AgroCriso Plantation\n",
      "Nicaraqua\n",
      "Barba, Xoco\n",
      "Tenor\n",
      "Porcelana, Zulia\n",
      "Bocas del Toro\n",
      "Selvagem, Jari\n",
      "Crayfish Bay Estate, 2014\n",
      "Alto Beni, Upper Rio Beni, 2015\n",
      "Piura, Apotequil, \"Porcelana\" 72hr c.\n",
      "Choroni, Finca Torres, 48hr c.\n",
      "Peru, Batch 1\n",
      "St. Lucia\n",
      "Chuao 70hr\n",
      "Balinese, Java\n",
      "Ankasa\n",
      "San Martin, Amazonian Highlands\n",
      "Panama, Raven\n",
      "Dominican Republic-Organic\n",
      "Cahabon\n",
      "Ecuador, Twilght Dark\n",
      "Kongo, Highlands\n",
      "Xoconusco, Chiapas\n",
      "Tapanti, light roast\n",
      "Maya Mtn, Batch 18, Heirloom\n",
      "Los Rios, Quevedo\n",
      "Upala w/ nibs\n",
      "Wild Beni, Lower Rio Beni, Tranquilidad, 2014\n",
      "Rugoso, Xoco\n",
      "PNG, Voodoo\n",
      "Antilles (Trin/Gren/DR/Ven)\n",
      "Sur del Lago, Amiari Meridena, Zulia, 48hr c.\n",
      "Camino Verde P., Balao, Guayas, \"Floral\"\n",
      "Kaua'I, Alea Estate +world\n",
      "Amina\n",
      "Bocas del Toro, Cocabo Co-op\n",
      "Belize south, low fermentation\n",
      "Davao, Mt. Talamo foothills\n",
      "Wild Bolivia\n",
      "Canoabo, 2013\n",
      "Malekula Island\n",
      "La Bahia, w/ cane sugar\n",
      "Ghana, Panama, Ecuador\n",
      "Indonesia\n",
      "Ghana, Kumasi\n",
      "Los Rios, Puerto Romero, Equateur\n",
      "Rio Caribe, Paria Penninsula\n",
      "Papouasie\n",
      "La Red, Project Reserva, Guaconejo\n",
      "Piaroa, Amazonas, Batch 350\n",
      "Maragda\n",
      "Grand 'Anse\n",
      "Piura, Perou\n",
      "CSB Chama\n",
      "Birmanie\n",
      "Tien Giang, batch 1 SRB\n",
      "Lachua w/ cane sugar\n",
      "Sambirano, Ambanja, Madagascar\n",
      "Jutiapa, lot 050916D\n",
      "Grenada, Black Science\n",
      "Alpaco\n",
      "Fazenda Leolinda\n",
      "Ambolikapkly P.\n",
      "Los Rios, H. Iara, 96hr c.\n",
      "Kakoa Kamili, Both Man & Bird & Beast\n",
      "Dominican Republicm, rustic\n",
      "New Ireland\n",
      "Taino Secret\n",
      "Djual Island\n",
      "CIAAB Coop\n",
      "Santander\n",
      "Carupano, H. San Jose\n",
      "Rico Rugoso, Xoco\n",
      "La Patriota, cacao Indio, purple label\n",
      "Ocumare 61, Puertomar\n",
      "Rio Dulce, Xoco\n",
      "Sambirano Valley, #215, MR, MC\n",
      "Maunawili, O'ahu, Agri Research C., 2014\n",
      "Brooklyn Blend\n",
      "La Dorado, light roast\n",
      "Chuno, triple turned, Xoco\n",
      "Hawaiian Crown, Kona Vanilla\n",
      "Cuana, 2013\n",
      "Oko Caribe, Duarte P.\n",
      "Java, Javablond\n",
      "O'payo, Waslala\n",
      "Saidor Estate, Madang P.\n",
      "ABOCFA Coop\n",
      "Chocolatey-beta\n",
      "Chuao, batch 3\n",
      "Markham Valley, #222, LR, 0C\n",
      "D.R. Congo, Cru Virunga\n",
      "Maranon, #229, MR, LC\n",
      "Libanio\n",
      "Toledo District, Maya\n",
      "Nocturne\n",
      "Sylvestre, Oialla\n",
      "Porcelana, Tabasco, Marfil de Blanco\n",
      "Spring, Secondary Harvest, 2012\n",
      "Boyaca, Aprocampa Coop, Pauna\n",
      "PNG, Revolution\n",
      "Loma Sotavento\n",
      "Ecuador, 2013\n",
      "La Masica, FHIA\n",
      "Monte Alegre (Itacare), Brazil\n",
      "Moxos\n",
      "Porcelana, Tabasco, Limited Ed.\n",
      "Bellavista Gran Pajeten, San Martin\n",
      "Ocumare, H. Cata, w/ nibs\n",
      "Roberto\n",
      "Uranga, Lot 22032016\n",
      "Dancing in Your Head, 5 bean blend\n",
      "Pinchincha, Mindo, Coop Nueva Esper., 2015\n",
      "Carenero S., Barlovento, Grand Cru\n",
      "Ocumare, Cumboto\n",
      "Cuyagua, 2013\n",
      "Puerto Cabello, Mantuano\n",
      "Sambirano Valley, Le 100%\n",
      "Bahia, Fazenda Camboa\n",
      "Bahia Superior\n",
      "Nine\n",
      "Castillo, Hispaniola, unroasted\n",
      "Piura, Blanco de Criollo\n",
      "Tranquilidad, Baures\n",
      "Montanya\n",
      "Vanua Levu, Ami-Ami-CA\n",
      "Bittersweet\n",
      "Kafupbo, Petit Bourg, De Borgnes\n",
      "Rio Caribe, Cariaco\n",
      "Sambirano, 2009\n",
      "Puerto Quito, heirloom\n",
      "Maranon, #227, LR, MC\n",
      "Teyuna\n",
      "Pablino\n",
      "Namau Village, N. Taileva P., batch a2812\n",
      "O'ahu, N. Shore, Waialua E., Kakoleka\n",
      "Porcelana, Sorotaima,Machiques,batch pcl001\n",
      "Cumbia\n",
      "Oscuro, Finca Chimelb\n",
      "Lumas, 2015 Harvest, Batch 7\n",
      "Orinoqua Region, Arauca\n",
      "Carenero Superior, Apamate\n",
      "Atsane\n",
      "Sao Tome & Principe\n",
      "Concepcion*\n",
      "Kumasi Sambirano\n",
      "Choobua, Kona\n",
      "Los Rios, Hacienda Limon, Orecao, 2014\n",
      "Canoabo, Hacienda San Jose\n",
      "Venezuela, Trinidad\n",
      "Camino Verde, Guayas\n",
      "Supremo- SF\n",
      "Crayfish Bay aka Non Pariel Estate\n",
      "San Francisco de Macoris, Cibao region\n",
      "Arawak\n",
      "Wild Bolivian, Batch 2\n",
      "Markham Valley, #219, LR, MC\n",
      "La Masica, Batch 7, FHIA\n",
      "Maranon, batch 2\n",
      "Hawai'i, Kona Estate Grown\n",
      "Ben Tre, Surprise Valley\n",
      "Bayou Blend\n",
      "Malgascio\n",
      "Conacado, #213, DR, -C\n",
      "O'Payo\n",
      "Rio Caribe Superior, Paria Penninsula\n",
      "Cacao Verapaz\n",
      "Terreiro Velho P. w/ sugar crystals\n",
      "Venezuela, batch 122\n",
      "Maya Mtn., Break Bar- Snark\n",
      "Mexico\n",
      "Morobe\n",
      "Camino Verde P., Balao, Guayas, 2012\n",
      "Cesar\n",
      "Porcelana, Tabasco, La Joya\n",
      "Chuao 2002 P.\n",
      "Caraque\n",
      "Almendra Blanca, batch 1004\n",
      "Amazon Basin Blend\n",
      "Haut Penja, w/ nibs\n",
      "Duarte, Batch 360\n",
      "Anselmo Paraiso Estate\n",
      "Maracaibo, El Vigia\n",
      "The Other One, Grand Cru\n",
      "Chuao 100hr\n",
      "Tamarina\n",
      "Sambirano, 2008\n",
      "Camino Verde, Balao, Guayas\n",
      "Lumas, 2015 Harvest, Batch 6, brown sugar\n",
      "Camino Verde P., Balao, 2015 harvest, batch8\n",
      "Brazil, Batch 20316\n",
      "Hispaniola w/ nibs\n",
      "Dominican Republic, lot D82R\n",
      "Bolivia, Wild Thing\n",
      "Extra Dark\n",
      "Tangara\n",
      "Ocumare, Puerto Cabello, Venezuela\n",
      "Congo, Gorilla bar\n",
      "Criollo, Hawaii\n",
      "Cedeno, lot 271\n",
      "Maranon, #228, MR, SC\n",
      "Amazonas Frucht\n",
      "Hilo, w/ added cocoa butter\n",
      "Island Growers, 2012, 120hr c.\n",
      "Morogoro\n",
      "Sharkey\n",
      "Papaua New Guinea\n",
      "Maragnam\n",
      "Acopagro\n",
      "----------------------------------------------------------------------\n",
      "2\n",
      "Company Location presented in test but not in train:\n",
      "----------------------------------------------------------------------\n",
      "Martinique\n",
      "Philippines\n",
      "----------------------------------------------------------------------\n",
      "3\n",
      "Bean Type presented in test but not in train:\n",
      "----------------------------------------------------------------------\n",
      "Beniano\n",
      "Trinitario (Scavina)\n",
      "CCN51\n",
      "----------------------------------------------------------------------\n",
      "16\n",
      "Broad Bean Origin presented in test but not in train:\n",
      "----------------------------------------------------------------------\n",
      "Ecuador, Costa Rica\n",
      "Trinidad-Tobago\n",
      "Peru, Ecuador\n",
      "Martinique\n",
      "Trinidad, Tobago\n",
      "Venezuela/ Ghana\n",
      "Ven, Trinidad, Ecuador\n",
      "Ghana, Panama, Ecuador\n",
      "Burma\n",
      "Africa, Carribean, C. Am.\n",
      "Gre., PNG, Haw., Haiti, Mad\n",
      "Ghana & Madagascar\n",
      "Venezuela, Trinidad\n",
      "Ecuador, Mad., PNG\n",
      "Peru(SMartin,Pangoa,nacional)\n",
      "Cameroon\n",
      "----------------------------------------------------------------------\n"
     ]
    }
   ],
   "source": [
    "for col in object_cols:\n",
    "    out_mask = ~np.isin(df_test[col].unique(), df_train[col].unique())\n",
    "    print(out_mask.sum())\n",
    "    print(f'{col} presented in test but not in train:')\n",
    "    print('-'*70)\n",
    "    print(*df_test[col].unique()[out_mask], sep='\\n')\n",
    "    print('-'*70)"
   ]
  },
  {
   "cell_type": "code",
   "execution_count": 96,
   "id": "lesser-employment",
   "metadata": {},
   "outputs": [
    {
     "name": "stdout",
     "output_type": "stream",
     "text": [
      "Number of unique values in categorical columns\n",
      "Company: 244\n",
      "Specific Bean Origin: 385\n",
      "Company Location: 42\n",
      "Bean Type: 20\n",
      "Broad Bean Origin: 60\n"
     ]
    }
   ],
   "source": [
    "print('Number of unique values in categorical columns')\n",
    "\n",
    "for col in df_test.columns:\n",
    "    if df_test[col].dtype == 'O':\n",
    "        print(f'{col}: {df_test[col].nunique()}')"
   ]
  },
  {
   "cell_type": "code",
   "execution_count": null,
   "id": "attached-contact",
   "metadata": {},
   "outputs": [],
   "source": []
  },
  {
   "cell_type": "markdown",
   "id": "angry-remains",
   "metadata": {},
   "source": [
    "# 2. EDA"
   ]
  },
  {
   "cell_type": "code",
   "execution_count": 22,
   "id": "dedicated-panama",
   "metadata": {},
   "outputs": [
    {
     "data": {
      "image/png": "[encoded data removed]",
      "text/plain": [
       "<Figure size 720x504 with 1 Axes>"
      ]
     },
     "metadata": {
      "needs_background": "light"
     },
     "output_type": "display_data"
    }
   ],
   "source": [
    "plt.scatter(df_train['Cocoa Percent'], df_train['Rating'], c='black')\n",
    "plt.xlabel('Cocoa percent')\n",
    "plt.ylabel('Rating')\n",
    "plt.show()"
   ]
  },
  {
   "cell_type": "code",
   "execution_count": 23,
   "id": "refined-contract",
   "metadata": {},
   "outputs": [
    {
     "data": {
      "text/plain": [
       "13"
      ]
     },
     "execution_count": 23,
     "metadata": {},
     "output_type": "execute_result"
    }
   ],
   "source": [
    "df_train['Rating'].nunique()"
   ]
  },
  {
   "cell_type": "code",
   "execution_count": 24,
   "id": "functional-weapon",
   "metadata": {},
   "outputs": [
    {
     "data": {
      "text/plain": [
       "Rating\n",
       "1.00    80.000000\n",
       "1.50    88.000000\n",
       "1.75    86.000000\n",
       "2.00    78.347826\n",
       "2.25    72.000000\n",
       "2.50    71.683908\n",
       "2.75    72.459596\n",
       "3.00    71.534188\n",
       "3.25    71.276498\n",
       "3.50    71.430189\n",
       "3.75    71.003521\n",
       "4.00    70.878788\n",
       "5.00    70.000000\n",
       "Name: Cocoa Percent, dtype: float64"
      ]
     },
     "execution_count": 24,
     "metadata": {},
     "output_type": "execute_result"
    }
   ],
   "source": [
    "df_train.groupby('Rating')['Cocoa Percent'].mean()"
   ]
  },
  {
   "cell_type": "code",
   "execution_count": 25,
   "id": "informational-retreat",
   "metadata": {},
   "outputs": [],
   "source": [
    "def distribution(data, title, x_label, y_label, figsize=(10,5)):\n",
    "    plt.figure(figsize=figsize)\n",
    "    plt.style.use('seaborn-pastel')\n",
    "    density = sns.barplot(x=data.index, y=data.values)\n",
    "    title = plt.title(title, fontdict={'fontsize': 20})\n",
    "    plt.xlabel(x_label)\n",
    "    plt.ylabel(y_label)\n",
    "plt.show()"
   ]
  },
  {
   "cell_type": "code",
   "execution_count": 26,
   "id": "circular-paintball",
   "metadata": {},
   "outputs": [
    {
     "data": {
      "image/png": "[encoded data removed]",
      "text/plain": [
       "<Figure size 720x360 with 1 Axes>"
      ]
     },
     "metadata": {
      "needs_background": "light"
     },
     "output_type": "display_data"
    }
   ],
   "source": [
    "rating_cocoa_percent_dist = df_train.groupby('Rating')['Cocoa Percent'].mean()\n",
    "\n",
    "distribution(data=rating_cocoa_percent_dist,\n",
    "             title='Mean cocoa percent in rating',\n",
    "             x_label='Rating',\n",
    "             y_label='Cocoa percent')"
   ]
  },
  {
   "cell_type": "markdown",
   "id": "secret-temple",
   "metadata": {},
   "source": [
    "Chocolate with very high percentage of cocoa may have lower rating"
   ]
  },
  {
   "cell_type": "code",
   "execution_count": 27,
   "id": "billion-encounter",
   "metadata": {},
   "outputs": [
    {
     "data": {
      "image/png": "[encoded data removed]",
      "text/plain": [
       "<Figure size 720x504 with 1 Axes>"
      ]
     },
     "metadata": {
      "needs_background": "light"
     },
     "output_type": "display_data"
    }
   ],
   "source": [
    "plt.hist(df_train['REF'], bins=40)\n",
    "plt.xlabel('REF')\n",
    "plt.show()"
   ]
  },
  {
   "cell_type": "code",
   "execution_count": 28,
   "id": "level-wheel",
   "metadata": {},
   "outputs": [
    {
     "data": {
      "text/plain": [
       "Rating\n",
       "1.00     147.000000\n",
       "1.50     318.142857\n",
       "1.75     424.500000\n",
       "2.00     456.260870\n",
       "2.25    1063.333333\n",
       "2.50    1012.942529\n",
       "2.75    1064.247475\n",
       "3.00     916.047009\n",
       "3.25    1206.589862\n",
       "3.50    1134.018868\n",
       "3.75    1122.774648\n",
       "4.00     802.318182\n",
       "5.00      75.500000\n",
       "Name: REF, dtype: float64"
      ]
     },
     "execution_count": 28,
     "metadata": {},
     "output_type": "execute_result"
    }
   ],
   "source": [
    "df_train.groupby('Rating')['REF'].mean()"
   ]
  },
  {
   "cell_type": "code",
   "execution_count": 199,
   "id": "hindu-empty",
   "metadata": {},
   "outputs": [
    {
     "data": {
      "image/png": "[encoded data removed]",
      "text/plain": [
       "<Figure size 720x504 with 1 Axes>"
      ]
     },
     "metadata": {
      "needs_background": "light"
     },
     "output_type": "display_data"
    }
   ],
   "source": [
    "plt.hist2d(df_train['REF'], df_train['Rating'], bins=[20, 16])\n",
    "plt.xlabel('REF')\n",
    "plt.ylabel('Rating')\n",
    "plt.show()"
   ]
  },
  {
   "cell_type": "code",
   "execution_count": 201,
   "id": "fewer-relative",
   "metadata": {},
   "outputs": [
    {
     "data": {
      "text/plain": [
       "<AxesSubplot:xlabel='REF', ylabel='Rating'>"
      ]
     },
     "execution_count": 201,
     "metadata": {},
     "output_type": "execute_result"
    },
    {
     "data": {
      "image/png": "[encoded data removed]",
      "text/plain": [
       "<Figure size 720x504 with 2 Axes>"
      ]
     },
     "metadata": {
      "needs_background": "light"
     },
     "output_type": "display_data"
    }
   ],
   "source": [
    "sns.histplot(data=df_train, x=\"REF\", y=\"Rating\", cbar=True, bins=[20, 16])"
   ]
  },
  {
   "cell_type": "code",
   "execution_count": 29,
   "id": "continental-insider",
   "metadata": {},
   "outputs": [
    {
     "data": {
      "image/png": "[encoded data removed]",
      "text/plain": [
       "<Figure size 720x360 with 1 Axes>"
      ]
     },
     "metadata": {
      "needs_background": "light"
     },
     "output_type": "display_data"
    }
   ],
   "source": [
    "rating_cocoa_percent_dist = df_train.groupby('Rating')['REF'].mean()\n",
    "\n",
    "distribution(data=rating_cocoa_percent_dist,\n",
    "             title='Mean REF in rating',\n",
    "             x_label='Rating',\n",
    "             y_label='REF')"
   ]
  },
  {
   "cell_type": "code",
   "execution_count": 30,
   "id": "alive-denial",
   "metadata": {},
   "outputs": [
    {
     "data": {
      "text/plain": [
       "13"
      ]
     },
     "execution_count": 30,
     "metadata": {},
     "output_type": "execute_result"
    }
   ],
   "source": [
    "unique_rating = df_train['Rating'].nunique()\n",
    "unique_rating"
   ]
  },
  {
   "cell_type": "markdown",
   "id": "metropolitan-pakistan",
   "metadata": {},
   "source": [
    "Chocolate wtih low REF tends to have low or very high rating"
   ]
  },
  {
   "cell_type": "code",
   "execution_count": 31,
   "id": "aerial-suggestion",
   "metadata": {},
   "outputs": [
    {
     "data": {
      "image/png": "[encoded data removed]",
      "text/plain": [
       "<Figure size 720x504 with 1 Axes>"
      ]
     },
     "metadata": {
      "needs_background": "light"
     },
     "output_type": "display_data"
    }
   ],
   "source": [
    "plt.hist(df_train.groupby('Company').Rating.mean().sort_values().values, bins=25)\n",
    "plt.xlabel('mean rating')\n",
    "plt.ylabel('N Companies')\n",
    "plt.show()"
   ]
  },
  {
   "cell_type": "code",
   "execution_count": 32,
   "id": "adaptive-camping",
   "metadata": {},
   "outputs": [
    {
     "data": {
      "text/plain": [
       "Broad Bean Origin\n",
       "Peru, Madagascar                2.500000\n",
       "Puerto Rico                     2.500000\n",
       "West Africa                     2.666667\n",
       "Carribean                       2.687500\n",
       "Ivory Coast                     2.750000\n",
       "                                  ...   \n",
       "Peru, Dom. Rep                  4.000000\n",
       "Guat., D.R., Peru, Mad., PNG    4.000000\n",
       "Venezuela, Java                 4.000000\n",
       "Ven, Bolivia, D.R.              4.000000\n",
       "Dom. Rep., Madagascar           4.000000\n",
       "Name: Rating, Length: 84, dtype: float64"
      ]
     },
     "execution_count": 32,
     "metadata": {},
     "output_type": "execute_result"
    }
   ],
   "source": [
    "df_train.groupby('Broad Bean Origin').Rating.mean().sort_values()"
   ]
  },
  {
   "cell_type": "code",
   "execution_count": 33,
   "id": "renewable-dividend",
   "metadata": {},
   "outputs": [
    {
     "data": {
      "image/png": "[encoded data removed]",
      "text/plain": [
       "<Figure size 720x504 with 1 Axes>"
      ]
     },
     "metadata": {
      "needs_background": "light"
     },
     "output_type": "display_data"
    }
   ],
   "source": [
    "plt.hist(df_train.groupby('Broad Bean Origin').Rating.mean().sort_values().values, bins=25)\n",
    "plt.xlabel('mean rating')\n",
    "plt.xlabel('N Broad Bean Origin')\n",
    "plt.show()"
   ]
  },
  {
   "cell_type": "code",
   "execution_count": 34,
   "id": "hollywood-cathedral",
   "metadata": {},
   "outputs": [
    {
     "data": {
      "text/plain": [
       "Company Location\n",
       "Chile                3.750000\n",
       "Amsterdam            3.500000\n",
       "Netherlands          3.500000\n",
       "Scotland             3.464286\n",
       "Guatemala            3.416667\n",
       "Brazil               3.403846\n",
       "Vietnam              3.388889\n",
       "Hungary              3.366667\n",
       "Australia            3.343750\n",
       "Switzerland          3.340000\n",
       "Canada               3.339888\n",
       "Italy                3.329268\n",
       "Poland               3.321429\n",
       "Venezuela            3.300000\n",
       "Argentina            3.291667\n",
       "Denmark              3.281250\n",
       "France               3.260776\n",
       "Suriname             3.250000\n",
       "Finland              3.250000\n",
       "Bolivia              3.250000\n",
       "Russia               3.250000\n",
       "Iceland              3.250000\n",
       "Honduras             3.208333\n",
       "Costa Rica           3.208333\n",
       "Austria              3.204545\n",
       "Spain                3.203125\n",
       "Domincan Republic    3.200000\n",
       "Japan                3.181818\n",
       "New Zealand          3.173077\n",
       "Germany              3.170455\n",
       "South Korea          3.166667\n",
       "Fiji                 3.166667\n",
       "Israel               3.150000\n",
       "Madagascar           3.145833\n",
       "U.S.A.               3.142994\n",
       "U.K.                 3.054054\n",
       "Sweden               3.050000\n",
       "Belgium              3.030000\n",
       "Colombia             3.017857\n",
       "Lithuania            3.000000\n",
       "Eucador              3.000000\n",
       "St. Lucia            3.000000\n",
       "Ecuador              2.934524\n",
       "Sao Tome             2.916667\n",
       "Mexico               2.875000\n",
       "Peru                 2.846154\n",
       "Ireland              2.833333\n",
       "Grenada              2.833333\n",
       "Ghana                2.750000\n",
       "Singapore            2.750000\n",
       "Portugal             2.750000\n",
       "Czech Republic       2.750000\n",
       "Nicaragua            2.750000\n",
       "Niacragua            2.750000\n",
       "Wales                2.750000\n",
       "South Africa         2.666667\n",
       "Puerto Rico          2.583333\n",
       "India                2.500000\n",
       "Name: Rating, dtype: float64"
      ]
     },
     "execution_count": 34,
     "metadata": {},
     "output_type": "execute_result"
    }
   ],
   "source": [
    "df_train.groupby('Company Location')['Rating'].mean().sort_values(ascending=False)"
   ]
  },
  {
   "cell_type": "code",
   "execution_count": 35,
   "id": "attended-egypt",
   "metadata": {},
   "outputs": [
    {
     "data": {
      "image/png": "[encoded data removed]",
      "text/plain": [
       "<Figure size 720x504 with 1 Axes>"
      ]
     },
     "metadata": {
      "needs_background": "light"
     },
     "output_type": "display_data"
    }
   ],
   "source": [
    "plt.scatter(df_train['Review'], df_train['REF'])\n",
    "plt.xlabel('Review [Year]')\n",
    "plt.ylabel('REF')\n",
    "plt.show()"
   ]
  },
  {
   "cell_type": "code",
   "execution_count": 36,
   "id": "discrete-brunei",
   "metadata": {},
   "outputs": [
    {
     "data": {
      "text/html": [
       "<div>\n",
       "<style scoped>\n",
       "    .dataframe tbody tr th:only-of-type {\n",
       "        vertical-align: middle;\n",
       "    }\n",
       "\n",
       "    .dataframe tbody tr th {\n",
       "        vertical-align: top;\n",
       "    }\n",
       "\n",
       "    .dataframe thead th {\n",
       "        text-align: right;\n",
       "    }\n",
       "</style>\n",
       "<table border=\"1\" class=\"dataframe\">\n",
       "  <thead>\n",
       "    <tr style=\"text-align: right;\">\n",
       "      <th></th>\n",
       "      <th>Review</th>\n",
       "      <th>REF</th>\n",
       "    </tr>\n",
       "  </thead>\n",
       "  <tbody>\n",
       "    <tr>\n",
       "      <th>Review</th>\n",
       "      <td>1.000000</td>\n",
       "      <td>0.984938</td>\n",
       "    </tr>\n",
       "    <tr>\n",
       "      <th>REF</th>\n",
       "      <td>0.984938</td>\n",
       "      <td>1.000000</td>\n",
       "    </tr>\n",
       "  </tbody>\n",
       "</table>\n",
       "</div>"
      ],
      "text/plain": [
       "          Review       REF\n",
       "Review  1.000000  0.984938\n",
       "REF     0.984938  1.000000"
      ]
     },
     "execution_count": 36,
     "metadata": {},
     "output_type": "execute_result"
    }
   ],
   "source": [
    "df_train[['Review', 'REF']].corr()"
   ]
  },
  {
   "cell_type": "markdown",
   "id": "august-kitchen",
   "metadata": {},
   "source": [
    "REF and Review are highly correlated"
   ]
  },
  {
   "cell_type": "code",
   "execution_count": 37,
   "id": "aging-landing",
   "metadata": {},
   "outputs": [
    {
     "data": {
      "text/plain": [
       "Review\n",
       "2006    3.117647\n",
       "2007    3.127451\n",
       "2008    2.954918\n",
       "2009    3.024390\n",
       "2010    3.156627\n",
       "2011    3.240991\n",
       "2012    3.188433\n",
       "2013    3.202756\n",
       "2014    3.164773\n",
       "2015    3.253623\n",
       "2016    3.207237\n",
       "2017    3.300000\n",
       "Name: Rating, dtype: float64"
      ]
     },
     "execution_count": 37,
     "metadata": {},
     "output_type": "execute_result"
    }
   ],
   "source": [
    "df_train.groupby('Review')['Rating'].mean()"
   ]
  },
  {
   "cell_type": "code",
   "execution_count": 38,
   "id": "transparent-evening",
   "metadata": {},
   "outputs": [
    {
     "data": {
      "image/png": "[encoded data removed]",
      "text/plain": [
       "<Figure size 1080x360 with 1 Axes>"
      ]
     },
     "metadata": {
      "needs_background": "light"
     },
     "output_type": "display_data"
    }
   ],
   "source": [
    "rating_cocoa_percent_dist = df_train.groupby('Review')['Rating'].mean()\n",
    "\n",
    "distribution(data=rating_cocoa_percent_dist,\n",
    "             title='Mean rating per year',\n",
    "             x_label='Review [Year]',\n",
    "             y_label='Rating',\n",
    "             figsize=(15, 5))"
   ]
  },
  {
   "cell_type": "code",
   "execution_count": 39,
   "id": "educational-insulin",
   "metadata": {},
   "outputs": [
    {
     "data": {
      "text/plain": [
       "Bean Type\n",
       "Amazon mix                  4.000000\n",
       "Criollo (Wild)              4.000000\n",
       "Criollo (Ocumare 67)        4.000000\n",
       "Trinitario, TCGA            3.750000\n",
       "Criollo (Ocumare 77)        3.750000\n",
       "Forastero (Amelonado)       3.750000\n",
       "Blend-Forastero,Criollo     3.750000\n",
       "Trinitario, Nacional        3.750000\n",
       "Trinitario (85% Criollo)    3.750000\n",
       "Criollo, Forastero          3.625000\n",
       "Forastero (Parazinho)       3.531250\n",
       "Forastero (Arriba) ASSS     3.500000\n",
       "Criollo, +                  3.500000\n",
       "Nacional                    3.500000\n",
       "EET                         3.500000\n",
       "Amazon, ICS                 3.500000\n",
       "Blend                       3.437500\n",
       "Forastero (Catongo)         3.375000\n",
       "Criollo (Porcelana)         3.361111\n",
       "Criollo, Trinitario         3.257812\n",
       "Trinitario                  3.255263\n",
       "Amazon                      3.250000\n",
       "Criollo (Ocumare 61)        3.250000\n",
       "Criollo (Amarru)            3.250000\n",
       "Nacional (Arriba)           3.250000\n",
       "Forastero (Nacional)        3.191176\n",
       "Criollo                     3.185096\n",
       "Trinitario, Criollo         3.166667\n",
       "Unknown                     3.130366\n",
       "Forastero                   3.127358\n",
       "Matina                      3.000000\n",
       "Forastero, Trinitario       3.000000\n",
       "Forastero(Arriba, CCN)      3.000000\n",
       "Trinitario (Amelonado)      3.000000\n",
       "Trinitario, Forastero       3.000000\n",
       "Criollo (Ocumare)           3.000000\n",
       "Forastero (Arriba) ASS      2.875000\n",
       "Forastero (Arriba)          2.773438\n",
       "Name: Rating, dtype: float64"
      ]
     },
     "execution_count": 39,
     "metadata": {},
     "output_type": "execute_result"
    }
   ],
   "source": [
    "df_train.groupby('Bean Type').Rating.mean().sort_values(ascending=False)"
   ]
  },
  {
   "cell_type": "code",
   "execution_count": 40,
   "id": "cheap-appearance",
   "metadata": {},
   "outputs": [
    {
     "data": {
      "text/plain": [
       "Broad Bean Origin\n",
       "Venezuela, Java                 4.000000\n",
       "Guat., D.R., Peru, Mad., PNG    4.000000\n",
       "Ven, Bolivia, D.R.              4.000000\n",
       "Dom. Rep., Madagascar           4.000000\n",
       "Peru, Dom. Rep                  4.000000\n",
       "                                  ...   \n",
       "Principe                        2.750000\n",
       "Carribean                       2.687500\n",
       "West Africa                     2.666667\n",
       "Peru, Madagascar                2.500000\n",
       "Puerto Rico                     2.500000\n",
       "Name: Rating, Length: 84, dtype: float64"
      ]
     },
     "execution_count": 40,
     "metadata": {},
     "output_type": "execute_result"
    }
   ],
   "source": [
    "df_train.groupby('Broad Bean Origin').Rating.mean().sort_values(ascending=False)"
   ]
  },
  {
   "cell_type": "code",
   "execution_count": 41,
   "id": "chubby-miller",
   "metadata": {},
   "outputs": [
    {
     "name": "stdout",
     "output_type": "stream",
     "text": [
      "Broad Bean Origin\n",
      "Venezuela, Java                 4.000000\n",
      "Guat., D.R., Peru, Mad., PNG    4.000000\n",
      "Ven, Bolivia, D.R.              4.000000\n",
      "Dom. Rep., Madagascar           4.000000\n",
      "Peru, Dom. Rep                  4.000000\n",
      "Dominican Rep., Bali            3.750000\n",
      "South America                   3.750000\n",
      "Ven.,Ecu.,Peru,Nic.             3.750000\n",
      "Venez,Africa,Brasil,Peru,Mex    3.750000\n",
      "PNG, Vanuatu, Mad               3.750000\n",
      "Peru, Belize                    3.750000\n",
      "DR, Ecuador, Peru               3.750000\n",
      "Tobago                          3.625000\n",
      "Mad., Java, PNG                 3.500000\n",
      "Haiti                           3.500000\n",
      "Ven., Indonesia, Ecuad.         3.500000\n",
      "Indonesia, Ghana                3.500000\n",
      "Peru, Mad., Dom. Rep.           3.500000\n",
      "Trinidad, Ecuador               3.500000\n",
      "Guatemala                       3.421875\n",
      "Indonesia                       3.388889\n",
      "Hawaii                          3.339286\n",
      "Solomon Islands                 3.333333\n",
      "Vietnam                         3.327586\n",
      "Honduras                        3.318182\n",
      "Vanuatu                         3.312500\n",
      "Congo                           3.300000\n",
      "Papua New Guinea                3.293478\n",
      "Sao Tome                        3.285714\n",
      "Brazil                          3.255814\n",
      "Madagascar                      3.252427\n",
      "Malaysia                        3.250000\n",
      "Madagascar & Ecuador            3.250000\n",
      "Nigeria                         3.250000\n",
      "Suriname                        3.250000\n",
      "Central and S. America          3.250000\n",
      "Gabon                           3.250000\n",
      "Venezuela                       3.236111\n",
      "Belize                          3.233333\n",
      "Cuba                            3.222222\n",
      "Tanzania                        3.203704\n",
      "Dominican Republic              3.194712\n",
      "Nicaragua                       3.178571\n",
      "St. Lucia                       3.166667\n",
      "Bolivia                         3.160714\n",
      "Domincan Republic               3.156250\n",
      "Trinidad                        3.152174\n",
      "Peru                            3.151639\n",
      "Sao Tome & Principe             3.150000\n",
      "Jamaica                         3.142857\n",
      "Colombia                        3.134615\n",
      "Togo                            3.125000\n",
      "Samoa                           3.125000\n",
      "Ghana                           3.125000\n",
      "Ecuador                         3.110915\n",
      "Liberia                         3.083333\n",
      "Costa Rica                      3.076923\n",
      "Fiji                            3.041667\n",
      "Grenada                         3.020833\n",
      "Venezuela, Carribean            3.000000\n",
      "Venezuela, Ghana                3.000000\n",
      "Ven., Trinidad, Mad.            3.000000\n",
      "Australia                       3.000000\n",
      "India                           3.000000\n",
      "Carribean(DR/Jam/Tri)           3.000000\n",
      "Philippines                     3.000000\n",
      "Peru, Ecuador, Venezuela        3.000000\n",
      "Panama                          3.000000\n",
      "South America, Africa           3.000000\n",
      "Unknown                         2.941964\n",
      "Mexico                          2.916667\n",
      "Colombia, Ecuador               2.916667\n",
      "El Salvador                     2.875000\n",
      "Ghana, Domin. Rep               2.875000\n",
      "Sri Lanka                       2.875000\n",
      "Ivory Coast                     2.750000\n",
      "Uganda                          2.750000\n",
      "Cost Rica, Ven                  2.750000\n",
      "Venezuela, Dom. Rep.            2.750000\n",
      "Principe                        2.750000\n",
      "Carribean                       2.687500\n",
      "West Africa                     2.666667\n",
      "Peru, Madagascar                2.500000\n",
      "Puerto Rico                     2.500000\n",
      "Name: Rating, dtype: float64\n"
     ]
    }
   ],
   "source": [
    "with pd.option_context('display.max_rows', None, 'display.max_columns', None):  # more options can be specified also\n",
    "    print(df_train.groupby('Broad Bean Origin').Rating.mean().sort_values(ascending=False))"
   ]
  },
  {
   "cell_type": "code",
   "execution_count": 42,
   "id": "foreign-gentleman",
   "metadata": {},
   "outputs": [
    {
     "data": {
      "text/plain": [
       "Company Location\n",
       "Chile                3.750000\n",
       "Amsterdam            3.500000\n",
       "Netherlands          3.500000\n",
       "Scotland             3.464286\n",
       "Guatemala            3.416667\n",
       "Brazil               3.403846\n",
       "Vietnam              3.388889\n",
       "Hungary              3.366667\n",
       "Australia            3.343750\n",
       "Switzerland          3.340000\n",
       "Canada               3.339888\n",
       "Italy                3.329268\n",
       "Poland               3.321429\n",
       "Venezuela            3.300000\n",
       "Argentina            3.291667\n",
       "Denmark              3.281250\n",
       "France               3.260776\n",
       "Suriname             3.250000\n",
       "Finland              3.250000\n",
       "Bolivia              3.250000\n",
       "Russia               3.250000\n",
       "Iceland              3.250000\n",
       "Honduras             3.208333\n",
       "Costa Rica           3.208333\n",
       "Austria              3.204545\n",
       "Spain                3.203125\n",
       "Domincan Republic    3.200000\n",
       "Japan                3.181818\n",
       "New Zealand          3.173077\n",
       "Germany              3.170455\n",
       "South Korea          3.166667\n",
       "Fiji                 3.166667\n",
       "Israel               3.150000\n",
       "Madagascar           3.145833\n",
       "U.S.A.               3.142994\n",
       "U.K.                 3.054054\n",
       "Sweden               3.050000\n",
       "Belgium              3.030000\n",
       "Colombia             3.017857\n",
       "Lithuania            3.000000\n",
       "Eucador              3.000000\n",
       "St. Lucia            3.000000\n",
       "Ecuador              2.934524\n",
       "Sao Tome             2.916667\n",
       "Mexico               2.875000\n",
       "Peru                 2.846154\n",
       "Ireland              2.833333\n",
       "Grenada              2.833333\n",
       "Ghana                2.750000\n",
       "Singapore            2.750000\n",
       "Portugal             2.750000\n",
       "Czech Republic       2.750000\n",
       "Nicaragua            2.750000\n",
       "Niacragua            2.750000\n",
       "Wales                2.750000\n",
       "South Africa         2.666667\n",
       "Puerto Rico          2.583333\n",
       "India                2.500000\n",
       "Name: Rating, dtype: float64"
      ]
     },
     "execution_count": 42,
     "metadata": {},
     "output_type": "execute_result"
    }
   ],
   "source": [
    "df_train.groupby('Company Location').Rating.mean().sort_values(ascending=False)"
   ]
  },
  {
   "cell_type": "code",
   "execution_count": 43,
   "id": "reverse-turning",
   "metadata": {},
   "outputs": [
    {
     "data": {
      "text/html": [
       "<div>\n",
       "<style scoped>\n",
       "    .dataframe tbody tr th:only-of-type {\n",
       "        vertical-align: middle;\n",
       "    }\n",
       "\n",
       "    .dataframe tbody tr th {\n",
       "        vertical-align: top;\n",
       "    }\n",
       "\n",
       "    .dataframe thead th {\n",
       "        text-align: right;\n",
       "    }\n",
       "</style>\n",
       "<table border=\"1\" class=\"dataframe\">\n",
       "  <thead>\n",
       "    <tr style=\"text-align: right;\">\n",
       "      <th></th>\n",
       "      <th>Bean Type</th>\n",
       "      <th>Specific Bean Origin</th>\n",
       "    </tr>\n",
       "  </thead>\n",
       "  <tbody>\n",
       "    <tr>\n",
       "      <th>1</th>\n",
       "      <td>Unknown</td>\n",
       "      <td>Ocumare, Premier Cru, Quizas No. 2</td>\n",
       "    </tr>\n",
       "    <tr>\n",
       "      <th>2</th>\n",
       "      <td>Unknown</td>\n",
       "      <td>Tanzania</td>\n",
       "    </tr>\n",
       "    <tr>\n",
       "      <th>6</th>\n",
       "      <td>Unknown</td>\n",
       "      <td>Beniamo</td>\n",
       "    </tr>\n",
       "    <tr>\n",
       "      <th>9</th>\n",
       "      <td>Unknown</td>\n",
       "      <td>Star of Ecuador</td>\n",
       "    </tr>\n",
       "    <tr>\n",
       "      <th>11</th>\n",
       "      <td>Unknown</td>\n",
       "      <td>Indigena Amazonia, Grand Cru, Quizas</td>\n",
       "    </tr>\n",
       "    <tr>\n",
       "      <th>...</th>\n",
       "      <td>...</td>\n",
       "      <td>...</td>\n",
       "    </tr>\n",
       "    <tr>\n",
       "      <th>1243</th>\n",
       "      <td>Unknown</td>\n",
       "      <td>Kokoa Kamili</td>\n",
       "    </tr>\n",
       "    <tr>\n",
       "      <th>1244</th>\n",
       "      <td>Unknown</td>\n",
       "      <td>La Red de Guanconejo, N. Highlands coop</td>\n",
       "    </tr>\n",
       "    <tr>\n",
       "      <th>1249</th>\n",
       "      <td>Unknown</td>\n",
       "      <td>Palos Blancos</td>\n",
       "    </tr>\n",
       "    <tr>\n",
       "      <th>1251</th>\n",
       "      <td>Unknown</td>\n",
       "      <td>Cusco</td>\n",
       "    </tr>\n",
       "    <tr>\n",
       "      <th>1253</th>\n",
       "      <td>Unknown</td>\n",
       "      <td>Conacado, #212, LR, SC</td>\n",
       "    </tr>\n",
       "  </tbody>\n",
       "</table>\n",
       "<p>629 rows × 2 columns</p>\n",
       "</div>"
      ],
      "text/plain": [
       "     Bean Type                     Specific Bean Origin\n",
       "1      Unknown       Ocumare, Premier Cru, Quizas No. 2\n",
       "2      Unknown                                 Tanzania\n",
       "6      Unknown                                  Beniamo\n",
       "9      Unknown                          Star of Ecuador\n",
       "11     Unknown     Indigena Amazonia, Grand Cru, Quizas\n",
       "...        ...                                      ...\n",
       "1243   Unknown                             Kokoa Kamili\n",
       "1244   Unknown  La Red de Guanconejo, N. Highlands coop\n",
       "1249   Unknown                            Palos Blancos\n",
       "1251   Unknown                                    Cusco\n",
       "1253   Unknown                   Conacado, #212, LR, SC\n",
       "\n",
       "[629 rows x 2 columns]"
      ]
     },
     "execution_count": 43,
     "metadata": {},
     "output_type": "execute_result"
    }
   ],
   "source": [
    "df_train.loc[df_train['Bean Type'] == 'Unknown', ['Bean Type', 'Specific Bean Origin']]"
   ]
  },
  {
   "cell_type": "code",
   "execution_count": 44,
   "id": "engaged-fraction",
   "metadata": {},
   "outputs": [
    {
     "data": {
      "text/plain": [
       "Dominican Republic                             28\n",
       "Peru                                           27\n",
       "Ecuador                                        26\n",
       "Venezuela                                      11\n",
       "Papua New Guinea                                7\n",
       "                                               ..\n",
       "Macuare; Miranda; Chloe formula                 1\n",
       "Alto Beni, Wild Harvest, Itenez R., 60hr c.     1\n",
       "Hacienda Las Trincheras                         1\n",
       "Peru, Batch 51/100                              1\n",
       "Zorzal Reserva                                  1\n",
       "Name: Specific Bean Origin, Length: 410, dtype: int64"
      ]
     },
     "execution_count": 44,
     "metadata": {},
     "output_type": "execute_result"
    }
   ],
   "source": [
    "df_train[df_train['Bean Type'] == 'Unknown']['Specific Bean Origin'].value_counts()"
   ]
  },
  {
   "cell_type": "code",
   "execution_count": 45,
   "id": "danish-subscription",
   "metadata": {},
   "outputs": [
    {
     "data": {
      "text/plain": [
       "Madagascar             37\n",
       "Chuao                  13\n",
       "Sambirano              13\n",
       "Ghana                  10\n",
       "Belize                  8\n",
       "                       ..\n",
       "Chuao, Venezuela        1\n",
       "Namau Village           1\n",
       "Colombian Semi Dark     1\n",
       "Eastern Promises        1\n",
       "Congo                   1\n",
       "Name: Specific Bean Origin, Length: 402, dtype: int64"
      ]
     },
     "execution_count": 45,
     "metadata": {},
     "output_type": "execute_result"
    }
   ],
   "source": [
    "df_train[df_train['Bean Type'] != 'Unknown']['Specific Bean Origin'].value_counts()"
   ]
  },
  {
   "cell_type": "code",
   "execution_count": 46,
   "id": "manual-library",
   "metadata": {},
   "outputs": [
    {
     "data": {
      "image/png": "[encoded data removed]",
      "text/plain": [
       "<Figure size 720x504 with 1 Axes>"
      ]
     },
     "metadata": {
      "needs_background": "light"
     },
     "output_type": "display_data"
    }
   ],
   "source": [
    "rating_bins = int((df_train.Rating.max() - df_train.Rating.min()) / 0.25)\n",
    "\n",
    "plt.hist(df_train.Rating, bins=rating_bins)\n",
    "plt.xlabel('Rating')\n",
    "plt.show()"
   ]
  },
  {
   "cell_type": "markdown",
   "id": "civic-acceptance",
   "metadata": {},
   "source": [
    "Inference:\n",
    "* Chocolate with very high percentage of cocoa may have lower rating\n",
    "* Chocolate with low REF rated lower\n",
    "* REF and Review (year) are highly correlated"
   ]
  },
  {
   "cell_type": "markdown",
   "id": "disabled-redhead",
   "metadata": {},
   "source": [
    "## 3.1 Correlation matrix for numeric features"
   ]
  },
  {
   "cell_type": "code",
   "execution_count": 47,
   "id": "above-columbia",
   "metadata": {},
   "outputs": [
    {
     "data": {
      "image/png": "[encoded data removed]",
      "text/plain": [
       "<Figure size 720x576 with 2 Axes>"
      ]
     },
     "metadata": {
      "needs_background": "light"
     },
     "output_type": "display_data"
    }
   ],
   "source": [
    "plt.figure(figsize = (10,8))\n",
    "plt.rcParams.update({\n",
    "    'xtick.labelsize': 15,\n",
    "    'ytick.labelsize': 15,\n",
    "})\n",
    "sns.heatmap(df_train.corr(), annot=True, cmap=\"RdYlGn\")\n",
    "\n",
    "plt.show()"
   ]
  },
  {
   "cell_type": "code",
   "execution_count": 48,
   "id": "radio-geology",
   "metadata": {},
   "outputs": [
    {
     "data": {
      "text/html": [
       "<div>\n",
       "<style scoped>\n",
       "    .dataframe tbody tr th:only-of-type {\n",
       "        vertical-align: middle;\n",
       "    }\n",
       "\n",
       "    .dataframe tbody tr th {\n",
       "        vertical-align: top;\n",
       "    }\n",
       "\n",
       "    .dataframe thead th {\n",
       "        text-align: right;\n",
       "    }\n",
       "</style>\n",
       "<table border=\"1\" class=\"dataframe\">\n",
       "  <thead>\n",
       "    <tr style=\"text-align: right;\">\n",
       "      <th></th>\n",
       "      <th>Company</th>\n",
       "      <th>Specific Bean Origin</th>\n",
       "      <th>Company Location</th>\n",
       "      <th>Bean Type</th>\n",
       "      <th>Broad Bean Origin</th>\n",
       "    </tr>\n",
       "  </thead>\n",
       "  <tbody>\n",
       "    <tr>\n",
       "      <th>Company</th>\n",
       "      <td>1.000000</td>\n",
       "      <td>0.771074</td>\n",
       "      <td>0.999651</td>\n",
       "      <td>0.616841</td>\n",
       "      <td>0.603604</td>\n",
       "    </tr>\n",
       "    <tr>\n",
       "      <th>Specific Bean Origin</th>\n",
       "      <td>0.771074</td>\n",
       "      <td>1.000000</td>\n",
       "      <td>0.808500</td>\n",
       "      <td>0.907956</td>\n",
       "      <td>0.983377</td>\n",
       "    </tr>\n",
       "    <tr>\n",
       "      <th>Company Location</th>\n",
       "      <td>0.999651</td>\n",
       "      <td>0.808500</td>\n",
       "      <td>1.000000</td>\n",
       "      <td>0.291616</td>\n",
       "      <td>0.383218</td>\n",
       "    </tr>\n",
       "    <tr>\n",
       "      <th>Bean Type</th>\n",
       "      <td>0.616841</td>\n",
       "      <td>0.907956</td>\n",
       "      <td>0.291616</td>\n",
       "      <td>1.000000</td>\n",
       "      <td>0.388127</td>\n",
       "    </tr>\n",
       "    <tr>\n",
       "      <th>Broad Bean Origin</th>\n",
       "      <td>0.603604</td>\n",
       "      <td>0.983377</td>\n",
       "      <td>0.383218</td>\n",
       "      <td>0.388127</td>\n",
       "      <td>1.000000</td>\n",
       "    </tr>\n",
       "  </tbody>\n",
       "</table>\n",
       "</div>"
      ],
      "text/plain": [
       "                       Company  Specific Bean Origin  Company Location  \\\n",
       "Company               1.000000              0.771074          0.999651   \n",
       "Specific Bean Origin  0.771074              1.000000          0.808500   \n",
       "Company Location      0.999651              0.808500          1.000000   \n",
       "Bean Type             0.616841              0.907956          0.291616   \n",
       "Broad Bean Origin     0.603604              0.983377          0.383218   \n",
       "\n",
       "                      Bean Type  Broad Bean Origin  \n",
       "Company                0.616841           0.603604  \n",
       "Specific Bean Origin   0.907956           0.983377  \n",
       "Company Location       0.291616           0.383218  \n",
       "Bean Type              1.000000           0.388127  \n",
       "Broad Bean Origin      0.388127           1.000000  "
      ]
     },
     "execution_count": 48,
     "metadata": {},
     "output_type": "execute_result"
    }
   ],
   "source": [
    "import association_metrics as am\n",
    "\n",
    "XC = df_train.apply(lambda x: x.astype(\"category\") if x.dtype == \"object\" else x)\n",
    "cramersv = am.CramersV(XC)\n",
    "cramersv.fit()"
   ]
  },
  {
   "cell_type": "code",
   "execution_count": 49,
   "id": "sustained-seattle",
   "metadata": {},
   "outputs": [
    {
     "data": {
      "text/html": [
       "<div>\n",
       "<style scoped>\n",
       "    .dataframe tbody tr th:only-of-type {\n",
       "        vertical-align: middle;\n",
       "    }\n",
       "\n",
       "    .dataframe tbody tr th {\n",
       "        vertical-align: top;\n",
       "    }\n",
       "\n",
       "    .dataframe thead th {\n",
       "        text-align: right;\n",
       "    }\n",
       "</style>\n",
       "<table border=\"1\" class=\"dataframe\">\n",
       "  <thead>\n",
       "    <tr style=\"text-align: right;\">\n",
       "      <th></th>\n",
       "      <th>Company</th>\n",
       "      <th>Specific Bean Origin</th>\n",
       "      <th>Company Location</th>\n",
       "      <th>Bean Type</th>\n",
       "      <th>Broad Bean Origin</th>\n",
       "    </tr>\n",
       "  </thead>\n",
       "  <tbody>\n",
       "    <tr>\n",
       "      <th>Company</th>\n",
       "      <td>1.000000</td>\n",
       "      <td>0.832175</td>\n",
       "      <td>1.000000</td>\n",
       "      <td>0.700795</td>\n",
       "      <td>0.707739</td>\n",
       "    </tr>\n",
       "    <tr>\n",
       "      <th>Specific Bean Origin</th>\n",
       "      <td>0.832175</td>\n",
       "      <td>1.000000</td>\n",
       "      <td>0.875201</td>\n",
       "      <td>0.943237</td>\n",
       "      <td>0.994439</td>\n",
       "    </tr>\n",
       "    <tr>\n",
       "      <th>Company Location</th>\n",
       "      <td>1.000000</td>\n",
       "      <td>0.875201</td>\n",
       "      <td>1.000000</td>\n",
       "      <td>0.275207</td>\n",
       "      <td>0.461002</td>\n",
       "    </tr>\n",
       "    <tr>\n",
       "      <th>Bean Type</th>\n",
       "      <td>0.700795</td>\n",
       "      <td>0.943237</td>\n",
       "      <td>0.275207</td>\n",
       "      <td>1.000000</td>\n",
       "      <td>0.403949</td>\n",
       "    </tr>\n",
       "    <tr>\n",
       "      <th>Broad Bean Origin</th>\n",
       "      <td>0.707739</td>\n",
       "      <td>0.994439</td>\n",
       "      <td>0.461002</td>\n",
       "      <td>0.403949</td>\n",
       "      <td>1.000000</td>\n",
       "    </tr>\n",
       "  </tbody>\n",
       "</table>\n",
       "</div>"
      ],
      "text/plain": [
       "                       Company  Specific Bean Origin  Company Location  \\\n",
       "Company               1.000000              0.832175          1.000000   \n",
       "Specific Bean Origin  0.832175              1.000000          0.875201   \n",
       "Company Location      1.000000              0.875201          1.000000   \n",
       "Bean Type             0.700795              0.943237          0.275207   \n",
       "Broad Bean Origin     0.707739              0.994439          0.461002   \n",
       "\n",
       "                      Bean Type  Broad Bean Origin  \n",
       "Company                0.700795           0.707739  \n",
       "Specific Bean Origin   0.943237           0.994439  \n",
       "Company Location       0.275207           0.461002  \n",
       "Bean Type              1.000000           0.403949  \n",
       "Broad Bean Origin      0.403949           1.000000  "
      ]
     },
     "execution_count": 49,
     "metadata": {},
     "output_type": "execute_result"
    }
   ],
   "source": [
    "XC = df_test.apply(lambda x: x.astype(\"category\") if x.dtype == \"object\" else x)\n",
    "cramersv = am.CramersV(XC)\n",
    "cramersv.fit()"
   ]
  },
  {
   "cell_type": "code",
   "execution_count": 50,
   "id": "greek-oxygen",
   "metadata": {},
   "outputs": [
    {
     "name": "stdout",
     "output_type": "stream",
     "text": [
      "Company: 376\n",
      "Company Location: 58\n"
     ]
    }
   ],
   "source": [
    "for col in ['Company', 'Company Location']:\n",
    "    print(f'{col}: {df_train[col].nunique()}')"
   ]
  },
  {
   "cell_type": "markdown",
   "id": "desperate-token",
   "metadata": {},
   "source": [
    "Correlated features (may drop one from each pair):\n",
    "* REF and Review\n",
    "* Company and Company Location\n",
    "* Broad Bean Origin and Specific Bean Origin\n",
    "* Specific Bean Origin and Bean Type\n",
    "\n",
    "May be we shoul drop \"Bean Type\" column"
   ]
  },
  {
   "cell_type": "code",
   "execution_count": 51,
   "id": "canadian-specification",
   "metadata": {},
   "outputs": [],
   "source": [
    "df_train_short = df_train.drop(['Company', 'Specific Bean Origin'], axis=1)\n",
    "df_test_short = df_test.drop(['Company', 'Specific Bean Origin'], axis=1)"
   ]
  },
  {
   "cell_type": "code",
   "execution_count": 55,
   "id": "czech-plain",
   "metadata": {},
   "outputs": [
    {
     "name": "stdout",
     "output_type": "stream",
     "text": [
      "2\n",
      "Company Location presented in test but not in train:\n",
      "----------------------------------------------------------------------\n",
      "Martinique\n",
      "Philippines\n",
      "----------------------------------------------------------------------\n",
      "3\n",
      "Bean Type presented in test but not in train:\n",
      "----------------------------------------------------------------------\n",
      "Beniano\n",
      "Trinitario (Scavina)\n",
      "CCN51\n",
      "----------------------------------------------------------------------\n",
      "16\n",
      "Broad Bean Origin presented in test but not in train:\n",
      "----------------------------------------------------------------------\n",
      "Ecuador, Costa Rica\n",
      "Trinidad-Tobago\n",
      "Peru, Ecuador\n",
      "Martinique\n",
      "Trinidad, Tobago\n",
      "Venezuela/ Ghana\n",
      "Ven, Trinidad, Ecuador\n",
      "Ghana, Panama, Ecuador\n",
      "Burma\n",
      "Africa, Carribean, C. Am.\n",
      "Gre., PNG, Haw., Haiti, Mad\n",
      "Ghana & Madagascar\n",
      "Venezuela, Trinidad\n",
      "Ecuador, Mad., PNG\n",
      "Peru(SMartin,Pangoa,nacional)\n",
      "Cameroon\n",
      "----------------------------------------------------------------------\n"
     ]
    }
   ],
   "source": [
    "object_cols_short = df_train_short.columns[df_train_short.dtypes==object]\n",
    "for col in object_cols_short:\n",
    "    out_mask = ~np.isin(df_test_short[col].unique(), df_train_short[col].unique())\n",
    "    print(out_mask.sum())\n",
    "    print(f'{col} presented in test but not in train:')\n",
    "    print('-'*70)\n",
    "    print(*df_test_short[col].unique()[out_mask], sep='\\n')\n",
    "    print('-'*70)"
   ]
  },
  {
   "cell_type": "code",
   "execution_count": 57,
   "id": "harmful-compression",
   "metadata": {},
   "outputs": [
    {
     "data": {
      "text/html": [
       "<div>\n",
       "<style scoped>\n",
       "    .dataframe tbody tr th:only-of-type {\n",
       "        vertical-align: middle;\n",
       "    }\n",
       "\n",
       "    .dataframe tbody tr th {\n",
       "        vertical-align: top;\n",
       "    }\n",
       "\n",
       "    .dataframe thead th {\n",
       "        text-align: right;\n",
       "    }\n",
       "</style>\n",
       "<table border=\"1\" class=\"dataframe\">\n",
       "  <thead>\n",
       "    <tr style=\"text-align: right;\">\n",
       "      <th></th>\n",
       "      <th>REF</th>\n",
       "      <th>Review</th>\n",
       "      <th>Cocoa Percent</th>\n",
       "      <th>Company Location</th>\n",
       "      <th>Bean Type</th>\n",
       "      <th>Broad Bean Origin</th>\n",
       "    </tr>\n",
       "  </thead>\n",
       "  <tbody>\n",
       "    <tr>\n",
       "      <th>81</th>\n",
       "      <td>1149</td>\n",
       "      <td>2013</td>\n",
       "      <td>42.0</td>\n",
       "      <td>Martinique</td>\n",
       "      <td>Unknown</td>\n",
       "      <td>Martinique</td>\n",
       "    </tr>\n",
       "  </tbody>\n",
       "</table>\n",
       "</div>"
      ],
      "text/plain": [
       "     REF  Review  Cocoa Percent Company Location Bean Type Broad Bean Origin\n",
       "81  1149    2013           42.0       Martinique   Unknown        Martinique"
      ]
     },
     "execution_count": 57,
     "metadata": {},
     "output_type": "execute_result"
    }
   ],
   "source": [
    "df_test_short[df_test_short['Company Location'] == 'Martinique']"
   ]
  },
  {
   "cell_type": "code",
   "execution_count": 58,
   "id": "unexpected-bangkok",
   "metadata": {},
   "outputs": [
    {
     "data": {
      "text/html": [
       "<div>\n",
       "<style scoped>\n",
       "    .dataframe tbody tr th:only-of-type {\n",
       "        vertical-align: middle;\n",
       "    }\n",
       "\n",
       "    .dataframe tbody tr th {\n",
       "        vertical-align: top;\n",
       "    }\n",
       "\n",
       "    .dataframe thead th {\n",
       "        text-align: right;\n",
       "    }\n",
       "</style>\n",
       "<table border=\"1\" class=\"dataframe\">\n",
       "  <thead>\n",
       "    <tr style=\"text-align: right;\">\n",
       "      <th></th>\n",
       "      <th>REF</th>\n",
       "      <th>Review</th>\n",
       "      <th>Cocoa Percent</th>\n",
       "      <th>Company Location</th>\n",
       "      <th>Bean Type</th>\n",
       "      <th>Broad Bean Origin</th>\n",
       "    </tr>\n",
       "  </thead>\n",
       "  <tbody>\n",
       "    <tr>\n",
       "      <th>81</th>\n",
       "      <td>1149</td>\n",
       "      <td>2013</td>\n",
       "      <td>42.0</td>\n",
       "      <td>Martinique</td>\n",
       "      <td>Unknown</td>\n",
       "      <td>Martinique</td>\n",
       "    </tr>\n",
       "    <tr>\n",
       "      <th>209</th>\n",
       "      <td>1121</td>\n",
       "      <td>2013</td>\n",
       "      <td>65.0</td>\n",
       "      <td>Philippines</td>\n",
       "      <td>Trinitario</td>\n",
       "      <td>Philippines</td>\n",
       "    </tr>\n",
       "  </tbody>\n",
       "</table>\n",
       "</div>"
      ],
      "text/plain": [
       "      REF  Review  Cocoa Percent Company Location   Bean Type  \\\n",
       "81   1149    2013           42.0       Martinique     Unknown   \n",
       "209  1121    2013           65.0      Philippines  Trinitario   \n",
       "\n",
       "    Broad Bean Origin  \n",
       "81         Martinique  \n",
       "209       Philippines  "
      ]
     },
     "execution_count": 58,
     "metadata": {},
     "output_type": "execute_result"
    }
   ],
   "source": [
    "df_test_short[df_test_short['Company Location'].apply(lambda x: x in ['Martinique', 'Philippines'])]"
   ]
  },
  {
   "cell_type": "code",
   "execution_count": 59,
   "id": "several-columbus",
   "metadata": {},
   "outputs": [
    {
     "data": {
      "text/html": [
       "<div>\n",
       "<style scoped>\n",
       "    .dataframe tbody tr th:only-of-type {\n",
       "        vertical-align: middle;\n",
       "    }\n",
       "\n",
       "    .dataframe tbody tr th {\n",
       "        vertical-align: top;\n",
       "    }\n",
       "\n",
       "    .dataframe thead th {\n",
       "        text-align: right;\n",
       "    }\n",
       "</style>\n",
       "<table border=\"1\" class=\"dataframe\">\n",
       "  <thead>\n",
       "    <tr style=\"text-align: right;\">\n",
       "      <th></th>\n",
       "      <th>REF</th>\n",
       "      <th>Review</th>\n",
       "      <th>Cocoa Percent</th>\n",
       "      <th>Company Location</th>\n",
       "      <th>Bean Type</th>\n",
       "      <th>Broad Bean Origin</th>\n",
       "    </tr>\n",
       "  </thead>\n",
       "  <tbody>\n",
       "    <tr>\n",
       "      <th>66</th>\n",
       "      <td>939</td>\n",
       "      <td>2012</td>\n",
       "      <td>65.0</td>\n",
       "      <td>U.S.A.</td>\n",
       "      <td>Unknown</td>\n",
       "      <td>Philippines</td>\n",
       "    </tr>\n",
       "    <tr>\n",
       "      <th>81</th>\n",
       "      <td>1149</td>\n",
       "      <td>2013</td>\n",
       "      <td>42.0</td>\n",
       "      <td>Martinique</td>\n",
       "      <td>Unknown</td>\n",
       "      <td>Martinique</td>\n",
       "    </tr>\n",
       "    <tr>\n",
       "      <th>209</th>\n",
       "      <td>1121</td>\n",
       "      <td>2013</td>\n",
       "      <td>65.0</td>\n",
       "      <td>Philippines</td>\n",
       "      <td>Trinitario</td>\n",
       "      <td>Philippines</td>\n",
       "    </tr>\n",
       "  </tbody>\n",
       "</table>\n",
       "</div>"
      ],
      "text/plain": [
       "      REF  Review  Cocoa Percent Company Location   Bean Type  \\\n",
       "66    939    2012           65.0           U.S.A.     Unknown   \n",
       "81   1149    2013           42.0       Martinique     Unknown   \n",
       "209  1121    2013           65.0      Philippines  Trinitario   \n",
       "\n",
       "    Broad Bean Origin  \n",
       "66        Philippines  \n",
       "81         Martinique  \n",
       "209       Philippines  "
      ]
     },
     "execution_count": 59,
     "metadata": {},
     "output_type": "execute_result"
    }
   ],
   "source": [
    "df_test_short[df_test_short['Broad Bean Origin'].apply(lambda x: x in ['Martinique', 'Philippines'])]"
   ]
  },
  {
   "cell_type": "markdown",
   "id": "breathing-condition",
   "metadata": {},
   "source": [
    "## Feature ingeneering???"
   ]
  },
  {
   "cell_type": "markdown",
   "id": "medium-protein",
   "metadata": {},
   "source": [
    "## Broad company location"
   ]
  },
  {
   "cell_type": "code",
   "execution_count": 203,
   "id": "acting-tsunami",
   "metadata": {
    "scrolled": false
   },
   "outputs": [
    {
     "data": {
      "text/html": [
       "<div>\n",
       "<style scoped>\n",
       "    .dataframe tbody tr th:only-of-type {\n",
       "        vertical-align: middle;\n",
       "    }\n",
       "\n",
       "    .dataframe tbody tr th {\n",
       "        vertical-align: top;\n",
       "    }\n",
       "\n",
       "    .dataframe thead th {\n",
       "        text-align: right;\n",
       "    }\n",
       "</style>\n",
       "<table border=\"1\" class=\"dataframe\">\n",
       "  <thead>\n",
       "    <tr style=\"text-align: right;\">\n",
       "      <th></th>\n",
       "      <th>Rating</th>\n",
       "      <th>Company Location</th>\n",
       "    </tr>\n",
       "    <tr>\n",
       "      <th>Company Location</th>\n",
       "      <th></th>\n",
       "      <th></th>\n",
       "    </tr>\n",
       "  </thead>\n",
       "  <tbody>\n",
       "    <tr>\n",
       "      <th>Chile</th>\n",
       "      <td>3.750000</td>\n",
       "      <td>2</td>\n",
       "    </tr>\n",
       "    <tr>\n",
       "      <th>Amsterdam</th>\n",
       "      <td>3.500000</td>\n",
       "      <td>2</td>\n",
       "    </tr>\n",
       "    <tr>\n",
       "      <th>Netherlands</th>\n",
       "      <td>3.500000</td>\n",
       "      <td>3</td>\n",
       "    </tr>\n",
       "    <tr>\n",
       "      <th>Scotland</th>\n",
       "      <td>3.464286</td>\n",
       "      <td>7</td>\n",
       "    </tr>\n",
       "    <tr>\n",
       "      <th>Guatemala</th>\n",
       "      <td>3.416667</td>\n",
       "      <td>6</td>\n",
       "    </tr>\n",
       "  </tbody>\n",
       "</table>\n",
       "</div>"
      ],
      "text/plain": [
       "                    Rating  Company Location\n",
       "Company Location                            \n",
       "Chile             3.750000                 2\n",
       "Amsterdam         3.500000                 2\n",
       "Netherlands       3.500000                 3\n",
       "Scotland          3.464286                 7\n",
       "Guatemala         3.416667                 6"
      ]
     },
     "execution_count": 203,
     "metadata": {},
     "output_type": "execute_result"
    }
   ],
   "source": [
    "df_train.groupby('Company Location').agg({'Rating': 'mean', 'Company Location': 'count'})\\\n",
    "    .sort_values(by='Rating', ascending=False).head()"
   ]
  },
  {
   "cell_type": "code",
   "execution_count": 141,
   "id": "increasing-disclosure",
   "metadata": {},
   "outputs": [],
   "source": [
    "broad_locations = {'Europe': ['U.K.', 'Switzerland', 'France', 'Belgium', 'Spain', 'Italy',\n",
    "                             'Austria', 'Sweden', 'Ireland', 'Poland', 'Hungary', 'Germany',\n",
    "                             'Denmark', 'Lithuania', 'Scotland', 'Finland', 'Iceland', \n",
    "                             'Amsterdam', 'Wales', 'Netherlands', 'Portugal', 'Czech Republic'],\n",
    "                  'North America': ['U.S.A.', 'Canada'],\n",
    "                  'Africa': ['Madagascar', 'South Africa', 'Ghana', 'Sao Tome'],\n",
    "                  'Caribbean': ['Colombia', 'Venezuela', 'Honduras', 'Guatemala',\n",
    "                               'Domincan Republic', 'Grenada', 'Puerto Rico', 'Costa Rica',\n",
    "                               'St. Lucia', 'Nicaragua', 'Martinique', 'Niacragua'],\n",
    "                   'Asia & Oceania': ['Japan', 'Vietnam', 'Philippines', 'Fiji', 'Australia',\n",
    "                           'South Korea', 'Israel', 'Singapore', 'India', 'Russia',\n",
    "                           'New Zealand'],\n",
    "                   'South America': ['Ecuador', 'Brazil', 'Peru', 'Eucador', 'Argentina',\n",
    "                                    'Chile', 'Mexico', 'Bolivia', 'Suriname']\n",
    "                  }"
   ]
  },
  {
   "cell_type": "code",
   "execution_count": 147,
   "id": "postal-shower",
   "metadata": {},
   "outputs": [],
   "source": [
    "def location_in_list(location):\n",
    "    for k, v in broad_locations.items():\n",
    "        if location in v:\n",
    "            return k\n",
    "    return 'Other'\n",
    "\n",
    "df_train['Broad Company Location'] = df_train['Company Location'].apply(lambda x: location_in_list(x))\n",
    "df_test['Broad Company Location'] = df_test['Company Location'].apply(lambda x: location_in_list(x))"
   ]
  },
  {
   "cell_type": "code",
   "execution_count": 158,
   "id": "indirect-caribbean",
   "metadata": {},
   "outputs": [
    {
     "data": {
      "text/html": [
       "<div>\n",
       "<style scoped>\n",
       "    .dataframe tbody tr th:only-of-type {\n",
       "        vertical-align: middle;\n",
       "    }\n",
       "\n",
       "    .dataframe tbody tr th {\n",
       "        vertical-align: top;\n",
       "    }\n",
       "\n",
       "    .dataframe thead tr th {\n",
       "        text-align: left;\n",
       "    }\n",
       "\n",
       "    .dataframe thead tr:last-of-type th {\n",
       "        text-align: right;\n",
       "    }\n",
       "</style>\n",
       "<table border=\"1\" class=\"dataframe\">\n",
       "  <thead>\n",
       "    <tr>\n",
       "      <th></th>\n",
       "      <th colspan=\"2\" halign=\"left\">Rating</th>\n",
       "      <th>Broad Company Location</th>\n",
       "    </tr>\n",
       "    <tr>\n",
       "      <th></th>\n",
       "      <th>mean</th>\n",
       "      <th>std</th>\n",
       "      <th>count</th>\n",
       "    </tr>\n",
       "    <tr>\n",
       "      <th>Broad Company Location</th>\n",
       "      <th></th>\n",
       "      <th></th>\n",
       "      <th></th>\n",
       "    </tr>\n",
       "  </thead>\n",
       "  <tbody>\n",
       "    <tr>\n",
       "      <th>Africa</th>\n",
       "      <td>3.013158</td>\n",
       "      <td>0.669129</td>\n",
       "      <td>19</td>\n",
       "    </tr>\n",
       "    <tr>\n",
       "      <th>Asia &amp; Oceania</th>\n",
       "      <td>3.253165</td>\n",
       "      <td>0.382916</td>\n",
       "      <td>79</td>\n",
       "    </tr>\n",
       "    <tr>\n",
       "      <th>Caribbean</th>\n",
       "      <td>3.137097</td>\n",
       "      <td>0.423871</td>\n",
       "      <td>62</td>\n",
       "    </tr>\n",
       "    <tr>\n",
       "      <th>Europe</th>\n",
       "      <td>3.207816</td>\n",
       "      <td>0.520794</td>\n",
       "      <td>403</td>\n",
       "    </tr>\n",
       "    <tr>\n",
       "      <th>North America</th>\n",
       "      <td>3.171721</td>\n",
       "      <td>0.447259</td>\n",
       "      <td>610</td>\n",
       "    </tr>\n",
       "    <tr>\n",
       "      <th>South America</th>\n",
       "      <td>3.051829</td>\n",
       "      <td>0.539687</td>\n",
       "      <td>82</td>\n",
       "    </tr>\n",
       "  </tbody>\n",
       "</table>\n",
       "</div>"
      ],
      "text/plain": [
       "                          Rating           Broad Company Location\n",
       "                            mean       std                  count\n",
       "Broad Company Location                                           \n",
       "Africa                  3.013158  0.669129                     19\n",
       "Asia & Oceania          3.253165  0.382916                     79\n",
       "Caribbean               3.137097  0.423871                     62\n",
       "Europe                  3.207816  0.520794                    403\n",
       "North America           3.171721  0.447259                    610\n",
       "South America           3.051829  0.539687                     82"
      ]
     },
     "execution_count": 158,
     "metadata": {},
     "output_type": "execute_result"
    }
   ],
   "source": [
    "df_train.groupby('Broad Company Location')\\\n",
    "    .agg({'Rating': ['mean', 'std'], 'Broad Company Location': 'count'})"
   ]
  },
  {
   "cell_type": "code",
   "execution_count": 191,
   "id": "uniform-massage",
   "metadata": {},
   "outputs": [
    {
     "name": "stdout",
     "output_type": "stream",
     "text": [
      "One way anova test\n",
      "F statistics = 2.412186091521462\n",
      "p-value = 0.03454923010325456\n"
     ]
    }
   ],
   "source": [
    "from scipy.stats import f_oneway\n",
    "\n",
    "ratings = [df_train.loc[df_train['Broad Company Location'] == i, ['Rating']].values[:, 0] for i in df_train['Broad Company Location'].unique()]\n",
    "f_test = f_oneway(*ratings)\n",
    "print('One way anova test')\n",
    "print(f'F statistics = {f_test.statistic}')\n",
    "print(f'p-value = {f_test.pvalue}')"
   ]
  },
  {
   "cell_type": "code",
   "execution_count": null,
   "id": "advanced-cowboy",
   "metadata": {},
   "outputs": [],
   "source": []
  },
  {
   "cell_type": "code",
   "execution_count": 224,
   "id": "higher-royalty",
   "metadata": {},
   "outputs": [
    {
     "name": "stdout",
     "output_type": "stream",
     "text": [
      "Tanzania\n",
      "Dominican Republic\n",
      "Indonesia\n",
      "Papua New Guinea\n",
      "Unknown\n",
      "Cost Rica, Ven\n",
      "Trinidad\n",
      "Congo\n",
      "Hawaii\n",
      "Panama\n",
      "Jamaica\n",
      "Peru, Dom. Rep\n",
      "Solomon Islands\n",
      "Liberia\n",
      "Haiti\n",
      "Belize\n",
      "Vanuatu\n",
      "El Salvador\n",
      "Carribean\n",
      "Ven., Trinidad, Mad.\n",
      "Ven., Indonesia, Ecuad.\n",
      "West Africa\n",
      "Ghana, Domin. Rep\n",
      "Peru, Belize\n",
      "Principe\n",
      "Cuba\n",
      "Venezuela, Ghana\n",
      "Central and S. America\n",
      "Guat., D.R., Peru, Mad., PNG\n",
      "Sri Lanka\n",
      "Malaysia\n",
      "Colombia, Ecuador\n",
      "Sao Tome & Principe\n",
      "Ven.,Ecu.,Peru,Nic.\n",
      "Samoa\n",
      "Tobago\n",
      "Gabon\n",
      "Ivory Coast\n",
      "Trinidad, Ecuador\n",
      "Togo\n",
      "Philippines\n",
      "Uganda\n",
      "Carribean(DR/Jam/Tri)\n",
      "South America, Africa\n",
      "PNG, Vanuatu, Mad\n",
      "Nigeria\n",
      "Dom. Rep., Madagascar\n",
      "Mad., Java, PNG\n",
      "Peru, Mad., Dom. Rep.\n",
      "South America\n",
      "Venezuela, Java\n",
      "Indonesia, Ghana\n",
      "Madagascar & Ecuador\n",
      "Venez,Africa,Brasil,Peru,Mex\n",
      "DR, Ecuador, Peru\n",
      "Ven, Bolivia, D.R.\n",
      "Dominican Rep., Bali\n",
      "Peru, Madagascar\n",
      "Venezuela, Dom. Rep.\n",
      "Peru, Ecuador, Venezuela\n",
      "Venezuela, Carribean\n"
     ]
    }
   ],
   "source": [
    "for i in df_train['Broad Bean Origin'].unique():\n",
    "    if not i in df_train[\"Company Location\"].unique():\n",
    "        #print(f'{i} - {i in df_train[\"Company Location\"].unique()}')\n",
    "        print(i)"
   ]
  },
  {
   "cell_type": "code",
   "execution_count": 242,
   "id": "lightweight-contract",
   "metadata": {},
   "outputs": [],
   "source": [
    "broad_locations_bean = {'Europe': ['U.K.', 'Switzerland', 'France', 'Belgium', 'Spain', 'Italy',\n",
    "                             'Austria', 'Sweden', 'Ireland', 'Poland', 'Hungary', 'Germany',\n",
    "                             'Denmark', 'Lithuania', 'Scotland', 'Finland', 'Iceland', \n",
    "                             'Amsterdam', 'Wales', 'Netherlands', 'Portugal', 'Czech Republic'],\n",
    "                  'North America': ['U.S.A.', 'Canada'],\n",
    "                  'Africa': ['Madagascar', 'South Africa', 'Ghana', 'Sao Tome', 'Tanzania',\n",
    "                             'Indonesia', 'Congo', 'Liberia', 'Principe', 'Sao Tome & Principe',\n",
    "                            'Gabon', 'Ivory Coast', 'Uganda', 'Nigeria', 'West Africa'],\n",
    "                  'Caribbean': ['Colombia', 'Venezuela', 'Honduras', 'Guatemala',\n",
    "                               'Domincan Republic', 'Grenada', 'Puerto Rico', 'Costa Rica',\n",
    "                               'St. Lucia', 'Nicaragua', 'Martinique', 'Niacragua', 'Cost Rica, Ven',\n",
    "                               'Trinidad', 'Panama', 'Jamaica', 'Haiti', 'Cuba', 'Venezuela, Ghana',\n",
    "                               'Ven.,Ecu.,Peru,Nic.', 'Tobago', 'Carribean(DR/Jam/Tri)',\n",
    "                               'Venezuela, Java', 'Ven, Bolivia, D.R.', 'Venezuela, Carribean',\n",
    "                               'Dominican Republic', 'Carribean'],\n",
    "                   'Asia & Oceania': ['Japan', 'Vietnam', 'Philippines', 'Fiji', 'Australia',\n",
    "                                      'South Korea', 'Israel', 'Singapore', 'India', 'Russia',\n",
    "                                      'New Zealand', 'Papua New Guinea', 'Hawaii', 'Solomon Islands',\n",
    "                                      'Sri Lanka', 'Malaysia', 'Samoa', 'Philippines', 'Togo',\n",
    "                                      'Vanuatu'],\n",
    "                   'South America': ['Ecuador', 'Brazil', 'Peru', 'Eucador', 'Argentina',\n",
    "                                    'Chile', 'Mexico', 'Bolivia', 'Suriname', 'Peru, Dom. Rep',\n",
    "                                    'Central and S. America', 'Colombia, Ecuador', 'Dom. Rep., Madagascar',\n",
    "                                    'South America', 'Belize', 'El Salvador'],\n",
    "                   'Mixed': ['Trinidad, Ecuador', 'South America, Africa', 'PNG, Vanuatu, Mad',\n",
    "                            'Mad., Java, PNG', 'Peru, Mad., Dom. Rep.', 'Indonesia, Ghana', 'Madagascar & Ecuador',\n",
    "                            'Venez,Africa,Brasil,Peru,Mex', 'DR, Ecuador, Peru', 'Dominican Rep., Bali',\n",
    "                            'Peru, Madagascar', 'Venezuela, Dom. Rep.', 'Peru, Ecuador, Venezuela',\n",
    "                            'Ven., Trinidad, Mad.', 'Ven., Indonesia, Ecuad.', 'Ghana, Domin. Rep',\n",
    "                            'Peru, Belize', 'Guat., D.R., Peru, Mad., PNG']\n",
    "                  }"
   ]
  },
  {
   "cell_type": "code",
   "execution_count": 243,
   "id": "healthy-eclipse",
   "metadata": {},
   "outputs": [],
   "source": [
    "def location_in_list(location, locations_dict=broad_locations):\n",
    "    for k, v in locations_dict.items():\n",
    "        if location in v:\n",
    "            return k\n",
    "    return 'Other'\n",
    "\n",
    "df_train['Bean origin world'] = df_train['Broad Bean Origin'].apply(lambda x: location_in_list(x, broad_locations_bean))\n",
    "df_test['Bean origin world'] = df_test['Broad Bean Origin'].apply(lambda x: location_in_list(x, broad_locations_bean))"
   ]
  },
  {
   "cell_type": "code",
   "execution_count": 244,
   "id": "contained-chapel",
   "metadata": {},
   "outputs": [
    {
     "data": {
      "text/plain": [
       "Caribbean         476\n",
       "South America     411\n",
       "Africa            197\n",
       "Asia & Oceania     96\n",
       "Other              56\n",
       "Mixed              19\n",
       "Name: Bean origin world, dtype: int64"
      ]
     },
     "execution_count": 244,
     "metadata": {},
     "output_type": "execute_result"
    }
   ],
   "source": [
    "df_train['Bean origin world'].value_counts()"
   ]
  },
  {
   "cell_type": "code",
   "execution_count": 246,
   "id": "positive-action",
   "metadata": {},
   "outputs": [
    {
     "data": {
      "text/html": [
       "<div>\n",
       "<style scoped>\n",
       "    .dataframe tbody tr th:only-of-type {\n",
       "        vertical-align: middle;\n",
       "    }\n",
       "\n",
       "    .dataframe tbody tr th {\n",
       "        vertical-align: top;\n",
       "    }\n",
       "\n",
       "    .dataframe thead th {\n",
       "        text-align: right;\n",
       "    }\n",
       "</style>\n",
       "<table border=\"1\" class=\"dataframe\">\n",
       "  <thead>\n",
       "    <tr style=\"text-align: right;\">\n",
       "      <th></th>\n",
       "      <th>Rating</th>\n",
       "    </tr>\n",
       "    <tr>\n",
       "      <th>Bean origin world</th>\n",
       "      <th></th>\n",
       "    </tr>\n",
       "  </thead>\n",
       "  <tbody>\n",
       "    <tr>\n",
       "      <th>Africa</th>\n",
       "      <td>3.201777</td>\n",
       "    </tr>\n",
       "    <tr>\n",
       "      <th>Asia &amp; Oceania</th>\n",
       "      <td>3.255208</td>\n",
       "    </tr>\n",
       "    <tr>\n",
       "      <th>Caribbean</th>\n",
       "      <td>3.193803</td>\n",
       "    </tr>\n",
       "    <tr>\n",
       "      <th>Mixed</th>\n",
       "      <td>3.342105</td>\n",
       "    </tr>\n",
       "    <tr>\n",
       "      <th>Other</th>\n",
       "      <td>2.941964</td>\n",
       "    </tr>\n",
       "    <tr>\n",
       "      <th>South America</th>\n",
       "      <td>3.150243</td>\n",
       "    </tr>\n",
       "  </tbody>\n",
       "</table>\n",
       "</div>"
      ],
      "text/plain": [
       "                     Rating\n",
       "Bean origin world          \n",
       "Africa             3.201777\n",
       "Asia & Oceania     3.255208\n",
       "Caribbean          3.193803\n",
       "Mixed              3.342105\n",
       "Other              2.941964\n",
       "South America      3.150243"
      ]
     },
     "execution_count": 246,
     "metadata": {},
     "output_type": "execute_result"
    }
   ],
   "source": [
    "df_train.groupby('Bean origin world').agg({'Rating': 'mean'})"
   ]
  },
  {
   "cell_type": "code",
   "execution_count": 249,
   "id": "aggressive-bulgaria",
   "metadata": {},
   "outputs": [],
   "source": [
    "def multiple_names(string):\n",
    "    answer = 0\n",
    "    for i  in [',', '&']:\n",
    "        if i in string:\n",
    "            answer = 1\n",
    "    return answer\n",
    "\n",
    "df_train['Multiple bean origins'] = df_train['Broad Bean Origin'].apply(lambda x: multiple_names(x))\n",
    "df_test['Multiple bean origins'] = df_test['Broad Bean Origin'].apply(lambda x: multiple_names(x))"
   ]
  },
  {
   "cell_type": "code",
   "execution_count": 254,
   "id": "great-logging",
   "metadata": {},
   "outputs": [
    {
     "data": {
      "text/html": [
       "<div>\n",
       "<style scoped>\n",
       "    .dataframe tbody tr th:only-of-type {\n",
       "        vertical-align: middle;\n",
       "    }\n",
       "\n",
       "    .dataframe tbody tr th {\n",
       "        vertical-align: top;\n",
       "    }\n",
       "\n",
       "    .dataframe thead th {\n",
       "        text-align: right;\n",
       "    }\n",
       "</style>\n",
       "<table border=\"1\" class=\"dataframe\">\n",
       "  <thead>\n",
       "    <tr style=\"text-align: right;\">\n",
       "      <th></th>\n",
       "      <th>Rating</th>\n",
       "      <th>count</th>\n",
       "    </tr>\n",
       "    <tr>\n",
       "      <th>Multiple bean origins</th>\n",
       "      <th></th>\n",
       "      <th></th>\n",
       "    </tr>\n",
       "  </thead>\n",
       "  <tbody>\n",
       "    <tr>\n",
       "      <th>0</th>\n",
       "      <td>3.172131</td>\n",
       "      <td>1220</td>\n",
       "    </tr>\n",
       "    <tr>\n",
       "      <th>1</th>\n",
       "      <td>3.328571</td>\n",
       "      <td>35</td>\n",
       "    </tr>\n",
       "  </tbody>\n",
       "</table>\n",
       "</div>"
      ],
      "text/plain": [
       "                         Rating  count\n",
       "Multiple bean origins                 \n",
       "0                      3.172131   1220\n",
       "1                      3.328571     35"
      ]
     },
     "execution_count": 254,
     "metadata": {},
     "output_type": "execute_result"
    }
   ],
   "source": [
    "df_train.groupby('Multiple bean origins').agg({'Rating': 'mean', 'Multiple bean origins': 'count'})\\\n",
    "    .rename({'Multiple bean origins': 'count'}, axis=1)"
   ]
  },
  {
   "cell_type": "code",
   "execution_count": null,
   "id": "waiting-awareness",
   "metadata": {},
   "outputs": [],
   "source": []
  },
  {
   "cell_type": "code",
   "execution_count": null,
   "id": "boring-administrator",
   "metadata": {},
   "outputs": [],
   "source": []
  },
  {
   "cell_type": "code",
   "execution_count": null,
   "id": "instant-douglas",
   "metadata": {},
   "outputs": [],
   "source": []
  },
  {
   "cell_type": "code",
   "execution_count": null,
   "id": "super-technology",
   "metadata": {},
   "outputs": [],
   "source": []
  },
  {
   "cell_type": "code",
   "execution_count": null,
   "id": "eligible-minnesota",
   "metadata": {},
   "outputs": [],
   "source": []
  },
  {
   "cell_type": "code",
   "execution_count": null,
   "id": "adjacent-healing",
   "metadata": {},
   "outputs": [],
   "source": []
  },
  {
   "cell_type": "code",
   "execution_count": null,
   "id": "north-efficiency",
   "metadata": {},
   "outputs": [],
   "source": []
  },
  {
   "cell_type": "markdown",
   "id": "engaging-thinking",
   "metadata": {},
   "source": [
    "## 3.2 Encoding categorical features"
   ]
  },
  {
   "cell_type": "code",
   "execution_count": 61,
   "id": "transparent-fetish",
   "metadata": {},
   "outputs": [
    {
     "name": "stdout",
     "output_type": "stream",
     "text": [
      "Number of unique values in categorical columns\n",
      "Company Location: 58\n",
      "Bean Type: 38\n",
      "Broad Bean Origin: 84\n"
     ]
    }
   ],
   "source": [
    "print('Number of unique values in categorical columns')\n",
    "\n",
    "for col in df_train_short.columns:\n",
    "    if df_train_short[col].dtype == 'O':\n",
    "        print(f'{col}: {df_train_short[col].nunique()}')"
   ]
  },
  {
   "cell_type": "code",
   "execution_count": 62,
   "id": "whole-coverage",
   "metadata": {},
   "outputs": [
    {
     "data": {
      "text/html": [
       "<div>\n",
       "<style scoped>\n",
       "    .dataframe tbody tr th:only-of-type {\n",
       "        vertical-align: middle;\n",
       "    }\n",
       "\n",
       "    .dataframe tbody tr th {\n",
       "        vertical-align: top;\n",
       "    }\n",
       "\n",
       "    .dataframe thead th {\n",
       "        text-align: right;\n",
       "    }\n",
       "</style>\n",
       "<table border=\"1\" class=\"dataframe\">\n",
       "  <thead>\n",
       "    <tr style=\"text-align: right;\">\n",
       "      <th></th>\n",
       "      <th>Company Location</th>\n",
       "      <th>Bean Type</th>\n",
       "      <th>Broad Bean Origin</th>\n",
       "    </tr>\n",
       "  </thead>\n",
       "  <tbody>\n",
       "    <tr>\n",
       "      <th>Company Location</th>\n",
       "      <td>1.000000</td>\n",
       "      <td>0.291616</td>\n",
       "      <td>0.383218</td>\n",
       "    </tr>\n",
       "    <tr>\n",
       "      <th>Bean Type</th>\n",
       "      <td>0.291616</td>\n",
       "      <td>1.000000</td>\n",
       "      <td>0.388127</td>\n",
       "    </tr>\n",
       "    <tr>\n",
       "      <th>Broad Bean Origin</th>\n",
       "      <td>0.383218</td>\n",
       "      <td>0.388127</td>\n",
       "      <td>1.000000</td>\n",
       "    </tr>\n",
       "  </tbody>\n",
       "</table>\n",
       "</div>"
      ],
      "text/plain": [
       "                   Company Location  Bean Type  Broad Bean Origin\n",
       "Company Location           1.000000   0.291616           0.383218\n",
       "Bean Type                  0.291616   1.000000           0.388127\n",
       "Broad Bean Origin          0.383218   0.388127           1.000000"
      ]
     },
     "execution_count": 62,
     "metadata": {},
     "output_type": "execute_result"
    }
   ],
   "source": [
    "XC = df_train_short.apply(lambda x: x.astype(\"category\") if x.dtype == \"object\" else x)\n",
    "cramersv = am.CramersV(XC)\n",
    "cramersv.fit()"
   ]
  },
  {
   "cell_type": "markdown",
   "id": "adopted-africa",
   "metadata": {},
   "source": [
    "## 3.3 Write target encoder"
   ]
  },
  {
   "cell_type": "code",
   "execution_count": 119,
   "id": "electrical-departure",
   "metadata": {},
   "outputs": [],
   "source": [
    "class MyTargetEncoder():\n",
    "    def __init__(self, columns):\n",
    "        self.columns = columns\n",
    "        self.dict_cols = {k: dict() for k in self.columns}\n",
    "        print(\", \".join(self.columns))\n",
    "        \n",
    "    def fit(self, X, y):\n",
    "        for col in self.columns:\n",
    "            print('-'*50, '\\n', col, '\\n', '-'*50)\n",
    "            for i in X[col].unique():\n",
    "                self.dict_cols[col][i] = y[X[col]==i].mean()\n",
    "                print(f'{i}: {self.dict_cols[col][i]}')\n",
    "            self.dict_cols[col]['Mean'] = y.mean()\n",
    "            print('Mean:', y.mean())\n",
    "                \n",
    "    def transform(self, X):\n",
    "        for col in self.columns:\n",
    "            print(col)\n",
    "            values_avaliable = np.array(list(self.dict_cols[col].keys()))\n",
    "            values_not_avaliable = X[col].unique()[~np.in1d(X[col].unique(), values_avaliable)]\n",
    "            print('Not avliable:', values_not_avaliable)\n",
    "            X.loc[X[col].isin(values_not_avaliable), col] = self.dict_cols[col]['Mean']\n",
    "            X[col] = X[col].replace(self.dict_cols[col])\n",
    "        return X"
   ]
  },
  {
   "cell_type": "code",
   "execution_count": 120,
   "id": "major-stranger",
   "metadata": {},
   "outputs": [
    {
     "data": {
      "text/plain": [
       "Index(['Company Location', 'Bean Type', 'Broad Bean Origin'], dtype='object')"
      ]
     },
     "execution_count": 120,
     "metadata": {},
     "output_type": "execute_result"
    }
   ],
   "source": [
    "obj_cols = df_train_short.columns[df_train_short.dtypes == object]\n",
    "obj_cols"
   ]
  },
  {
   "cell_type": "code",
   "execution_count": 121,
   "id": "completed-anderson",
   "metadata": {
    "scrolled": false
   },
   "outputs": [
    {
     "name": "stdout",
     "output_type": "stream",
     "text": [
      "Company Location, Bean Type, Broad Bean Origin\n",
      "-------------------------------------------------- \n",
      " Company Location \n",
      " --------------------------------------------------\n",
      "U.K.: 3.054054054054054\n",
      "Switzerland: 3.34\n",
      "U.S.A.: 3.1429942418426102\n",
      "France: 3.2607758620689653\n",
      "Ecuador: 2.9345238095238093\n",
      "Colombia: 3.017857142857143\n",
      "Canada: 3.3398876404494384\n",
      "Belgium: 3.03\n",
      "Spain: 3.203125\n",
      "Italy: 3.3292682926829267\n",
      "New Zealand: 3.173076923076923\n",
      "Venezuela: 3.3\n",
      "Austria: 3.2045454545454546\n",
      "Japan: 3.1818181818181817\n",
      "Vietnam: 3.388888888888889\n",
      "Sweden: 3.05\n",
      "Madagascar: 3.1458333333333335\n",
      "Brazil: 3.4038461538461537\n",
      "Peru: 2.8461538461538463\n",
      "Honduras: 3.2083333333333335\n",
      "Fiji: 3.1666666666666665\n",
      "Australia: 3.34375\n",
      "Eucador: 3.0\n",
      "Ireland: 2.8333333333333335\n",
      "Poland: 3.3214285714285716\n",
      "Hungary: 3.3666666666666667\n",
      "Germany: 3.1704545454545454\n",
      "South Korea: 3.1666666666666665\n",
      "Israel: 3.15\n",
      "Guatemala: 3.4166666666666665\n",
      "Domincan Republic: 3.2\n",
      "Denmark: 3.28125\n",
      "Grenada: 2.8333333333333335\n",
      "Lithuania: 3.0\n",
      "Scotland: 3.4642857142857144\n",
      "Argentina: 3.2916666666666665\n",
      "Finland: 3.25\n",
      "Singapore: 2.75\n",
      "South Africa: 2.6666666666666665\n",
      "Ghana: 2.75\n",
      "Chile: 3.75\n",
      "Puerto Rico: 2.5833333333333335\n",
      "India: 2.5\n",
      "Costa Rica: 3.2083333333333335\n",
      "Sao Tome: 2.9166666666666665\n",
      "St. Lucia: 3.0\n",
      "Nicaragua: 2.75\n",
      "Mexico: 2.875\n",
      "Bolivia: 3.25\n",
      "Niacragua: 2.75\n",
      "Iceland: 3.25\n",
      "Amsterdam: 3.5\n",
      "Wales: 2.75\n",
      "Netherlands: 3.5\n",
      "Russia: 3.25\n",
      "Portugal: 2.75\n",
      "Suriname: 3.25\n",
      "Czech Republic: 2.75\n",
      "Mean: 3.1764940239043824\n",
      "-------------------------------------------------- \n",
      " Bean Type \n",
      " --------------------------------------------------\n",
      "Trinitario: 3.2552631578947366\n",
      "Unknown: 3.1303656597774245\n",
      "Criollo: 3.1850961538461537\n",
      "Criollo, Trinitario: 3.2578125\n",
      "Forastero (Arriba): 2.7734375\n",
      "Amazon mix: 4.0\n",
      "Forastero (Arriba) ASS: 2.875\n",
      "Forastero: 3.1273584905660377\n",
      "Trinitario, Forastero: 3.0\n",
      "Forastero (Nacional): 3.1911764705882355\n",
      "Criollo (Porcelana): 3.361111111111111\n",
      "Criollo (Amarru): 3.25\n",
      "Forastero(Arriba, CCN): 3.0\n",
      "Trinitario (Amelonado): 3.0\n",
      "Blend: 3.4375\n",
      "Forastero (Parazinho): 3.53125\n",
      "Matina: 3.0\n",
      "Nacional (Arriba): 3.25\n",
      "Trinitario, TCGA: 3.75\n",
      "Criollo, Forastero: 3.625\n",
      "Criollo (Ocumare 77): 3.75\n",
      "Amazon, ICS: 3.5\n",
      "Nacional: 3.5\n",
      "Criollo (Ocumare): 3.0\n",
      "Criollo, +: 3.5\n",
      "Forastero (Catongo): 3.375\n",
      "Amazon: 3.25\n",
      "Criollo (Wild): 4.0\n",
      "Trinitario, Criollo: 3.1666666666666665\n",
      "EET: 3.5\n",
      "Trinitario (85% Criollo): 3.75\n",
      "Criollo (Ocumare 61): 3.25\n",
      "Forastero, Trinitario: 3.0\n",
      "Blend-Forastero,Criollo: 3.75\n",
      "Criollo (Ocumare 67): 4.0\n",
      "Forastero (Amelonado): 3.75\n",
      "Trinitario, Nacional: 3.75\n",
      "Forastero (Arriba) ASSS: 3.5\n",
      "Mean: 3.1764940239043824\n",
      "-------------------------------------------------- \n",
      " Broad Bean Origin \n",
      " --------------------------------------------------\n",
      "Venezuela: 3.236111111111111\n",
      "Tanzania: 3.2037037037037037\n",
      "Dominican Republic: 3.1947115384615383\n",
      "Indonesia: 3.388888888888889\n",
      "Nicaragua: 3.1785714285714284\n",
      "Bolivia: 3.1607142857142856\n",
      "Vietnam: 3.3275862068965516\n",
      "Ecuador: 3.1109154929577465\n",
      "Peru: 3.151639344262295\n",
      "Madagascar: 3.2524271844660193\n",
      "Costa Rica: 3.076923076923077\n",
      "Colombia: 3.1346153846153846\n",
      "Papua New Guinea: 3.2934782608695654\n",
      "Mexico: 2.9166666666666665\n",
      "Unknown: 2.9419642857142856\n",
      "Cost Rica, Ven: 2.75\n",
      "Trinidad: 3.152173913043478\n",
      "Congo: 3.3\n",
      "Brazil: 3.255813953488372\n",
      "Sao Tome: 3.2857142857142856\n",
      "Hawaii: 3.3392857142857144\n",
      "Panama: 3.0\n",
      "Ghana: 3.125\n",
      "Jamaica: 3.142857142857143\n",
      "Domincan Republic: 3.15625\n",
      "Peru, Dom. Rep: 4.0\n",
      "Fiji: 3.0416666666666665\n",
      "Solomon Islands: 3.3333333333333335\n",
      "Liberia: 3.0833333333333335\n",
      "Haiti: 3.5\n",
      "Belize: 3.2333333333333334\n",
      "Vanuatu: 3.3125\n",
      "Guatemala: 3.421875\n",
      "El Salvador: 2.875\n",
      "Honduras: 3.3181818181818183\n",
      "St. Lucia: 3.1666666666666665\n",
      "Carribean: 2.6875\n",
      "Ven., Trinidad, Mad.: 3.0\n",
      "Ven., Indonesia, Ecuad.: 3.5\n",
      "West Africa: 2.6666666666666665\n",
      "Grenada: 3.0208333333333335\n",
      "Ghana, Domin. Rep: 2.875\n",
      "Peru, Belize: 3.75\n",
      "Principe: 2.75\n",
      "Cuba: 3.2222222222222223\n",
      "Venezuela, Ghana: 3.0\n",
      "Australia: 3.0\n",
      "Central and S. America: 3.25\n",
      "Guat., D.R., Peru, Mad., PNG: 4.0\n",
      "Sri Lanka: 2.875\n",
      "Malaysia: 3.25\n",
      "Colombia, Ecuador: 2.9166666666666665\n",
      "Puerto Rico: 2.5\n",
      "India: 3.0\n",
      "Sao Tome & Principe: 3.15\n",
      "Ven.,Ecu.,Peru,Nic.: 3.75\n",
      "Samoa: 3.125\n",
      "Tobago: 3.625\n",
      "Gabon: 3.25\n",
      "Ivory Coast: 2.75\n",
      "Trinidad, Ecuador: 3.5\n",
      "Togo: 3.125\n",
      "Philippines: 3.0\n",
      "Uganda: 2.75\n",
      "Carribean(DR/Jam/Tri): 3.0\n",
      "South America, Africa: 3.0\n",
      "PNG, Vanuatu, Mad: 3.75\n",
      "Nigeria: 3.25\n",
      "Dom. Rep., Madagascar: 4.0\n",
      "Mad., Java, PNG: 3.5\n",
      "Peru, Mad., Dom. Rep.: 3.5\n",
      "South America: 3.75\n",
      "Venezuela, Java: 4.0\n",
      "Indonesia, Ghana: 3.5\n",
      "Suriname: 3.25\n",
      "Madagascar & Ecuador: 3.25\n",
      "Venez,Africa,Brasil,Peru,Mex: 3.75\n",
      "DR, Ecuador, Peru: 3.75\n",
      "Ven, Bolivia, D.R.: 4.0\n",
      "Dominican Rep., Bali: 3.75\n",
      "Peru, Madagascar: 2.5\n",
      "Venezuela, Dom. Rep.: 2.75\n",
      "Peru, Ecuador, Venezuela: 3.0\n",
      "Venezuela, Carribean: 3.0\n",
      "Mean: 3.1764940239043824\n",
      "Company Location\n",
      "Not avliable: []\n",
      "Bean Type\n",
      "Not avliable: []\n",
      "Broad Bean Origin\n",
      "Not avliable: []\n"
     ]
    },
    {
     "data": {
      "text/html": [
       "<div>\n",
       "<style scoped>\n",
       "    .dataframe tbody tr th:only-of-type {\n",
       "        vertical-align: middle;\n",
       "    }\n",
       "\n",
       "    .dataframe tbody tr th {\n",
       "        vertical-align: top;\n",
       "    }\n",
       "\n",
       "    .dataframe thead th {\n",
       "        text-align: right;\n",
       "    }\n",
       "</style>\n",
       "<table border=\"1\" class=\"dataframe\">\n",
       "  <thead>\n",
       "    <tr style=\"text-align: right;\">\n",
       "      <th></th>\n",
       "      <th>REF</th>\n",
       "      <th>Review</th>\n",
       "      <th>Cocoa Percent</th>\n",
       "      <th>Company Location</th>\n",
       "      <th>Bean Type</th>\n",
       "      <th>Broad Bean Origin</th>\n",
       "      <th>Rating</th>\n",
       "    </tr>\n",
       "  </thead>\n",
       "  <tbody>\n",
       "    <tr>\n",
       "      <th>0</th>\n",
       "      <td>457</td>\n",
       "      <td>2009</td>\n",
       "      <td>72.0</td>\n",
       "      <td>3.054054</td>\n",
       "      <td>3.255263</td>\n",
       "      <td>3.236111</td>\n",
       "      <td>3.25</td>\n",
       "    </tr>\n",
       "    <tr>\n",
       "      <th>1</th>\n",
       "      <td>508</td>\n",
       "      <td>2010</td>\n",
       "      <td>72.0</td>\n",
       "      <td>3.340000</td>\n",
       "      <td>3.130366</td>\n",
       "      <td>3.236111</td>\n",
       "      <td>3.50</td>\n",
       "    </tr>\n",
       "    <tr>\n",
       "      <th>2</th>\n",
       "      <td>1554</td>\n",
       "      <td>2015</td>\n",
       "      <td>70.0</td>\n",
       "      <td>3.142994</td>\n",
       "      <td>3.130366</td>\n",
       "      <td>3.203704</td>\n",
       "      <td>3.00</td>\n",
       "    </tr>\n",
       "    <tr>\n",
       "      <th>3</th>\n",
       "      <td>1125</td>\n",
       "      <td>2013</td>\n",
       "      <td>72.0</td>\n",
       "      <td>3.142994</td>\n",
       "      <td>3.255263</td>\n",
       "      <td>3.194712</td>\n",
       "      <td>3.00</td>\n",
       "    </tr>\n",
       "    <tr>\n",
       "      <th>4</th>\n",
       "      <td>32</td>\n",
       "      <td>2006</td>\n",
       "      <td>75.0</td>\n",
       "      <td>3.260776</td>\n",
       "      <td>3.185096</td>\n",
       "      <td>3.388889</td>\n",
       "      <td>3.50</td>\n",
       "    </tr>\n",
       "  </tbody>\n",
       "</table>\n",
       "</div>"
      ],
      "text/plain": [
       "    REF  Review  Cocoa Percent  Company Location  Bean Type  \\\n",
       "0   457    2009           72.0          3.054054   3.255263   \n",
       "1   508    2010           72.0          3.340000   3.130366   \n",
       "2  1554    2015           70.0          3.142994   3.130366   \n",
       "3  1125    2013           72.0          3.142994   3.255263   \n",
       "4    32    2006           75.0          3.260776   3.185096   \n",
       "\n",
       "   Broad Bean Origin  Rating  \n",
       "0           3.236111    3.25  \n",
       "1           3.236111    3.50  \n",
       "2           3.203704    3.00  \n",
       "3           3.194712    3.00  \n",
       "4           3.388889    3.50  "
      ]
     },
     "execution_count": 121,
     "metadata": {},
     "output_type": "execute_result"
    }
   ],
   "source": [
    "my_encoder = MyTargetEncoder(obj_cols)\n",
    "my_encoder.fit(df_train_short.drop('Rating', axis=1), df_train_short['Rating'])\n",
    "df_train_new = my_encoder.transform(df_train_short.drop('Rating', axis=1))\n",
    "df_train_new['Rating'] = df_train_short['Rating']\n",
    "df_train_new.head()"
   ]
  },
  {
   "cell_type": "code",
   "execution_count": 122,
   "id": "statistical-commerce",
   "metadata": {},
   "outputs": [
    {
     "data": {
      "text/html": [
       "<div>\n",
       "<style scoped>\n",
       "    .dataframe tbody tr th:only-of-type {\n",
       "        vertical-align: middle;\n",
       "    }\n",
       "\n",
       "    .dataframe tbody tr th {\n",
       "        vertical-align: top;\n",
       "    }\n",
       "\n",
       "    .dataframe thead th {\n",
       "        text-align: right;\n",
       "    }\n",
       "</style>\n",
       "<table border=\"1\" class=\"dataframe\">\n",
       "  <thead>\n",
       "    <tr style=\"text-align: right;\">\n",
       "      <th></th>\n",
       "      <th>REF</th>\n",
       "      <th>Review</th>\n",
       "      <th>Cocoa Percent</th>\n",
       "      <th>Company Location</th>\n",
       "      <th>Bean Type</th>\n",
       "      <th>Broad Bean Origin</th>\n",
       "    </tr>\n",
       "  </thead>\n",
       "  <tbody>\n",
       "    <tr>\n",
       "      <th>0</th>\n",
       "      <td>1594</td>\n",
       "      <td>2015</td>\n",
       "      <td>70.0</td>\n",
       "      <td>U.S.A.</td>\n",
       "      <td>Trinitario</td>\n",
       "      <td>Trinidad</td>\n",
       "    </tr>\n",
       "    <tr>\n",
       "      <th>1</th>\n",
       "      <td>322</td>\n",
       "      <td>2009</td>\n",
       "      <td>72.0</td>\n",
       "      <td>Spain</td>\n",
       "      <td>Unknown</td>\n",
       "      <td>Unknown</td>\n",
       "    </tr>\n",
       "    <tr>\n",
       "      <th>2</th>\n",
       "      <td>1518</td>\n",
       "      <td>2015</td>\n",
       "      <td>80.0</td>\n",
       "      <td>U.S.A.</td>\n",
       "      <td>Trinitario</td>\n",
       "      <td>Belize</td>\n",
       "    </tr>\n",
       "    <tr>\n",
       "      <th>3</th>\n",
       "      <td>439</td>\n",
       "      <td>2009</td>\n",
       "      <td>67.0</td>\n",
       "      <td>U.S.A.</td>\n",
       "      <td>Trinitario</td>\n",
       "      <td>Madagascar</td>\n",
       "    </tr>\n",
       "    <tr>\n",
       "      <th>4</th>\n",
       "      <td>607</td>\n",
       "      <td>2010</td>\n",
       "      <td>82.0</td>\n",
       "      <td>U.S.A.</td>\n",
       "      <td>Matina</td>\n",
       "      <td>Costa Rica</td>\n",
       "    </tr>\n",
       "  </tbody>\n",
       "</table>\n",
       "</div>"
      ],
      "text/plain": [
       "    REF  Review  Cocoa Percent Company Location   Bean Type Broad Bean Origin\n",
       "0  1594    2015           70.0           U.S.A.  Trinitario          Trinidad\n",
       "1   322    2009           72.0            Spain     Unknown           Unknown\n",
       "2  1518    2015           80.0           U.S.A.  Trinitario            Belize\n",
       "3   439    2009           67.0           U.S.A.  Trinitario        Madagascar\n",
       "4   607    2010           82.0           U.S.A.      Matina        Costa Rica"
      ]
     },
     "execution_count": 122,
     "metadata": {},
     "output_type": "execute_result"
    }
   ],
   "source": [
    "df_test_new = df_test_short.copy()\n",
    "df_test_new.head()"
   ]
  },
  {
   "cell_type": "code",
   "execution_count": 123,
   "id": "western-career",
   "metadata": {},
   "outputs": [
    {
     "name": "stdout",
     "output_type": "stream",
     "text": [
      "Company Location\n",
      "Not avliable: ['Martinique' 'Philippines']\n",
      "Bean Type\n",
      "Not avliable: ['Beniano' 'Trinitario (Scavina)' 'CCN51']\n",
      "Broad Bean Origin\n",
      "Not avliable: ['Ecuador, Costa Rica' 'Trinidad-Tobago' 'Peru, Ecuador' 'Martinique'\n",
      " 'Trinidad, Tobago' 'Venezuela/ Ghana' 'Ven, Trinidad, Ecuador'\n",
      " 'Ghana, Panama, Ecuador' 'Burma' 'Africa, Carribean, C. Am.'\n",
      " 'Gre., PNG, Haw., Haiti, Mad' 'Ghana & Madagascar' 'Venezuela, Trinidad'\n",
      " 'Ecuador, Mad., PNG' 'Peru(SMartin,Pangoa,nacional)' 'Cameroon']\n"
     ]
    }
   ],
   "source": [
    "df_test_new = my_encoder.transform(df_test_new[:])"
   ]
  },
  {
   "cell_type": "code",
   "execution_count": 124,
   "id": "discrete-anger",
   "metadata": {},
   "outputs": [
    {
     "data": {
      "text/html": [
       "<div>\n",
       "<style scoped>\n",
       "    .dataframe tbody tr th:only-of-type {\n",
       "        vertical-align: middle;\n",
       "    }\n",
       "\n",
       "    .dataframe tbody tr th {\n",
       "        vertical-align: top;\n",
       "    }\n",
       "\n",
       "    .dataframe thead th {\n",
       "        text-align: right;\n",
       "    }\n",
       "</style>\n",
       "<table border=\"1\" class=\"dataframe\">\n",
       "  <thead>\n",
       "    <tr style=\"text-align: right;\">\n",
       "      <th></th>\n",
       "      <th>REF</th>\n",
       "      <th>Review</th>\n",
       "      <th>Cocoa Percent</th>\n",
       "      <th>Company Location</th>\n",
       "      <th>Bean Type</th>\n",
       "      <th>Broad Bean Origin</th>\n",
       "    </tr>\n",
       "  </thead>\n",
       "  <tbody>\n",
       "    <tr>\n",
       "      <th>0</th>\n",
       "      <td>1594</td>\n",
       "      <td>2015</td>\n",
       "      <td>70.0</td>\n",
       "      <td>3.142994</td>\n",
       "      <td>3.255263</td>\n",
       "      <td>3.152174</td>\n",
       "    </tr>\n",
       "    <tr>\n",
       "      <th>1</th>\n",
       "      <td>322</td>\n",
       "      <td>2009</td>\n",
       "      <td>72.0</td>\n",
       "      <td>3.203125</td>\n",
       "      <td>3.130366</td>\n",
       "      <td>2.941964</td>\n",
       "    </tr>\n",
       "    <tr>\n",
       "      <th>2</th>\n",
       "      <td>1518</td>\n",
       "      <td>2015</td>\n",
       "      <td>80.0</td>\n",
       "      <td>3.142994</td>\n",
       "      <td>3.255263</td>\n",
       "      <td>3.233333</td>\n",
       "    </tr>\n",
       "    <tr>\n",
       "      <th>3</th>\n",
       "      <td>439</td>\n",
       "      <td>2009</td>\n",
       "      <td>67.0</td>\n",
       "      <td>3.142994</td>\n",
       "      <td>3.255263</td>\n",
       "      <td>3.252427</td>\n",
       "    </tr>\n",
       "    <tr>\n",
       "      <th>4</th>\n",
       "      <td>607</td>\n",
       "      <td>2010</td>\n",
       "      <td>82.0</td>\n",
       "      <td>3.142994</td>\n",
       "      <td>3.000000</td>\n",
       "      <td>3.076923</td>\n",
       "    </tr>\n",
       "    <tr>\n",
       "      <th>5</th>\n",
       "      <td>32</td>\n",
       "      <td>2006</td>\n",
       "      <td>70.0</td>\n",
       "      <td>3.017857</td>\n",
       "      <td>3.191176</td>\n",
       "      <td>3.134615</td>\n",
       "    </tr>\n",
       "    <tr>\n",
       "      <th>6</th>\n",
       "      <td>713</td>\n",
       "      <td>2011</td>\n",
       "      <td>73.0</td>\n",
       "      <td>3.366667</td>\n",
       "      <td>3.185096</td>\n",
       "      <td>3.236111</td>\n",
       "    </tr>\n",
       "    <tr>\n",
       "      <th>7</th>\n",
       "      <td>1462</td>\n",
       "      <td>2015</td>\n",
       "      <td>70.0</td>\n",
       "      <td>3.142994</td>\n",
       "      <td>3.130366</td>\n",
       "      <td>3.151639</td>\n",
       "    </tr>\n",
       "    <tr>\n",
       "      <th>8</th>\n",
       "      <td>470</td>\n",
       "      <td>2010</td>\n",
       "      <td>72.0</td>\n",
       "      <td>3.170455</td>\n",
       "      <td>3.255263</td>\n",
       "      <td>3.020833</td>\n",
       "    </tr>\n",
       "    <tr>\n",
       "      <th>9</th>\n",
       "      <td>464</td>\n",
       "      <td>2009</td>\n",
       "      <td>85.0</td>\n",
       "      <td>3.203125</td>\n",
       "      <td>3.127358</td>\n",
       "      <td>3.125000</td>\n",
       "    </tr>\n",
       "  </tbody>\n",
       "</table>\n",
       "</div>"
      ],
      "text/plain": [
       "    REF  Review  Cocoa Percent  Company Location  Bean Type  Broad Bean Origin\n",
       "0  1594    2015           70.0          3.142994   3.255263           3.152174\n",
       "1   322    2009           72.0          3.203125   3.130366           2.941964\n",
       "2  1518    2015           80.0          3.142994   3.255263           3.233333\n",
       "3   439    2009           67.0          3.142994   3.255263           3.252427\n",
       "4   607    2010           82.0          3.142994   3.000000           3.076923\n",
       "5    32    2006           70.0          3.017857   3.191176           3.134615\n",
       "6   713    2011           73.0          3.366667   3.185096           3.236111\n",
       "7  1462    2015           70.0          3.142994   3.130366           3.151639\n",
       "8   470    2010           72.0          3.170455   3.255263           3.020833\n",
       "9   464    2009           85.0          3.203125   3.127358           3.125000"
      ]
     },
     "execution_count": 124,
     "metadata": {},
     "output_type": "execute_result"
    }
   ],
   "source": [
    "df_test_new.head(10)"
   ]
  },
  {
   "cell_type": "code",
   "execution_count": 94,
   "id": "bearing-wesley",
   "metadata": {},
   "outputs": [
    {
     "data": {
      "text/plain": [
       "3.142994    243\n",
       "3.260776     40\n",
       "3.339888     36\n",
       "3.329268     22\n",
       "3.054054     22\n",
       "3.343750     17\n",
       "3.030000     15\n",
       "3.170455     13\n",
       "3.340000     13\n",
       "2.934524     12\n",
       "3.203125      9\n",
       "3.017857      9\n",
       "3.281250      7\n",
       "3.366667      7\n",
       "3.181818      6\n",
       "2.750000      6\n",
       "3.145833      5\n",
       "3.300000      5\n",
       "3.173077      4\n",
       "3.150000      4\n",
       "3.403846      4\n",
       "3.416667      4\n",
       "3.204545      4\n",
       "2.846154      4\n",
       "3.291667      3\n",
       "3.500000      3\n",
       "3.166667      3\n",
       "3.000000      3\n",
       "3.208333      3\n",
       "3.464286      3\n",
       "3.176494      2\n",
       "2.875000      2\n",
       "3.388889      2\n",
       "3.321429      1\n",
       "2.916667      1\n",
       "3.250000      1\n",
       "2.833333      1\n",
       "2.583333      1\n",
       "Name: Company Location, dtype: int64"
      ]
     },
     "execution_count": 94,
     "metadata": {},
     "output_type": "execute_result"
    }
   ],
   "source": [
    "df_test_new['Company Location'].value_counts()"
   ]
  },
  {
   "cell_type": "code",
   "execution_count": null,
   "id": "applied-lover",
   "metadata": {},
   "outputs": [],
   "source": []
  },
  {
   "cell_type": "markdown",
   "id": "interior-greensboro",
   "metadata": {},
   "source": [
    "# 4. Building models"
   ]
  },
  {
   "cell_type": "code",
   "execution_count": 70,
   "id": "immediate-faculty",
   "metadata": {},
   "outputs": [],
   "source": [
    "from sklearn.metrics import r2_score, mean_squared_error, mean_absolute_error"
   ]
  },
  {
   "cell_type": "markdown",
   "id": "gross-geneva",
   "metadata": {},
   "source": [
    "## 4.1 Decision Tree Regressor"
   ]
  },
  {
   "cell_type": "code",
   "execution_count": 71,
   "id": "above-acrylic",
   "metadata": {},
   "outputs": [],
   "source": [
    "X = df_train_new.drop('Rating', axis=1)\n",
    "y = df_train_new['Rating']"
   ]
  },
  {
   "cell_type": "code",
   "execution_count": 72,
   "id": "pleased-search",
   "metadata": {},
   "outputs": [],
   "source": [
    "from sklearn.model_selection import train_test_split"
   ]
  },
  {
   "cell_type": "code",
   "execution_count": 73,
   "id": "dietary-legislation",
   "metadata": {},
   "outputs": [],
   "source": [
    "X_train, X_test, y_train, y_test = train_test_split(X, y, test_size=0.3, random_state=42)"
   ]
  },
  {
   "cell_type": "code",
   "execution_count": 74,
   "id": "phantom-projector",
   "metadata": {},
   "outputs": [
    {
     "name": "stdout",
     "output_type": "stream",
     "text": [
      "MAE: 0.45590185676392575\n",
      "MSE: 0.3481017904509284\n",
      "RMSE: 0.5900015173293441\n",
      "R2 score: -0.45423269391159304\n"
     ]
    }
   ],
   "source": [
    "from sklearn.tree import DecisionTreeRegressor\n",
    "\n",
    "model_tree = DecisionTreeRegressor()\n",
    "model_tree.fit(X_train, y_train)\n",
    "\n",
    "y_pred = model_tree.predict(X_test)\n",
    "\n",
    "print('MAE:', mean_absolute_error(y_test, y_pred))\n",
    "print('MSE:', mean_squared_error(y_test, y_pred))\n",
    "print('RMSE:', np.sqrt(mean_squared_error(y_test, y_pred)))\n",
    "print('R2 score:', r2_score(y_test, y_pred))"
   ]
  },
  {
   "cell_type": "code",
   "execution_count": 76,
   "id": "roman-excess",
   "metadata": {},
   "outputs": [
    {
     "name": "stdout",
     "output_type": "stream",
     "text": [
      "{'max_depth': 4, 'min_samples_leaf': 11, 'min_samples_split': 2}\n",
      "0.11301246771467403\n"
     ]
    }
   ],
   "source": [
    "from sklearn.model_selection import GridSearchCV\n",
    "\n",
    "decision_tree_params = {'max_depth': np.arange(2, 10),\n",
    "                        'min_samples_leaf': np.arange(2, 20),\n",
    "                        'min_samples_split': np.arange(2, 40)}\n",
    "\n",
    "gs_tree = GridSearchCV(DecisionTreeRegressor(),\n",
    "                       decision_tree_params,\n",
    "                       scoring='r2',\n",
    "                       cv=3,\n",
    "                       njobs=-1)\n",
    "\n",
    "gs_tree.fit(X_train, y_train)\n",
    "print(gs_tree.best_params_)\n",
    "print(gs_tree.best_score_)"
   ]
  },
  {
   "cell_type": "code",
   "execution_count": 77,
   "id": "celtic-treatment",
   "metadata": {},
   "outputs": [
    {
     "data": {
      "text/html": [
       "<div>\n",
       "<style scoped>\n",
       "    .dataframe tbody tr th:only-of-type {\n",
       "        vertical-align: middle;\n",
       "    }\n",
       "\n",
       "    .dataframe tbody tr th {\n",
       "        vertical-align: top;\n",
       "    }\n",
       "\n",
       "    .dataframe thead th {\n",
       "        text-align: right;\n",
       "    }\n",
       "</style>\n",
       "<table border=\"1\" class=\"dataframe\">\n",
       "  <thead>\n",
       "    <tr style=\"text-align: right;\">\n",
       "      <th></th>\n",
       "      <th>Feature</th>\n",
       "      <th>Importance</th>\n",
       "    </tr>\n",
       "  </thead>\n",
       "  <tbody>\n",
       "    <tr>\n",
       "      <th>2</th>\n",
       "      <td>Cocoa Percent</td>\n",
       "      <td>0.354342</td>\n",
       "    </tr>\n",
       "    <tr>\n",
       "      <th>5</th>\n",
       "      <td>Broad Bean Origin</td>\n",
       "      <td>0.346837</td>\n",
       "    </tr>\n",
       "    <tr>\n",
       "      <th>3</th>\n",
       "      <td>Company Location</td>\n",
       "      <td>0.298821</td>\n",
       "    </tr>\n",
       "    <tr>\n",
       "      <th>0</th>\n",
       "      <td>REF</td>\n",
       "      <td>0.000000</td>\n",
       "    </tr>\n",
       "    <tr>\n",
       "      <th>1</th>\n",
       "      <td>Review</td>\n",
       "      <td>0.000000</td>\n",
       "    </tr>\n",
       "    <tr>\n",
       "      <th>4</th>\n",
       "      <td>Bean Type</td>\n",
       "      <td>0.000000</td>\n",
       "    </tr>\n",
       "  </tbody>\n",
       "</table>\n",
       "</div>"
      ],
      "text/plain": [
       "             Feature  Importance\n",
       "2      Cocoa Percent    0.354342\n",
       "5  Broad Bean Origin    0.346837\n",
       "3   Company Location    0.298821\n",
       "0                REF    0.000000\n",
       "1             Review    0.000000\n",
       "4          Bean Type    0.000000"
      ]
     },
     "execution_count": 77,
     "metadata": {},
     "output_type": "execute_result"
    }
   ],
   "source": [
    "model_tree = gs_tree.best_estimator_\n",
    "\n",
    "pd.DataFrame({'Feature': model_tree.feature_names_in_, 'Importance': model_tree.feature_importances_})\\\n",
    "    .sort_values(by='Importance', ascending=False)"
   ]
  },
  {
   "cell_type": "code",
   "execution_count": 78,
   "id": "intended-legislature",
   "metadata": {},
   "outputs": [
    {
     "data": {
      "text/plain": [
       "DecisionTreeRegressor(max_depth=4, min_samples_leaf=11)"
      ]
     },
     "execution_count": 78,
     "metadata": {},
     "output_type": "execute_result"
    }
   ],
   "source": [
    "model_tree.fit(X, y)"
   ]
  },
  {
   "cell_type": "code",
   "execution_count": 84,
   "id": "hollywood-newcastle",
   "metadata": {},
   "outputs": [],
   "source": [
    "pred = model_tree.predict(df_test_new)"
   ]
  },
  {
   "cell_type": "code",
   "execution_count": 86,
   "id": "steady-average",
   "metadata": {},
   "outputs": [],
   "source": [
    "df_test_new['id'] = np.arange(len(df_test)) \n",
    "df_test_new['Rating'] = pred \n",
    "\n",
    "df_test_new[['id','Rating']].to_csv(\"tree_bad_submission.csv\", index=False)"
   ]
  },
  {
   "cell_type": "code",
   "execution_count": 88,
   "id": "appropriate-drove",
   "metadata": {},
   "outputs": [
    {
     "data": {
      "text/html": [
       "<div>\n",
       "<style scoped>\n",
       "    .dataframe tbody tr th:only-of-type {\n",
       "        vertical-align: middle;\n",
       "    }\n",
       "\n",
       "    .dataframe tbody tr th {\n",
       "        vertical-align: top;\n",
       "    }\n",
       "\n",
       "    .dataframe thead th {\n",
       "        text-align: right;\n",
       "    }\n",
       "</style>\n",
       "<table border=\"1\" class=\"dataframe\">\n",
       "  <thead>\n",
       "    <tr style=\"text-align: right;\">\n",
       "      <th></th>\n",
       "      <th>id</th>\n",
       "      <th>Rating</th>\n",
       "    </tr>\n",
       "  </thead>\n",
       "  <tbody>\n",
       "    <tr>\n",
       "      <th>0</th>\n",
       "      <td>0</td>\n",
       "      <td>3.146985</td>\n",
       "    </tr>\n",
       "    <tr>\n",
       "      <th>1</th>\n",
       "      <td>1</td>\n",
       "      <td>3.146985</td>\n",
       "    </tr>\n",
       "    <tr>\n",
       "      <th>2</th>\n",
       "      <td>2</td>\n",
       "      <td>3.146985</td>\n",
       "    </tr>\n",
       "    <tr>\n",
       "      <th>3</th>\n",
       "      <td>3</td>\n",
       "      <td>3.146985</td>\n",
       "    </tr>\n",
       "    <tr>\n",
       "      <th>4</th>\n",
       "      <td>4</td>\n",
       "      <td>3.146985</td>\n",
       "    </tr>\n",
       "    <tr>\n",
       "      <th>5</th>\n",
       "      <td>5</td>\n",
       "      <td>2.386364</td>\n",
       "    </tr>\n",
       "    <tr>\n",
       "      <th>6</th>\n",
       "      <td>6</td>\n",
       "      <td>3.369083</td>\n",
       "    </tr>\n",
       "    <tr>\n",
       "      <th>7</th>\n",
       "      <td>7</td>\n",
       "      <td>3.146985</td>\n",
       "    </tr>\n",
       "    <tr>\n",
       "      <th>8</th>\n",
       "      <td>8</td>\n",
       "      <td>3.146985</td>\n",
       "    </tr>\n",
       "    <tr>\n",
       "      <th>9</th>\n",
       "      <td>9</td>\n",
       "      <td>3.146985</td>\n",
       "    </tr>\n",
       "    <tr>\n",
       "      <th>10</th>\n",
       "      <td>10</td>\n",
       "      <td>3.146985</td>\n",
       "    </tr>\n",
       "    <tr>\n",
       "      <th>11</th>\n",
       "      <td>11</td>\n",
       "      <td>3.146985</td>\n",
       "    </tr>\n",
       "    <tr>\n",
       "      <th>12</th>\n",
       "      <td>12</td>\n",
       "      <td>3.146985</td>\n",
       "    </tr>\n",
       "    <tr>\n",
       "      <th>13</th>\n",
       "      <td>13</td>\n",
       "      <td>3.146985</td>\n",
       "    </tr>\n",
       "    <tr>\n",
       "      <th>14</th>\n",
       "      <td>14</td>\n",
       "      <td>2.117647</td>\n",
       "    </tr>\n",
       "    <tr>\n",
       "      <th>15</th>\n",
       "      <td>15</td>\n",
       "      <td>3.369083</td>\n",
       "    </tr>\n",
       "    <tr>\n",
       "      <th>16</th>\n",
       "      <td>16</td>\n",
       "      <td>3.146985</td>\n",
       "    </tr>\n",
       "    <tr>\n",
       "      <th>17</th>\n",
       "      <td>17</td>\n",
       "      <td>3.369083</td>\n",
       "    </tr>\n",
       "    <tr>\n",
       "      <th>18</th>\n",
       "      <td>18</td>\n",
       "      <td>3.146985</td>\n",
       "    </tr>\n",
       "    <tr>\n",
       "      <th>19</th>\n",
       "      <td>19</td>\n",
       "      <td>3.146985</td>\n",
       "    </tr>\n",
       "  </tbody>\n",
       "</table>\n",
       "</div>"
      ],
      "text/plain": [
       "    id    Rating\n",
       "0    0  3.146985\n",
       "1    1  3.146985\n",
       "2    2  3.146985\n",
       "3    3  3.146985\n",
       "4    4  3.146985\n",
       "5    5  2.386364\n",
       "6    6  3.369083\n",
       "7    7  3.146985\n",
       "8    8  3.146985\n",
       "9    9  3.146985\n",
       "10  10  3.146985\n",
       "11  11  3.146985\n",
       "12  12  3.146985\n",
       "13  13  3.146985\n",
       "14  14  2.117647\n",
       "15  15  3.369083\n",
       "16  16  3.146985\n",
       "17  17  3.369083\n",
       "18  18  3.146985\n",
       "19  19  3.146985"
      ]
     },
     "execution_count": 88,
     "metadata": {},
     "output_type": "execute_result"
    }
   ],
   "source": [
    "pd.read_csv('tree_bad_submission.csv').head(20)"
   ]
  },
  {
   "cell_type": "code",
   "execution_count": 93,
   "id": "speaking-canon",
   "metadata": {},
   "outputs": [
    {
     "data": {
      "text/plain": [
       "3.50    265\n",
       "3.00    234\n",
       "3.25    217\n",
       "2.75    198\n",
       "3.75    142\n",
       "2.50     87\n",
       "4.00     66\n",
       "2.00     23\n",
       "2.25      9\n",
       "1.50      7\n",
       "1.00      3\n",
       "1.75      2\n",
       "5.00      2\n",
       "Name: Rating, dtype: int64"
      ]
     },
     "execution_count": 93,
     "metadata": {},
     "output_type": "execute_result"
    }
   ],
   "source": []
  },
  {
   "cell_type": "code",
   "execution_count": null,
   "id": "received-adrian",
   "metadata": {},
   "outputs": [],
   "source": []
  },
  {
   "cell_type": "code",
   "execution_count": null,
   "id": "chief-fault",
   "metadata": {},
   "outputs": [],
   "source": []
  },
  {
   "cell_type": "markdown",
   "id": "velvet-simulation",
   "metadata": {},
   "source": [
    "## 5.1 Decision tree test transformations"
   ]
  },
  {
   "cell_type": "code",
   "execution_count": 79,
   "id": "official-julian",
   "metadata": {},
   "outputs": [
    {
     "data": {
      "text/plain": [
       "['chocolate_test_new.csv',\n",
       " 'chocolate_train.csv',\n",
       " '.ipynb_checkpoints',\n",
       " 'Notebook.ipynb',\n",
       " 'choco_sample_submission.csv']"
      ]
     },
     "execution_count": 79,
     "metadata": {},
     "output_type": "execute_result"
    }
   ],
   "source": [
    "os.listdir()"
   ]
  },
  {
   "cell_type": "code",
   "execution_count": 80,
   "id": "reported-organic",
   "metadata": {},
   "outputs": [
    {
     "data": {
      "text/html": [
       "<div>\n",
       "<style scoped>\n",
       "    .dataframe tbody tr th:only-of-type {\n",
       "        vertical-align: middle;\n",
       "    }\n",
       "\n",
       "    .dataframe tbody tr th {\n",
       "        vertical-align: top;\n",
       "    }\n",
       "\n",
       "    .dataframe thead th {\n",
       "        text-align: right;\n",
       "    }\n",
       "</style>\n",
       "<table border=\"1\" class=\"dataframe\">\n",
       "  <thead>\n",
       "    <tr style=\"text-align: right;\">\n",
       "      <th></th>\n",
       "      <th>id</th>\n",
       "      <th>Rating</th>\n",
       "    </tr>\n",
       "  </thead>\n",
       "  <tbody>\n",
       "    <tr>\n",
       "      <th>0</th>\n",
       "      <td>0</td>\n",
       "      <td>3.0</td>\n",
       "    </tr>\n",
       "    <tr>\n",
       "      <th>1</th>\n",
       "      <td>1</td>\n",
       "      <td>3.0</td>\n",
       "    </tr>\n",
       "    <tr>\n",
       "      <th>2</th>\n",
       "      <td>2</td>\n",
       "      <td>3.0</td>\n",
       "    </tr>\n",
       "    <tr>\n",
       "      <th>3</th>\n",
       "      <td>3</td>\n",
       "      <td>3.0</td>\n",
       "    </tr>\n",
       "    <tr>\n",
       "      <th>4</th>\n",
       "      <td>4</td>\n",
       "      <td>3.0</td>\n",
       "    </tr>\n",
       "    <tr>\n",
       "      <th>...</th>\n",
       "      <td>...</td>\n",
       "      <td>...</td>\n",
       "    </tr>\n",
       "    <tr>\n",
       "      <th>535</th>\n",
       "      <td>535</td>\n",
       "      <td>3.0</td>\n",
       "    </tr>\n",
       "    <tr>\n",
       "      <th>536</th>\n",
       "      <td>536</td>\n",
       "      <td>3.0</td>\n",
       "    </tr>\n",
       "    <tr>\n",
       "      <th>537</th>\n",
       "      <td>537</td>\n",
       "      <td>3.0</td>\n",
       "    </tr>\n",
       "    <tr>\n",
       "      <th>538</th>\n",
       "      <td>538</td>\n",
       "      <td>3.0</td>\n",
       "    </tr>\n",
       "    <tr>\n",
       "      <th>539</th>\n",
       "      <td>539</td>\n",
       "      <td>3.0</td>\n",
       "    </tr>\n",
       "  </tbody>\n",
       "</table>\n",
       "<p>540 rows × 2 columns</p>\n",
       "</div>"
      ],
      "text/plain": [
       "      id  Rating\n",
       "0      0     3.0\n",
       "1      1     3.0\n",
       "2      2     3.0\n",
       "3      3     3.0\n",
       "4      4     3.0\n",
       "..   ...     ...\n",
       "535  535     3.0\n",
       "536  536     3.0\n",
       "537  537     3.0\n",
       "538  538     3.0\n",
       "539  539     3.0\n",
       "\n",
       "[540 rows x 2 columns]"
      ]
     },
     "execution_count": 80,
     "metadata": {},
     "output_type": "execute_result"
    }
   ],
   "source": [
    "pd.read_csv('choco_sample_submission.csv')"
   ]
  },
  {
   "cell_type": "code",
   "execution_count": 81,
   "id": "varied-draft",
   "metadata": {},
   "outputs": [
    {
     "data": {
      "text/html": [
       "<div>\n",
       "<style scoped>\n",
       "    .dataframe tbody tr th:only-of-type {\n",
       "        vertical-align: middle;\n",
       "    }\n",
       "\n",
       "    .dataframe tbody tr th {\n",
       "        vertical-align: top;\n",
       "    }\n",
       "\n",
       "    .dataframe thead th {\n",
       "        text-align: right;\n",
       "    }\n",
       "</style>\n",
       "<table border=\"1\" class=\"dataframe\">\n",
       "  <thead>\n",
       "    <tr style=\"text-align: right;\">\n",
       "      <th></th>\n",
       "      <th>Company</th>\n",
       "      <th>Specific Bean Origin</th>\n",
       "      <th>REF</th>\n",
       "      <th>Review</th>\n",
       "      <th>Cocoa Percent</th>\n",
       "      <th>Company Location</th>\n",
       "      <th>Bean Type</th>\n",
       "      <th>Broad Bean Origin</th>\n",
       "    </tr>\n",
       "  </thead>\n",
       "  <tbody>\n",
       "    <tr>\n",
       "      <th>0</th>\n",
       "      <td>Ohiyo</td>\n",
       "      <td>San Juan Estate, Gran Couva</td>\n",
       "      <td>1594</td>\n",
       "      <td>2015</td>\n",
       "      <td>70%</td>\n",
       "      <td>U.S.A.</td>\n",
       "      <td>Trinitario</td>\n",
       "      <td>Trinidad</td>\n",
       "    </tr>\n",
       "    <tr>\n",
       "      <th>1</th>\n",
       "      <td>Blanxart</td>\n",
       "      <td>Organic Dark</td>\n",
       "      <td>322</td>\n",
       "      <td>2009</td>\n",
       "      <td>72%</td>\n",
       "      <td>Spain</td>\n",
       "      <td></td>\n",
       "      <td></td>\n",
       "    </tr>\n",
       "    <tr>\n",
       "      <th>2</th>\n",
       "      <td>Brazen</td>\n",
       "      <td>Maya Mountain</td>\n",
       "      <td>1518</td>\n",
       "      <td>2015</td>\n",
       "      <td>80%</td>\n",
       "      <td>U.S.A.</td>\n",
       "      <td>Trinitario</td>\n",
       "      <td>Belize</td>\n",
       "    </tr>\n",
       "    <tr>\n",
       "      <th>3</th>\n",
       "      <td>Patric</td>\n",
       "      <td>Madagascar</td>\n",
       "      <td>439</td>\n",
       "      <td>2009</td>\n",
       "      <td>67%</td>\n",
       "      <td>U.S.A.</td>\n",
       "      <td>Trinitario</td>\n",
       "      <td>Madagascar</td>\n",
       "    </tr>\n",
       "    <tr>\n",
       "      <th>4</th>\n",
       "      <td>Potomac</td>\n",
       "      <td>Upala, Batch 12</td>\n",
       "      <td>607</td>\n",
       "      <td>2010</td>\n",
       "      <td>82%</td>\n",
       "      <td>U.S.A.</td>\n",
       "      <td>Matina</td>\n",
       "      <td>Costa Rica</td>\n",
       "    </tr>\n",
       "    <tr>\n",
       "      <th>...</th>\n",
       "      <td>...</td>\n",
       "      <td>...</td>\n",
       "      <td>...</td>\n",
       "      <td>...</td>\n",
       "      <td>...</td>\n",
       "      <td>...</td>\n",
       "      <td>...</td>\n",
       "      <td>...</td>\n",
       "    </tr>\n",
       "    <tr>\n",
       "      <th>535</th>\n",
       "      <td>Monsieur Truffe</td>\n",
       "      <td>Papaua New Guinea</td>\n",
       "      <td>1391</td>\n",
       "      <td>2014</td>\n",
       "      <td>70%</td>\n",
       "      <td>Australia</td>\n",
       "      <td></td>\n",
       "      <td>Papua New Guinea</td>\n",
       "    </tr>\n",
       "    <tr>\n",
       "      <th>536</th>\n",
       "      <td>Cacao Hunters</td>\n",
       "      <td>Macondo</td>\n",
       "      <td>1816</td>\n",
       "      <td>2016</td>\n",
       "      <td>71%</td>\n",
       "      <td>Colombia</td>\n",
       "      <td></td>\n",
       "      <td>Colombia</td>\n",
       "    </tr>\n",
       "    <tr>\n",
       "      <th>537</th>\n",
       "      <td>Bonnat</td>\n",
       "      <td>Maragnam</td>\n",
       "      <td>1038</td>\n",
       "      <td>2013</td>\n",
       "      <td>75%</td>\n",
       "      <td>France</td>\n",
       "      <td></td>\n",
       "      <td>Brazil</td>\n",
       "    </tr>\n",
       "    <tr>\n",
       "      <th>538</th>\n",
       "      <td>Altus aka Cao Artisan</td>\n",
       "      <td>Acopagro</td>\n",
       "      <td>1728</td>\n",
       "      <td>2016</td>\n",
       "      <td>60%</td>\n",
       "      <td>U.S.A.</td>\n",
       "      <td></td>\n",
       "      <td>Peru</td>\n",
       "    </tr>\n",
       "    <tr>\n",
       "      <th>539</th>\n",
       "      <td>Holy Cacao</td>\n",
       "      <td>San Martin</td>\n",
       "      <td>431</td>\n",
       "      <td>2009</td>\n",
       "      <td>70%</td>\n",
       "      <td>Israel</td>\n",
       "      <td></td>\n",
       "      <td>Peru</td>\n",
       "    </tr>\n",
       "  </tbody>\n",
       "</table>\n",
       "<p>540 rows × 8 columns</p>\n",
       "</div>"
      ],
      "text/plain": [
       "                   Company         Specific Bean Origin   REF  Review  \\\n",
       "0                    Ohiyo  San Juan Estate, Gran Couva  1594    2015   \n",
       "1                 Blanxart                 Organic Dark   322    2009   \n",
       "2                   Brazen                Maya Mountain  1518    2015   \n",
       "3                   Patric                   Madagascar   439    2009   \n",
       "4                  Potomac              Upala, Batch 12   607    2010   \n",
       "..                     ...                          ...   ...     ...   \n",
       "535        Monsieur Truffe            Papaua New Guinea  1391    2014   \n",
       "536          Cacao Hunters                      Macondo  1816    2016   \n",
       "537                 Bonnat                     Maragnam  1038    2013   \n",
       "538  Altus aka Cao Artisan                     Acopagro  1728    2016   \n",
       "539             Holy Cacao                   San Martin   431    2009   \n",
       "\n",
       "    Cocoa Percent Company Location   Bean Type Broad Bean Origin  \n",
       "0             70%           U.S.A.  Trinitario          Trinidad  \n",
       "1             72%            Spain                                \n",
       "2             80%           U.S.A.  Trinitario            Belize  \n",
       "3             67%           U.S.A.  Trinitario        Madagascar  \n",
       "4             82%           U.S.A.      Matina        Costa Rica  \n",
       "..            ...              ...         ...               ...  \n",
       "535           70%        Australia              Papua New Guinea  \n",
       "536           71%         Colombia                      Colombia  \n",
       "537           75%           France                        Brazil  \n",
       "538           60%           U.S.A.                          Peru  \n",
       "539           70%           Israel                          Peru  \n",
       "\n",
       "[540 rows x 8 columns]"
      ]
     },
     "execution_count": 81,
     "metadata": {},
     "output_type": "execute_result"
    }
   ],
   "source": [
    "pd.read_csv('chocolate_test_new.csv')"
   ]
  },
  {
   "cell_type": "code",
   "execution_count": null,
   "id": "durable-singapore",
   "metadata": {},
   "outputs": [],
   "source": []
  }
 ],
 "metadata": {
  "kernelspec": {
   "display_name": "Python 3 (ipykernel)",
   "language": "python",
   "name": "python3"
  },
  "language_info": {
   "codemirror_mode": {
    "name": "ipython",
    "version": 3
   },
   "file_extension": ".py",
   "mimetype": "text/x-python",
   "name": "python",
   "nbconvert_exporter": "python",
   "pygments_lexer": "ipython3",
   "version": "3.7.7"
  }
 },
 "nbformat": 4,
 "nbformat_minor": 5
}
